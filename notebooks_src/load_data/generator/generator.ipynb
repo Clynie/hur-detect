{
 "cells": [
  {
   "cell_type": "code",
   "execution_count": 6,
   "metadata": {
    "collapsed": false
   },
   "outputs": [
    {
     "name": "stdout",
     "output_type": "stream",
     "text": [
      "importing Jupyter notebook from ../../../notebooks_src/box_encode_decode/util.ipynb\n"
     ]
    }
   ],
   "source": [
    "import sys\n",
    "import os\n",
    "from nbfinder import NotebookFinder\n",
    "sys.meta_path.append(NotebookFinder())\n",
    "import numpy as np\n",
    "import threading\n",
    "\n",
    "if __name__ == \"__main__\":\n",
    "    sys.path.append(\"../../../\")"
   ]
  },
  {
   "cell_type": "code",
   "execution_count": 7,
   "metadata": {
    "collapsed": true
   },
   "outputs": [],
   "source": [
    "class GenThreadSafe(object):\n",
    "    def __init__(self, dataset, shape=None, batch_size=128, typ=\"tr\", tf_mode=False, num_ex=-1, make_label_fxn=None):\n",
    "        self.data = dataset\n",
    "        self.tf_mode = tf_mode\n",
    "        self.batch_size = batch_size\n",
    "        # create a lock\n",
    "        self.lock = threading.Lock()\n",
    "\n",
    "        self.make_label_fxn = make_label_fxn\n",
    "\n",
    "            \n",
    "        \n",
    "    def get_make_label_fxn(self, all_boxes):\n",
    "        pass\n",
    "        \n",
    "    def __iter__(self):\n",
    "        return self\n",
    "   \n",
    "    @property\n",
    "    def num_ims(self):\n",
    "        return self.data.num_examples\n",
    "    \n",
    "    def next(self):\n",
    "        \n",
    "        # acquire/release the lock when updating self.i\n",
    "        with self.lock:\n",
    "            ims,lbls = self.data.next_batch(batch_size=self.batch_size)\n",
    "            if self.tf_mode:\n",
    "                ims = np.transpose(ims,axes=(0,2,3,1))\n",
    "            return ims, lbls"
   ]
  }
 ],
 "metadata": {
  "kernelspec": {
   "display_name": "Python 2",
   "language": "python",
   "name": "python2"
  },
  "language_info": {
   "codemirror_mode": {
    "name": "ipython",
    "version": 2
   },
   "file_extension": ".py",
   "mimetype": "text/x-python",
   "name": "python",
   "nbconvert_exporter": "python",
   "pygments_lexer": "ipython2",
   "version": "2.7.12"
  }
 },
 "nbformat": 4,
 "nbformat_minor": 2
}
