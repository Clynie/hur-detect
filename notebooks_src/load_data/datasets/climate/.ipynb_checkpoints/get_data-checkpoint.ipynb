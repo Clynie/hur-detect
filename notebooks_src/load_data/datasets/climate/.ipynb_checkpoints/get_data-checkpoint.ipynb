{
 "cells": [
  {
   "cell_type": "code",
   "execution_count": 1,
   "metadata": {
    "collapsed": false
   },
   "outputs": [
    {
     "name": "stdout",
     "output_type": "stream",
     "text": [
      "importing Jupyter notebook from util.ipynb\n",
      "box_encode_decode_configs\n",
      "importing Jupyter notebook from ../../../../notebooks_src/configs/box_encode_decode_configs.ipynb\n",
      "tensorboard_configs\n",
      "importing Jupyter notebook from ../../../../notebooks_src/configs/tensorboard_configs.ipynb\n",
      "fit_configs\n",
      "importing Jupyter notebook from ../../../../notebooks_src/configs/fit_configs.ipynb\n",
      "labels_configs\n",
      "importing Jupyter notebook from ../../../../notebooks_src/configs/labels_configs.ipynb\n",
      "load_data_configs\n",
      "importing Jupyter notebook from ../../../../notebooks_src/configs/load_data_configs.ipynb\n",
      "losses_configs\n",
      "importing Jupyter notebook from ../../../../notebooks_src/configs/losses_configs.ipynb\n",
      "metrics_configs\n",
      "importing Jupyter notebook from ../../../../notebooks_src/configs/metrics_configs.ipynb\n",
      "models_configs\n",
      "importing Jupyter notebook from ../../../../notebooks_src/configs/models_configs.ipynb\n",
      "optimizers_configs\n",
      "importing Jupyter notebook from ../../../../notebooks_src/configs/optimizers_configs.ipynb\n"
     ]
    }
   ],
   "source": [
    "import sys\n",
    "import os\n",
    "from nbfinder import NotebookFinder\n",
    "sys.meta_path.append(NotebookFinder())\n",
    "import numpy as np\n",
    "import random\n",
    "import collections\n",
    "from util import get_files_from_list, get_files_from_dir\n",
    "import h5py\n",
    "if __name__ == \"__main__\":\n",
    "    sys.path.append(\"../../../../\")\n",
    "from notebooks_src.configs import configs"
   ]
  },
  {
   "cell_type": "code",
   "execution_count": 2,
   "metadata": {
    "collapsed": true
   },
   "outputs": [],
   "source": [
    "def get_data(type_,file_format=\"h5\"):\n",
    "    if file_format == \"nc\":\n",
    "        raise NotImplementedError\n",
    "    else:\n",
    "        return _get_data_h5(type_)"
   ]
  },
  {
   "cell_type": "code",
   "execution_count": 2,
   "metadata": {
    "collapsed": false
   },
   "outputs": [],
   "source": [
    "def _get_data_h5(type_):\n",
    "    data_file = configs[type_ + \"_data_file\"]\n",
    "    \n",
    "    h5f = h5py.File(data_file)\n",
    "    images = h5f[\"images\"]\n",
    "    labels = h5f[\"boxes\"]\n",
    "    return images, labels\n",
    "\n",
    "    \n",
    "    \n",
    "    "
   ]
  },
  {
   "cell_type": "code",
   "execution_count": 4,
   "metadata": {
    "collapsed": true
   },
   "outputs": [],
   "source": [
    "def convert_box_tensor_to_box_lists(box_tensor):\n",
    "    '''box tensor is a num_examples, max_num_boxes, 5 tensor\n",
    "       for n boxes there are max_num_boxes - n rows filled (the rest of the rows are zero, so we \n",
    "       need to filter out the \"zero rows\" '''\n",
    "    \n",
    "    return [list(filter_out_negative_one_rows(box_array)) for box_array in box_tensor]\n",
    "    "
   ]
  },
  {
   "cell_type": "code",
   "execution_count": 5,
   "metadata": {
    "collapsed": true
   },
   "outputs": [],
   "source": [
    "def filter_out_negative_one_rows(array, axis=1):\n",
    "    '''takes n x 5 tensor'''\n",
    "    return array[np.any(array > -1,axis=axis)]"
   ]
  },
  {
   "cell_type": "code",
   "execution_count": 2,
   "metadata": {
    "collapsed": false
   },
   "outputs": [],
   "source": [
    "if __name__ == \"__main__\":\n",
    "    test = np.concatenate((np.ones((5,5)),np.zeros((10,5))))\n",
    "    test= np.expand_dims(test,axis=0)\n",
    "    ntest = np.concatenate((test,test,test))\n",
    "    print convert_box_tensor_to_box_lists(ntest)"
   ]
  }
 ],
 "metadata": {
  "anaconda-cloud": {},
  "kernelspec": {
   "display_name": "Python 2.7",
   "language": "python",
   "name": "python2.7"
  },
  "language_info": {
   "codemirror_mode": {
    "name": "ipython",
    "version": 2
   },
   "file_extension": ".py",
   "mimetype": "text/x-python",
   "name": "python",
   "nbconvert_exporter": "python",
   "pygments_lexer": "ipython2",
   "version": "2.7.12"
  }
 },
 "nbformat": 4,
 "nbformat_minor": 2
}
