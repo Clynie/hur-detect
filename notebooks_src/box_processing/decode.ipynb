{
 "cells": [
  {
   "cell_type": "code",
   "execution_count": 1,
   "metadata": {
    "collapsed": false
   },
   "outputs": [
    {
     "name": "stdout",
     "output_type": "stream",
     "text": [
      "importing Jupyter notebook from make_anchors_orig.ipynb\n",
      "importing Jupyter notebook from unpack.ipynb\n",
      "importing Jupyter notebook from ../../notebooks_src/box_processing/tf_box_util.ipynb\n",
      "importing Jupyter notebook from ../../notebooks_src/postprocessing/utils.ipynb\n"
     ]
    }
   ],
   "source": [
    "import sys\n",
    "from nbfinder import NotebookFinder\n",
    "sys.meta_path.append(NotebookFinder())\n",
    "import tensorflow as tf\n",
    "import numpy as np\n",
    "if __name__ == \"__main__\":\n",
    "    sys.path.append(\"../../\")\n",
    "from make_anchors_orig import make_anchors, make_anchors_dict\n",
    "from unpack import unpack_net_output\n",
    "from notebooks_src.configs import configs\n",
    "\n",
    "from notebooks_src.postprocessing.utils import sort_some_lists_of_tensors"
   ]
  },
  {
   "cell_type": "code",
   "execution_count": 5,
   "metadata": {
    "collapsed": true
   },
   "outputs": [],
   "source": [
    "def decode(net_out):\n",
    "    \"\"\"takes net output or encoded ground truth label\n",
    "    and returns list of boxes? and class?\"\"\"\n",
    "    localizations_dict = net_out[\"localizations\"]\n",
    "    predictions_dict = net_out[\"predictions\"]\n",
    "    anchors_dict = make_anchors_dict()\n",
    "    bboxes, scores = bboxes_decode(localizations_dict, anchors_dict, predictions_dict)\n",
    "    return bboxes, scores\n",
    "    "
   ]
  },
  {
   "cell_type": "code",
   "execution_count": 6,
   "metadata": {
    "collapsed": false
   },
   "outputs": [],
   "source": [
    "def flatten_predictions(predictions):\n",
    "    pshape = predictions.get_shape()\n",
    "    return tf.reshape(predictions,shape=[pshape[0].value,-1, configs[\"num_classes\"] + 1])\n",
    "\n",
    "def bboxes_decode(localizations_dict, anchors_dict, predictions_dict):\n",
    "    \"\"\"Compute the relative bounding boxes from the SSD net features and\n",
    "    reference anchors bounding boxes.\n",
    "    Arguments:\n",
    "      feat_localizations: List of Tensors containing localization features.\n",
    "      anchors: List of numpy array containing anchor boxes.\n",
    "\n",
    "    Return:\n",
    "      List of Tensors Nx4: ymin, xmin, ymax, xmax\n",
    "    \"\"\"\n",
    "    bboxes = []\n",
    "    scores = []\n",
    "    for fmap_size in anchors_dict.keys():\n",
    "        anchors = anchors_dict[fmap_size]\n",
    "        localizations = localizations_dict[fmap_size]\n",
    "        predictions = flatten_predictions(predictions_dict[fmap_size])\n",
    "        scores.append(predictions)\n",
    "        bboxes.append(_bboxes_decode(localizations,anchors))\n",
    "    \n",
    "    scores = tf.concat(scores,axis=1)\n",
    "    bboxes = tf.concat(bboxes,axis=1)\n",
    "    #ymin, xmin, ymax, xmax = tf.split(bboxes,axis=2,num_or_size_splits=4)\n",
    "    return bboxes, scores\n",
    "def _bboxes_decode(localizations,\n",
    "                               anchors):\n",
    "    \"\"\"Compute the relative bounding boxes from the layer features and\n",
    "    reference anchor bounding boxes.\n",
    "\n",
    "    Arguments:\n",
    "      feat_localizations: Tensor containing localization features.\n",
    "      anchors: List of numpy array containing anchor boxes.\n",
    "\n",
    "    Return:\n",
    "      Tensor Nx4: ymin, xmin, ymax, xmax\n",
    "    \"\"\"\n",
    "    #yref,xref is fy,fx,1 with href and wref being (nanchors,)\n",
    "    yref, xref, href, wref = anchors\n",
    "    #each loc is num_ex,fy,fx,num_anchors,\n",
    "    x_loc, y_loc, w_loc, h_loc = [tf.squeeze(tens,axis=4) for tens in tf.split(localizations, axis=4, num_or_size_splits=4)]\n",
    "    cx = x_loc * wref  + xref\n",
    "    cy = y_loc * href  + yref\n",
    "    w = wref * tf.exp(w_loc )\n",
    "    h = href * tf.exp(h_loc)\n",
    "    # Boxes coordinates.\n",
    "    ymin = cy - h / 2.\n",
    "    xmin = cx - w / 2.\n",
    "    ymax = cy + h / 2.\n",
    "    xmax = cx + w / 2.\n",
    "\n",
    "    bboxes = tf.stack([ymin, xmin, ymax, xmax], axis=-1)\n",
    "    bshape = bboxes.get_shape()\n",
    "    #flatten the boxes here?\n",
    "    bboxes = tf.reshape(bboxes,shape=(bshape[0].value,-1,4))\n",
    "    return bboxes"
   ]
  },
  {
   "cell_type": "code",
   "execution_count": 7,
   "metadata": {
    "collapsed": false
   },
   "outputs": [],
   "source": [
    "if __name__ == \"__main__\":\n",
    "    shapes = [(2, 6, 9, 54),\n",
    "                     (2, 3, 5,36 ),\n",
    "                     (2, 96, 144, 36),\n",
    "                     (2, 24, 36, 54),\n",
    "                     (2, 12, 18, 54),\n",
    "                     (2, 48, 72, 54),\n",
    "                     (2, 1, 1, 36)]\n",
    "\n",
    "    y_preds = [tf.random_normal(mean=0.0,stddev=3.,shape=shape) for shape in shapes]\n",
    "    net_out_dict = unpack_net_output(y_preds)\n",
    "    \n",
    "    #print localizations\n",
    "    boxes=decode(net_out_dict)\n",
    "\n",
    "    print boxes"
   ]
  },
  {
   "cell_type": "code",
   "execution_count": null,
   "metadata": {
    "collapsed": true
   },
   "outputs": [],
   "source": []
  },
  {
   "cell_type": "code",
   "execution_count": null,
   "metadata": {
    "collapsed": true
   },
   "outputs": [],
   "source": []
  }
 ],
 "metadata": {
  "kernelspec": {
   "display_name": "Python 2",
   "language": "python",
   "name": "python2"
  },
  "language_info": {
   "codemirror_mode": {
    "name": "ipython",
    "version": 2
   },
   "file_extension": ".py",
   "mimetype": "text/x-python",
   "name": "python",
   "nbconvert_exporter": "python",
   "pygments_lexer": "ipython2",
   "version": "2.7.12"
  }
 },
 "nbformat": 4,
 "nbformat_minor": 2
}
