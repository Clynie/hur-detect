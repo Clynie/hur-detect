{
 "cells": [
  {
   "cell_type": "code",
   "execution_count": 2,
   "metadata": {
    "collapsed": false
   },
   "outputs": [
    {
     "name": "stdout",
     "output_type": "stream",
     "text": [
      "importing Jupyter notebook from ../../../notebooks_src/postprocessing/utils.ipynb\n",
      "importing Jupyter notebook from ../../../notebooks_src/losses/utils.ipynb\n",
      "box_encode_decode_configs\n",
      "box_encode_decode_configs\n",
      "tensorboard_configs\n",
      "fit_configs\n",
      "labels_configs\n",
      "load_data_configs\n",
      "losses_configs\n",
      "metrics_configs\n",
      "models_configs\n",
      "optimizers_configs\n",
      "tensorboard_configs\n",
      "fit_configs\n",
      "labels_configs\n",
      "load_data_configs\n",
      "losses_configs\n",
      "metrics_configs\n",
      "models_configs\n",
      "optimizers_configs\n"
     ]
    }
   ],
   "source": [
    "import sys\n",
    "from nbfinder import NotebookFinder\n",
    "sys.meta_path.append(NotebookFinder())\n",
    "if __name__ == \"__main__\":\n",
    "    sys.path.append(\"../../../\")\n",
    "from notebooks_src.postprocessing.utils import get_int_tensor_shape\n",
    "import tensorflow as tf\n",
    "slim=tf.contrib.slim\n",
    "from notebooks_src.losses.utils import abs_smooth as smooth_L1"
   ]
  },
  {
   "cell_type": "code",
   "execution_count": null,
   "metadata": {
    "collapsed": true
   },
   "outputs": [],
   "source": []
  }
 ],
 "metadata": {
  "kernelspec": {
   "display_name": "Python 2",
   "language": "python",
   "name": "python2"
  },
  "language_info": {
   "codemirror_mode": {
    "name": "ipython",
    "version": 2
   },
   "file_extension": ".py",
   "mimetype": "text/x-python",
   "name": "python",
   "nbconvert_exporter": "python",
   "pygments_lexer": "ipython2",
   "version": "2.7.12"
  }
 },
 "nbformat": 4,
 "nbformat_minor": 2
}
