{
 "cells": [
  {
   "cell_type": "code",
   "execution_count": 11,
   "metadata": {
    "collapsed": false
   },
   "outputs": [
    {
     "name": "stdout",
     "output_type": "stream",
     "text": [
      "importing Jupyter notebook from ../../notebooks_src/models/configs.ipynb\n",
      "importing Jupyter notebook from ../../notebooks_src/config_util.ipynb\n",
      "importing Jupyter notebook from ../../notebooks_src/load_data/configs.ipynb\n"
     ]
    }
   ],
   "source": [
    "import tensorflow as tf\n",
    "import sys\n",
    "from nbfinder import NotebookFinder\n",
    "sys.meta_path.append(NotebookFinder())\n",
    "if __name__ == \"__main__\":\n",
    "    sys.path.append(\"../../\")\n",
    "from notebooks_src.configs import configs"
   ]
  },
  {
   "cell_type": "code",
   "execution_count": 5,
   "metadata": {
    "collapsed": true
   },
   "outputs": [],
   "source": [
    "def add_epsilon(tens):\n",
    "    epsilon = tf.constant(value=0.0001)\n",
    "    return tf.add(tens,epsilon)\n",
    "    \n",
    "\n",
    "def average_nonzero_elements(tens):\n",
    "    denominator = tf.count_nonzero(tens)\n",
    "    denominator = tf.cast(denominator, tf.float32) + 0.001\n",
    "    tens_sum = tf.reduce_sum(tens)\n",
    "    mean_tens = tf.div(tens_sum, denominator)\n",
    "    return mean_tens\n",
    "    \n",
    "\n",
    "\n",
    "def mask_tens(tens, mask):\n",
    "    return tf.mul(tens, mask)   \n",
    "    #tf.where(tf.equal(mask, tf.zeros_like(mask)),tf.zeros_like(tens),  tens)\n",
    "    \n",
    "\n",
    "def zero_out_nans(tens):\n",
    "    return tf.where(condition=tf.is_nan(tens),x=tf.zeros_like(tens), y=tens)"
   ]
  },
  {
   "cell_type": "code",
   "execution_count": null,
   "metadata": {
    "collapsed": true
   },
   "outputs": [],
   "source": [
    "# Copyright 2015 Paul Balanca. All Rights Reserved.\n",
    "#\n",
    "# Licensed under the Apache License, Version 2.0 (the \"License\");\n",
    "# you may not use this file except in compliance with the License.\n",
    "# You may obtain a copy of the License at\n",
    "#\n",
    "#     http://www.apache.org/licenses/LICENSE-2.0\n",
    "#\n",
    "# Unless required by applicable law or agreed to in writing, software\n",
    "# distributed under the License is distributed on an \"AS IS\" BASIS,\n",
    "# WITHOUT WARRANTIES OR CONDITIONS OF ANY KIND, either express or implied.\n",
    "# See the License for the specific language governing permissions and\n",
    "# limitations under the License.\n",
    "# ==============================================================================\n",
    "\"\"\"Implement some custom layers, not provided by TensorFlow.\n",
    "Trying to follow as much as possible the style/standards used in\n",
    "tf.contrib.layers\n",
    "\"\"\"\n",
    "import tensorflow as tf\n",
    "\n",
    "def abs_smooth(x):\n",
    "    \"\"\"Smoothed absolute function. Useful to compute an L1 smooth error.\n",
    "    Define as:\n",
    "        x^2 / 2         if abs(x) < 1\n",
    "        abs(x) - 0.5    if abs(x) > 1\n",
    "    We use here a differentiable definition using min(x) and abs(x). Clearly\n",
    "    not optimal, but good enough for our purpose!\n",
    "    \"\"\"\n",
    "    absx = tf.abs(x)\n",
    "    minx = tf.minimum(absx, 1)\n",
    "    r = 0.5 * ((absx - 1) * minx + absx)\n",
    "    return r\n"
   ]
  },
  {
   "cell_type": "code",
   "execution_count": null,
   "metadata": {
    "collapsed": true
   },
   "outputs": [],
   "source": []
  }
 ],
 "metadata": {
  "kernelspec": {
   "display_name": "Python 2",
   "language": "python",
   "name": "python2"
  },
  "language_info": {
   "codemirror_mode": {
    "name": "ipython",
    "version": 2
   },
   "file_extension": ".py",
   "mimetype": "text/x-python",
   "name": "python",
   "nbconvert_exporter": "python",
   "pygments_lexer": "ipython2",
   "version": "2.7.12"
  }
 },
 "nbformat": 4,
 "nbformat_minor": 2
}
