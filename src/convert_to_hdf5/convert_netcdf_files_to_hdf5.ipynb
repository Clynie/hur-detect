{
 "cells": [
  {
   "cell_type": "code",
   "execution_count": 1,
   "metadata": {
    "collapsed": true
   },
   "outputs": [],
   "source": [
    "import netCDF4 as nc"
   ]
  },
  {
   "cell_type": "code",
   "execution_count": 2,
   "metadata": {
    "collapsed": false
   },
   "outputs": [
    {
     "name": "stdout",
     "output_type": "stream",
     "text": [
      "importing Jupyter notebook from util.ipynb\n"
     ]
    }
   ],
   "source": [
    "import h5py\n",
    "\n",
    "import sys\n",
    "import os\n",
    "from os import listdir\n",
    "from os.path import join\n",
    "# from nbfinder import NotebookFinder\n",
    "# sys.meta_path.append(NotebookFinder())\n",
    "import pandas as pd\n",
    "import re\n",
    "\n",
    "from util import get_camfiles, convert_nc_data_to_tensor, convert_list_box_lists_to_np_array, get_boxes_for_nc_file\n",
    "import time"
   ]
  },
  {
   "cell_type": "code",
   "execution_count": 3,
   "metadata": {
    "collapsed": true
   },
   "outputs": [],
   "source": [
    "variables=['PRECT','PS','PSL','QREFHT',\n",
    "           'T200','T500','TMQ','TREFHT',\n",
    "           'TS','U850','UBOT','V850',\n",
    "           'VBOT','Z1000','Z200','ZBOT']"
   ]
  },
  {
   "cell_type": "code",
   "execution_count": 4,
   "metadata": {
    "collapsed": false
   },
   "outputs": [],
   "source": [
    "ims_per_file = 8\n",
    "time_step_sample_freq=2\n",
    "max_rows = 15\n",
    "box_dim =5 #4 coords plus class\n",
    "ims_per_file /= time_step_sample_freq"
   ]
  },
  {
   "cell_type": "code",
   "execution_count": 5,
   "metadata": {
    "collapsed": true
   },
   "outputs": [],
   "source": [
    "def get_h5f(prefix, year, dest_path):\n",
    "    h5filename = prefix + \"climo_\" + str(year) + \".h5\"\n",
    "    h5filepath = join(dest_path, h5filename)\n",
    "    h5f = h5py.File(h5filepath, \"w\")\n",
    "    return h5f"
   ]
  },
  {
   "cell_type": "code",
   "execution_count": 6,
   "metadata": {
    "collapsed": true
   },
   "outputs": [],
   "source": [
    "def get_ds(h5f, camfiles, num_ims):\n",
    "    cf = camfiles[0]\n",
    "    ds =nc.Dataset(cf)\n",
    "    exclude = [var for var in ds.variables.keys() if var not in variables]\n",
    "    all_ims = nc.MFDataset(camfiles, exclude=exclude)\n",
    "    num_ex = all_ims[variables[0]].shape[0] / time_step_sample_freq if num_ims == -1 else num_ims\n",
    "    xdim, ydim = all_ims[variables[0]].shape[1], all_ims[variables[0]].shape[2]\n",
    "\n",
    "    all_ims.close()\n",
    "    im_ds = h5f.create_dataset(name=\"images\",shape=(num_ex,len(variables), xdim, ydim), dtype=\"f4\",compression=\"gzip\" )\n",
    "    box_ds = h5f.create_dataset(name=\"boxes\", shape=(num_ex,max_rows,box_dim ), dtype=\"i4\",compression=\"gzip\")\n",
    "    \n",
    "\n",
    "    return im_ds, box_ds\n",
    "\n",
    "    "
   ]
  },
  {
   "cell_type": "code",
   "execution_count": 7,
   "metadata": {
    "collapsed": true
   },
   "outputs": [],
   "source": [
    "def get_im_box_arrays(camfile):\n",
    "    ncd = nc.Dataset(camfile)\n",
    "    im_arr = convert_nc_data_to_tensor(ncd,variables=variables,is_label=False, \n",
    "                                         time_step_sample_freq=time_step_sample_freq, time_steps_per_example=1)\n",
    "    box_list_arr = convert_list_box_lists_to_np_array(get_boxes_for_nc_file(camfile), boxdim=5)\n",
    "    return  im_arr, box_list_arr"
   ]
  },
  {
   "cell_type": "code",
   "execution_count": 8,
   "metadata": {
    "collapsed": true
   },
   "outputs": [],
   "source": [
    "def copy_arrays_to_hdf5(im_arr, box_list_arr, add_to_ds, ind, num_ex):\n",
    "    if ind + ims_per_file <= num_ex:\n",
    "        add_to_ds(im_arr, box_list_arr, slice(ind, ind+ims_per_file))\n",
    "    else:\n",
    "        rest = num_ex - ind\n",
    "        add_to_ds(im_arr[:rest], box_list_arr[:rest], slice(ind, num_ex))\n",
    "    "
   ]
  },
  {
   "cell_type": "code",
   "execution_count": 9,
   "metadata": {
    "collapsed": false
   },
   "outputs": [],
   "source": [
    "def get_ds_func(im_ds, box_ds):\n",
    "    def add_to_ds(im_arr, box_arr, slice_):\n",
    "        im_ds[slice_] = im_arr\n",
    "        box_ds[slice_] = box_arr\n",
    "        print slice_.start, slice_.stop, im_arr.shape, box_arr.shape\n",
    "    return add_to_ds"
   ]
  },
  {
   "cell_type": "code",
   "execution_count": 10,
   "metadata": {
    "collapsed": false
   },
   "outputs": [],
   "source": [
    "def convert_nc_to_h5(year, base_path=\"/global/cscratch1/sd/racah/climate_data/climo/images\", dest_path=\"/global/cscratch1/sd/racah/climate_data/climo/h5images\",num_ims=-1, prefix=\"\"):\n",
    "    h5f = get_h5f(prefix, year, dest_path)\n",
    "    \n",
    "    camfiles = get_camfiles(data_dir=base_path, with_dir=True,years=[year], ims_per_file=ims_per_file, num_ims=num_ims)\n",
    "    im_ds, box_ds = get_ds(h5f, camfiles, num_ims)\n",
    "\n",
    "    add_to_ds = get_ds_func(im_ds, box_ds)\n",
    "    \n",
    "    num_ex = im_ds.shape[0]\n",
    "    \n",
    "    ind = 0\n",
    "    for camfile in camfiles:\n",
    "        if ind >= num_ex:\n",
    "            break\n",
    "        else:\n",
    "            im_arr, box_list_arr = get_im_box_arrays(camfile)\n",
    "            copy_arrays_to_hdf5(im_arr, box_list_arr, add_to_ds, ind, num_ex)\n",
    "\n",
    "        ind += ims_per_file"
   ]
  },
  {
   "cell_type": "code",
   "execution_count": 11,
   "metadata": {
    "collapsed": false
   },
   "outputs": [
    {
     "name": "stdout",
     "output_type": "stream",
     "text": [
      "1\n",
      "0 4 (4, 16, 768, 1152) (4, 15, 5)\n"
     ]
    }
   ],
   "source": [
    "if __name__ == \"__main__\":\n",
    "    convert_nc_to_h5(year=int(sys.argv[1]),prefix=\"\", num_ims=-1)"
   ]
  },
  {
   "cell_type": "code",
   "execution_count": 15,
   "metadata": {
    "collapsed": false
   },
   "outputs": [
    {
     "name": "stdout",
     "output_type": "stream",
     "text": [
      "[NbConvertApp] Converting notebook convert_netcdf_files_to_hdf5.ipynb to script\n",
      "[NbConvertApp] Writing 3491 bytes to convert_netcdf_files_to_hdf5.py\n"
     ]
    }
   ],
   "source": [
    "#! jupyter nbconvert convert_netcdf_files_to_hdf5.ipynb --to script"
   ]
  },
  {
   "cell_type": "code",
   "execution_count": null,
   "metadata": {
    "collapsed": true
   },
   "outputs": [],
   "source": []
  }
 ],
 "metadata": {
  "anaconda-cloud": {},
  "kernelspec": {
   "display_name": "Python 2.7",
   "language": "python",
   "name": "python2.7"
  },
  "language_info": {
   "codemirror_mode": {
    "name": "ipython",
    "version": 2
   },
   "file_extension": ".py",
   "mimetype": "text/x-python",
   "name": "python",
   "nbconvert_exporter": "python",
   "pygments_lexer": "ipython2",
   "version": "2.7.12"
  }
 },
 "nbformat": 4,
 "nbformat_minor": 2
}
