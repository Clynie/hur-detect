{
 "cells": [
  {
   "cell_type": "code",
   "execution_count": 2,
   "metadata": {
    "collapsed": false
   },
   "outputs": [],
   "source": [
    "import re\n",
    "import numpy as np\n",
    "import datetime as dt\n",
    "import os\n",
    "import sys\n",
    "from nbfinder import NotebookFinder\n",
    "sys.meta_path.append(NotebookFinder())\n",
    "import numpy as np\n",
    "import time\n",
    "import h5py\n",
    "import os\n",
    "from os.path import join\n",
    "import pandas as pd"
   ]
  },
  {
   "cell_type": "code",
   "execution_count": 3,
   "metadata": {
    "collapsed": true
   },
   "outputs": [],
   "source": [
    "def get_timestamp(filename):\n",
    "    #print filename\n",
    "    rpyear = re.compile(r\"(\\.h2\\.)(.*?)(-)\")\n",
    "    rpdaymonth = re.compile(r\"(-)(.*?)(\\d{5}\\.)\")\n",
    "    year=int(rpyear.search(filename).groups()[1])\n",
    "    tmp=rpdaymonth.search(filename).groups()[1].split('-')\n",
    "    month=int(tmp[0])\n",
    "    day=int(tmp[1])\n",
    "    return dt.date(year,month,day)"
   ]
  },
  {
   "cell_type": "code",
   "execution_count": 4,
   "metadata": {
    "collapsed": true
   },
   "outputs": [],
   "source": [
    "def normalize(arr,min_=None, max_=None, axis=(0,2,3)):\n",
    "        if min_ is None or max_ is None:\n",
    "            min_ = arr.min(axis=(0,2,3), keepdims=True)\n",
    "\n",
    "            max_ = arr.max(axis=(0,2,3), keepdims=True)\n",
    "\n",
    "        midrange = (max_ + min_) / 2.\n",
    "\n",
    "        range_ = (max_ - min_) / 2.\n",
    "        #print range_\n",
    "        arr -= midrange\n",
    "        arr /= (range_)\n",
    "        return arr, min_, max_   "
   ]
  },
  {
   "cell_type": "code",
   "execution_count": 5,
   "metadata": {
    "collapsed": true
   },
   "outputs": [],
   "source": [
    "def get_camfiles(data_dir, years, ims_per_file=8, num_ims=-1, with_dir=False):\n",
    "    lsdir=os.listdir(data_dir)\n",
    "    rpfile = re.compile(r\"^cam5_.*\\.nc$\")\n",
    "    camfiles = [f for f in lsdir if rpfile.match(f)]\n",
    "    camfiles = [c for c in camfiles if get_timestamp(c).year in years]\n",
    "    camfiles.sort()\n",
    "    if with_dir:\n",
    "        camfiles = [join(data_dir, camfile) for camfile in camfiles]\n",
    "    if num_ims != -1:\n",
    "        num_camfiles = int(np.ceil(float(num_ims) / ims_per_file))\n",
    "        camfiles = camfiles[:num_camfiles]\n",
    "    print len(camfiles)\n",
    "    return camfiles"
   ]
  },
  {
   "cell_type": "code",
   "execution_count": 6,
   "metadata": {
    "collapsed": false
   },
   "outputs": [],
   "source": [
    "def interleave_variables(labelled_vars, time_steps_per_example, label=False):\n",
    "    #get some metadata\n",
    "    n_tot_frames = sum([v.shape[0] for v in labelled_vars])\n",
    "    xdim = labelled_vars[0].shape[1]\n",
    "    ydim = labelled_vars[0].shape[2]\n",
    "    time_steps = labelled_vars[0].shape[0]\n",
    "    nvar = len(labelled_vars)\n",
    "    \n",
    "    def interleave_2d(labelled_vars):\n",
    "        #interleave each variable together\n",
    "        #tmp after this should be len(filenames)*4*nvar,768,1152\n",
    "        #nvar = 16 usually\n",
    "        tmp=np.empty((n_tot_frames,xdim,ydim ))\n",
    "        for i in range(nvar):\n",
    "            tmp[i::nvar,:] = labelled_vars[i]\n",
    "\n",
    "        #now make tmp len(filenames)*4, 16, 768,1152 array\n",
    "        tmp=tmp.reshape((time_steps, nvar, xdim, ydim))\n",
    "        return tmp\n",
    "        \n",
    "    def interleave_3d(labelled_vars, time_steps_per_example):\n",
    "        #interleaves each example in 3D fashion ,so takes k frames from each variable and\n",
    "        #concatenates them where k is time_steps_per_example\n",
    "        \n",
    "        num_ex = time_steps / time_steps_per_example\n",
    "        \n",
    "        tmp=np.empty((num_ex, nvar, time_steps_per_example, xdim, ydim))\n",
    "        for ex_ind in range(num_ex):\n",
    "            for var_ind in range(nvar):\n",
    "                tmp[ex_ind, var_ind,:time_steps_per_example,:] = labelled_vars[var_ind][ex_ind:ex_ind \n",
    "                                                                                        + time_steps_per_example]\n",
    "\n",
    "        return tmp\n",
    "    \n",
    "    if time_steps_per_example > 1:\n",
    "        tens= interleave_3d(labelled_vars, time_steps_per_example)\n",
    "#         if not label:\n",
    "#             tens, _, _ = normalize(tens, axis=(0,2,3,4))\n",
    "    else:\n",
    "        tens = interleave_2d(labelled_vars)\n",
    "#         if not label:\n",
    "#             tens, _, _ = normalize(tens)\n",
    "        \n",
    "    return tens\n",
    "        \n",
    "        \n",
    "\n",
    "   \n",
    "        "
   ]
  },
  {
   "cell_type": "code",
   "execution_count": 19,
   "metadata": {
    "collapsed": true
   },
   "outputs": [],
   "source": [
    "def get_boxes_for_nc_file(filepath,\n",
    "                          path_to_csv_file=\"/global/cscratch1/sd/racah/climate_data/climo/csv_labels/labels_no_negatives.csv\",\n",
    "                          time_step_freq=2, \n",
    "                          ims_per_file = 8):\n",
    "\n",
    "    ims_per_file /= time_step_freq\n",
    "    boxes = [ims_per_file*[]]\n",
    "    filename = os.path.basename(filepath)\n",
    "    \n",
    "    coord_keys = [\"xmin\", \"xmax\", \"ymin\", \"ymax\"]\n",
    "    cls_key = \"category\"\n",
    "    \n",
    "    labeldf = pd.read_csv(path_to_csv_file)\n",
    "    \n",
    "    \n",
    "    ts = get_timestamp(filename)\n",
    "\n",
    "    filedf = labeldf.ix[ (labeldf.month==ts.month) & (labeldf.day==ts.day) & (labeldf.year==ts.year) ].copy()\n",
    "\n",
    "\n",
    "    time_steps = [ int(num) for num in list(filedf[\"time_step\"])]\n",
    "\n",
    "    box_coords = filedf[[\"xmin\", \"xmax\", \"ymin\", \"ymax\", \"category\"]].values\n",
    "\n",
    "    boxes = [[] for i in range(ims_per_file)]\n",
    "    time_step_boxes_pairs = zip(time_steps, box_coords)\n",
    "    for time_step, box in time_step_boxes_pairs:\n",
    "        boxes[time_step / 2].append(list(box))\n",
    "    \n",
    "    return boxes\n",
    "\n",
    "\n",
    "def convert_list_box_lists_to_np_array(list_of_box_lists, boxdim=5, max_rows=15):\n",
    "    num_ex = len(list_of_box_lists)\n",
    "    arr = -1*np.ones((num_ex,max_rows, boxdim))\n",
    "    for box_list_ind,box_list in enumerate(list_of_box_lists):\n",
    "        num_used_rows = len(box_list)\n",
    "        if len(box_list) > 0:\n",
    "            rows = np.vstack(tuple(box_list))\n",
    "            arr[box_list_ind,:num_used_rows] = rows\n",
    "    return arr\n",
    "        "
   ]
  },
  {
   "cell_type": "code",
   "execution_count": 20,
   "metadata": {
    "collapsed": true
   },
   "outputs": [],
   "source": [
    "def convert_nc_data_to_tensor(dataset,variables, is_label,\n",
    "                                           time_step_sample_freq, time_steps_per_example):\n",
    "        #get every variable for every timestep across each file (var[i] is a len(filenames)*4, 768,1152 array )\n",
    "        var = [dataset.variables[v][:] for v in variables]\n",
    "\n",
    "        #get every other time step (b/c only labelled in every other)\n",
    "        labelled_vars = [v[::time_step_sample_freq] for v in var]\n",
    "        \n",
    "        tensor = interleave_variables(labelled_vars,time_steps_per_example, label=is_label)\n",
    "        return tensor"
   ]
  },
  {
   "cell_type": "code",
   "execution_count": null,
   "metadata": {
    "collapsed": true
   },
   "outputs": [],
   "source": []
  }
 ],
 "metadata": {
  "anaconda-cloud": {},
  "kernelspec": {
   "display_name": "Python 2.7",
   "language": "python",
   "name": "python2.7"
  },
  "language_info": {
   "codemirror_mode": {
    "name": "ipython",
    "version": 2
   },
   "file_extension": ".py",
   "mimetype": "text/x-python",
   "name": "python",
   "nbconvert_exporter": "python",
   "pygments_lexer": "ipython2",
   "version": "2.7.12"
  }
 },
 "nbformat": 4,
 "nbformat_minor": 2
}
