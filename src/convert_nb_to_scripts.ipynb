{
 "cells": [
  {
   "cell_type": "code",
   "execution_count": 1,
   "metadata": {
    "collapsed": true
   },
   "outputs": [],
   "source": [
    "\"\"\"Walks through every notebook in notebooks_src and creates a .py version in the exact same directory tree\n",
    "structure as notebooks_src, but the head directory is dotpy_src not notebooks_src\"\"\"\n",
    "import os\n",
    "import sys\n",
    "\n",
    "from os.path import join\n",
    "\n",
    "from os import rename\n",
    "\n",
    "from shutil import copyfile"
   ]
  },
  {
   "cell_type": "code",
   "execution_count": 5,
   "metadata": {
    "collapsed": true
   },
   "outputs": [],
   "source": [
    "def convert_nb_to_script(dir_,files, dest_dir):\n",
    "\n",
    "    \n",
    "    if dir_ is not \".\":\n",
    "        subdir = \"/\".join(dir_.split(\"./notebooks_src\")[1:])[1:]\n",
    "        \n",
    "        #path in dotpy_src\n",
    "        full_subdir_path = os.path.join(dest_dir, subdir)\n",
    "        if not os.path.exists(full_subdir_path):\n",
    "            os.makedirs(os.path.join(dest_dir, subdir))\n",
    "        else:\n",
    "            # delete old py files in dotpy_src NOT notebooks_src just so we don't have an old one floating around\n",
    "            del_files = [os.path.join(full_subdir_path,fil) for fil in os.listdir(full_subdir_path) if \".py\" in fil]\n",
    "            for fil in del_files:\n",
    "                sys.stderr.write(\"Will delete: %s \\n \"%(fil))\n",
    "                os.remove(fil)\n",
    "    else:\n",
    "        subdir = \"\"\n",
    "\n",
    "    # convert ipynb files in notebooks_src to .py   \n",
    "    for fil in [f for f in files if \"ipynb\" in f]:\n",
    "        if \"convert_nb_to_scripts\" in fil or \"nbfinder\" in fil:\n",
    "            continue\n",
    "        \n",
    "        \n",
    "        fil = join(dir_,fil)\n",
    "        \n",
    "        ! jupyter nbconvert --to script $fil\n",
    "    \n",
    "    #filter out lines in py files in notebooks src and move to dotpy_src\n",
    "    for fil in [f for f in os.listdir(dir_) if \".py\" in f and \".pyc\" not in f]:\n",
    "\n",
    "        fil = join(dir_,fil)\n",
    "\n",
    "        dest = join(dest_dir,subdir,os.path.basename(fil))\n",
    "        if \"nbfinder\" in fil:\n",
    "            \n",
    "            if fil !=dest:\n",
    "                copyfile(fil,dest )\n",
    "        elif \"convert_nb_to_script\" in fil:\n",
    "            os.remove(fil)\n",
    "            \n",
    "        else:\n",
    "            print fil\n",
    "\n",
    "\n",
    "            replace_lines(fil,\"import matplotlib.pyplot as plt\",\n",
    "                          \"import matplotlib; matplotlib.use('agg'); import matplotlib.pyplot as plt\")\n",
    "\n",
    "            remove_lines_containing(fil,\"# In\")\n",
    "            remove_lines_containing(fil,\"ipython\")\n",
    "            remove_lines_containing(fil,\"jupyter\")\n",
    "            remove_lines_containing(fil,\"NotebookFinder\")\n",
    "            replace_lines(fil,\"notebooks_src\",\"dotpy_src\")\n",
    "            remove_lines_containing(fil,\"# coding:\")\n",
    "            replace_lines(fil,\"plt.show()\",\"pass\")\n",
    "            if \"__init__\" in fil and fil!=dest:\n",
    "                copyfile(fil,dest )\n",
    "            else:       \n",
    "                os.rename(fil, dest)\n",
    "            \n",
    "    #make an empty __init__.py for every subdir\n",
    "    init_file = join(dest_dir,subdir,\"__init__.py\")\n",
    "    if not os.path.exists(init_file):\n",
    "        with open(init_file, \"w\") as f:\n",
    "            f.write(\"\")\n",
    "\n",
    "        \n",
    "\n",
    "\n",
    "def batch_replace(filepath, target_replacement_pairs):\n",
    "    for target_txt, replacement_txt in target_replacement_pairs:\n",
    "        replace_lines(filepath, target_text, replacement_txt)\n",
    "        \n",
    "    \n",
    "\n",
    "def replace_lines(filepath, target_text, replacement_txt):\n",
    "    with open(filepath, \"r\") as f:\n",
    "        lines = f.readlines()\n",
    "    new_lines = []\n",
    "    for line in lines:\n",
    "        new_line = line.replace(target_text, replacement_txt)\n",
    "        new_lines.append(new_line)\n",
    "\n",
    "    with open(filepath, \"w\") as f:\n",
    "        f.writelines(new_lines)\n",
    "\n",
    "\n",
    "def remove_lines_containing(filepath, target_text):\n",
    "    with open(filepath, \"r\") as f:\n",
    "        lines = f.readlines()\n",
    "    new_lines = []\n",
    "    for line in lines:\n",
    "        if target_text not in line:\n",
    "            new_lines.append(line)\n",
    "#         else:\n",
    "#             print line\n",
    "\n",
    "    with open(filepath, \"w\") as f:\n",
    "        f.writelines(new_lines)\n",
    "    "
   ]
  },
  {
   "cell_type": "code",
   "execution_count": 3,
   "metadata": {
    "collapsed": false
   },
   "outputs": [
    {
     "name": "stdout",
     "output_type": "stream",
     "text": [
      "./notebooks_src\n",
      "./notebooks_src/postprocessing\n"
     ]
    },
    {
     "name": "stderr",
     "output_type": "stream",
     "text": [
      "Will delete: ./dotpy_src/nbfinder.py \n",
      " Will delete: ./dotpy_src/__init__.py \n",
      " Will delete: ./dotpy_src/__init__.pyc \n",
      " Will delete: ./dotpy_src/postprocessing/nbfinder.py \n",
      " Will delete: ./dotpy_src/postprocessing/bboxes.pyc \n",
      " Will delete: ./dotpy_src/postprocessing/utils.pyc \n",
      " Will delete: ./dotpy_src/postprocessing/unpack.pyc \n",
      " Will delete: ./dotpy_src/postprocessing/__init__.py \n",
      " Will delete: ./dotpy_src/postprocessing/__init__.pyc \n",
      " Will delete: ./dotpy_src/postprocessing/ssd.pyc \n",
      " Will delete: ./dotpy_src/postprocessing/bboxes.py \n",
      " Will delete: ./dotpy_src/postprocessing/unpack.py \n",
      " Will delete: ./dotpy_src/postprocessing/utils.py \n",
      " Will delete: ./dotpy_src/postprocessing/ssd.py \n",
      " "
     ]
    },
    {
     "name": "stdout",
     "output_type": "stream",
     "text": [
      "[NbConvertApp] Converting notebook ./notebooks_src/postprocessing/unpack.ipynb to script\n",
      "[NbConvertApp] Writing 3724 bytes to ./notebooks_src/postprocessing/unpack.py\n",
      "[NbConvertApp] Converting notebook ./notebooks_src/postprocessing/utils.ipynb to script\n",
      "[NbConvertApp] Writing 1204 bytes to ./notebooks_src/postprocessing/utils.py\n",
      "[NbConvertApp] Converting notebook ./notebooks_src/postprocessing/ssd.ipynb to script\n",
      "[NbConvertApp] Writing 9049 bytes to ./notebooks_src/postprocessing/ssd.py\n",
      "[NbConvertApp] Converting notebook ./notebooks_src/postprocessing/bboxes.ipynb to script\n",
      "[NbConvertApp] Writing 14396 bytes to ./notebooks_src/postprocessing/bboxes.py\n",
      "./notebooks_src/postprocessing/__init__.py\n",
      "./notebooks_src/postprocessing/bboxes.py\n",
      "./notebooks_src/postprocessing/unpack.py\n",
      "./notebooks_src/postprocessing/utils.py\n",
      "./notebooks_src/postprocessing/ssd.py\n",
      "./notebooks_src/box_encode_decode\n"
     ]
    },
    {
     "name": "stderr",
     "output_type": "stream",
     "text": [
      "Will delete: ./dotpy_src/box_encode_decode/nbfinder.py \n",
      " Will delete: ./dotpy_src/box_encode_decode/util.pyc \n",
      " Will delete: ./dotpy_src/box_encode_decode/__init__.py \n",
      " Will delete: ./dotpy_src/box_encode_decode/__init__.pyc \n",
      " Will delete: ./dotpy_src/box_encode_decode/util.py \n",
      " "
     ]
    },
    {
     "name": "stdout",
     "output_type": "stream",
     "text": [
      "[NbConvertApp] Converting notebook ./notebooks_src/box_encode_decode/util.ipynb to script\n",
      "[NbConvertApp] Writing 1679 bytes to ./notebooks_src/box_encode_decode/util.py\n",
      "./notebooks_src/box_encode_decode/util.py\n",
      "./notebooks_src/box_encode_decode/yolo\n"
     ]
    },
    {
     "name": "stderr",
     "output_type": "stream",
     "text": [
      "Will delete: ./dotpy_src/box_encode_decode/yolo/nbfinder.py \n",
      " Will delete: ./dotpy_src/box_encode_decode/yolo/__init__.py \n",
      " Will delete: ./dotpy_src/box_encode_decode/yolo/make_labels.py \n",
      " Will delete: ./dotpy_src/box_encode_decode/yolo/label_util.py \n",
      " "
     ]
    },
    {
     "name": "stdout",
     "output_type": "stream",
     "text": [
      "[NbConvertApp] Converting notebook ./notebooks_src/box_encode_decode/yolo/label_util.ipynb to script\n",
      "[NbConvertApp] Writing 2740 bytes to ./notebooks_src/box_encode_decode/yolo/label_util.py\n",
      "[NbConvertApp] Converting notebook ./notebooks_src/box_encode_decode/yolo/make_labels.ipynb to script\n",
      "[NbConvertApp] Writing 1977 bytes to ./notebooks_src/box_encode_decode/yolo/make_labels.py\n",
      "./notebooks_src/box_encode_decode/yolo/make_labels.py\n",
      "./notebooks_src/box_encode_decode/yolo/label_util.py\n",
      "./notebooks_src/box_encode_decode/yolo/box_processing\n"
     ]
    },
    {
     "name": "stderr",
     "output_type": "stream",
     "text": [
      "Will delete: ./dotpy_src/box_encode_decode/yolo/box_processing/nbfinder.py \n",
      " Will delete: ./dotpy_src/box_encode_decode/yolo/box_processing/__init__.py \n",
      " Will delete: ./dotpy_src/box_encode_decode/yolo/box_processing/coord_scaling.py \n",
      " Will delete: ./dotpy_src/box_encode_decode/yolo/box_processing/coord_conversion.py \n",
      " Will delete: ./dotpy_src/box_encode_decode/yolo/box_processing/get_iou.py \n",
      " "
     ]
    },
    {
     "name": "stdout",
     "output_type": "stream",
     "text": [
      "[NbConvertApp] Converting notebook ./notebooks_src/box_encode_decode/yolo/box_processing/coord_conversion.ipynb to script\n",
      "[NbConvertApp] Writing 3085 bytes to ./notebooks_src/box_encode_decode/yolo/box_processing/coord_conversion.py\n",
      "[NbConvertApp] Converting notebook ./notebooks_src/box_encode_decode/yolo/box_processing/coord_scaling.ipynb to script\n",
      "[NbConvertApp] Writing 2504 bytes to ./notebooks_src/box_encode_decode/yolo/box_processing/coord_scaling.py\n",
      "[NbConvertApp] Converting notebook ./notebooks_src/box_encode_decode/yolo/box_processing/get_iou.ipynb to script\n",
      "[NbConvertApp] Writing 1771 bytes to ./notebooks_src/box_encode_decode/yolo/box_processing/get_iou.py\n",
      "./notebooks_src/box_encode_decode/yolo/box_processing/coord_scaling.py\n",
      "./notebooks_src/box_encode_decode/yolo/box_processing/coord_conversion.py\n",
      "./notebooks_src/box_encode_decode/yolo/box_processing/get_iou.py\n",
      "./notebooks_src/box_encode_decode/ssd\n"
     ]
    },
    {
     "name": "stderr",
     "output_type": "stream",
     "text": [
      "Will delete: ./dotpy_src/box_encode_decode/ssd/nbfinder.py \n",
      " Will delete: ./dotpy_src/box_encode_decode/ssd/decode.py \n",
      " Will delete: ./dotpy_src/box_encode_decode/ssd/utils.pyc \n",
      " Will delete: ./dotpy_src/box_encode_decode/ssd/encode.py \n",
      " Will delete: ./dotpy_src/box_encode_decode/ssd/decode.pyc \n",
      " Will delete: ./dotpy_src/box_encode_decode/ssd/encode.pyc \n",
      " Will delete: ./dotpy_src/box_encode_decode/ssd/__init__.py \n",
      " Will delete: ./dotpy_src/box_encode_decode/ssd/make_anchors_simple.py \n",
      " Will delete: ./dotpy_src/box_encode_decode/ssd/__init__.pyc \n",
      " Will delete: ./dotpy_src/box_encode_decode/ssd/make_anchors_orig.py \n",
      " Will delete: ./dotpy_src/box_encode_decode/ssd/utils.py \n",
      " Will delete: ./dotpy_src/box_encode_decode/ssd/ssd_common.py \n",
      " Will delete: ./dotpy_src/box_encode_decode/ssd/make_anchors_orig.pyc \n",
      " "
     ]
    },
    {
     "name": "stdout",
     "output_type": "stream",
     "text": [
      "[NbConvertApp] Converting notebook ./notebooks_src/box_encode_decode/ssd/encode.ipynb to script\n",
      "[NbConvertApp] Writing 5663 bytes to ./notebooks_src/box_encode_decode/ssd/encode.py\n",
      "[NbConvertApp] Converting notebook ./notebooks_src/box_encode_decode/ssd/decode.ipynb to script\n",
      "[NbConvertApp] Writing 4189 bytes to ./notebooks_src/box_encode_decode/ssd/decode.py\n",
      "[NbConvertApp] Converting notebook ./notebooks_src/box_encode_decode/ssd/make_anchors_simple.ipynb to script\n",
      "[NbConvertApp] Writing 6240 bytes to ./notebooks_src/box_encode_decode/ssd/make_anchors_simple.py\n",
      "[NbConvertApp] Converting notebook ./notebooks_src/box_encode_decode/ssd/utils.ipynb to script\n",
      "[NbConvertApp] Writing 7109 bytes to ./notebooks_src/box_encode_decode/ssd/utils.py\n",
      "[NbConvertApp] Converting notebook ./notebooks_src/box_encode_decode/ssd/make_anchors_orig.ipynb to script\n",
      "[NbConvertApp] Writing 4964 bytes to ./notebooks_src/box_encode_decode/ssd/make_anchors_orig.py\n",
      "[NbConvertApp] Converting notebook ./notebooks_src/box_encode_decode/ssd/ssd_common.ipynb to script\n",
      "[NbConvertApp] Writing 8237 bytes to ./notebooks_src/box_encode_decode/ssd/ssd_common.py\n",
      "./notebooks_src/box_encode_decode/ssd/decode.py\n",
      "./notebooks_src/box_encode_decode/ssd/encode.py\n",
      "./notebooks_src/box_encode_decode/ssd/make_anchors_simple.py\n",
      "./notebooks_src/box_encode_decode/ssd/make_anchors_orig.py\n",
      "./notebooks_src/box_encode_decode/ssd/utils.py\n",
      "./notebooks_src/box_encode_decode/ssd/ssd_common.py\n",
      "./notebooks_src/callbacks\n"
     ]
    },
    {
     "name": "stderr",
     "output_type": "stream",
     "text": [
      "Will delete: ./dotpy_src/callbacks/nbfinder.py \n",
      " Will delete: ./dotpy_src/callbacks/callbacks.py \n",
      " Will delete: ./dotpy_src/callbacks/__init__.py \n",
      " "
     ]
    },
    {
     "name": "stdout",
     "output_type": "stream",
     "text": [
      "[NbConvertApp] Converting notebook ./notebooks_src/callbacks/callbacks.ipynb to script\n",
      "[NbConvertApp] Writing 4287 bytes to ./notebooks_src/callbacks/callbacks.py\n",
      "./notebooks_src/callbacks/callbacks.py\n",
      "./notebooks_src/configs\n"
     ]
    },
    {
     "name": "stderr",
     "output_type": "stream",
     "text": [
      "Will delete: ./dotpy_src/configs/box_encode_decode_configs.py \n",
      " Will delete: ./dotpy_src/configs/metrics_configs.py \n",
      " Will delete: ./dotpy_src/configs/nbfinder.py \n",
      " Will delete: ./dotpy_src/configs/losses_configs.py \n",
      " Will delete: ./dotpy_src/configs/models_configs.py \n",
      " Will delete: ./dotpy_src/configs/optimizers_configs.py \n",
      " Will delete: ./dotpy_src/configs/fit_configs.py \n",
      " Will delete: ./dotpy_src/configs/__init__.py \n",
      " Will delete: ./dotpy_src/configs/load_data_configs.py \n",
      " Will delete: ./dotpy_src/configs/__init__.pyc \n",
      " Will delete: ./dotpy_src/configs/tensorboard_configs.py \n",
      " Will delete: ./dotpy_src/configs/labels_configs.py \n",
      " "
     ]
    },
    {
     "name": "stdout",
     "output_type": "stream",
     "text": [
      "[NbConvertApp] Converting notebook ./notebooks_src/configs/box_encode_decode_configs.ipynb to script\n",
      "[NbConvertApp] Writing 1392 bytes to ./notebooks_src/configs/box_encode_decode_configs.py\n",
      "[NbConvertApp] Converting notebook ./notebooks_src/configs/optimizers_configs.ipynb to script\n",
      "[NbConvertApp] Writing 207 bytes to ./notebooks_src/configs/optimizers_configs.py\n",
      "[NbConvertApp] Converting notebook ./notebooks_src/configs/fit_configs.ipynb to script\n",
      "[NbConvertApp] Writing 247 bytes to ./notebooks_src/configs/fit_configs.py\n",
      "[NbConvertApp] Converting notebook ./notebooks_src/configs/metrics_configs.ipynb to script\n",
      "[NbConvertApp] Writing 500 bytes to ./notebooks_src/configs/metrics_configs.py\n",
      "[NbConvertApp] Converting notebook ./notebooks_src/configs/models_configs.ipynb to script\n",
      "[NbConvertApp] Writing 270 bytes to ./notebooks_src/configs/models_configs.py\n",
      "[NbConvertApp] Converting notebook ./notebooks_src/configs/labels_configs.ipynb to script\n",
      "[NbConvertApp] Writing 690 bytes to ./notebooks_src/configs/labels_configs.py\n",
      "[NbConvertApp] Converting notebook ./notebooks_src/configs/load_data_configs.ipynb to script\n",
      "[NbConvertApp] Writing 1300 bytes to ./notebooks_src/configs/load_data_configs.py\n",
      "[NbConvertApp] Converting notebook ./notebooks_src/configs/tensorboard_configs.ipynb to script\n",
      "[NbConvertApp] Writing 308 bytes to ./notebooks_src/configs/tensorboard_configs.py\n",
      "[NbConvertApp] Converting notebook ./notebooks_src/configs/losses_configs.ipynb to script\n",
      "[NbConvertApp] Writing 387 bytes to ./notebooks_src/configs/losses_configs.py\n",
      "[NbConvertApp] Converting notebook ./notebooks_src/configs/__init__.ipynb to script\n",
      "[NbConvertApp] Writing 2006 bytes to ./notebooks_src/configs/__init__.py\n",
      "./notebooks_src/configs/box_encode_decode_configs.py\n",
      "./notebooks_src/configs/metrics_configs.py\n",
      "./notebooks_src/configs/losses_configs.py\n",
      "./notebooks_src/configs/models_configs.py\n",
      "./notebooks_src/configs/optimizers_configs.py\n",
      "./notebooks_src/configs/fit_configs.py\n",
      "./notebooks_src/configs/__init__.py\n",
      "./notebooks_src/configs/load_data_configs.py\n",
      "./notebooks_src/configs/tensorboard_configs.py\n",
      "./notebooks_src/configs/labels_configs.py\n",
      "./notebooks_src/tf_extended\n"
     ]
    },
    {
     "name": "stderr",
     "output_type": "stream",
     "text": [
      "Will delete: ./dotpy_src/tf_extended/tensors.pyc \n",
      " Will delete: ./dotpy_src/tf_extended/math.pyc \n",
      " Will delete: ./dotpy_src/tf_extended/nbfinder.py \n",
      " Will delete: ./dotpy_src/tf_extended/__init__.py \n",
      " Will delete: ./dotpy_src/tf_extended/__init__.pyc \n",
      " Will delete: ./dotpy_src/tf_extended/metrics.py \n",
      " Will delete: ./dotpy_src/tf_extended/tensors.py \n",
      " Will delete: ./dotpy_src/tf_extended/math.py \n",
      " "
     ]
    },
    {
     "name": "stdout",
     "output_type": "stream",
     "text": [
      "[NbConvertApp] Converting notebook ./notebooks_src/tf_extended/tensors.ipynb to script\n",
      "[NbConvertApp] Writing 3719 bytes to ./notebooks_src/tf_extended/tensors.py\n",
      "[NbConvertApp] Converting notebook ./notebooks_src/tf_extended/math.ipynb to script\n",
      "[NbConvertApp] Writing 2682 bytes to ./notebooks_src/tf_extended/math.py\n",
      "[NbConvertApp] Converting notebook ./notebooks_src/tf_extended/metrics.ipynb to script\n",
      "[NbConvertApp] Writing 17710 bytes to ./notebooks_src/tf_extended/metrics.py\n",
      "./notebooks_src/tf_extended/__init__.py\n",
      "./notebooks_src/tf_extended/metrics.py\n",
      "./notebooks_src/tf_extended/tensors.py\n",
      "./notebooks_src/tf_extended/math.py\n",
      "./notebooks_src/optimizers\n"
     ]
    },
    {
     "name": "stderr",
     "output_type": "stream",
     "text": [
      "Will delete: ./dotpy_src/optimizers/nbfinder.py \n",
      " Will delete: ./dotpy_src/optimizers/get_opt.pyc \n",
      " Will delete: ./dotpy_src/optimizers/__init__.py \n",
      " Will delete: ./dotpy_src/optimizers/__init__.pyc \n",
      " Will delete: ./dotpy_src/optimizers/get_opt.py \n",
      " "
     ]
    },
    {
     "name": "stdout",
     "output_type": "stream",
     "text": [
      "[NbConvertApp] Converting notebook ./notebooks_src/optimizers/get_opt.ipynb to script\n",
      "[NbConvertApp] Writing 548 bytes to ./notebooks_src/optimizers/get_opt.py\n",
      "./notebooks_src/optimizers/get_opt.py\n",
      "./notebooks_src/fit\n"
     ]
    },
    {
     "name": "stderr",
     "output_type": "stream",
     "text": [
      "Will delete: ./dotpy_src/fit/keras.py \n",
      " Will delete: ./dotpy_src/fit/nbfinder.py \n",
      " Will delete: ./dotpy_src/fit/get_fit_function.py \n",
      " Will delete: ./dotpy_src/fit/get_fit_function.pyc \n",
      " Will delete: ./dotpy_src/fit/tf_fit.pyc \n",
      " Will delete: ./dotpy_src/fit/__init__.py \n",
      " Will delete: ./dotpy_src/fit/__init__.pyc \n",
      " Will delete: ./dotpy_src/fit/tf_fit.py \n",
      " "
     ]
    },
    {
     "name": "stdout",
     "output_type": "stream",
     "text": [
      "[NbConvertApp] Converting notebook ./notebooks_src/fit/tf_fit.ipynb to script\n",
      "[NbConvertApp] Writing 4440 bytes to ./notebooks_src/fit/tf_fit.py\n",
      "[NbConvertApp] Converting notebook ./notebooks_src/fit/keras.ipynb to script\n",
      "[NbConvertApp] Writing 529 bytes to ./notebooks_src/fit/keras.py\n",
      "[NbConvertApp] Converting notebook ./notebooks_src/fit/get_fit_function.ipynb to script\n",
      "[NbConvertApp] Writing 430 bytes to ./notebooks_src/fit/get_fit_function.py\n",
      "./notebooks_src/fit/keras.py\n",
      "./notebooks_src/fit/get_fit_function.py\n",
      "./notebooks_src/fit/tf_fit.py\n",
      "./notebooks_src/load_data\n"
     ]
    },
    {
     "name": "stderr",
     "output_type": "stream",
     "text": [
      "Will delete: ./dotpy_src/load_data/get_generator.py \n",
      " Will delete: ./dotpy_src/load_data/nbfinder.py \n",
      " Will delete: ./dotpy_src/load_data/get_generator.pyc \n",
      " Will delete: ./dotpy_src/load_data/__init__.py \n",
      " Will delete: ./dotpy_src/load_data/__init__.pyc \n",
      " "
     ]
    },
    {
     "name": "stdout",
     "output_type": "stream",
     "text": [
      "[NbConvertApp] Converting notebook ./notebooks_src/load_data/get_generator.ipynb to script\n",
      "[NbConvertApp] Writing 2011 bytes to ./notebooks_src/load_data/get_generator.py\n",
      "./notebooks_src/load_data/get_generator.py\n",
      "./notebooks_src/load_data/datasets\n",
      "./notebooks_src/load_data/datasets/pascal_voc\n",
      "./notebooks_src/load_data/datasets/climate\n"
     ]
    },
    {
     "name": "stderr",
     "output_type": "stream",
     "text": [
      "Will delete: ./dotpy_src/load_data/datasets/__init__.py \n",
      " Will delete: ./dotpy_src/load_data/datasets/__init__.pyc \n",
      " Will delete: ./dotpy_src/load_data/datasets/pascal_voc/__init__.py \n",
      " Will delete: ./dotpy_src/load_data/datasets/climate/nbfinder.py \n",
      " Will delete: ./dotpy_src/load_data/datasets/climate/get_data.pyc \n",
      " Will delete: ./dotpy_src/load_data/datasets/climate/util.pyc \n",
      " Will delete: ./dotpy_src/load_data/datasets/climate/__init__.py \n",
      " Will delete: ./dotpy_src/load_data/datasets/climate/__init__.pyc \n",
      " Will delete: ./dotpy_src/load_data/datasets/climate/util.py \n",
      " Will delete: ./dotpy_src/load_data/datasets/climate/configs.py \n",
      " Will delete: ./dotpy_src/load_data/datasets/climate/get_data.py \n",
      " "
     ]
    },
    {
     "name": "stdout",
     "output_type": "stream",
     "text": [
      "[NbConvertApp] Converting notebook ./notebooks_src/load_data/datasets/climate/util.ipynb to script\n",
      "[NbConvertApp] Writing 783 bytes to ./notebooks_src/load_data/datasets/climate/util.py\n",
      "[NbConvertApp] Converting notebook ./notebooks_src/load_data/datasets/climate/configs.ipynb to script\n",
      "[NbConvertApp] Writing 756 bytes to ./notebooks_src/load_data/datasets/climate/configs.py\n",
      "[NbConvertApp] Converting notebook ./notebooks_src/load_data/datasets/climate/get_data.ipynb to script\n",
      "[NbConvertApp] Writing 1454 bytes to ./notebooks_src/load_data/datasets/climate/get_data.py\n",
      "./notebooks_src/load_data/datasets/climate/util.py\n",
      "./notebooks_src/load_data/datasets/climate/configs.py\n",
      "./notebooks_src/load_data/datasets/climate/get_data.py\n",
      "./notebooks_src/load_data/datasets/climate/images\n"
     ]
    },
    {
     "name": "stderr",
     "output_type": "stream",
     "text": [
      "Will delete: ./dotpy_src/load_data/datasets/climate/images/convert_netcdf_files_to_hdf5.py \n",
      " Will delete: ./dotpy_src/load_data/datasets/climate/images/nbfinder.py \n",
      " Will delete: ./dotpy_src/load_data/datasets/climate/images/__init__.py \n",
      " Will delete: ./dotpy_src/load_data/datasets/climate/images/util.py \n",
      " Will delete: ./dotpy_src/load_data/datasets/climate/images/netcdf_data_structure.py \n",
      " "
     ]
    },
    {
     "name": "stdout",
     "output_type": "stream",
     "text": [
      "[NbConvertApp] Converting notebook ./notebooks_src/load_data/datasets/climate/images/netcdf_data_structure.ipynb to script\n",
      "[NbConvertApp] Writing 5186 bytes to ./notebooks_src/load_data/datasets/climate/images/netcdf_data_structure.py\n",
      "[NbConvertApp] Converting notebook ./notebooks_src/load_data/datasets/climate/images/convert_netcdf_files_to_hdf5.ipynb to script\n",
      "[NbConvertApp] Writing 3310 bytes to ./notebooks_src/load_data/datasets/climate/images/convert_netcdf_files_to_hdf5.py\n",
      "[NbConvertApp] Converting notebook ./notebooks_src/load_data/datasets/climate/images/util.ipynb to script\n",
      "[NbConvertApp] Writing 5407 bytes to ./notebooks_src/load_data/datasets/climate/images/util.py\n",
      "./notebooks_src/load_data/datasets/climate/images/convert_netcdf_files_to_hdf5.py\n",
      "./notebooks_src/load_data/datasets/climate/images/util.py\n",
      "./notebooks_src/load_data/datasets/climate/images/netcdf_data_structure.py\n",
      "./notebooks_src/load_data/datasets/climate/labels\n"
     ]
    },
    {
     "name": "stderr",
     "output_type": "stream",
     "text": [
      "Will delete: ./dotpy_src/load_data/datasets/climate/labels/bbox_loader.py \n",
      " Will delete: ./dotpy_src/load_data/datasets/climate/labels/nbfinder.py \n",
      " Will delete: ./dotpy_src/load_data/datasets/climate/labels/__init__.py \n",
      " Will delete: ./dotpy_src/load_data/datasets/climate/labels/util.py \n",
      " "
     ]
    },
    {
     "name": "stdout",
     "output_type": "stream",
     "text": [
      "[NbConvertApp] Converting notebook ./notebooks_src/load_data/datasets/climate/labels/bbox_loader.ipynb to script\n",
      "[NbConvertApp] Writing 1237 bytes to ./notebooks_src/load_data/datasets/climate/labels/bbox_loader.py\n",
      "[NbConvertApp] Converting notebook ./notebooks_src/load_data/datasets/climate/labels/util.ipynb to script\n",
      "[NbConvertApp] Writing 4408 bytes to ./notebooks_src/load_data/datasets/climate/labels/util.py\n",
      "./notebooks_src/load_data/datasets/climate/labels/bbox_loader.py\n",
      "./notebooks_src/load_data/datasets/climate/labels/util.py\n",
      "./notebooks_src/load_data/generator\n"
     ]
    },
    {
     "name": "stderr",
     "output_type": "stream",
     "text": [
      "Will delete: ./dotpy_src/load_data/generator/generator.pyc \n",
      " Will delete: ./dotpy_src/load_data/generator/nbfinder.py \n",
      " Will delete: ./dotpy_src/load_data/generator/__init__.py \n",
      " Will delete: ./dotpy_src/load_data/generator/__init__.pyc \n",
      " Will delete: ./dotpy_src/load_data/generator/generator.py \n",
      " Will delete: ./dotpy_src/load_data/generator/batch_fetcher.pyc \n",
      " Will delete: ./dotpy_src/load_data/generator/batch_fetcher.py \n",
      " "
     ]
    },
    {
     "name": "stdout",
     "output_type": "stream",
     "text": [
      "[NbConvertApp] Converting notebook ./notebooks_src/load_data/generator/generator.ipynb to script\n",
      "[NbConvertApp] Writing 1720 bytes to ./notebooks_src/load_data/generator/generator.py\n",
      "[NbConvertApp] Converting notebook ./notebooks_src/load_data/generator/batch_fetcher.ipynb to script\n",
      "[NbConvertApp] Writing 3488 bytes to ./notebooks_src/load_data/generator/batch_fetcher.py\n",
      "./notebooks_src/load_data/generator/generator.py\n",
      "./notebooks_src/load_data/generator/batch_fetcher.py\n",
      "./notebooks_src/losses\n"
     ]
    },
    {
     "name": "stderr",
     "output_type": "stream",
     "text": [
      "Will delete: ./dotpy_src/losses/get_loss.py \n",
      " Will delete: ./dotpy_src/losses/nbfinder.py \n",
      " Will delete: ./dotpy_src/losses/utils.pyc \n",
      " Will delete: ./dotpy_src/losses/get_loss.pyc \n",
      " Will delete: ./dotpy_src/losses/__init__.py \n",
      " Will delete: ./dotpy_src/losses/__init__.pyc \n",
      " Will delete: ./dotpy_src/losses/utils.py \n",
      " "
     ]
    },
    {
     "name": "stdout",
     "output_type": "stream",
     "text": [
      "[NbConvertApp] Converting notebook ./notebooks_src/losses/get_loss.ipynb to script\n",
      "[NbConvertApp] Writing 1152 bytes to ./notebooks_src/losses/get_loss.py\n",
      "[NbConvertApp] Converting notebook ./notebooks_src/losses/utils.ipynb to script\n",
      "[NbConvertApp] Writing 2144 bytes to ./notebooks_src/losses/utils.py\n",
      "./notebooks_src/losses/get_loss.py\n",
      "./notebooks_src/losses/__init__.py\n",
      "./notebooks_src/losses/utils.py\n",
      "./notebooks_src/losses/iclr2017\n"
     ]
    },
    {
     "name": "stderr",
     "output_type": "stream",
     "text": [
      "Will delete: ./dotpy_src/losses/iclr2017/nbfinder.py \n",
      " Will delete: ./dotpy_src/losses/iclr2017/__init__.py \n",
      " Will delete: ./dotpy_src/losses/iclr2017/iclr_supervised.py \n",
      " "
     ]
    },
    {
     "name": "stdout",
     "output_type": "stream",
     "text": [
      "[NbConvertApp] Converting notebook ./notebooks_src/losses/iclr2017/iclr_supervised.ipynb to script\n",
      "[NbConvertApp] Writing 6562 bytes to ./notebooks_src/losses/iclr2017/iclr_supervised.py\n",
      "./notebooks_src/losses/iclr2017/iclr_supervised.py\n",
      "./notebooks_src/losses/ssd\n"
     ]
    },
    {
     "name": "stderr",
     "output_type": "stream",
     "text": [
      "Will delete: ./dotpy_src/losses/ssd/nbfinder.py \n",
      " Will delete: ./dotpy_src/losses/ssd/utils.pyc \n",
      " Will delete: ./dotpy_src/losses/ssd/__init__.py \n",
      " Will delete: ./dotpy_src/losses/ssd/__init__.pyc \n",
      " Will delete: ./dotpy_src/losses/ssd/ssd.pyc \n",
      " Will delete: ./dotpy_src/losses/ssd/utils.py \n",
      " Will delete: ./dotpy_src/losses/ssd/ssd.py \n",
      " "
     ]
    },
    {
     "name": "stdout",
     "output_type": "stream",
     "text": [
      "[NbConvertApp] Converting notebook ./notebooks_src/losses/ssd/utils.ipynb to script\n",
      "[NbConvertApp] Writing 3954 bytes to ./notebooks_src/losses/ssd/utils.py\n",
      "[NbConvertApp] Converting notebook ./notebooks_src/losses/ssd/ssd.ipynb to script\n",
      "[NbConvertApp] Writing 2693 bytes to ./notebooks_src/losses/ssd/ssd.py\n",
      "./notebooks_src/losses/ssd/utils.py\n",
      "./notebooks_src/losses/ssd/ssd.py\n",
      "./notebooks_src/metrics\n"
     ]
    },
    {
     "name": "stderr",
     "output_type": "stream",
     "text": [
      "Will delete: ./dotpy_src/metrics/nbfinder.py \n",
      " Will delete: ./dotpy_src/metrics/utils.pyc \n",
      " Will delete: ./dotpy_src/metrics/__init__.py \n",
      " Will delete: ./dotpy_src/metrics/mAP.pyc \n",
      " Will delete: ./dotpy_src/metrics/__init__.pyc \n",
      " Will delete: ./dotpy_src/metrics/utils.py \n",
      " Will delete: ./dotpy_src/metrics/mAP.py \n",
      " "
     ]
    },
    {
     "name": "stdout",
     "output_type": "stream",
     "text": [
      "[NbConvertApp] Converting notebook ./notebooks_src/metrics/utils.ipynb to script\n",
      "[NbConvertApp] Writing 7257 bytes to ./notebooks_src/metrics/utils.py\n",
      "[NbConvertApp] Converting notebook ./notebooks_src/metrics/mAP.ipynb to script\n",
      "[NbConvertApp] Writing 5033 bytes to ./notebooks_src/metrics/mAP.py\n",
      "./notebooks_src/metrics/__init__.py\n",
      "./notebooks_src/metrics/utils.py\n",
      "./notebooks_src/metrics/mAP.py\n",
      "./notebooks_src/models\n"
     ]
    },
    {
     "name": "stderr",
     "output_type": "stream",
     "text": [
      "Will delete: ./dotpy_src/models/get_model.py \n",
      " Will delete: ./dotpy_src/models/nbfinder.py \n",
      " Will delete: ./dotpy_src/models/util.pyc \n",
      " Will delete: ./dotpy_src/models/__init__.py \n",
      " Will delete: ./dotpy_src/models/__init__.pyc \n",
      " Will delete: ./dotpy_src/models/util.py \n",
      " Will delete: ./dotpy_src/models/get_model.pyc \n",
      " "
     ]
    },
    {
     "name": "stdout",
     "output_type": "stream",
     "text": [
      "[NbConvertApp] Converting notebook ./notebooks_src/models/get_model.ipynb to script\n",
      "[NbConvertApp] Writing 774 bytes to ./notebooks_src/models/get_model.py\n",
      "[NbConvertApp] Converting notebook ./notebooks_src/models/util.ipynb to script\n",
      "[NbConvertApp] Writing 1530 bytes to ./notebooks_src/models/util.py\n",
      "./notebooks_src/models/get_model.py\n",
      "./notebooks_src/models/util.py\n",
      "./notebooks_src/models/detection\n"
     ]
    },
    {
     "name": "stderr",
     "output_type": "stream",
     "text": [
      "Will delete: ./dotpy_src/models/detection/nbfinder.py \n",
      " Will delete: ./dotpy_src/models/detection/__init__.py \n",
      " Will delete: ./dotpy_src/models/detection/__init__.pyc \n",
      " Will delete: ./dotpy_src/models/detection/ssd.pyc \n",
      " Will delete: ./dotpy_src/models/detection/iclr_supervised.py \n",
      " Will delete: ./dotpy_src/models/detection/iclr_semisupervised.py \n",
      " Will delete: ./dotpy_src/models/detection/ssd.py \n",
      " "
     ]
    },
    {
     "name": "stdout",
     "output_type": "stream",
     "text": [
      "[NbConvertApp] Converting notebook ./notebooks_src/models/detection/iclr_semisupervised.ipynb to script\n",
      "[NbConvertApp] Writing 1033 bytes to ./notebooks_src/models/detection/iclr_semisupervised.py\n",
      "[NbConvertApp] Converting notebook ./notebooks_src/models/detection/iclr_supervised.ipynb to script\n",
      "[NbConvertApp] Writing 1978 bytes to ./notebooks_src/models/detection/iclr_supervised.py\n",
      "[NbConvertApp] Converting notebook ./notebooks_src/models/detection/ssd.ipynb to script\n",
      "[NbConvertApp] Writing 5284 bytes to ./notebooks_src/models/detection/ssd.py\n",
      "./notebooks_src/models/detection/iclr_supervised.py\n",
      "./notebooks_src/models/detection/iclr_semisupervised.py\n",
      "./notebooks_src/models/detection/ssd.py\n",
      "./notebooks_src/models/base\n"
     ]
    },
    {
     "name": "stderr",
     "output_type": "stream",
     "text": [
      "Will delete: ./dotpy_src/models/base/vgg16.py \n",
      " Will delete: ./dotpy_src/models/base/nbfinder.py \n",
      " Will delete: ./dotpy_src/models/base/vgg16.pyc \n",
      " Will delete: ./dotpy_src/models/base/resnet_utils.py \n",
      " Will delete: ./dotpy_src/models/base/resnet-50.py \n",
      " Will delete: ./dotpy_src/models/base/get_base_model.py \n",
      " Will delete: ./dotpy_src/models/base/get_base_model.pyc \n",
      " Will delete: ./dotpy_src/models/base/__init__.py \n",
      " Will delete: ./dotpy_src/models/base/__init__.pyc \n",
      " Will delete: ./dotpy_src/models/base/iclr_supervised.py \n",
      " Will delete: ./dotpy_src/models/base/iclr_semisupervised.py \n",
      " Will delete: ./dotpy_src/models/base/resnet-101.py \n",
      " "
     ]
    },
    {
     "name": "stdout",
     "output_type": "stream",
     "text": [
      "[NbConvertApp] Converting notebook ./notebooks_src/models/base/resnet-50.ipynb to script\n",
      "[NbConvertApp] Writing 3633 bytes to ./notebooks_src/models/base/resnet-50.py\n",
      "[NbConvertApp] Converting notebook ./notebooks_src/models/base/resnet_utils.ipynb to script\n",
      "[NbConvertApp] Writing 3234 bytes to ./notebooks_src/models/base/resnet_utils.py\n",
      "[NbConvertApp] Converting notebook ./notebooks_src/models/base/iclr_semisupervised.ipynb to script\n",
      "[NbConvertApp] Writing 1949 bytes to ./notebooks_src/models/base/iclr_semisupervised.py\n",
      "[NbConvertApp] Converting notebook ./notebooks_src/models/base/get_base_model.ipynb to script\n",
      "[NbConvertApp] Writing 515 bytes to ./notebooks_src/models/base/get_base_model.py\n",
      "[NbConvertApp] Converting notebook ./notebooks_src/models/base/vgg16.ipynb to script\n",
      "[NbConvertApp] Writing 5029 bytes to ./notebooks_src/models/base/vgg16.py\n",
      "[NbConvertApp] Converting notebook ./notebooks_src/models/base/iclr_supervised.ipynb to script\n",
      "[NbConvertApp] Writing 1568 bytes to ./notebooks_src/models/base/iclr_supervised.py\n",
      "[NbConvertApp] Converting notebook ./notebooks_src/models/base/resnet-101.ipynb to script\n",
      "[NbConvertApp] Writing 2458 bytes to ./notebooks_src/models/base/resnet-101.py\n",
      "./notebooks_src/models/base/vgg16.py\n",
      "./notebooks_src/models/base/resnet_utils.py\n",
      "./notebooks_src/models/base/resnet-50.py\n",
      "./notebooks_src/models/base/get_base_model.py\n",
      "./notebooks_src/models/base/iclr_supervised.py\n",
      "./notebooks_src/models/base/iclr_semisupervised.py\n",
      "./notebooks_src/models/base/resnet-101.py\n",
      "./notebooks_src/plot\n"
     ]
    },
    {
     "name": "stderr",
     "output_type": "stream",
     "text": [
      "Will delete: ./dotpy_src/plot/__init__.py \n",
      " Will delete: ./dotpy_src/plot/plot.py \n",
      " "
     ]
    },
    {
     "name": "stdout",
     "output_type": "stream",
     "text": [
      "[NbConvertApp] Converting notebook ./notebooks_src/plot/plot.ipynb to script\n",
      "[NbConvertApp] Writing 1461 bytes to ./notebooks_src/plot/plot.py\n",
      "./notebooks_src/plot/plot.py\n"
     ]
    }
   ],
   "source": [
    "for dirpath, dirs, files in os.walk(\"./notebooks_src\"):\n",
    "    #print dirpath, files\n",
    "    if \".ipynb_checkpoint\" not in dirpath and \".git\" not in dirpath:\n",
    "        print dirpath\n",
    "        convert_nb_to_script(dirpath,files, \"./dotpy_src\")"
   ]
  },
  {
   "cell_type": "code",
   "execution_count": 6,
   "metadata": {
    "collapsed": false
   },
   "outputs": [
    {
     "name": "stdout",
     "output_type": "stream",
     "text": [
      "[NbConvertApp] Converting notebook ./main.ipynb to script\n",
      "[NbConvertApp] Writing 971 bytes to ./main.py\n",
      "./__init__.py\n",
      "./main.py\n"
     ]
    }
   ],
   "source": [
    "fils = [\"main.ipynb\"]\n",
    "convert_nb_to_script(\".\",fils,\".\")"
   ]
  },
  {
   "cell_type": "code",
   "execution_count": null,
   "metadata": {
    "collapsed": true
   },
   "outputs": [],
   "source": []
  },
  {
   "cell_type": "code",
   "execution_count": null,
   "metadata": {
    "collapsed": true
   },
   "outputs": [],
   "source": []
  },
  {
   "cell_type": "code",
   "execution_count": null,
   "metadata": {
    "collapsed": true
   },
   "outputs": [],
   "source": []
  },
  {
   "cell_type": "code",
   "execution_count": null,
   "metadata": {
    "collapsed": true
   },
   "outputs": [],
   "source": []
  },
  {
   "cell_type": "code",
   "execution_count": null,
   "metadata": {
    "collapsed": true
   },
   "outputs": [],
   "source": []
  },
  {
   "cell_type": "code",
   "execution_count": null,
   "metadata": {
    "collapsed": true
   },
   "outputs": [],
   "source": []
  },
  {
   "cell_type": "code",
   "execution_count": 13,
   "metadata": {
    "collapsed": false
   },
   "outputs": [
    {
     "name": "stdout",
     "output_type": "stream",
     "text": [
      "box_encode_decode_configs.ipynb\n",
      "/home/evan/hur-detect/src/notebooks_src/configs/box_encode_decode_configs.ipynb\n",
      "callbacks_configs.ipynb\n",
      "/home/evan/hur-detect/src/notebooks_src/configs/callbacks_configs.ipynb\n",
      "optimizers_configs.ipynb\n",
      "/home/evan/hur-detect/src/notebooks_src/configs/optimizers_configs.ipynb\n",
      "fit_configs.ipynb\n",
      "/home/evan/hur-detect/src/notebooks_src/configs/fit_configs.ipynb\n",
      "load_data_configs.ipynb\n",
      "/home/evan/hur-detect/src/notebooks_src/configs/load_data_configs.ipynb\n",
      "climate_configs.ipynb\n",
      "/home/evan/hur-detect/src/notebooks_src/configs/climate_configs.ipynb\n",
      "labels_configs.ipynb\n",
      "/home/evan/hur-detect/src/notebooks_src/configs/labels_configs.ipynb\n",
      "losses_configs.ipynb\n",
      "/home/evan/hur-detect/src/notebooks_src/configs/losses_configs.ipynb\n",
      "metrics_configs.ipynb\n",
      "/home/evan/hur-detect/src/notebooks_src/configs/metrics_configs.ipynb\n",
      "models_configs.ipynb\n",
      "/home/evan/hur-detect/src/notebooks_src/configs/models_configs.ipynb\n"
     ]
    }
   ],
   "source": [
    "\n",
    "\n",
    "configs_dest = \"/home/evan/hur-detect/src/notebooks_src/configs/\"\n",
    "for dirpath, dirs, files in os.walk(\"./notebooks_src\"):\n",
    "    basename = os.path.basename(dirpath)\n",
    "    config_files = [join(dirpath,fil) for fil in files if fil == \"configs.ipynb\"]\n",
    "    new_config_files = [join(dirpath, \"_\".join([basename, fil])) for fil in files if fil == \"configs.ipynb\"]\n",
    "    config_files = zip(config_files, new_config_files)\n",
    "    for old,new in config_files:\n",
    "        cf = os.path.basename(new)\n",
    "        dest = join(configs_dest,cf)\n",
    "        print cf\n",
    "        print dest\n",
    "        copyfile(old, dest)\n",
    "    #print dirpath, dirs, files"
   ]
  },
  {
   "cell_type": "code",
   "execution_count": null,
   "metadata": {
    "collapsed": true
   },
   "outputs": [],
   "source": []
  },
  {
   "cell_type": "code",
   "execution_count": null,
   "metadata": {
    "collapsed": true
   },
   "outputs": [],
   "source": []
  }
 ],
 "metadata": {
  "anaconda-cloud": {},
  "kernelspec": {
   "display_name": "Python 2",
   "language": "python",
   "name": "python2"
  },
  "language_info": {
   "codemirror_mode": {
    "name": "ipython",
    "version": 2
   },
   "file_extension": ".py",
   "mimetype": "text/x-python",
   "name": "python",
   "nbconvert_exporter": "python",
   "pygments_lexer": "ipython2",
   "version": "2.7.12"
  }
 },
 "nbformat": 4,
 "nbformat_minor": 0
}
