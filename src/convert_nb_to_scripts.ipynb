{
 "cells": [
  {
   "cell_type": "code",
   "execution_count": 1,
   "metadata": {
    "collapsed": true
   },
   "outputs": [],
   "source": [
    "\"\"\"Walks through every notebook in notebooks_src and creates a .py version in the exact same directory tree\n",
    "structure as notebooks_src, but the head directory is dotpy_src not notebooks_src\"\"\"\n",
    "import os\n",
    "import sys\n",
    "\n",
    "from os.path import join\n",
    "\n",
    "from os import rename\n",
    "\n",
    "from shutil import copyfile"
   ]
  },
  {
   "cell_type": "code",
   "execution_count": 2,
   "metadata": {
    "collapsed": true
   },
   "outputs": [],
   "source": [
    "def convert_nb_to_script(dir_,files, dest_dir):\n",
    "\n",
    "    \n",
    "    if dir_ is not \".\":\n",
    "        subdir = \"/\".join(dir_.split(\"./notebooks_src\")[1:])[1:]\n",
    "        \n",
    "        #path in dotpy_src\n",
    "        full_subdir_path = os.path.join(dest_dir, subdir)\n",
    "        if not os.path.exists(full_subdir_path):\n",
    "            os.makedirs(os.path.join(dest_dir, subdir))\n",
    "        else:\n",
    "            # delete old py files in dotpy_src NOT notebooks_src just so we don't have an old one floating around\n",
    "            del_files = [os.path.join(full_subdir_path,fil) for fil in os.listdir(full_subdir_path) if \".py\" in fil]\n",
    "            for fil in del_files:\n",
    "                sys.stderr.write(\"Will delete: %s \\n \"%(fil))\n",
    "                #os.remove(fil)\n",
    "    else:\n",
    "        subdir = \"\"\n",
    "\n",
    "    # convert ipynb files in notebooks_src to .py   \n",
    "    for fil in [f for f in files if \"ipynb\" in f]:\n",
    "        if \"convert_nb_to_scripts\" in fil or \"nbfinder\" in fil:\n",
    "            continue\n",
    "        \n",
    "        fil = join(dir_,fil)\n",
    "        ! jupyter nbconvert --to script $fil\n",
    "    \n",
    "    #filter out lines in py files in notebooks src and move to dotpy_src\n",
    "    for fil in [f for f in os.listdir(dir_) if \".py\" in f and \".pyc\" not in f]:\n",
    "\n",
    "        fil = join(dir_,fil)\n",
    "\n",
    "        \n",
    "        if \"nbfinder\" in fil:\n",
    "            dest = join(dest_dir,subdir,os.path.basename(fil))\n",
    "            if fil !=dest:\n",
    "                copyfile(fil,dest )\n",
    "        elif \"convert_nb_to_script\" in fil:\n",
    "            os.remove(fil)\n",
    "        else:\n",
    "            print fil\n",
    "\n",
    "\n",
    "            replace_lines(fil,\"import matplotlib.pyplot as plt\",\n",
    "                          \"import matplotlib; matplotlib.use('agg'); import matplotlib.pyplot as plt\")\n",
    "\n",
    "            remove_lines_containing(fil,\"# In\")\n",
    "            remove_lines_containing(fil,\"ipython\")\n",
    "            remove_lines_containing(fil,\"jupyter\")\n",
    "            remove_lines_containing(fil,\"NotebookFinder\")\n",
    "            replace_lines(fil,\"notebooks_src\",\"dotpy_src\")\n",
    "            remove_lines_containing(fil,\"# coding:\")\n",
    "            replace_lines(fil,\"plt.show()\",\"pass\")\n",
    "            \n",
    "            os.rename(fil, join(dest_dir,subdir, os.path.basename(fil)))\n",
    "            \n",
    "    #make an empty __init__.py for every subdir\n",
    "    with open(join(dest_dir,subdir,\"__init__.py\"), \"w\") as f:\n",
    "        f.write(\"\")\n",
    "\n",
    "        \n",
    "\n",
    "\n",
    "def batch_replace(filepath, target_replacement_pairs):\n",
    "    for target_txt, replacement_txt in target_replacement_pairs:\n",
    "        replace_lines(filepath, target_text, replacement_txt)\n",
    "        \n",
    "    \n",
    "\n",
    "def replace_lines(filepath, target_text, replacement_txt):\n",
    "    with open(filepath, \"r\") as f:\n",
    "        lines = f.readlines()\n",
    "    new_lines = []\n",
    "    for line in lines:\n",
    "        new_line = line.replace(target_text, replacement_txt)\n",
    "        new_lines.append(new_line)\n",
    "\n",
    "    with open(filepath, \"w\") as f:\n",
    "        f.writelines(new_lines)\n",
    "\n",
    "\n",
    "def remove_lines_containing(filepath, target_text):\n",
    "    with open(filepath, \"r\") as f:\n",
    "        lines = f.readlines()\n",
    "    new_lines = []\n",
    "    for line in lines:\n",
    "        if target_text not in line:\n",
    "            new_lines.append(line)\n",
    "#         else:\n",
    "#             print line\n",
    "\n",
    "    with open(filepath, \"w\") as f:\n",
    "        f.writelines(new_lines)\n",
    "    "
   ]
  },
  {
   "cell_type": "code",
   "execution_count": 3,
   "metadata": {
    "collapsed": false
   },
   "outputs": [
    {
     "name": "stdout",
     "output_type": "stream",
     "text": [
      "./notebooks_src\n"
     ]
    },
    {
     "name": "stderr",
     "output_type": "stream",
     "text": [
      "Will delete: ./dotpy_src/config_util.pyc \n",
      " Will delete: ./dotpy_src/nbfinder.py \n",
      " Will delete: ./dotpy_src/config_util.py \n",
      " Will delete: ./dotpy_src/__init__.py \n",
      " Will delete: ./dotpy_src/__init__.pyc \n",
      " "
     ]
    },
    {
     "name": "stdout",
     "output_type": "stream",
     "text": [
      "[NbConvertApp] Converting notebook ./notebooks_src/config_util.ipynb to script\n",
      "[NbConvertApp] Writing 280 bytes to ./notebooks_src/config_util.py\n",
      "./notebooks_src/config_util.py\n",
      "./notebooks_src/postprocessing\n",
      "[NbConvertApp] Converting notebook ./notebooks_src/postprocessing/ssd.ipynb to script\n",
      "[NbConvertApp] Writing 989 bytes to ./notebooks_src/postprocessing/ssd.py\n",
      "./notebooks_src/postprocessing/ssd.py\n",
      "./notebooks_src/box_encode_decode\n",
      "[NbConvertApp] Converting notebook ./notebooks_src/box_encode_decode/util.ipynb to script\n",
      "[NbConvertApp] Writing 1679 bytes to ./notebooks_src/box_encode_decode/util.py\n",
      "[NbConvertApp] Converting notebook ./notebooks_src/box_encode_decode/configs.ipynb to script\n",
      "[NbConvertApp] Writing 1573 bytes to ./notebooks_src/box_encode_decode/configs.py\n",
      "./notebooks_src/box_encode_decode/__init__.py\n",
      "./notebooks_src/box_encode_decode/util.py\n",
      "./notebooks_src/box_encode_decode/configs.py\n",
      "./notebooks_src/box_encode_decode/yolo\n",
      "[NbConvertApp] Converting notebook ./notebooks_src/box_encode_decode/yolo/label_util.ipynb to script\n",
      "[NbConvertApp] Writing 2750 bytes to ./notebooks_src/box_encode_decode/yolo/label_util.py\n",
      "[NbConvertApp] Converting notebook ./notebooks_src/box_encode_decode/yolo/make_labels.ipynb to script\n",
      "[NbConvertApp] Writing 1977 bytes to ./notebooks_src/box_encode_decode/yolo/make_labels.py\n",
      "./notebooks_src/box_encode_decode/yolo/make_labels.py\n",
      "./notebooks_src/box_encode_decode/yolo/label_util.py\n",
      "./notebooks_src/box_encode_decode/yolo/box_processing\n",
      "[NbConvertApp] Converting notebook ./notebooks_src/box_encode_decode/yolo/box_processing/coord_conversion.ipynb to script\n",
      "[NbConvertApp] Writing 3085 bytes to ./notebooks_src/box_encode_decode/yolo/box_processing/coord_conversion.py\n",
      "[NbConvertApp] Converting notebook ./notebooks_src/box_encode_decode/yolo/box_processing/coord_scaling.ipynb to script\n",
      "[NbConvertApp] Writing 2504 bytes to ./notebooks_src/box_encode_decode/yolo/box_processing/coord_scaling.py\n",
      "[NbConvertApp] Converting notebook ./notebooks_src/box_encode_decode/yolo/box_processing/get_iou.ipynb to script\n",
      "[NbConvertApp] Writing 1771 bytes to ./notebooks_src/box_encode_decode/yolo/box_processing/get_iou.py\n",
      "./notebooks_src/box_encode_decode/yolo/box_processing/coord_scaling.py\n",
      "./notebooks_src/box_encode_decode/yolo/box_processing/coord_conversion.py\n",
      "./notebooks_src/box_encode_decode/yolo/box_processing/get_iou.py\n",
      "./notebooks_src/box_encode_decode/ssd\n",
      "[NbConvertApp] Converting notebook ./notebooks_src/box_encode_decode/ssd/encode.ipynb to script\n",
      "[NbConvertApp] Writing 13694 bytes to ./notebooks_src/box_encode_decode/ssd/encode.py\n",
      "[NbConvertApp] Converting notebook ./notebooks_src/box_encode_decode/ssd/decode.ipynb to script\n",
      "[NbConvertApp] Writing 2405 bytes to ./notebooks_src/box_encode_decode/ssd/decode.py\n",
      "[NbConvertApp] Converting notebook ./notebooks_src/box_encode_decode/ssd/make_anchors_simple.ipynb to script\n",
      "[NbConvertApp] Writing 6240 bytes to ./notebooks_src/box_encode_decode/ssd/make_anchors_simple.py\n",
      "[NbConvertApp] Converting notebook ./notebooks_src/box_encode_decode/ssd/make_anchors_orig.ipynb to script\n",
      "[NbConvertApp] Writing 4979 bytes to ./notebooks_src/box_encode_decode/ssd/make_anchors_orig.py\n",
      "[NbConvertApp] Converting notebook ./notebooks_src/box_encode_decode/ssd/ssd_common.ipynb to script\n",
      "[NbConvertApp] Writing 8240 bytes to ./notebooks_src/box_encode_decode/ssd/ssd_common.py\n",
      "./notebooks_src/box_encode_decode/ssd/decode.py\n",
      "./notebooks_src/box_encode_decode/ssd/encode.py\n",
      "./notebooks_src/box_encode_decode/ssd/__init__.py\n",
      "./notebooks_src/box_encode_decode/ssd/make_anchors_simple.py\n",
      "./notebooks_src/box_encode_decode/ssd/make_anchors_orig.py\n",
      "./notebooks_src/box_encode_decode/ssd/ssd_common.py\n",
      "./notebooks_src/callbacks\n"
     ]
    },
    {
     "name": "stderr",
     "output_type": "stream",
     "text": [
      "Will delete: ./dotpy_src/callbacks/nbfinder.py \n",
      " Will delete: ./dotpy_src/callbacks/callbacks.py \n",
      " Will delete: ./dotpy_src/callbacks/__init__.py \n",
      " Will delete: ./dotpy_src/callbacks/__init__.pyc \n",
      " Will delete: ./dotpy_src/callbacks/configs.pyc \n",
      " Will delete: ./dotpy_src/callbacks/configs.py \n",
      " Will delete: ./dotpy_src/callbacks/callbacks.pyc \n",
      " "
     ]
    },
    {
     "name": "stdout",
     "output_type": "stream",
     "text": [
      "[NbConvertApp] Converting notebook ./notebooks_src/callbacks/configs.ipynb to script\n",
      "[NbConvertApp] Writing 481 bytes to ./notebooks_src/callbacks/configs.py\n",
      "[NbConvertApp] Converting notebook ./notebooks_src/callbacks/callbacks.ipynb to script\n",
      "[NbConvertApp] Writing 4273 bytes to ./notebooks_src/callbacks/callbacks.py\n",
      "./notebooks_src/callbacks/callbacks.py\n",
      "./notebooks_src/callbacks/configs.py\n",
      "./notebooks_src/tf_extended\n",
      "./notebooks_src/tf_extended/image.py\n",
      "./notebooks_src/tf_extended/__init__.py\n",
      "./notebooks_src/tf_extended/tfe_tensors.py\n",
      "./notebooks_src/tf_extended/metrics.py\n",
      "./notebooks_src/tf_extended/tfe_math.py\n",
      "./notebooks_src/tf_extended/bboxes.py\n",
      "./notebooks_src/optimizers\n"
     ]
    },
    {
     "name": "stderr",
     "output_type": "stream",
     "text": [
      "Will delete: ./dotpy_src/optimizers/nbfinder.py \n",
      " Will delete: ./dotpy_src/optimizers/get_opt.pyc \n",
      " Will delete: ./dotpy_src/optimizers/__init__.py \n",
      " Will delete: ./dotpy_src/optimizers/__init__.pyc \n",
      " Will delete: ./dotpy_src/optimizers/get_opt.py \n",
      " Will delete: ./dotpy_src/optimizers/configs.pyc \n",
      " Will delete: ./dotpy_src/optimizers/configs.py \n",
      " "
     ]
    },
    {
     "name": "stdout",
     "output_type": "stream",
     "text": [
      "[NbConvertApp] Converting notebook ./notebooks_src/optimizers/get_opt.ipynb to script\n",
      "[NbConvertApp] Writing 534 bytes to ./notebooks_src/optimizers/get_opt.py\n",
      "[NbConvertApp] Converting notebook ./notebooks_src/optimizers/configs.ipynb to script\n",
      "[NbConvertApp] Writing 292 bytes to ./notebooks_src/optimizers/configs.py\n",
      "./notebooks_src/optimizers/get_opt.py\n",
      "./notebooks_src/optimizers/configs.py\n",
      "./notebooks_src/fit\n"
     ]
    },
    {
     "name": "stderr",
     "output_type": "stream",
     "text": [
      "Will delete: ./dotpy_src/fit/nbfinder.py \n",
      " Will delete: ./dotpy_src/fit/__init__.py \n",
      " Will delete: ./dotpy_src/fit/__init__.pyc \n",
      " Will delete: ./dotpy_src/fit/configs.pyc \n",
      " Will delete: ./dotpy_src/fit/configs.py \n",
      " "
     ]
    },
    {
     "name": "stdout",
     "output_type": "stream",
     "text": [
      "[NbConvertApp] Converting notebook ./notebooks_src/fit/tf_fit.ipynb to script\n",
      "[NbConvertApp] Writing 1283 bytes to ./notebooks_src/fit/tf_fit.py\n",
      "[NbConvertApp] Converting notebook ./notebooks_src/fit/keras_batch.ipynb to script\n",
      "[NbConvertApp] Writing 569 bytes to ./notebooks_src/fit/keras_batch.py\n",
      "[NbConvertApp] Converting notebook ./notebooks_src/fit/configs.ipynb to script\n",
      "[NbConvertApp] Writing 324 bytes to ./notebooks_src/fit/configs.py\n",
      "[NbConvertApp] Converting notebook ./notebooks_src/fit/keras_gen.ipynb to script\n",
      "[NbConvertApp] Writing 529 bytes to ./notebooks_src/fit/keras_gen.py\n",
      "[NbConvertApp] Converting notebook ./notebooks_src/fit/get_fit_function.ipynb to script\n",
      "[NbConvertApp] Writing 416 bytes to ./notebooks_src/fit/get_fit_function.py\n",
      "./notebooks_src/fit/get_fit_function.py\n",
      "./notebooks_src/fit/__init__.py\n",
      "./notebooks_src/fit/keras_batch.py\n",
      "./notebooks_src/fit/configs.py\n",
      "./notebooks_src/fit/keras_gen.py\n",
      "./notebooks_src/fit/tf_fit.py\n",
      "./notebooks_src/load_data\n"
     ]
    },
    {
     "name": "stderr",
     "output_type": "stream",
     "text": [
      "Will delete: ./dotpy_src/load_data/get_generator.py \n",
      " Will delete: ./dotpy_src/load_data/nbfinder.py \n",
      " Will delete: ./dotpy_src/load_data/get_generator.pyc \n",
      " Will delete: ./dotpy_src/load_data/__init__.py \n",
      " Will delete: ./dotpy_src/load_data/__init__.pyc \n",
      " Will delete: ./dotpy_src/load_data/configs.pyc \n",
      " Will delete: ./dotpy_src/load_data/configs.py \n",
      " "
     ]
    },
    {
     "name": "stdout",
     "output_type": "stream",
     "text": [
      "[NbConvertApp] Converting notebook ./notebooks_src/load_data/get_generator.ipynb to script\n",
      "[NbConvertApp] Writing 2131 bytes to ./notebooks_src/load_data/get_generator.py\n",
      "[NbConvertApp] Converting notebook ./notebooks_src/load_data/configs.ipynb to script\n",
      "[NbConvertApp] Writing 1402 bytes to ./notebooks_src/load_data/configs.py\n",
      "./notebooks_src/load_data/get_generator.py\n",
      "./notebooks_src/load_data/configs.py\n",
      "./notebooks_src/load_data/datasets\n",
      "./notebooks_src/load_data/datasets/pascal_voc\n",
      "./notebooks_src/load_data/datasets/climate\n"
     ]
    },
    {
     "name": "stderr",
     "output_type": "stream",
     "text": [
      "Will delete: ./dotpy_src/load_data/datasets/__init__.py \n",
      " Will delete: ./dotpy_src/load_data/datasets/__init__.pyc \n",
      " Will delete: ./dotpy_src/load_data/datasets/pascal_voc/__init__.py \n",
      " Will delete: ./dotpy_src/load_data/datasets/climate/nbfinder.py \n",
      " Will delete: ./dotpy_src/load_data/datasets/climate/get_data.pyc \n",
      " Will delete: ./dotpy_src/load_data/datasets/climate/util.pyc \n",
      " Will delete: ./dotpy_src/load_data/datasets/climate/__init__.py \n",
      " Will delete: ./dotpy_src/load_data/datasets/climate/__init__.pyc \n",
      " Will delete: ./dotpy_src/load_data/datasets/climate/util.py \n",
      " Will delete: ./dotpy_src/load_data/datasets/climate/configs.py \n",
      " Will delete: ./dotpy_src/load_data/datasets/climate/get_data.py \n",
      " "
     ]
    },
    {
     "name": "stdout",
     "output_type": "stream",
     "text": [
      "[NbConvertApp] Converting notebook ./notebooks_src/load_data/datasets/climate/util.ipynb to script\n",
      "[NbConvertApp] Writing 783 bytes to ./notebooks_src/load_data/datasets/climate/util.py\n",
      "[NbConvertApp] Converting notebook ./notebooks_src/load_data/datasets/climate/configs.ipynb to script\n",
      "[NbConvertApp] Writing 756 bytes to ./notebooks_src/load_data/datasets/climate/configs.py\n",
      "[NbConvertApp] Converting notebook ./notebooks_src/load_data/datasets/climate/get_data.ipynb to script\n",
      "[NbConvertApp] Writing 1677 bytes to ./notebooks_src/load_data/datasets/climate/get_data.py\n",
      "./notebooks_src/load_data/datasets/climate/util.py\n",
      "./notebooks_src/load_data/datasets/climate/configs.py\n",
      "./notebooks_src/load_data/datasets/climate/get_data.py\n",
      "./notebooks_src/load_data/datasets/climate/images\n"
     ]
    },
    {
     "name": "stderr",
     "output_type": "stream",
     "text": [
      "Will delete: ./dotpy_src/load_data/datasets/climate/images/convert_netcdf_files_to_hdf5.py \n",
      " Will delete: ./dotpy_src/load_data/datasets/climate/images/nbfinder.py \n",
      " Will delete: ./dotpy_src/load_data/datasets/climate/images/__init__.py \n",
      " Will delete: ./dotpy_src/load_data/datasets/climate/images/util.py \n",
      " Will delete: ./dotpy_src/load_data/datasets/climate/images/netcdf_data_structure.py \n",
      " "
     ]
    },
    {
     "name": "stdout",
     "output_type": "stream",
     "text": [
      "[NbConvertApp] Converting notebook ./notebooks_src/load_data/datasets/climate/images/netcdf_data_structure.ipynb to script\n",
      "[NbConvertApp] Writing 5186 bytes to ./notebooks_src/load_data/datasets/climate/images/netcdf_data_structure.py\n",
      "[NbConvertApp] Converting notebook ./notebooks_src/load_data/datasets/climate/images/convert_netcdf_files_to_hdf5.ipynb to script\n",
      "[NbConvertApp] Writing 3310 bytes to ./notebooks_src/load_data/datasets/climate/images/convert_netcdf_files_to_hdf5.py\n",
      "[NbConvertApp] Converting notebook ./notebooks_src/load_data/datasets/climate/images/util.ipynb to script\n",
      "[NbConvertApp] Writing 5407 bytes to ./notebooks_src/load_data/datasets/climate/images/util.py\n",
      "./notebooks_src/load_data/datasets/climate/images/convert_netcdf_files_to_hdf5.py\n",
      "./notebooks_src/load_data/datasets/climate/images/util.py\n",
      "./notebooks_src/load_data/datasets/climate/images/netcdf_data_structure.py\n",
      "./notebooks_src/load_data/datasets/climate/labels\n"
     ]
    },
    {
     "name": "stderr",
     "output_type": "stream",
     "text": [
      "Will delete: ./dotpy_src/load_data/datasets/climate/labels/bbox_loader.py \n",
      " Will delete: ./dotpy_src/load_data/datasets/climate/labels/nbfinder.py \n",
      " Will delete: ./dotpy_src/load_data/datasets/climate/labels/__init__.py \n",
      " Will delete: ./dotpy_src/load_data/datasets/climate/labels/util.py \n",
      " Will delete: ./dotpy_src/load_data/datasets/climate/labels/configs.py \n",
      " "
     ]
    },
    {
     "name": "stdout",
     "output_type": "stream",
     "text": [
      "[NbConvertApp] Converting notebook ./notebooks_src/load_data/datasets/climate/labels/bbox_loader.ipynb to script\n",
      "[NbConvertApp] Writing 1237 bytes to ./notebooks_src/load_data/datasets/climate/labels/bbox_loader.py\n",
      "[NbConvertApp] Converting notebook ./notebooks_src/load_data/datasets/climate/labels/util.ipynb to script\n",
      "[NbConvertApp] Writing 4408 bytes to ./notebooks_src/load_data/datasets/climate/labels/util.py\n",
      "[NbConvertApp] Converting notebook ./notebooks_src/load_data/datasets/climate/labels/configs.ipynb to script\n",
      "[NbConvertApp] Writing 777 bytes to ./notebooks_src/load_data/datasets/climate/labels/configs.py\n",
      "./notebooks_src/load_data/datasets/climate/labels/bbox_loader.py\n",
      "./notebooks_src/load_data/datasets/climate/labels/util.py\n",
      "./notebooks_src/load_data/datasets/climate/labels/configs.py\n",
      "./notebooks_src/load_data/generator\n"
     ]
    },
    {
     "name": "stderr",
     "output_type": "stream",
     "text": [
      "Will delete: ./dotpy_src/load_data/generator/generator.pyc \n",
      " Will delete: ./dotpy_src/load_data/generator/nbfinder.py \n",
      " Will delete: ./dotpy_src/load_data/generator/__init__.py \n",
      " Will delete: ./dotpy_src/load_data/generator/__init__.pyc \n",
      " Will delete: ./dotpy_src/load_data/generator/generator.py \n",
      " Will delete: ./dotpy_src/load_data/generator/batch_fetcher.pyc \n",
      " Will delete: ./dotpy_src/load_data/generator/batch_fetcher.py \n",
      " "
     ]
    },
    {
     "name": "stdout",
     "output_type": "stream",
     "text": [
      "[NbConvertApp] Converting notebook ./notebooks_src/load_data/generator/generator.ipynb to script\n",
      "[NbConvertApp] Writing 1720 bytes to ./notebooks_src/load_data/generator/generator.py\n",
      "[NbConvertApp] Converting notebook ./notebooks_src/load_data/generator/batch_fetcher.ipynb to script\n",
      "[NbConvertApp] Writing 3488 bytes to ./notebooks_src/load_data/generator/batch_fetcher.py\n",
      "./notebooks_src/load_data/generator/generator.py\n",
      "./notebooks_src/load_data/generator/batch_fetcher.py\n",
      "./notebooks_src/losses\n"
     ]
    },
    {
     "name": "stderr",
     "output_type": "stream",
     "text": [
      "Will delete: ./dotpy_src/losses/get_loss.py \n",
      " Will delete: ./dotpy_src/losses/nbfinder.py \n",
      " Will delete: ./dotpy_src/losses/util.pyc \n",
      " Will delete: ./dotpy_src/losses/get_loss.pyc \n",
      " Will delete: ./dotpy_src/losses/iclr_supervised.pyc \n",
      " Will delete: ./dotpy_src/losses/__init__.py \n",
      " Will delete: ./dotpy_src/losses/__init__.pyc \n",
      " Will delete: ./dotpy_src/losses/configs.pyc \n",
      " Will delete: ./dotpy_src/losses/iclr_supervised.py \n",
      " Will delete: ./dotpy_src/losses/util.py \n",
      " Will delete: ./dotpy_src/losses/configs.py \n",
      " "
     ]
    },
    {
     "name": "stdout",
     "output_type": "stream",
     "text": [
      "[NbConvertApp] Converting notebook ./notebooks_src/losses/get_loss.ipynb to script\n",
      "[NbConvertApp] Writing 1138 bytes to ./notebooks_src/losses/get_loss.py\n",
      "[NbConvertApp] Converting notebook ./notebooks_src/losses/util.ipynb to script\n",
      "[NbConvertApp] Writing 9878 bytes to ./notebooks_src/losses/util.py\n",
      "[NbConvertApp] Converting notebook ./notebooks_src/losses/configs.ipynb to script\n",
      "[NbConvertApp] Writing 406 bytes to ./notebooks_src/losses/configs.py\n",
      "./notebooks_src/losses/get_loss.py\n",
      "./notebooks_src/losses/__init__.py\n",
      "./notebooks_src/losses/util.py\n",
      "./notebooks_src/losses/configs.py\n",
      "./notebooks_src/losses/iclr2017\n",
      "[NbConvertApp] Converting notebook ./notebooks_src/losses/iclr2017/iclr_supervised.ipynb to script\n",
      "[NbConvertApp] Writing 6548 bytes to ./notebooks_src/losses/iclr2017/iclr_supervised.py\n",
      "./notebooks_src/losses/iclr2017/__init__.py\n",
      "./notebooks_src/losses/iclr2017/iclr_supervised.py\n",
      "./notebooks_src/losses/ssd\n",
      "[NbConvertApp] Converting notebook ./notebooks_src/losses/ssd/ssd.ipynb to script\n",
      "[NbConvertApp] Writing 10740 bytes to ./notebooks_src/losses/ssd/ssd.py\n",
      "./notebooks_src/losses/ssd/__init__.py\n",
      "./notebooks_src/losses/ssd/ssd.py\n",
      "./notebooks_src/metrics\n"
     ]
    },
    {
     "name": "stderr",
     "output_type": "stream",
     "text": [
      "Will delete: ./dotpy_src/metrics/nbfinder.py \n",
      " Will delete: ./dotpy_src/metrics/__init__.py \n",
      " "
     ]
    },
    {
     "name": "stdout",
     "output_type": "stream",
     "text": [
      "[NbConvertApp] Converting notebook ./notebooks_src/metrics/mAP.ipynb to script\n",
      "[NbConvertApp] Writing 30 bytes to ./notebooks_src/metrics/mAP.py\n",
      "./notebooks_src/metrics/mAP.py\n",
      "./notebooks_src/models\n"
     ]
    },
    {
     "name": "stderr",
     "output_type": "stream",
     "text": [
      "Will delete: ./dotpy_src/models/get_model.py \n",
      " Will delete: ./dotpy_src/models/nbfinder.py \n",
      " Will delete: ./dotpy_src/models/util.pyc \n",
      " Will delete: ./dotpy_src/models/__init__.py \n",
      " Will delete: ./dotpy_src/models/__init__.pyc \n",
      " Will delete: ./dotpy_src/models/configs.pyc \n",
      " Will delete: ./dotpy_src/models/util.py \n",
      " Will delete: ./dotpy_src/models/configs.py \n",
      " Will delete: ./dotpy_src/models/get_model.pyc \n",
      " "
     ]
    },
    {
     "name": "stdout",
     "output_type": "stream",
     "text": [
      "[NbConvertApp] Converting notebook ./notebooks_src/models/get_model.ipynb to script\n",
      "[NbConvertApp] Writing 760 bytes to ./notebooks_src/models/get_model.py\n",
      "[NbConvertApp] Converting notebook ./notebooks_src/models/util.ipynb to script\n",
      "[NbConvertApp] Writing 1530 bytes to ./notebooks_src/models/util.py\n",
      "[NbConvertApp] Converting notebook ./notebooks_src/models/configs.ipynb to script\n",
      "[NbConvertApp] Writing 1034 bytes to ./notebooks_src/models/configs.py\n",
      "./notebooks_src/models/get_model.py\n",
      "./notebooks_src/models/util.py\n",
      "./notebooks_src/models/configs.py\n",
      "./notebooks_src/models/detection\n"
     ]
    },
    {
     "name": "stderr",
     "output_type": "stream",
     "text": [
      "Will delete: ./dotpy_src/models/detection/nbfinder.py \n",
      " Will delete: ./dotpy_src/models/detection/iclr_semisupervised.pyc \n",
      " Will delete: ./dotpy_src/models/detection/iclr_supervised.pyc \n",
      " Will delete: ./dotpy_src/models/detection/__init__.py \n",
      " Will delete: ./dotpy_src/models/detection/__init__.pyc \n",
      " Will delete: ./dotpy_src/models/detection/iclr_supervised.py \n",
      " Will delete: ./dotpy_src/models/detection/iclr_semisupervised.py \n",
      " "
     ]
    },
    {
     "name": "stdout",
     "output_type": "stream",
     "text": [
      "[NbConvertApp] Converting notebook ./notebooks_src/models/detection/iclr_semisupervised.ipynb to script\n",
      "[NbConvertApp] Writing 1040 bytes to ./notebooks_src/models/detection/iclr_semisupervised.py\n",
      "[NbConvertApp] Converting notebook ./notebooks_src/models/detection/iclr_supervised.ipynb to script\n",
      "[NbConvertApp] Writing 1985 bytes to ./notebooks_src/models/detection/iclr_supervised.py\n",
      "[NbConvertApp] Converting notebook ./notebooks_src/models/detection/ssd.ipynb to script\n",
      "[NbConvertApp] Writing 5301 bytes to ./notebooks_src/models/detection/ssd.py\n",
      "./notebooks_src/models/detection/iclr_supervised.py\n",
      "./notebooks_src/models/detection/iclr_semisupervised.py\n",
      "./notebooks_src/models/detection/ssd.py\n",
      "./notebooks_src/models/base\n"
     ]
    },
    {
     "name": "stderr",
     "output_type": "stream",
     "text": [
      "Will delete: ./dotpy_src/models/base/nbfinder.py \n",
      " Will delete: ./dotpy_src/models/base/iclr_semisupervised.pyc \n",
      " Will delete: ./dotpy_src/models/base/iclr_supervised.pyc \n",
      " Will delete: ./dotpy_src/models/base/get_base_model.py \n",
      " Will delete: ./dotpy_src/models/base/get_base_model.pyc \n",
      " Will delete: ./dotpy_src/models/base/__init__.py \n",
      " Will delete: ./dotpy_src/models/base/__init__.pyc \n",
      " Will delete: ./dotpy_src/models/base/iclr_supervised.py \n",
      " Will delete: ./dotpy_src/models/base/iclr_semisupervised.py \n",
      " "
     ]
    },
    {
     "name": "stdout",
     "output_type": "stream",
     "text": [
      "[NbConvertApp] Converting notebook ./notebooks_src/models/base/resnet-50.ipynb to script\n",
      "[NbConvertApp] Writing 3737 bytes to ./notebooks_src/models/base/resnet-50.py\n",
      "[NbConvertApp] Converting notebook ./notebooks_src/models/base/resnet_utils.ipynb to script\n",
      "[NbConvertApp] Writing 6494 bytes to ./notebooks_src/models/base/resnet_utils.py\n",
      "[NbConvertApp] Converting notebook ./notebooks_src/models/base/iclr_semisupervised.ipynb to script\n",
      "[NbConvertApp] Writing 1956 bytes to ./notebooks_src/models/base/iclr_semisupervised.py\n",
      "[NbConvertApp] Converting notebook ./notebooks_src/models/base/get_base_model.ipynb to script\n",
      "[NbConvertApp] Writing 522 bytes to ./notebooks_src/models/base/get_base_model.py\n",
      "[NbConvertApp] Converting notebook ./notebooks_src/models/base/vgg16.ipynb to script\n",
      "[NbConvertApp] Writing 5133 bytes to ./notebooks_src/models/base/vgg16.py\n",
      "[NbConvertApp] Converting notebook ./notebooks_src/models/base/iclr_supervised.ipynb to script\n",
      "[NbConvertApp] Writing 1575 bytes to ./notebooks_src/models/base/iclr_supervised.py\n",
      "[NbConvertApp] Converting notebook ./notebooks_src/models/base/resnet-101.ipynb to script\n",
      "[NbConvertApp] Writing 2558 bytes to ./notebooks_src/models/base/resnet-101.py\n",
      "./notebooks_src/models/base/vgg16.py\n",
      "./notebooks_src/models/base/resnet_utils.py\n",
      "./notebooks_src/models/base/resnet-50.py\n",
      "./notebooks_src/models/base/get_base_model.py\n",
      "./notebooks_src/models/base/iclr_supervised.py\n",
      "./notebooks_src/models/base/iclr_semisupervised.py\n",
      "./notebooks_src/models/base/resnet-101.py\n",
      "./notebooks_src/plot\n",
      "[NbConvertApp] Converting notebook ./notebooks_src/plot/plot.ipynb to script\n",
      "[NbConvertApp] Writing 1461 bytes to ./notebooks_src/plot/plot.py\n",
      "./notebooks_src/plot/__init__.py\n",
      "./notebooks_src/plot/plot.py\n"
     ]
    }
   ],
   "source": [
    "for dirpath, dirs, files in os.walk(\"./notebooks_src\"):\n",
    "    #print dirpath, files\n",
    "    if \".ipynb_checkpoint\" not in dirpath and \".git\" not in dirpath:\n",
    "        print dirpath\n",
    "        convert_nb_to_script(dirpath,files, \"./dotpy_src\")"
   ]
  },
  {
   "cell_type": "code",
   "execution_count": 6,
   "metadata": {
    "collapsed": false
   },
   "outputs": [
    {
     "name": "stdout",
     "output_type": "stream",
     "text": [
      "[NbConvertApp] Converting notebook ./main.ipynb to script\n",
      "[NbConvertApp] Writing 1346 bytes to ./main.py\n",
      "[NbConvertApp] Converting notebook ./setup_command_line_args.ipynb to script\n",
      "[NbConvertApp] Writing 2212 bytes to ./setup_command_line_args.py\n",
      "./__init__.py\n",
      "./main.py\n",
      "./setup_command_line_args.py\n"
     ]
    }
   ],
   "source": [
    "fils = [\"main.ipynb\", \"setup_command_line_args.ipynb\"]\n",
    "convert_nb_to_script(\".\",fils,\".\")"
   ]
  },
  {
   "cell_type": "code",
   "execution_count": null,
   "metadata": {
    "collapsed": true
   },
   "outputs": [],
   "source": []
  },
  {
   "cell_type": "code",
   "execution_count": null,
   "metadata": {
    "collapsed": true
   },
   "outputs": [],
   "source": []
  }
 ],
 "metadata": {
  "anaconda-cloud": {},
  "kernelspec": {
   "display_name": "Python 2",
   "language": "python",
   "name": "python2"
  },
  "language_info": {
   "codemirror_mode": {
    "name": "ipython",
    "version": 2
   },
   "file_extension": ".py",
   "mimetype": "text/x-python",
   "name": "python",
   "nbconvert_exporter": "python",
   "pygments_lexer": "ipython2",
   "version": "2.7.12"
  }
 },
 "nbformat": 4,
 "nbformat_minor": 0
}
