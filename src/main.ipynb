{
 "cells": [
  {
   "cell_type": "code",
   "execution_count": 1,
   "metadata": {
    "collapsed": false
   },
   "outputs": [],
   "source": [
    "import os\n",
    "os.environ[\"CUDA_VISIBLE_DEVICES\"]=\"0\""
   ]
  },
  {
   "cell_type": "code",
   "execution_count": 2,
   "metadata": {
    "collapsed": false
   },
   "outputs": [
    {
     "name": "stdout",
     "output_type": "stream",
     "text": [
      "importing Jupyter notebook from notebooks_src/callbacks/callbacks.ipynb\n"
     ]
    },
    {
     "name": "stderr",
     "output_type": "stream",
     "text": [
      "Using TensorFlow backend.\n"
     ]
    },
    {
     "name": "stdout",
     "output_type": "stream",
     "text": [
      "box_encode_decode_configs\n",
      "importing Jupyter notebook from notebooks_src/configs/box_encode_decode_configs.ipynb\n",
      "callbacks_configs\n",
      "importing Jupyter notebook from notebooks_src/configs/callbacks_configs.ipynb\n",
      "fit_configs\n",
      "importing Jupyter notebook from notebooks_src/configs/fit_configs.ipynb\n",
      "labels_configs\n",
      "importing Jupyter notebook from notebooks_src/configs/labels_configs.ipynb\n",
      "load_data_configs\n",
      "importing Jupyter notebook from notebooks_src/configs/load_data_configs.ipynb\n",
      "losses_configs\n",
      "importing Jupyter notebook from notebooks_src/configs/losses_configs.ipynb\n",
      "metrics_configs\n",
      "importing Jupyter notebook from notebooks_src/configs/metrics_configs.ipynb\n",
      "models_configs\n",
      "importing Jupyter notebook from notebooks_src/configs/models_configs.ipynb\n",
      "optimizers_configs\n",
      "importing Jupyter notebook from notebooks_src/configs/optimizers_configs.ipynb\n",
      "importing Jupyter notebook from notebooks_src/optimizers/get_opt.ipynb\n",
      "importing Jupyter notebook from notebooks_src/losses/get_loss.ipynb\n",
      "importing Jupyter notebook from notebooks_src/models/get_model.ipynb\n",
      "importing Jupyter notebook from notebooks_src/models/detection/ssd.ipynb\n",
      "importing Jupyter notebook from notebooks_src/models/util.ipynb\n",
      "importing Jupyter notebook from notebooks_src/models/base/get_base_model.ipynb\n",
      "vgg16\n",
      "importing Jupyter notebook from notebooks_src/models/base/vgg16.ipynb\n",
      "importing Jupyter notebook from notebooks_src/load_data/get_generator.ipynb\n",
      "importing Jupyter notebook from notebooks_src/load_data/generator/generator.ipynb\n",
      "importing Jupyter notebook from notebooks_src/box_encode_decode/util.ipynb\n",
      "importing Jupyter notebook from notebooks_src/load_data/generator/batch_fetcher.ipynb\n",
      "importing Jupyter notebook from notebooks_src/fit/get_fit_function.ipynb\n"
     ]
    }
   ],
   "source": [
    "import sys\n",
    "from notebooks_src.nbfinder import NotebookFinder\n",
    "sys.meta_path.append(NotebookFinder())\n",
    "\n",
    "from notebooks_src.callbacks import callbacks\n",
    "\n",
    "from keras.models import Model\n",
    "from notebooks_src.optimizers.get_opt import get_opt\n",
    "from notebooks_src.losses.get_loss import get_loss\n",
    "import numpy as np\n",
    "from notebooks_src.models.get_model import get_model\n",
    "from notebooks_src.callbacks.callbacks import get_callbacks\n",
    "from notebooks_src.load_data.get_generator import get_generator\n",
    "from notebooks_src.fit.get_fit_function import get_fit_function\n",
    "from notebooks_src.configs import configs"
   ]
  },
  {
   "cell_type": "code",
   "execution_count": 3,
   "metadata": {
    "collapsed": true
   },
   "outputs": [],
   "source": [
    "model = get_model()"
   ]
  },
  {
   "cell_type": "code",
   "execution_count": 4,
   "metadata": {
    "collapsed": false
   },
   "outputs": [
    {
     "name": "stdout",
     "output_type": "stream",
     "text": [
      "importing Jupyter notebook from notebooks_src/losses/ssd/ssd.ipynb\n",
      "importing Jupyter notebook from notebooks_src/box_encode_decode/ssd/make_anchors_orig.ipynb\n",
      "importing Jupyter notebook from notebooks_src/box_encode_decode/ssd/encode.ipynb\n",
      "importing Jupyter notebook from notebooks_src/losses/util.ipynb\n",
      "importing Jupyter notebook from notebooks_src/load_data/datasets/climate/get_data.ipynb\n",
      "importing Jupyter notebook from notebooks_src/load_data/datasets/climate/util.ipynb\n"
     ]
    }
   ],
   "source": [
    "opt = get_opt()\n",
    "\n",
    "loss_func, loss_weights = get_loss(model.name)\n",
    "\n",
    "#accuracy_metric = get_accuracy_metric()\n",
    "\n",
    "generator = get_generator(mode=model.mode, typ=\"tr\", )\n",
    "\n",
    "val_generator = get_generator(typ=\"val\", mode=model.mode)\n",
    "\n",
    "num_epochs = configs[\"num_epochs\"]"
   ]
  },
  {
   "cell_type": "code",
   "execution_count": 5,
   "metadata": {
    "collapsed": false
   },
   "outputs": [
    {
     "name": "stdout",
     "output_type": "stream",
     "text": [
      "importing Jupyter notebook from notebooks_src/fit/tf_fit.ipynb\n",
      "importing Jupyter notebook from notebooks_src/metrics/mAP.ipynb\n",
      "importing Jupyter notebook from notebooks_src/box_encode_decode/ssd/decode.ipynb\n",
      "importing Jupyter notebook from notebooks_src/postprocessing/ssd.ipynb\n",
      "['', '/usr/lib/python2.7', '/usr/lib/python2.7/plat-x86_64-linux-gnu', '/usr/lib/python2.7/lib-tk', '/usr/lib/python2.7/lib-old', '/usr/lib/python2.7/lib-dynload', '/home/evan/.local/lib/python2.7/site-packages', '/usr/local/lib/python2.7/dist-packages', '/usr/lib/python2.7/dist-packages', '/usr/lib/python2.7/dist-packages/PILcompat', '/usr/lib/python2.7/dist-packages/gtk-2.0', '/usr/local/lib/python2.7/dist-packages/IPython/extensions', '/home/evan/.ipython']\n",
      "importing Jupyter notebook from notebooks_src/tf_extended/math.ipynb\n",
      "importing Jupyter notebook from notebooks_src/tf_extended/tensors.ipynb\n",
      "importing Jupyter notebook from notebooks_src/postprocessing/bboxes.ipynb\n",
      "importing Jupyter notebook from notebooks_src/postprocessing/utils.ipynb\n",
      "importing Jupyter notebook from notebooks_src/metrics/util.ipynb\n",
      "[<tf.Tensor 'gradients/split_6_grad/concat:0' shape=(2, 96, 144, 32) dtype=float32>, None, None]\n",
      "[<tf.Tensor 'gradients/split_9_grad/concat:0' shape=(2, 48, 72, 48) dtype=float32>, None, None]\n",
      "[<tf.Tensor 'gradients/split_7_grad/concat:0' shape=(2, 24, 36, 48) dtype=float32>, None, None]\n",
      "[<tf.Tensor 'gradients/split_8_grad/concat:0' shape=(2, 12, 18, 48) dtype=float32>, None, None]\n",
      "[<tf.Tensor 'gradients/split_4_grad/concat:0' shape=(2, 6, 9, 48) dtype=float32>, None, None]\n",
      "[<tf.Tensor 'gradients/split_5_grad/concat:0' shape=(2, 3, 5, 32) dtype=float32>, None, None]\n",
      "[<tf.Tensor 'gradients/split_10_grad/concat:0' shape=(2, 1, 1, 32) dtype=float32>, None, None]\n",
      "loss: 128.4993\n",
      "loss: 187.2513\n",
      "AP's {1: 0.0, 2: 0.0, 3: 0.0, 4: 0.0}\n",
      "accuracy:  0.0\n",
      "loss:  93.6134\n",
      "loss: 117.0893\n",
      "AP's {1: 0.0, 2: 0.0, 3: 0.0, 4: 0.0}\n",
      "accuracy:  0.0\n",
      "loss:  66.3998\n",
      "loss: 111.2077\n"
     ]
    },
    {
     "ename": "KeyboardInterrupt",
     "evalue": "",
     "output_type": "error",
     "traceback": [
      "\u001b[0;31m---------------------------------------------------------------------------\u001b[0m",
      "\u001b[0;31mKeyboardInterrupt\u001b[0m                         Traceback (most recent call last)",
      "\u001b[0;32m<ipython-input-5-c77f820db2c9>\u001b[0m in \u001b[0;36m<module>\u001b[0;34m()\u001b[0m\n\u001b[1;32m      1\u001b[0m \u001b[0mfit\u001b[0m \u001b[0;34m=\u001b[0m \u001b[0mget_fit_function\u001b[0m\u001b[0;34m(\u001b[0m\u001b[0;34m)\u001b[0m\u001b[0;34m\u001b[0m\u001b[0m\n\u001b[1;32m      2\u001b[0m \u001b[0;34m\u001b[0m\u001b[0m\n\u001b[0;32m----> 3\u001b[0;31m \u001b[0mfit\u001b[0m\u001b[0;34m(\u001b[0m\u001b[0mmodel\u001b[0m\u001b[0;34m,\u001b[0m \u001b[0mgenerator\u001b[0m\u001b[0;34m,\u001b[0m \u001b[0mval_generator\u001b[0m\u001b[0;34m,\u001b[0m \u001b[0mnum_epochs\u001b[0m\u001b[0;34m,\u001b[0m \u001b[0mloss_func\u001b[0m\u001b[0;34m,\u001b[0m \u001b[0mopt\u001b[0m\u001b[0;34m)\u001b[0m\u001b[0;34m\u001b[0m\u001b[0m\n\u001b[0m",
      "\u001b[0;32m/home/evan/hur-detect/src/notebooks_src/fit/tf_fit.ipynb\u001b[0m in \u001b[0;36mfit\u001b[0;34m(model, generator, val_generator, num_epochs, loss_func, opt)\u001b[0m\n",
      "\u001b[0;32m/home/evan/hur-detect/src/notebooks_src/load_data/generator/generator.ipynb\u001b[0m in \u001b[0;36mnext\u001b[0;34m(self)\u001b[0m\n",
      "\u001b[0;32m/home/evan/hur-detect/src/notebooks_src/load_data/generator/batch_fetcher.ipynb\u001b[0m in \u001b[0;36mnext_batch\u001b[0;34m(self, batch_size, shuffle)\u001b[0m\n",
      "\u001b[0;32mh5py/_objects.pyx\u001b[0m in \u001b[0;36mh5py._objects.with_phil.wrapper (/build/h5py-nQFNYZ/h5py-2.6.0/h5py/_objects.c:2577)\u001b[0;34m()\u001b[0m\n",
      "\u001b[0;32mh5py/_objects.pyx\u001b[0m in \u001b[0;36mh5py._objects.with_phil.wrapper (/build/h5py-nQFNYZ/h5py-2.6.0/h5py/_objects.c:2536)\u001b[0;34m()\u001b[0m\n",
      "\u001b[0;32m/usr/lib/python2.7/dist-packages/h5py/_hl/dataset.pyc\u001b[0m in \u001b[0;36m__getitem__\u001b[0;34m(self, args)\u001b[0m\n\u001b[1;32m    480\u001b[0m         \u001b[0mmspace\u001b[0m \u001b[0;34m=\u001b[0m \u001b[0mh5s\u001b[0m\u001b[0;34m.\u001b[0m\u001b[0mcreate_simple\u001b[0m\u001b[0;34m(\u001b[0m\u001b[0mmshape\u001b[0m\u001b[0;34m)\u001b[0m\u001b[0;34m\u001b[0m\u001b[0m\n\u001b[1;32m    481\u001b[0m         \u001b[0mfspace\u001b[0m \u001b[0;34m=\u001b[0m \u001b[0mselection\u001b[0m\u001b[0;34m.\u001b[0m\u001b[0mid\u001b[0m\u001b[0;34m\u001b[0m\u001b[0m\n\u001b[0;32m--> 482\u001b[0;31m         \u001b[0mself\u001b[0m\u001b[0;34m.\u001b[0m\u001b[0mid\u001b[0m\u001b[0;34m.\u001b[0m\u001b[0mread\u001b[0m\u001b[0;34m(\u001b[0m\u001b[0mmspace\u001b[0m\u001b[0;34m,\u001b[0m \u001b[0mfspace\u001b[0m\u001b[0;34m,\u001b[0m \u001b[0marr\u001b[0m\u001b[0;34m,\u001b[0m \u001b[0mmtype\u001b[0m\u001b[0;34m,\u001b[0m \u001b[0mdxpl\u001b[0m\u001b[0;34m=\u001b[0m\u001b[0mself\u001b[0m\u001b[0;34m.\u001b[0m\u001b[0m_dxpl\u001b[0m\u001b[0;34m)\u001b[0m\u001b[0;34m\u001b[0m\u001b[0m\n\u001b[0m\u001b[1;32m    483\u001b[0m \u001b[0;34m\u001b[0m\u001b[0m\n\u001b[1;32m    484\u001b[0m         \u001b[0;31m# Patch up the output for NumPy\u001b[0m\u001b[0;34m\u001b[0m\u001b[0;34m\u001b[0m\u001b[0m\n",
      "\u001b[0;31mKeyboardInterrupt\u001b[0m: "
     ]
    }
   ],
   "source": [
    "fit = get_fit_function()\n",
    "\n",
    "fit(model, generator, val_generator, num_epochs, loss_func, opt)"
   ]
  },
  {
   "cell_type": "code",
   "execution_count": null,
   "metadata": {
    "collapsed": true
   },
   "outputs": [],
   "source": []
  }
 ],
 "metadata": {
  "kernelspec": {
   "display_name": "Python 2",
   "language": "python",
   "name": "python2"
  },
  "language_info": {
   "codemirror_mode": {
    "name": "ipython",
    "version": 2
   },
   "file_extension": ".py",
   "mimetype": "text/x-python",
   "name": "python",
   "nbconvert_exporter": "python",
   "pygments_lexer": "ipython2",
   "version": "2.7.12"
  }
 },
 "nbformat": 4,
 "nbformat_minor": 2
}
