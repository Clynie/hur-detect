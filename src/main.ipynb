{
 "cells": [
  {
   "cell_type": "code",
   "execution_count": 1,
   "metadata": {
    "collapsed": false
   },
   "outputs": [],
   "source": [
    "import os\n",
    "os.environ[\"CUDA_VISIBLE_DEVICES\"]=\"0\""
   ]
  },
  {
   "cell_type": "code",
   "execution_count": 2,
   "metadata": {
    "collapsed": false
   },
   "outputs": [
    {
     "name": "stdout",
     "output_type": "stream",
     "text": [
      "importing Jupyter notebook from notebooks_src/callbacks/callbacks.ipynb\n"
     ]
    },
    {
     "name": "stderr",
     "output_type": "stream",
     "text": [
      "Using TensorFlow backend.\n"
     ]
    },
    {
     "name": "stdout",
     "output_type": "stream",
     "text": [
      "importing Jupyter notebook from notebooks_src/callbacks/configs.ipynb\n",
      "importing Jupyter notebook from notebooks_src/config_util.ipynb\n",
      "importing Jupyter notebook from notebooks_src/optimizers/get_opt.ipynb\n",
      "importing Jupyter notebook from notebooks_src/optimizers/configs.ipynb\n",
      "importing Jupyter notebook from notebooks_src/losses/configs.ipynb\n",
      "importing Jupyter notebook from notebooks_src/losses/get_loss.ipynb\n",
      "importing Jupyter notebook from notebooks_src/models/get_model.ipynb\n",
      "importing Jupyter notebook from notebooks_src/models/configs.ipynb\n",
      "importing Jupyter notebook from notebooks_src/load_data/configs.ipynb\n",
      "importing Jupyter notebook from notebooks_src/models/detection/iclr_supervised.ipynb\n",
      "importing Jupyter notebook from notebooks_src/models/util.ipynb\n",
      "importing Jupyter notebook from notebooks_src/models/base/get_base_model.ipynb\n",
      "importing Jupyter notebook from notebooks_src/models/base/resnet50.ipynb\n",
      "importing Jupyter notebook from notebooks_src/models/base/resnet_utils.ipynb\n",
      "importing Jupyter notebook from notebooks_src/load_data/get_generator.ipynb\n",
      "importing Jupyter notebook from notebooks_src/load_data/generator/generator.ipynb\n",
      "importing Jupyter notebook from notebooks_src/load_data/generator/batch_fetcher.ipynb\n",
      "importing Jupyter notebook from notebooks_src/load_data/label_maker/yolo/make_labels.ipynb\n",
      "importing Jupyter notebook from notebooks_src/load_data/label_maker/yolo/label_util.ipynb\n",
      "importing Jupyter notebook from notebooks_src/load_data/label_maker/box_processing/coord_conversion.ipynb\n",
      "importing Jupyter notebook from notebooks_src/fit/configs.ipynb\n"
     ]
    }
   ],
   "source": [
    "import sys\n",
    "from setup_command_line_args import parse_cla\n",
    "parse_cla() \n",
    "    \n",
    "    \n",
    "from notebooks_src.nbfinder import NotebookFinder\n",
    "sys.meta_path.append(NotebookFinder())\n",
    "\n",
    "from notebooks_src.callbacks import callbacks\n",
    "\n",
    "from keras.models import Model\n",
    "from notebooks_src.optimizers.get_opt import get_opt\n",
    "from notebooks_src.losses.get_loss import get_loss\n",
    "import numpy as np\n",
    "from notebooks_src.models.get_model import get_model\n",
    "from notebooks_src.callbacks.callbacks import get_callbacks\n",
    "from notebooks_src.load_data.get_generator import get_generator\n",
    "from notebooks_src.fit.configs import configs"
   ]
  },
  {
   "cell_type": "code",
   "execution_count": 3,
   "metadata": {
    "collapsed": false
   },
   "outputs": [
    {
     "name": "stdout",
     "output_type": "stream",
     "text": [
      "importing Jupyter notebook from notebooks_src/losses/iclr_supervised.ipynb\n",
      "importing Jupyter notebook from notebooks_src/losses/util.ipynb\n"
     ]
    }
   ],
   "source": [
    "model = get_model()\n",
    "\n",
    "opt = get_opt()\n",
    "\n",
    "loss, loss_weights = get_loss(model.name)\n",
    "\n",
    "model.compile(optimizer=opt, loss=loss, loss_weights=loss_weights)"
   ]
  },
  {
   "cell_type": "code",
   "execution_count": null,
   "metadata": {
    "collapsed": false
   },
   "outputs": [
    {
     "name": "stdout",
     "output_type": "stream",
     "text": [
      "importing Jupyter notebook from notebooks_src/load_data/datasets/climate/get_data.ipynb\n",
      "importing Jupyter notebook from notebooks_src/load_data/datasets/climate/util.ipynb\n",
      "Epoch 1/10\n",
      " 4/32 [==>...........................] - ETA: 42s - loss: 2.3719"
     ]
    },
    {
     "name": "stderr",
     "output_type": "stream",
     "text": [
      "\n",
      "KeyboardInterrupt\n",
      "\n"
     ]
    }
   ],
   "source": [
    "callbacks = get_callbacks()\n",
    "\n",
    "generator = get_generator(mode=model.mode, typ=\"tr\", )\n",
    "\n",
    "val_generator = get_generator(typ=\"val\", mode=model.mode)\n",
    "\n",
    "model.fit_generator(generator=generator,\n",
    "                    validation_data=val_generator, \n",
    "                    nb_val_samples=val_generator.num_ims,\n",
    "                    samples_per_epoch=generator.num_ims,\n",
    "                    callbacks=callbacks,\n",
    "                    nb_epoch=configs[\"num_epochs\"],nb_worker=4\n",
    "                   )"
   ]
  },
  {
   "cell_type": "code",
   "execution_count": null,
   "metadata": {
    "collapsed": true
   },
   "outputs": [],
   "source": []
  },
  {
   "cell_type": "code",
   "execution_count": null,
   "metadata": {
    "collapsed": true
   },
   "outputs": [],
   "source": []
  }
 ],
 "metadata": {
  "kernelspec": {
   "display_name": "Python 2",
   "language": "python",
   "name": "python2"
  },
  "language_info": {
   "codemirror_mode": {
    "name": "ipython",
    "version": 2
   },
   "file_extension": ".py",
   "mimetype": "text/x-python",
   "name": "python",
   "nbconvert_exporter": "python",
   "pygments_lexer": "ipython2",
   "version": "2.7.12"
  }
 },
 "nbformat": 4,
 "nbformat_minor": 2
}
