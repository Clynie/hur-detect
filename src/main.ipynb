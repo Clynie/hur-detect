{
 "cells": [
  {
   "cell_type": "code",
   "execution_count": 1,
   "metadata": {
    "collapsed": false
   },
   "outputs": [],
   "source": [
    "import os\n",
    "os.environ[\"CUDA_VISIBLE_DEVICES\"]=\"0\""
   ]
  },
  {
   "cell_type": "code",
   "execution_count": 2,
   "metadata": {
    "collapsed": false
   },
   "outputs": [
    {
     "name": "stdout",
     "output_type": "stream",
     "text": [
      "importing Jupyter notebook from notebooks_src/callbacks/callbacks.ipynb\n"
     ]
    },
    {
     "name": "stderr",
     "output_type": "stream",
     "text": [
      "Using TensorFlow backend.\n"
     ]
    },
    {
     "name": "stdout",
     "output_type": "stream",
     "text": [
      "importing Jupyter notebook from notebooks_src/callbacks/configs.ipynb\n",
      "importing Jupyter notebook from notebooks_src/config_util.ipynb\n",
      "importing Jupyter notebook from notebooks_src/optimizers/get_opt.ipynb\n",
      "importing Jupyter notebook from notebooks_src/optimizers/configs.ipynb\n",
      "importing Jupyter notebook from notebooks_src/losses/configs.ipynb\n",
      "importing Jupyter notebook from notebooks_src/losses/get_loss.ipynb\n",
      "importing Jupyter notebook from notebooks_src/models/get_model.ipynb\n",
      "importing Jupyter notebook from notebooks_src/models/configs.ipynb\n",
      "importing Jupyter notebook from notebooks_src/load_data/configs.ipynb\n",
      "importing Jupyter notebook from notebooks_src/models/detection/iclr_semisupervised.ipynb\n",
      "importing Jupyter notebook from notebooks_src/models/util.ipynb\n",
      "importing Jupyter notebook from notebooks_src/models/detection/iclr_supervised.ipynb\n",
      "importing Jupyter notebook from notebooks_src/models/base/get_base_model.ipynb\n",
      "importing Jupyter notebook from notebooks_src/models/base/iclr_semisupervised.ipynb\n",
      "importing Jupyter notebook from notebooks_src/models/base/iclr_supervised.ipynb\n",
      "importing Jupyter notebook from notebooks_src/load_data/get_generator.ipynb\n",
      "importing Jupyter notebook from notebooks_src/load_data/generator/generator.ipynb\n",
      "importing Jupyter notebook from notebooks_src/load_data/generator/batch_fetcher.ipynb\n",
      "importing Jupyter notebook from notebooks_src/load_data/label_maker/yolo/make_labels.ipynb\n",
      "importing Jupyter notebook from notebooks_src/load_data/label_maker/yolo/label_util.ipynb\n",
      "importing Jupyter notebook from notebooks_src/load_data/label_maker/box_processing/coord_conversion.ipynb\n",
      "importing Jupyter notebook from notebooks_src/load_data/datasets/climate/get_data.ipynb\n",
      "importing Jupyter notebook from notebooks_src/load_data/datasets/climate/util.ipynb\n",
      "importing Jupyter notebook from notebooks_src/fit/configs.ipynb\n"
     ]
    }
   ],
   "source": [
    "import sys\n",
    "from setup_command_line_args import parse_cla\n",
    "parse_cla() \n",
    "    \n",
    "    \n",
    "from notebooks_src.nbfinder import NotebookFinder\n",
    "sys.meta_path.append(NotebookFinder())\n",
    "\n",
    "from notebooks_src.callbacks import callbacks\n",
    "\n",
    "from keras.models import Model\n",
    "from notebooks_src.optimizers.get_opt import get_opt\n",
    "from notebooks_src.losses.get_loss import get_loss\n",
    "import numpy as np\n",
    "from notebooks_src.models.get_model import get_model\n",
    "from notebooks_src.callbacks.callbacks import get_callbacks\n",
    "from notebooks_src.load_data.get_generator import get_generator\n",
    "from notebooks_src.fit.configs import configs"
   ]
  },
  {
   "cell_type": "code",
   "execution_count": 3,
   "metadata": {
    "collapsed": false
   },
   "outputs": [
    {
     "name": "stdout",
     "output_type": "stream",
     "text": [
      "iclr_semisupervised\n",
      "importing Jupyter notebook from notebooks_src/losses/iclr_supervised.ipynb\n",
      "importing Jupyter notebook from notebooks_src/losses/util.ipynb\n"
     ]
    }
   ],
   "source": [
    "model = get_model()\n",
    "\n",
    "opt = get_opt()\n",
    "\n",
    "loss, loss_weights = get_loss(model.name)\n",
    "\n",
    "model.compile(optimizer=opt, loss=loss, loss_weights=loss_weights)"
   ]
  },
  {
   "cell_type": "code",
   "execution_count": 5,
   "metadata": {
    "collapsed": false
   },
   "outputs": [
    {
     "name": "stdout",
     "output_type": "stream",
     "text": [
      " (16, 768, 1152, 16)\n",
      "(16, 24, 36, 6)\n",
      "(16, 768, 1152, 16)\n",
      "(16, 768, 1152, 16)\n",
      "(16, 24, 36, 6)\n",
      "(16, 768, 1152, 16)\n",
      "(16, 768, 1152, 16)\n",
      "(16, 24, 36, 6)\n",
      "(16, 768, 1152, 16)\n",
      "(16, 768, 1152, 16)\n",
      "(16, 24, 36, 6)\n",
      "(16, 768, 1152, 16)\n",
      "(16, 768, 1152, 16)\n",
      "(16, 24, 36, 6)\n",
      "(16, 768, 1152, 16)\n",
      "(16, 768, 1152, 16)\n",
      "(16, 24, 36, 6)\n",
      "(16, 768, 1152, 16)\n",
      "(16, 768, 1152, 16)\n",
      "(16, 24, 36, 6)\n",
      "(16, 768, 1152, 16)\n",
      "(16, 768, 1152, 16)\n",
      "(16, 24, 36, 6)\n",
      "(16, 768, 1152, 16)\n",
      "(16, 768, 1152, 16)\n",
      "(16, 24, 36, 6)\n",
      "(16, 768, 1152, 16)\n",
      "(16, 768, 1152, 16)\n",
      "(16, 24, 36, 6)\n",
      "(16, 768, 1152, 16)\n",
      "(16, 768, 1152, 16)\n",
      "(16, 24, 36, 6)\n",
      "(16, 768, 1152, 16)\n",
      "(16, 768, 1152, 16)\n",
      "(16, 24, 36, 6)\n",
      "(16, 768, 1152, 16)\n",
      "(16, 768, 1152, 16)\n",
      "(16, 24, 36, 6)\n",
      "(16, 768, 1152, 16)\n",
      "(16, 768, 1152, 16)\n",
      "(16, 24, 36, 6)\n",
      "(16, 768, 1152, 16)\n",
      "(16, 768, 1152, 16)\n",
      "(16, 24, 36, 6)\n",
      "(16, 768, 1152, 16)\n",
      "(16, 768, 1152, 16)\n",
      "(16, 24, 36, 6)\n",
      "(16, 768, 1152, 16)\n",
      "(16, 768, 1152, 16)\n",
      "(16, 24, 36, 6)\n",
      "(16, 768, 1152, 16)\n",
      "(16, 768, 1152, 16)\n",
      "(16, 24, 36, 6)\n",
      "(16, 768, 1152, 16)\n"
     ]
    },
    {
     "ename": "KeyboardInterrupt",
     "evalue": "",
     "output_type": "error",
     "traceback": [
      "\u001b[0;31m---------------------------------------------------------------------------\u001b[0m",
      "\u001b[0;31mKeyboardInterrupt\u001b[0m                         Traceback (most recent call last)",
      "\u001b[0;32m<ipython-input-5-b2113e6c52c2>\u001b[0m in \u001b[0;36m<module>\u001b[0;34m()\u001b[0m\n\u001b[1;32m      4\u001b[0m \u001b[0;34m\u001b[0m\u001b[0m\n\u001b[1;32m      5\u001b[0m \u001b[0mval_generator\u001b[0m \u001b[0;34m=\u001b[0m \u001b[0mget_generator\u001b[0m\u001b[0;34m(\u001b[0m\u001b[0mtyp\u001b[0m\u001b[0;34m=\u001b[0m\u001b[0;34m\"val\"\u001b[0m\u001b[0;34m,\u001b[0m \u001b[0mmode\u001b[0m\u001b[0;34m=\u001b[0m\u001b[0mmodel\u001b[0m\u001b[0;34m.\u001b[0m\u001b[0mmode\u001b[0m\u001b[0;34m)\u001b[0m\u001b[0;34m\u001b[0m\u001b[0m\n\u001b[0;32m----> 6\u001b[0;31m \u001b[0;32mfor\u001b[0m \u001b[0mim\u001b[0m\u001b[0;34m,\u001b[0m\u001b[0mlbl\u001b[0m \u001b[0;32min\u001b[0m \u001b[0mgenerator\u001b[0m\u001b[0;34m:\u001b[0m\u001b[0;34m\u001b[0m\u001b[0m\n\u001b[0m\u001b[1;32m      7\u001b[0m     \u001b[0;32mprint\u001b[0m \u001b[0mim\u001b[0m\u001b[0;34m.\u001b[0m\u001b[0mshape\u001b[0m\u001b[0;34m\u001b[0m\u001b[0m\n\u001b[1;32m      8\u001b[0m     \u001b[0;32mfor\u001b[0m \u001b[0mlabel\u001b[0m \u001b[0;32min\u001b[0m \u001b[0mlbl\u001b[0m\u001b[0;34m.\u001b[0m\u001b[0mvalues\u001b[0m\u001b[0;34m(\u001b[0m\u001b[0;34m)\u001b[0m\u001b[0;34m:\u001b[0m\u001b[0;34m\u001b[0m\u001b[0m\n",
      "\u001b[0;32m/home/evan/hur-detect/src/notebooks_src/load_data/generator/generator.ipynb\u001b[0m in \u001b[0;36mnext\u001b[0;34m(self)\u001b[0m\n",
      "\u001b[0;32m/home/evan/hur-detect/src/notebooks_src/load_data/generator/generator.ipynb\u001b[0m in \u001b[0;36mnext\u001b[0;34m(self)\u001b[0m\n",
      "\u001b[0;32m/home/evan/hur-detect/src/notebooks_src/load_data/generator/batch_fetcher.ipynb\u001b[0m in \u001b[0;36mnext_batch\u001b[0;34m(self, batch_size, shuffle)\u001b[0m\n",
      "\u001b[0;32mh5py/_objects.pyx\u001b[0m in \u001b[0;36mh5py._objects.with_phil.wrapper (/build/h5py-nQFNYZ/h5py-2.6.0/h5py/_objects.c:2577)\u001b[0;34m()\u001b[0m\n",
      "\u001b[0;32mh5py/_objects.pyx\u001b[0m in \u001b[0;36mh5py._objects.with_phil.wrapper (/build/h5py-nQFNYZ/h5py-2.6.0/h5py/_objects.c:2536)\u001b[0;34m()\u001b[0m\n",
      "\u001b[0;32m/usr/lib/python2.7/dist-packages/h5py/_hl/dataset.pyc\u001b[0m in \u001b[0;36m__getitem__\u001b[0;34m(self, args)\u001b[0m\n\u001b[1;32m    480\u001b[0m         \u001b[0mmspace\u001b[0m \u001b[0;34m=\u001b[0m \u001b[0mh5s\u001b[0m\u001b[0;34m.\u001b[0m\u001b[0mcreate_simple\u001b[0m\u001b[0;34m(\u001b[0m\u001b[0mmshape\u001b[0m\u001b[0;34m)\u001b[0m\u001b[0;34m\u001b[0m\u001b[0m\n\u001b[1;32m    481\u001b[0m         \u001b[0mfspace\u001b[0m \u001b[0;34m=\u001b[0m \u001b[0mselection\u001b[0m\u001b[0;34m.\u001b[0m\u001b[0mid\u001b[0m\u001b[0;34m\u001b[0m\u001b[0m\n\u001b[0;32m--> 482\u001b[0;31m         \u001b[0mself\u001b[0m\u001b[0;34m.\u001b[0m\u001b[0mid\u001b[0m\u001b[0;34m.\u001b[0m\u001b[0mread\u001b[0m\u001b[0;34m(\u001b[0m\u001b[0mmspace\u001b[0m\u001b[0;34m,\u001b[0m \u001b[0mfspace\u001b[0m\u001b[0;34m,\u001b[0m \u001b[0marr\u001b[0m\u001b[0;34m,\u001b[0m \u001b[0mmtype\u001b[0m\u001b[0;34m,\u001b[0m \u001b[0mdxpl\u001b[0m\u001b[0;34m=\u001b[0m\u001b[0mself\u001b[0m\u001b[0;34m.\u001b[0m\u001b[0m_dxpl\u001b[0m\u001b[0;34m)\u001b[0m\u001b[0;34m\u001b[0m\u001b[0m\n\u001b[0m\u001b[1;32m    483\u001b[0m \u001b[0;34m\u001b[0m\u001b[0m\n\u001b[1;32m    484\u001b[0m         \u001b[0;31m# Patch up the output for NumPy\u001b[0m\u001b[0;34m\u001b[0m\u001b[0;34m\u001b[0m\u001b[0m\n",
      "\u001b[0;31mKeyboardInterrupt\u001b[0m: "
     ]
    }
   ],
   "source": [
    "callbacks = get_callbacks()\n",
    "\n",
    "generator = get_generator(mode=model.mode, typ=\"tr\", )\n",
    "\n",
    "val_generator = get_generator(typ=\"val\", mode=model.mode)\n",
    "for im,lbl in generator:\n",
    "    print im.shape\n",
    "    for label in lbl.values():\n",
    "        print label.shape\n",
    "# model.fit_generator(generator=generator,\n",
    "#                     validation_data=val_generator, \n",
    "#                     nb_val_samples=val_generator.num_ims,\n",
    "#                     samples_per_epoch=generator.num_ims,\n",
    "#                     callbacks=callbacks,\n",
    "#                     nb_epoch=configs[\"num_epochs\"],nb_worker=4\n",
    "#                    )"
   ]
  },
  {
   "cell_type": "code",
   "execution_count": null,
   "metadata": {
    "collapsed": true
   },
   "outputs": [],
   "source": []
  }
 ],
 "metadata": {
  "kernelspec": {
   "display_name": "Python 2",
   "language": "python",
   "name": "python2"
  },
  "language_info": {
   "codemirror_mode": {
    "name": "ipython",
    "version": 2
   },
   "file_extension": ".py",
   "mimetype": "text/x-python",
   "name": "python",
   "nbconvert_exporter": "python",
   "pygments_lexer": "ipython2",
   "version": "2.7.12"
  }
 },
 "nbformat": 4,
 "nbformat_minor": 2
}
