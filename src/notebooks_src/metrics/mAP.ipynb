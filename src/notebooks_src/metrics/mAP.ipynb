{
 "cells": [
  {
   "cell_type": "code",
   "execution_count": 1,
   "metadata": {
    "collapsed": false
   },
   "outputs": [
    {
     "name": "stdout",
     "output_type": "stream",
     "text": [
      "importing Jupyter notebook from ../../notebooks_src/postprocessing/utils.ipynb\n",
      "importing Jupyter notebook from ../../notebooks_src/box_processing/match.ipynb\n",
      "importing Jupyter notebook from ../../notebooks_src/box_processing/tf_box_util.ipynb\n",
      "importing Jupyter notebook from ../../notebooks_src/box_processing/make_anchors_orig.ipynb\n",
      "importing Jupyter notebook from ../../notebooks_src/box_processing/encode.ipynb\n",
      "importing Jupyter notebook from ../../notebooks_src/box_processing/unpack.ipynb\n",
      "importing Jupyter notebook from ../../notebooks_src/box_processing/decode.ipynb\n",
      "importing Jupyter notebook from ../../notebooks_src/metrics/utils.ipynb\n",
      "importing Jupyter notebook from ../../notebooks_src/tf_extended/math.ipynb\n"
     ]
    }
   ],
   "source": [
    "import sys\n",
    "from nbfinder import NotebookFinder\n",
    "sys.meta_path.append(NotebookFinder())\n",
    "import tensorflow as tf\n",
    "import numpy as np\n",
    "if __name__ == \"__main__\":\n",
    "    sys.path.append(\"../../\")\n",
    "\n",
    "from notebooks_src.configs import configs\n",
    "from notebooks_src.postprocessing.utils import get_int_tensor_shape, sort_some_lists_of_tensors\n",
    "\n",
    "from notebooks_src.box_processing.match import match_boxes\n",
    "from notebooks_src.box_processing.encode import encode\n",
    "from notebooks_src.box_processing.unpack import unpack_net_output, split_box_class\n",
    "\n",
    "from notebooks_src.box_processing.decode import decode\n",
    "#from notebooks_src.postprocessing.ssd import detected_bboxes\n",
    "#from notebooks_src.postprocessing.bboxes import bboxes_matching_batch\n",
    "from notebooks_src.postprocessing.utils import reshape_list\n",
    "from notebooks_src.metrics.utils import precision_recall, average_precision_voc07, average_precision_voc12, EpochMetrics\n",
    "from notebooks_src.configs import configs\n",
    "from notebooks_src.box_processing.tf_box_util import zero_out_negatives, make_box_coords_relative"
   ]
  },
  {
   "cell_type": "code",
   "execution_count": 2,
   "metadata": {
    "collapsed": true
   },
   "outputs": [],
   "source": [
    "def calc_map(y_true, y_preds):\n",
    "    gt_bboxes, labels = split_box_class(y_true)\n",
    "    gt_bboxes = zero_out_negatives(gt_bboxes)\n",
    "    gt_bboxes = make_box_coords_relative(gt_bboxes)\n",
    "    \n",
    "    cgt_boxes = organize_gt_by_class(gt_bboxes, labels)\n",
    "    cbboxes, cscores = postprocess_boxes_for_map_or_plotting(y_preds)\n",
    "    tp, fp, scores = calc_tp_fp(cbboxes, gt_bboxes, cscores, labels)\n",
    "    return dict(tp=tp, fp=fp, scores=scores)\n",
    "    "
   ]
  },
  {
   "cell_type": "code",
   "execution_count": 3,
   "metadata": {
    "collapsed": true
   },
   "outputs": [],
   "source": [
    "def postprocess_boxes_for_map_or_plotting(y_preds):\n",
    "    detections = unpack_net_output(y_preds)\n",
    "    pred_bboxes, scores = decode(detections)\n",
    "    cbboxes, cscores = organize_by_class(pred_bboxes, scores)\n",
    "    cbboxes, cscores = filter_out_low_confidence_boxes(cbboxes, cscores)\n",
    "    cbboxes, cscores = get_top_k_boxes_for_each_class(cbboxes, cscores, k=configs[\"select_top_k\"])\n",
    "    cbboxes, cscores = do_nms_on_boxes(cbboxes, cscores,\n",
    "                                 nms_threshold=configs[\"nms_threshold\"],\n",
    "                                 keep_top_k=configs[\"keep_top_k\"])\n",
    "    return cbboxes, cscores"
   ]
  },
  {
   "cell_type": "code",
   "execution_count": 4,
   "metadata": {
    "collapsed": true
   },
   "outputs": [],
   "source": [
    "def do_nms_on_boxes(cbboxes, cscores, nms_threshold,keep_top_k):\n",
    "    for c in cbboxes.keys():\n",
    "        bboxes = cbboxes[c]\n",
    "        scores = cscores[c]\n",
    "        cbboxes[c], cscores[c] = do_nms_batch(bboxes, scores, nms_threshold,keep_top_k)\n",
    "    return cbboxes, cscores    \n",
    "\n",
    "def do_nms_batch(bboxes, scores, nms_threshold,keep_top_k):\n",
    "    batch_size = bboxes.get_shape()[0].value\n",
    "    #the ol'reverse zip \n",
    "    bboxes, scores = zip(*[nms_single_example(bboxes[ex], scores[ex], nms_threshold, keep_top_k) for ex in range(batch_size) ])\n",
    "    bboxes = tf.stack(bboxes)\n",
    "    scores = tf.stack(scores)\n",
    "    return bboxes, scores\n",
    "\n",
    "def nms_single_example(bboxes, scores, nms_threshold=0.5, keep_top_k=200):\n",
    "    idxes = tf.image.non_max_suppression(bboxes, scores,\n",
    "                                         keep_top_k, nms_threshold)\n",
    "    scores = tf.gather(scores, idxes)\n",
    "    \n",
    "    bboxes = tf.gather(bboxes, idxes)\n",
    "    return bboxes, scores"
   ]
  },
  {
   "cell_type": "code",
   "execution_count": 5,
   "metadata": {
    "collapsed": false
   },
   "outputs": [],
   "source": [
    "def get_top_k_boxes_for_each_class(cbboxes, cscores, k=400):\n",
    "    for c in cscores.keys():\n",
    "        scores = cscores[c]\n",
    "        bboxes = cbboxes[c]\n",
    "        cscores[c],idxes = tf.nn.top_k(scores, k=k, sorted=True)\n",
    "        cbboxes[c] = gather_2d(bboxes, idxes)\n",
    "    return cbboxes, cscores"
   ]
  },
  {
   "cell_type": "code",
   "execution_count": 6,
   "metadata": {
    "collapsed": true
   },
   "outputs": [],
   "source": [
    "def gather_2d(tensor, idxes):\n",
    "    \"\"\"takes in tensor of size nxk and idxes of size nxp where p <= k and does a gather\n",
    "        works great when we want subselect indices that vary over the batch\"\"\"\n",
    "    return tf.stack([tf.gather(tensor[i], idxes[i]) for i in range(tensor.get_shape()[0].value)])\n",
    "    "
   ]
  },
  {
   "cell_type": "code",
   "execution_count": 7,
   "metadata": {
    "collapsed": true
   },
   "outputs": [],
   "source": [
    "def organize_gt_by_class(gt_bboxes, gt_labels):\n",
    "    \"\"\"these are numpy arrays for now\"\"\"\n",
    "    cgt_bboxes = {}\n",
    "    for c in range(configs[\"num_classes\"]):\n",
    "        bboxes_list = []\n",
    "        for i in range(configs[\"batch_size\"]):\n",
    "            bboxes = gt_bboxes[i]\n",
    "            labels = gt_labels[i]\n",
    "            class_mask = tf.expand_dims(tf.cast(tf.equal(labels, c), dtype=bboxes.dtype), axis=-1)\n",
    "            bboxes_list.append(bboxes * class_mask)\n",
    "        cgt_bboxes[c] = tf.stack(bboxes_list)\n",
    "    return cgt_bboxes\n",
    "            \n",
    "        "
   ]
  },
  {
   "cell_type": "code",
   "execution_count": 8,
   "metadata": {
    "collapsed": false
   },
   "outputs": [],
   "source": [
    "def organize_by_class(bboxes, scores):\n",
    "    num_classes = configs[\"num_classes\"]\n",
    "    cbb = {}\n",
    "    csc = {}\n",
    "    for c in range(num_classes):\n",
    "        cbb[c] = bboxes\n",
    "        csc[c] = scores[:,:,c]\n",
    "    return cbb, csc\n",
    "        \n",
    "        \n",
    "def filter_out_low_confidence_boxes(cbboxes, cscores, low_conf_threshold=0.01):\n",
    "    \"\"\" bboxes and scores are organized by class now (they are dicts key:class ind, value:boxes or scores)\"\"\"\n",
    "    for c in cbboxes.keys():\n",
    "        scores = cscores[c]\n",
    "        bboxes = cbboxes[c]\n",
    "        low_conf_mask = tf.cast(tf.greater_equal(scores, 0.01), dtype=scores.dtype)\n",
    "        cscores[c] = scores * low_conf_mask\n",
    "        cbboxes[c] = bboxes * tf.expand_dims(tf.cast(low_conf_mask, dtype=bboxes.dtype), axis=-1)\n",
    "    return cbboxes, cscores"
   ]
  },
  {
   "cell_type": "code",
   "execution_count": 9,
   "metadata": {
    "collapsed": true
   },
   "outputs": [],
   "source": [
    "def calc_batch_metrics(y_true, y_preds):\n",
    "    bboxes, labels = split_box_class(y_true)\n",
    "    encoded_boxes_dict, encoded_labels_dict = encode(bboxes,labels)\n",
    "    loc_dict, log_dict, pred_dict = unpack_net_output(y_preds)\n",
    "    \n",
    "\n",
    "\n",
    "    \n",
    "    # Performing post-processing on CPU: loop-intensive, usually more efficient.\n",
    "    #with tf.device('/device:CPU:0'):\n",
    "    localizations = decode(localizations)\n",
    "    \n",
    "    # get top k  predicted boxes after nms\n",
    "    rscores, rbboxes = detected_bboxes(predictions, localizations,\n",
    "                            select_threshold=configs[\"select_threshold\"],\n",
    "                            nms_threshold=configs[\"nms_threshold\"],\n",
    "                            clipping_bbox=None,\n",
    "                            top_k=configs[\"select_top_k\"],\n",
    "                            keep_top_k=configs[\"keep_top_k\"])\n",
    "    \n",
    "    #match the predicted boxes to ground truth boxes and compute the TP and FP statistics.\n",
    "    num_gbboxes, tp, fp, rscores = \\\n",
    "    bboxes_matching_batch(rscores.keys(), rscores, rbboxes,\n",
    "                              glabels, gbboxes, gdifficults,\n",
    "                              matching_threshold=configs[\"matching_threshold\"])\n",
    "    \n",
    "    return num_gbboxes, tp, fp, rscores    "
   ]
  },
  {
   "cell_type": "code",
   "execution_count": 10,
   "metadata": {
    "collapsed": true
   },
   "outputs": [],
   "source": [
    "def calc_ap_one_class():\n",
    "    num_classes = configs[\"num_classes\"]\n",
    "    \n",
    "    \n",
    "    num_gbboxes = tf.placeholder(dtype=tf.int32)\n",
    "    tp = tf.placeholder(dtype=tf.bool)\n",
    "    fp = tf.placeholder(dtype=tf.bool)\n",
    "    rscores = tf.placeholder(dtype=tf.float32)\n",
    "    num_detections = tf.placeholder(dtype=tf.int32)\n",
    "    \n",
    "    \n",
    "    # Add to summaries precision/recall values.\n",
    "    aps_voc07 = {}\n",
    "    aps_voc12 = {}\n",
    "\n",
    "    # Precison and recall values.\n",
    "    prec, rec = precision_recall(num_gbboxes, num_detections,\n",
    "                                tp, fp, rscores )\n",
    "\n",
    "    # Average precision VOC07.\n",
    "    v = average_precision_voc07(prec, rec)\n",
    "    aps_voc07 = v\n",
    "\n",
    "    # Average precision VOC12.\n",
    "    v = average_precision_voc12(prec, rec)\n",
    "\n",
    "    aps_voc12 = v\n",
    "        \n",
    "    return aps_voc12,[num_gbboxes, num_detections, tp, fp, rscores]\n"
   ]
  },
  {
   "cell_type": "code",
   "execution_count": 11,
   "metadata": {
    "collapsed": false
   },
   "outputs": [
    {
     "name": "stdout",
     "output_type": "stream",
     "text": [
      "[[[ 396  432  435  471    1]\n",
      "  [ 265  323  509  567    1]\n",
      "  [ 316  338  367  389    1]\n",
      "  [  59  139  580  660    2]\n",
      "  [  -1   -1   -1   -1   -1]\n",
      "  [  -1   -1   -1   -1   -1]\n",
      "  [  -1   -1   -1   -1   -1]\n",
      "  [  -1   -1   -1   -1   -1]\n",
      "  [  -1   -1   -1   -1   -1]\n",
      "  [  -1   -1   -1   -1   -1]\n",
      "  [  -1   -1   -1   -1   -1]\n",
      "  [  -1   -1   -1   -1   -1]\n",
      "  [  -1   -1   -1   -1   -1]\n",
      "  [  -1   -1   -1   -1   -1]\n",
      "  [  -1   -1   -1   -1   -1]]\n",
      "\n",
      " [[ 400  430  431  461    1]\n",
      "  [ 261  319  508  566    1]\n",
      "  [ 319  337  368  386    1]\n",
      "  [  60  140  593  673    2]\n",
      "  [ 173  253 1053 1133    2]\n",
      "  [  -1   -1   -1   -1   -1]\n",
      "  [  -1   -1   -1   -1   -1]\n",
      "  [  -1   -1   -1   -1   -1]\n",
      "  [  -1   -1   -1   -1   -1]\n",
      "  [  -1   -1   -1   -1   -1]\n",
      "  [  -1   -1   -1   -1   -1]\n",
      "  [  -1   -1   -1   -1   -1]\n",
      "  [  -1   -1   -1   -1   -1]\n",
      "  [  -1   -1   -1   -1   -1]\n",
      "  [  -1   -1   -1   -1   -1]]\n",
      "\n",
      " [[ 398  434  422  458    1]\n",
      "  [ 260  314  510  564    1]\n",
      "  [ 320  336  368  384    1]\n",
      "  [  64  144  604  684    2]\n",
      "  [ 158  238 1066 1146    2]\n",
      "  [  -1   -1   -1   -1   -1]\n",
      "  [  -1   -1   -1   -1   -1]\n",
      "  [  -1   -1   -1   -1   -1]\n",
      "  [  -1   -1   -1   -1   -1]\n",
      "  [  -1   -1   -1   -1   -1]\n",
      "  [  -1   -1   -1   -1   -1]\n",
      "  [  -1   -1   -1   -1   -1]\n",
      "  [  -1   -1   -1   -1   -1]\n",
      "  [  -1   -1   -1   -1   -1]\n",
      "  [  -1   -1   -1   -1   -1]]\n",
      "\n",
      " [[ 397  437  414  454    1]\n",
      "  [ 255  311  510  566    1]\n",
      "  [ 318  338  364  384    1]\n",
      "  [  67  147  614  694    2]\n",
      "  [ 143  223 1076 1156    2]\n",
      "  [  -1   -1   -1   -1   -1]\n",
      "  [  -1   -1   -1   -1   -1]\n",
      "  [  -1   -1   -1   -1   -1]\n",
      "  [  -1   -1   -1   -1   -1]\n",
      "  [  -1   -1   -1   -1   -1]\n",
      "  [  -1   -1   -1   -1   -1]\n",
      "  [  -1   -1   -1   -1   -1]\n",
      "  [  -1   -1   -1   -1   -1]\n",
      "  [  -1   -1   -1   -1   -1]\n",
      "  [  -1   -1   -1   -1   -1]]\n",
      "\n",
      " [[ 399  437  410  448    1]\n",
      "  [ 249  309  508  568    1]\n",
      "  [ 321  339  364  382    1]\n",
      "  [ 134  214 1084 1164    2]\n",
      "  [  -1   -1   -1   -1   -1]\n",
      "  [  -1   -1   -1   -1   -1]\n",
      "  [  -1   -1   -1   -1   -1]\n",
      "  [  -1   -1   -1   -1   -1]\n",
      "  [  -1   -1   -1   -1   -1]\n",
      "  [  -1   -1   -1   -1   -1]\n",
      "  [  -1   -1   -1   -1   -1]\n",
      "  [  -1   -1   -1   -1   -1]\n",
      "  [  -1   -1   -1   -1   -1]\n",
      "  [  -1   -1   -1   -1   -1]\n",
      "  [  -1   -1   -1   -1   -1]]]\n"
     ]
    }
   ],
   "source": [
    "if __name__ == \"__main__\":\n",
    "    with tf.Session() as sess:\n",
    "        import h5py\n",
    "        y_true = tf.placeholder(tf.float32,shape=(5,15,5))\n",
    "        box = h5py.File(configs[\"tr_data_file\"])[\"boxes\"][323:328]\n",
    "        shapes = [(5, 6, 9, 54),\n",
    "                  (5, 3, 5, 36),\n",
    "                    (5, 96, 144, 36),\n",
    "                    (5, 24, 36, 54),\n",
    "                    (5, 12, 18, 54),\n",
    "                    (5, 48, 72, 54),\n",
    "                    (5, 1, 1, 36)]\n",
    "\n",
    "        y_true = box #.astype(\"float32\")\n",
    "        y_preds = [tf.random_normal(mean=0.0,stddev=3.,shape=shape) for shape in shapes]\n",
    "        b = calc_map(y_true, y_preds)\n",
    "        box_dict = sess.run(b)"
   ]
  },
  {
   "cell_type": "code",
   "execution_count": null,
   "metadata": {
    "collapsed": true
   },
   "outputs": [],
   "source": []
  }
 ],
 "metadata": {
  "kernelspec": {
   "display_name": "Python 2",
   "language": "python",
   "name": "python2"
  },
  "language_info": {
   "codemirror_mode": {
    "name": "ipython",
    "version": 2
   },
   "file_extension": ".py",
   "mimetype": "text/x-python",
   "name": "python",
   "nbconvert_exporter": "python",
   "pygments_lexer": "ipython2",
   "version": "2.7.12"
  }
 },
 "nbformat": 4,
 "nbformat_minor": 2
}
