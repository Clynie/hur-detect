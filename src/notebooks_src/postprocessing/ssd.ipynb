{
 "cells": [
  {
   "cell_type": "code",
   "execution_count": null,
   "metadata": {
    "collapsed": true
   },
   "outputs": [],
   "source": [
    "\n",
    "def detected_bboxes(predictions, localisations,\n",
    "                    select_threshold=None, nms_threshold=0.5,\n",
    "                    clipping_bbox=None, top_k=400, keep_top_k=200):\n",
    "    \"\"\"Get the detected bounding boxes from the SSD network output.\n",
    "    \"\"\"\n",
    "    # Select top_k bboxes from predictions, and clip\n",
    "    rscores, rbboxes = \\\n",
    "        ssd_common.tf_ssd_bboxes_select(predictions, localisations,\n",
    "                                        select_threshold=select_threshold,\n",
    "                                        num_classes=self.params.num_classes)\n",
    "    rscores, rbboxes = \\\n",
    "        tfe.bboxes_sort(rscores, rbboxes, top_k=top_k)\n",
    "    # Apply NMS algorithm.\n",
    "    rscores, rbboxes = \\\n",
    "        tfe.bboxes_nms_batch(rscores, rbboxes,\n",
    "                             nms_threshold=nms_threshold,\n",
    "                             keep_top_k=keep_top_k)\n",
    "    # if clipping_bbox is not None:\n",
    "    #     rbboxes = tfe.bboxes_clip(clipping_bbox, rbboxes)\n",
    "    return rscores, rbboxes"
   ]
  }
 ],
 "metadata": {
  "kernelspec": {
   "display_name": "Python 2",
   "language": "python",
   "name": "python2"
  },
  "language_info": {
   "codemirror_mode": {
    "name": "ipython",
    "version": 2
   },
   "file_extension": ".py",
   "mimetype": "text/x-python",
   "name": "python",
   "nbconvert_exporter": "python",
   "pygments_lexer": "ipython2",
   "version": "2.7.12"
  }
 },
 "nbformat": 4,
 "nbformat_minor": 2
}
