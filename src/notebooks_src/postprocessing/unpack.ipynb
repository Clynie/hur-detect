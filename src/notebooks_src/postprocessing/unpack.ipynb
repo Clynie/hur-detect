{
 "cells": [
  {
   "cell_type": "code",
   "execution_count": 1,
   "metadata": {
    "collapsed": false
   },
   "outputs": [
    {
     "name": "stdout",
     "output_type": "stream",
     "text": [
      "importing Jupyter notebook from utils.ipynb\n",
      "box_encode_decode_configs\n",
      "importing Jupyter notebook from ../../notebooks_src/configs/box_encode_decode_configs.ipynb\n",
      "callbacks_configs\n",
      "importing Jupyter notebook from ../../notebooks_src/configs/callbacks_configs.ipynb\n",
      "fit_configs\n",
      "importing Jupyter notebook from ../../notebooks_src/configs/fit_configs.ipynb\n",
      "labels_configs\n",
      "importing Jupyter notebook from ../../notebooks_src/configs/labels_configs.ipynb\n",
      "load_data_configs\n",
      "importing Jupyter notebook from ../../notebooks_src/configs/load_data_configs.ipynb\n",
      "losses_configs\n",
      "importing Jupyter notebook from ../../notebooks_src/configs/losses_configs.ipynb\n",
      "metrics_configs\n",
      "importing Jupyter notebook from ../../notebooks_src/configs/metrics_configs.ipynb\n",
      "models_configs\n",
      "importing Jupyter notebook from ../../notebooks_src/configs/models_configs.ipynb\n",
      "optimizers_configs\n",
      "importing Jupyter notebook from ../../notebooks_src/configs/optimizers_configs.ipynb\n"
     ]
    }
   ],
   "source": [
    "import tensorflow as tf\n",
    "import sys\n",
    "from nbfinder import NotebookFinder\n",
    "sys.meta_path.append(NotebookFinder())\n",
    "from utils import convert_tf_shape_to_int_tuple\n",
    "if __name__ == \"__main__\":\n",
    "    sys.path.append(\"../../\")\n",
    "from notebooks_src.configs import configs"
   ]
  },
  {
   "cell_type": "code",
   "execution_count": 13,
   "metadata": {
    "collapsed": false
   },
   "outputs": [],
   "source": [
    "def unpack_net_output(y_preds):\n",
    "    locs,logs,preds = [], [], []\n",
    "    for y_pred in y_preds:\n",
    "        feat_shape = tuple([d.value for d in list(y_pred.get_shape()[1:3])])\n",
    "        loc,log,pred = _unpack_net_output(y_pred, feat_shape)\n",
    "        locs.append(loc)\n",
    "        logs.append(log)\n",
    "        preds.append(pred)\n",
    "    \n",
    "    return locs,logs,preds\n",
    "        \n",
    "\n",
    "def _unpack_net_output(pred_tensor, feat_shape):\n",
    "    \"\"\"split by grabbing the first loc_channels channels (as localization output stacked in top of logit one) \"\"\"\n",
    "    \n",
    "    num_classes = configs[\"num_classes\"]\n",
    "    num_coords_per_box = 4\n",
    "    num_boxes, loc_channels, cls_channels = get_channel_numbers(feat_shape, num_classes, num_coords_per_box)\n",
    "    \n",
    "    cutoff_axis=3\n",
    "    localizations, logits = tf.split(pred_tensor, \n",
    "                                     axis=cutoff_axis,\n",
    "                                     num_or_size_splits=[loc_channels, cls_channels])\n",
    "\n",
    "    localizations = reshape_localizations(localizations, num_boxes, num_coords_per_box,cutoff_axis)\n",
    "    \n",
    "\n",
    "    logits = reshape_logits(logits, num_boxes, num_classes,cutoff_axis)\n",
    "    \n",
    "    predictions = tf.contrib.slim.softmax(logits)\n",
    "    \n",
    "    \n",
    "                               \n",
    "    return localizations, logits, predictions"
   ]
  },
  {
   "cell_type": "code",
   "execution_count": 14,
   "metadata": {
    "collapsed": true
   },
   "outputs": [],
   "source": [
    "def reshape_logits(logits, num_boxes, num_classes, cutoff_axis):\n",
    "    \"\"\" logits (num_ex,ydim,xdim,cls_channels) we reshape each to be (num_ex, ydim,xdim,num_boxes, num_classes) \"\"\"\n",
    "    logits_shape = convert_tf_shape_to_int_tuple(logits.get_shape())\n",
    "    new_logits_shape = tuple(list(logits_shape[0:cutoff_axis]) + [num_boxes, num_classes])\n",
    "    logits = tf.reshape(logits, shape=new_logits_shape)\n",
    "    \n",
    "    return logits"
   ]
  },
  {
   "cell_type": "code",
   "execution_count": 15,
   "metadata": {
    "collapsed": true
   },
   "outputs": [],
   "source": [
    "def reshape_localizations(localizations, num_boxes, num_coords_per_box, cutoff_axis):\n",
    "    \"\"\" localizations (num_ex, ydim,xdim,loc_channels)  we reshape each to be: (num_ex, ydim,xdim,num_boxes, num_coords_per_box)\"\"\"\n",
    "    \n",
    "    localizations_shape = convert_tf_shape_to_int_tuple(localizations.get_shape())\n",
    "    \n",
    "    new_localization_shape = tuple(list(localizations_shape[0:cutoff_axis])\n",
    "                                   + [num_boxes, num_coords_per_box])\n",
    "    \n",
    "    localizations = tf.reshape(localizations,\n",
    "                               shape=new_localization_shape)\n",
    "    \n",
    "    return localizations\n",
    "    \n",
    "    "
   ]
  },
  {
   "cell_type": "code",
   "execution_count": 16,
   "metadata": {
    "collapsed": true
   },
   "outputs": [],
   "source": [
    "def get_channel_numbers(feat_shape, num_classes, num_coords_per_box):\n",
    "    ind = configs[\"feat_shapes\"].index(feat_shape)\n",
    "    sizes, ratios = configs[\"anchor_sizes\"][ind], configs[\"anchor_ratios\"][ind]\n",
    "    num_boxes = len(sizes)+ len(ratios)\n",
    "\n",
    "    loc_channels = num_boxes * num_coords_per_box\n",
    "    cls_channels = num_classes * num_boxes\n",
    "    \n",
    "    return num_boxes, loc_channels, cls_channels"
   ]
  },
  {
   "cell_type": "code",
   "execution_count": 18,
   "metadata": {
    "collapsed": false
   },
   "outputs": [],
   "source": [
    "if __name__==\"__main__\":\n",
    "    feat_shape = (96,144)\n",
    "\n",
    "    num_classes = configs[\"num_classes\"]\n",
    "    ind = configs[\"feat_shapes\"].index(feat_shape)\n",
    "    sizes, ratios = configs[\"anchor_sizes\"][ind], configs[\"anchor_ratios\"][ind]\n",
    "    num_boxes = len(sizes)+ len(ratios)\n",
    "    num_coords_per_box = 4\n",
    "    loc_channels = num_boxes * num_coords_per_box\n",
    "    cls_channels = num_classes * num_boxes\n",
    "\n",
    "\n",
    "    pred_tensor = tf.ones( (2,feat_shape[0],feat_shape[1],loc_channels + cls_channels))\n",
    "\n",
    "    pred_tensor.get_shape()\n",
    "\n",
    "    loc, log, pred = _unpack_net_output(pred_tensor,feat_shape)\n",
    "\n",
    "    #assert convert_tf_shape_to_int_tuple(loc.get_shape()) == (1,96,144,4,4)\n",
    "    #assert convert_tf_shape_to_int_tuple(log.get_shape()) == (1,96,144,4,4)"
   ]
  }
 ],
 "metadata": {
  "kernelspec": {
   "display_name": "Python 2",
   "language": "python",
   "name": "python2"
  },
  "language_info": {
   "codemirror_mode": {
    "name": "ipython",
    "version": 2
   },
   "file_extension": ".py",
   "mimetype": "text/x-python",
   "name": "python",
   "nbconvert_exporter": "python",
   "pygments_lexer": "ipython2",
   "version": "2.7.12"
  }
 },
 "nbformat": 4,
 "nbformat_minor": 2
}
