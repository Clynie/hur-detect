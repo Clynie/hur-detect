{
 "cells": [
  {
   "cell_type": "code",
   "execution_count": null,
   "metadata": {
    "collapsed": true
   },
   "outputs": [],
   "source": [
    "def reshape_list(l, shape=None):\n",
    "    \"\"\"Reshape list of (list): 1D to 2D or the other way around.\n",
    "    Args:\n",
    "      l: List or List of list.\n",
    "      shape: 1D or 2D shape.\n",
    "    Return\n",
    "      Reshaped list.\n",
    "    \"\"\"\n",
    "    r = []\n",
    "    if shape is None:\n",
    "        # Flatten everything.\n",
    "        for a in l:\n",
    "            if isinstance(a, (list, tuple)):\n",
    "                r = r + list(a)\n",
    "            else:\n",
    "                r.append(a)\n",
    "    else:\n",
    "        # Reshape to list of list.\n",
    "        i = 0\n",
    "        for s in shape:\n",
    "            if s == 1:\n",
    "                r.append(l[i])\n",
    "            else:\n",
    "                r.append(l[i:i+s])\n",
    "            i += s\n",
    "    return r"
   ]
  }
 ],
 "metadata": {
  "kernelspec": {
   "display_name": "Python 2",
   "language": "python",
   "name": "python2"
  },
  "language_info": {
   "codemirror_mode": {
    "name": "ipython",
    "version": 2
   },
   "file_extension": ".py",
   "mimetype": "text/x-python",
   "name": "python",
   "nbconvert_exporter": "python",
   "pygments_lexer": "ipython2",
   "version": "2.7.12"
  }
 },
 "nbformat": 4,
 "nbformat_minor": 2
}
