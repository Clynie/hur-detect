{
 "cells": [
  {
   "cell_type": "code",
   "execution_count": 1,
   "metadata": {
    "collapsed": true
   },
   "outputs": [],
   "source": [
    "import tensorflow as tf"
   ]
  },
  {
   "cell_type": "code",
   "execution_count": 4,
   "metadata": {
    "collapsed": true
   },
   "outputs": [],
   "source": [
    "def reshape_list(l, shape=None):\n",
    "    \"\"\"Reshape list of (list): 1D to 2D or the other way around.\n",
    "    Args:\n",
    "      l: List or List of list.\n",
    "      shape: 1D or 2D shape.\n",
    "    Return\n",
    "      Reshaped list.\n",
    "    \"\"\"\n",
    "    r = []\n",
    "    if shape is None:\n",
    "        # Flatten everything.\n",
    "        for a in l:\n",
    "            if isinstance(a, (list, tuple)):\n",
    "                r = r + list(a)\n",
    "            else:\n",
    "                r.append(a)\n",
    "    else:\n",
    "        # Reshape to list of list.\n",
    "        i = 0\n",
    "        for s in shape:\n",
    "            if s == 1:\n",
    "                r.append(l[i])\n",
    "            else:\n",
    "                r.append(l[i:i+s])\n",
    "            i += s\n",
    "    return r"
   ]
  },
  {
   "cell_type": "code",
   "execution_count": 5,
   "metadata": {
    "collapsed": true
   },
   "outputs": [],
   "source": [
    "def get_int_tensor_shape(tensor):\n",
    "    return convert_tf_shape_to_int_tuple(tensor.get_shape())\n",
    "\n",
    "def convert_tf_shape_to_int_tuple(tf_shape):\n",
    "    return tuple([dim.value for dim in tf_shape])\n",
    "\n",
    "def shape_key(tensor):\n",
    "    return get_int_tensor_shape(tensor)\n",
    "\n",
    "def sort_some_lists_of_tensors(*lists):\n",
    "    #print lists\n",
    "    \n",
    "    ret = [sorted(tensor_list,key=shape_key, reverse=True) for tensor_list in lists]\n",
    "    if len(lists) == 1:\n",
    "        ret = ret[0]\n",
    "    return ret\n",
    "    \n",
    "    \n",
    "    "
   ]
  },
  {
   "cell_type": "code",
   "execution_count": null,
   "metadata": {
    "collapsed": true
   },
   "outputs": [],
   "source": []
  }
 ],
 "metadata": {
  "kernelspec": {
   "display_name": "Python 2",
   "language": "python",
   "name": "python2"
  },
  "language_info": {
   "codemirror_mode": {
    "name": "ipython",
    "version": 2
   },
   "file_extension": ".py",
   "mimetype": "text/x-python",
   "name": "python",
   "nbconvert_exporter": "python",
   "pygments_lexer": "ipython2",
   "version": "2.7.12"
  }
 },
 "nbformat": 4,
 "nbformat_minor": 2
}
