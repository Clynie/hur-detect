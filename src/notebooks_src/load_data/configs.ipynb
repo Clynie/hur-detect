{
 "cells": [
  {
   "cell_type": "code",
   "execution_count": 3,
   "metadata": {
    "collapsed": true
   },
   "outputs": [],
   "source": [
    "import sys\n",
    "from nbfinder import NotebookFinder\n",
    "sys.meta_path.append(NotebookFinder())\n",
    "import os \n",
    "if os.path.basename(os.getcwd()) == \"src\":\n",
    "    from notebooks_src.config_util import update_configs\n",
    "\n",
    "\n",
    "kwargs_dict = dict(data_format_args = {'raw_input_shape': (16,768,1152), \"input_shape\":(16,768,1152)},\n",
    "                                       \n",
    "                                       \n",
    "#                                        , \"label_shape\": (6,24,24) },\n",
    "\n",
    "                label_kwargs = {\"scale_factor\": 32, \"one_hot_labels\": False, \"tf_format\":True, \"num_classes\": 4,\n",
    "                                \"label_maker_name\": \"yolo\"},\n",
    "\n",
    "                tr_val_test_args = {'batch_size' : 4,\n",
    "                                    \"num_tr_ims\": -1,\n",
    "                                    \"num_val_ims\": 16,\n",
    "                                    \"num_test_ims\": 32\n",
    "                                   },\n",
    "\n",
    "                file_args = {'labels_file': \"/home/evan/data/climate/labels/labels.csv\",\n",
    "                             'data_file': \"/home/evan/data/climate/sample_climo_1980.h5\"},\n",
    "\n",
    "                data_type = {\"data_name\": \"climate\"}\n",
    "                \n",
    "                  \n",
    "                  )\n",
    "    \n",
    "\n",
    "\n",
    "configs = {}\n",
    "for kwargs in kwargs_dict.values():\n",
    "    configs.update(kwargs)\n",
    "\n",
    "if os.path.basename(os.getcwd()) == \"src\":\n",
    "    configs = update_configs(configs)\n"
   ]
  },
  {
   "cell_type": "code",
   "execution_count": null,
   "metadata": {
    "collapsed": true
   },
   "outputs": [],
   "source": []
  }
 ],
 "metadata": {
  "kernelspec": {
   "display_name": "Python 2",
   "language": "python",
   "name": "python2"
  },
  "language_info": {
   "codemirror_mode": {
    "name": "ipython",
    "version": 2
   },
   "file_extension": ".py",
   "mimetype": "text/x-python",
   "name": "python",
   "nbconvert_exporter": "python",
   "pygments_lexer": "ipython2",
   "version": "2.7.12"
  }
 },
 "nbformat": 4,
 "nbformat_minor": 2
}
