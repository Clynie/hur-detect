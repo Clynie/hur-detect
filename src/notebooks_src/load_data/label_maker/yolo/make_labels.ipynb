{
 "cells": [
  {
   "cell_type": "code",
   "execution_count": 1,
   "metadata": {
    "collapsed": false
   },
   "outputs": [
    {
     "name": "stdout",
     "output_type": "stream",
     "text": [
      "importing Jupyter notebook from label_util.ipynb\n",
      "importing Jupyter notebook from ../../../../notebooks_src/load_data/configs.ipynb\n",
      "importing Jupyter notebook from ../../../../notebooks_src/load_data/label_maker/box_processing/coord_conversion.ipynb\n"
     ]
    }
   ],
   "source": [
    "import sys\n",
    "from nbfinder import NotebookFinder\n",
    "sys.meta_path.append(NotebookFinder())\n",
    "import numpy as np\n",
    "import time\n",
    "import h5py\n",
    "import os\n",
    "from os.path import join\n",
    "#from configs import configs\n",
    "\n",
    "\n",
    "#put the path of where main.py runs on the path to simulate that setup for when we actually run\n",
    "if __name__ == \"__main__\":\n",
    "    sys.path.append(\"../../../../\")\n",
    "from label_util import get_gr_truth_configs, get_box_vector, get_xy_inds\n",
    "from notebooks_src.load_data.label_maker.box_processing.coord_conversion import convert_min_max_to_wh_boxes"
   ]
  },
  {
   "cell_type": "code",
   "execution_count": 15,
   "metadata": {
    "collapsed": false
   },
   "outputs": [],
   "source": [
    "def make_labels(box_lists):\n",
    "    '''takes a list of list of boxes, where box is [xmin,ymin, xmax,ymax,class?]'''\n",
    "    label = _create_labels_from_example_box_list(box_lists[0])\n",
    "    for ex_box_list in box_lists[1:]:\n",
    "        box_tensor = _create_labels_from_example_box_list(box_lists[0])\n",
    "        label = np.concatenate((label, box_tensor),axis=0)\n",
    "    return label\n",
    "        \n",
    "    \n",
    "    "
   ]
  },
  {
   "cell_type": "code",
   "execution_count": 22,
   "metadata": {
    "collapsed": true
   },
   "outputs": [],
   "source": [
    "def _create_labels_from_example_box_list(ex_box_list):\n",
    "    \n",
    "        # get some configs\n",
    "        scale_factor, xlen, ylen, last_dim, num_classes, one_hot, tf_format = get_gr_truth_configs()\n",
    "        \n",
    "        \n",
    "        boxes_tensor = np.zeros(( 1, xlen, ylen, last_dim ))\n",
    "\n",
    "        ex_box_list = convert_min_max_to_wh_boxes(ex_box_list)\n",
    "\n",
    "\n",
    "        for box in ex_box_list:\n",
    "            x,y,w,h, cls = box\n",
    "            xind, yind = get_xy_inds(x, y, scale_factor)\n",
    "            box_vec = get_box_vector(box, scale_factor, num_classes,one_hot )\n",
    "            boxes_tensor[:,xind, yind, :] = box_vec\n",
    "\n",
    "        boxes_tensor = boxes_tensor if tf_format else np.transpose(boxes_tensor, axes=(0,3,1,2))\n",
    "        return boxes_tensor\n",
    "    "
   ]
  },
  {
   "cell_type": "code",
   "execution_count": 25,
   "metadata": {
    "collapsed": false
   },
   "outputs": [
    {
     "name": "stdout",
     "output_type": "stream",
     "text": [
      "3\n",
      "3\n",
      "3\n",
      "(4, 24, 24, 6)\n"
     ]
    }
   ],
   "source": [
    "if __name__ == \"__main__\":\n",
    "\n",
    "    box1 = [30,40,60,70,1]\n",
    "    box2 = [2*b for b in box1]\n",
    "\n",
    "    box_lists = [[box1,box2,box1],[box1,box2,box1],[box1,box2,box1],[box1,box2,box1]]\n",
    "    print make_labels(box_lists).shape"
   ]
  },
  {
   "cell_type": "code",
   "execution_count": null,
   "metadata": {
    "collapsed": true
   },
   "outputs": [],
   "source": []
  }
 ],
 "metadata": {
  "anaconda-cloud": {},
  "kernelspec": {
   "display_name": "Python 2",
   "language": "python",
   "name": "python2"
  },
  "language_info": {
   "codemirror_mode": {
    "name": "ipython",
    "version": 2
   },
   "file_extension": ".py",
   "mimetype": "text/x-python",
   "name": "python",
   "nbconvert_exporter": "python",
   "pygments_lexer": "ipython2",
   "version": "2.7.12"
  }
 },
 "nbformat": 4,
 "nbformat_minor": 2
}
