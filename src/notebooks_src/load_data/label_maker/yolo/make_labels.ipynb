{
 "cells": [
  {
   "cell_type": "code",
   "execution_count": 1,
   "metadata": {
    "collapsed": false
   },
   "outputs": [
    {
     "name": "stdout",
     "output_type": "stream",
     "text": [
      "importing Jupyter notebook from label_loader.ipynb\n",
      "importing Jupyter notebook from util.ipynb\n",
      "importing Jupyter notebook from configs.ipynb\n"
     ]
    }
   ],
   "source": [
    "import sys\n",
    "from nbfinder import NotebookFinder\n",
    "sys.meta_path.append(NotebookFinder())\n",
    "import numpy as np\n",
    "import time\n",
    "from label_loader import  make_labels_for_dataset\n",
    "import h5py\n",
    "import os\n",
    "from os.path import join\n",
    "from util import *\n",
    "from configs import configs"
   ]
  },
  {
   "cell_type": "code",
   "execution_count": null,
   "metadata": {
    "collapsed": true
   },
   "outputs": [],
   "source": [
    "def create_labels(boxes):\n",
    "    '''takes a list of box_lists, where box is [xmin,ymin, xmax,ymax,class?]'''\n",
    "    '''list is num_ex x max_number_of_boxes x 5'''\n",
    "    "
   ]
  },
  {
   "cell_type": "code",
   "execution_count": 2,
   "metadata": {
    "collapsed": true
   },
   "outputs": [],
   "source": [
    "\n",
    "def test(camfile_path, mask, kwargs):\n",
    "    labels_csv_file = join(kwargs[\"metadata_dir\"], \"labels.csv\")\n",
    "    box_list = make_labels_for_dataset(camfile_path, labels_csv_file)\n",
    "    box = box_list[0][0]\n",
    "    test_grid(box, mask[0], kwargs)\n"
   ]
  },
  {
   "cell_type": "code",
   "execution_count": 31,
   "metadata": {
    "collapsed": true
   },
   "outputs": [],
   "source": [
    "def create_yolo_gr_truth(bbox_list,caffe_format=False):\n",
    "\n",
    "        scale_factor, xdim, ydim, num_classes = configs[\"scale_factor\"], configs[\"xdim\"], configs[\"ydim\"], configs[\"num_classes\"] \n",
    "        \n",
    "        xlen, ylen = xdim /scale_factor, ydim / scale_factor\n",
    "        if caffe_format:\n",
    "            last_dim = 6  #(xywh obj cls)\n",
    "        else:\n",
    "            last_dim = 6 + num_classes\n",
    "\n",
    "        num_time_steps = len(bbox_list)\n",
    "        \n",
    "        gr_truth = np.zeros(( num_time_steps, xlen, ylen, last_dim ))\n",
    "\n",
    "        # if the file is specified as unlabelled then we skip this\n",
    "        # and return gr_truth as is -> all zeros\n",
    "\n",
    "        if not caffe_format:\n",
    "            gr_truth = make_default_no_object_1hot(gr_truth)\n",
    "        \n",
    "        \n",
    "        # for caffe we have the channels as the following x,y,w,h,obj,cls\n",
    "        # obj is 1 or 0 and cls is 1-4 if an obj is there and 0 if not\n",
    "        #For noncaffe we have x,y,w,h,obj,no-obj, cls1,cls2,cls3,cls4\n",
    "        #cls1-cls4 is one hot encoded vector\n",
    "        for time_step in range(num_time_steps):\n",
    "            for coords in bbox_list[time_step]:\n",
    "                x,y,w,h,cls = coords\n",
    "\n",
    "                xind, yind = get_xy_inds(x,y,scale_factor)\n",
    "                box_vec = get_box_vector(coords, scale_factor, num_classes, caffe_format)\n",
    "                gr_truth[time_step,xind,yind,:] = box_vec\n",
    "\n",
    "        if caffe_format:\n",
    "            gr_truth = np.transpose(gr_truth, axes=(0,3,1,2))\n",
    "        return gr_truth"
   ]
  },
  {
   "cell_type": "code",
   "execution_count": 32,
   "metadata": {
    "collapsed": false
   },
   "outputs": [],
   "source": [
    "def make_yolo_masks_for_dataset( camfile_path,labels_csv_file, caffe_format=False):\n",
    "        ts = get_timestamp(camfile_path)\n",
    "        box_list = make_labels_for_dataset(camfile_path, labels_csv_file)\n",
    "        yolo_mask = create_yolo_gr_truth(box_list,ts.year, caffe_format)\n",
    "        return yolo_mask"
   ]
  },
  {
   "cell_type": "code",
   "execution_count": 33,
   "metadata": {
    "collapsed": true
   },
   "outputs": [],
   "source": [
    "def make_multiple_yolo_masks(camfile_paths,labels_csv_file, caffe_format):\n",
    "    ym = make_yolo_masks_for_dataset(camfile_paths[0], labels_csv_file, caffe_format)\n",
    "    for camfile_path in camfile_paths[1:]:\n",
    "        tmp = make_yolo_masks_for_dataset(camfile_path, labels_csv_file, caffe_format)\n",
    "        ym = np.vstack((ym,tmp))\n",
    "    return ym"
   ]
  },
  {
   "cell_type": "code",
   "execution_count": 34,
   "metadata": {
    "collapsed": false
   },
   "outputs": [],
   "source": [
    "if __name__ == \"__main__\":\n",
    "    ym=make_yolo_masks_for_dataset( camfile_path=\"/home/evan/data/climate/input/cam5_1_amip_run2.cam2.h2.1979-01-06-00000.nc\",\n",
    "                                labels_csv_file=\"/home/evan/data/climate/labels/labels.csv\",\n",
    "                                caffe_format=True)\n",
    "    yms = make_multiple_yolo_masks(camfile_paths=\n",
    "                                   [\"/home/evan/data/climate/input/cam5_1_amip_run2.cam2.h2.1979-01-06-00000.nc\",\n",
    "                                    \"/home/evan/data/climate/input/cam5_1_amip_run2.cam2.h2.1979-01-08-00000.nc\",\n",
    "                                    \"/home/evan/data/climate/input/cam5_1_amip_run2.cam2.h2.1979-01-07-00000.nc\"],\n",
    "                                    labels_csv_file=\"/home/evan/data/climate/labels/labels.csv\",\n",
    "                                    caffe_format=True)\n",
    "    \n",
    "    \n",
    "    "
   ]
  },
  {
   "cell_type": "code",
   "execution_count": null,
   "metadata": {
    "collapsed": true
   },
   "outputs": [],
   "source": []
  }
 ],
 "metadata": {
  "anaconda-cloud": {},
  "kernelspec": {
   "display_name": "Python 2",
   "language": "python",
   "name": "python2"
  },
  "language_info": {
   "codemirror_mode": {
    "name": "ipython",
    "version": 2
   },
   "file_extension": ".py",
   "mimetype": "text/x-python",
   "name": "python",
   "nbconvert_exporter": "python",
   "pygments_lexer": "ipython2",
   "version": "2.7.12"
  }
 },
 "nbformat": 4,
 "nbformat_minor": 2
}
