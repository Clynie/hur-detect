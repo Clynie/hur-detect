{
 "cells": [
  {
   "cell_type": "code",
   "execution_count": 1,
   "metadata": {
    "collapsed": false
   },
   "outputs": [
    {
     "name": "stdout",
     "output_type": "stream",
     "text": [
      "importing Jupyter notebook from ../../../../notebooks_src/load_data/label_maker/box_processing/coord_conversion.ipynb\n",
      "importing Jupyter notebook from ../../../../notebooks_src/load_data/configs.ipynb\n",
      "importing Jupyter notebook from ../../../../notebooks_src/plot/plot.ipynb\n",
      "importing Jupyter notebook from ../../../../notebooks_src/load_data/label_maker/box_processing/get_iou.ipynb\n"
     ]
    }
   ],
   "source": [
    "import sys\n",
    "from nbfinder import NotebookFinder\n",
    "sys.meta_path.append(NotebookFinder())\n",
    "import numpy as np\n",
    "import scipy\n",
    "import time\n",
    "import h5py\n",
    "import os\n",
    "from os.path import join\n",
    "#from configs import configs\n",
    "\n",
    "import random\n",
    "#put the path of where main.py runs on the path to simulate that setup for when we actually run\n",
    "if __name__ == \"__main__\":\n",
    "    sys.path.append(\"../../../../\")\n",
    "from notebooks_src.load_data.label_maker.box_processing.coord_conversion import convert_min_max_to_wh_boxes,_convert_xy_center_wh_box_to_xy_min_max_box\n",
    "from notebooks_src.load_data.configs import configs\n",
    "from notebooks_src.plot.plot import plot_boxes\n",
    "from notebooks_src.load_data.label_maker.box_processing.get_iou import get_iou\n",
    "%matplotlib inline"
   ]
  },
  {
   "cell_type": "code",
   "execution_count": 2,
   "metadata": {
    "collapsed": true
   },
   "outputs": [],
   "source": [
    "def create_labelmaker_fxn(all_labels):\n",
    "    '''all_labels is a list of box_lists, where each box is a 5-D vector '''\n",
    "    pass\n",
    "\n",
    "def get_all_default_boxes(all_labels):\n",
    "    pass"
   ]
  },
  {
   "cell_type": "code",
   "execution_count": 3,
   "metadata": {
    "collapsed": true
   },
   "outputs": [],
   "source": [
    "def create_default_box_shapes_for_feature_map(fmap_receptive_field_size, filter_size):\n",
    "    rf = fmap_receptive_field_size\n",
    "    \"\"\"takes in\n",
    "           int: receptive_field_size (1 for orginal image, 2 for downsampled by 2 image,... n for downsampled by n image )\n",
    "           int: filter_size: size of filter (we assume filters are square) \n",
    "        returns list of 2d tuples which contain (width, height) of box\"\"\"\n",
    "    \"\"\"by default lets do a (rf = receptive field size):\n",
    "            * squares: rf x rf box, 2rf x 2rf,..., (filter_size -1) * rf x (filter_size -1)*rf box\n",
    "            * rectangle rf x 2rf, 2rf x rf,..., (filter_size -1) * rf x rf, rf x (filter_size -1) * rf\n",
    "        so the larger the receptive field -> the larger the context for the box aka the larger the filter_size * rf to box size ratio\n",
    "     \"\"\"\n",
    "    default_boxes = []\n",
    "    for scale in range(1,filter_size):\n",
    "        sq_boxes = make_square_boxes(scale, rf)\n",
    "        default_boxes.extend(sq_boxes)\n",
    "        if scale != 1:\n",
    "            rect_boxes = make_rectangle_boxes(scale, rf)\n",
    "            default_boxes.extend(rect_boxes)\n",
    "    #get rid of duplicated\n",
    "    default_boxes = list(set(default_boxes))\n",
    "    return default_boxes\n",
    "        \n",
    "        \n",
    "        \n",
    "\n",
    "def make_square_boxes(scale, receptive_field_size):\n",
    "    rf = receptive_field_size\n",
    "    return [(scale*rf, scale*rf)]\n",
    "\n",
    "def make_rectangle_boxes(scale, receptive_field_size):\n",
    "    rf = receptive_field_size\n",
    "    rect_boxes = []\n",
    "    for mult in range(scale, 0, -1):\n",
    "        rect_boxes.append(( scale * rf, mult * rf))\n",
    "        rect_boxes.append(( mult * rf, scale *rf, ))\n",
    "    return rect_boxes"
   ]
  },
  {
   "cell_type": "code",
   "execution_count": 9,
   "metadata": {
    "collapsed": false
   },
   "outputs": [],
   "source": [
    "def create_default_boxes_for_feature_map(box_lists, feature_map_size, receptive_field_size, filter_size, use_cutoff_boxes=False):\n",
    "    \n",
    "    \"\"\" takes in:\n",
    "                 feature map size (tuple): (xdim,ydim)\n",
    "                 receptive field size (int)\n",
    "                 filter_size (int): we assume square filters for now\n",
    "                 use_cutoff_boxes (bool): whether to have boxes that get cut off from image\"\"\"\n",
    "    boxes = []\n",
    "    box_shapes = create_default_box_shapes_for_feature_map(receptive_field_size, filter_size)\n",
    "    num_channels_for_one_box = 4 + 1\n",
    "    xdim, ydim = feature_map_size\n",
    "    \n",
    "    gt_box_tensor = make_empty_box_tensor(box_shapes, box_lists, xdim,ydim)\n",
    "    \n",
    "    for example_ind in range(box_lists.shape[0]):\n",
    "        gt_boxes = box_lists[example_ind]\n",
    "        for xind in range(xdim):\n",
    "            for yind in range(ydim):\n",
    "                for def_box_ind, box_shape in enumerate(box_shapes):\n",
    "                    channel_ind = num_channels_for_one_box * def_box_ind\n",
    "                    xcenter, ycenter = (xind + 0.5) * receptive_field_size, (yind + 0.5) * receptive_field_size\n",
    "                    width, height = box_shape\n",
    "                    xmin, xmax, ymin, ymax = _convert_xy_center_wh_box_to_xy_min_max_box(xcenter, ycenter, width, height)\n",
    "                    if not use_cutoff_boxes:\n",
    "                        if does_box_get_cutoff(xmin, ymin, xmax, ymax,\n",
    "                                            frame_xmax=xdim*receptive_field_size, \n",
    "                                            frame_ymax=ydim*receptive_field_size):\n",
    "                            continue\n",
    "\n",
    "                    default_box = (xcenter, ycenter, width, height)\n",
    "                    is_match, xoff,yoff, scaled_w, scaled_h, cls = match_boxes(default_box, gt_boxes)\n",
    "                    \n",
    "                    if is_match:\n",
    "                        # set the correct default box location to be offset from that default box\n",
    "                        gt_box_tensor[example_ind, channel_ind:channel_ind + 4, xind, yind] = [xoff,yoff, scaled_w, scaled_h]\n",
    "                        \n",
    "                        # set class index to class number for categorical encoding\n",
    "                        gt_box_tensor[example_ind, channel_ind:channel_ind + num_channels_for_one_box, xind, yind] = cls\n",
    "                \n",
    "    return gt_box_tensor\n",
    "            \n",
    "    "
   ]
  },
  {
   "cell_type": "code",
   "execution_count": 5,
   "metadata": {
    "collapsed": true
   },
   "outputs": [],
   "source": [
    "def make_empty_box_tensor(box_shapes, box_lists, xdim,ydim):\n",
    "    num_default_boxes_per_cell = len(box_shapes)\n",
    "    num_examples = len(box_lists)\n",
    "    num_channels_in_gt_box_tensor = num_channels_for_one_box * num_default_boxes_per_cell\n",
    "    gt_box_tensor = np.zeros(num_examples, num_channels_in_gt_box_tensor, xdim, ydim)\n",
    "    return gt_box_tensor\n",
    "    "
   ]
  },
  {
   "cell_type": "code",
   "execution_count": null,
   "metadata": {
    "collapsed": true
   },
   "outputs": [],
   "source": [
    "def does_box_get_cutoff(xmin,ymin,xmax,ymax, frame_xmax, frame_ymax):\n",
    "    is_cutoff = False\n",
    "    if xmin < 0 and ymin < 0:\n",
    "        if xmax > frame_xmax and ymax > frame_ymax:\n",
    "            is_cutoff=True\n",
    "    return is_cutoff"
   ]
  },
  {
   "cell_type": "code",
   "execution_count": 2,
   "metadata": {
    "collapsed": true
   },
   "outputs": [],
   "source": [
    "def match_boxes(default_box, gt_boxes, thresh=0.5):\n",
    "    #is gt_boxes xywh or xmin,xmax,...?\n",
    "    xoff,yoff, scaled_w, scaled_h, cls = 5*[0.]\n",
    "    ious = [get_iou(default_box, gt_box) for gt_box in gt_boxes]\n",
    "    max_iou = np.max(ious)\n",
    "    if max_iou >= thresh:\n",
    "        max_iou_ind = np.argmax(ious)\n",
    "        best_gt = gt_boxes[max_iou_ind]\n",
    "        xoff, yoff = calc_xyoff(default_box, best_gt)\n",
    "        scaled_w, scaled_h = calc_wh_scale(default_box, best_gt)\n",
    "        is_match = True\n",
    "        \n",
    "    else:\n",
    "        is_match = False\n",
    "    return is_match, xoff,yoff, scaled_w, scaled_h, cls\n",
    "        \n",
    "    \n",
    "    "
   ]
  },
  {
   "cell_type": "code",
   "execution_count": 3,
   "metadata": {
    "collapsed": true
   },
   "outputs": [],
   "source": [
    "def calc_xyoff(default_box, best_gt):\n",
    "    dx, dy = default_box[:2]\n",
    "    gx, gy = best_gt[:2]\n",
    "    xoff = (gx - dx) / float(dx)\n",
    "    yoff = (gy - dy) / float(dy)\n",
    "    return xoff,yoff\n",
    "    "
   ]
  },
  {
   "cell_type": "code",
   "execution_count": 4,
   "metadata": {
    "collapsed": true
   },
   "outputs": [],
   "source": [
    "def calc_wh_scale(default_box, best_gt):\n",
    "    dw, dh = default_box[2:4]\n",
    "    gw, gh = best_gt[2:4]\n",
    "    scaled_w  = np.log2(float(gw) / dw)\n",
    "    scaled_h  = np.log2(float(gh) / dh)\n",
    "    return scaled_w, scaled_h\n",
    "    "
   ]
  },
  {
   "cell_type": "code",
   "execution_count": null,
   "metadata": {
    "collapsed": true
   },
   "outputs": [],
   "source": []
  },
  {
   "cell_type": "code",
   "execution_count": null,
   "metadata": {
    "collapsed": true
   },
   "outputs": [],
   "source": []
  },
  {
   "cell_type": "code",
   "execution_count": null,
   "metadata": {
    "collapsed": true
   },
   "outputs": [],
   "source": []
  },
  {
   "cell_type": "code",
   "execution_count": null,
   "metadata": {
    "collapsed": true
   },
   "outputs": [],
   "source": []
  }
 ],
 "metadata": {
  "kernelspec": {
   "display_name": "Python 2",
   "language": "python",
   "name": "python2"
  },
  "language_info": {
   "codemirror_mode": {
    "name": "ipython",
    "version": 2
   },
   "file_extension": ".py",
   "mimetype": "text/x-python",
   "name": "python",
   "nbconvert_exporter": "python",
   "pygments_lexer": "ipython2",
   "version": "2.7.12"
  }
 },
 "nbformat": 4,
 "nbformat_minor": 2
}
