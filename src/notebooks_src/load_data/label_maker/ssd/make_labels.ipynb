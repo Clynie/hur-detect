{
 "cells": [
  {
   "cell_type": "code",
   "execution_count": 71,
   "metadata": {
    "collapsed": false
   },
   "outputs": [],
   "source": [
    "import sys\n",
    "from nbfinder import NotebookFinder\n",
    "sys.meta_path.append(NotebookFinder())\n",
    "import numpy as np\n",
    "import scipy\n",
    "import time\n",
    "import h5py\n",
    "import os\n",
    "from os.path import join\n",
    "#from configs import configs\n",
    "\n",
    "\n",
    "#put the path of where main.py runs on the path to simulate that setup for when we actually run\n",
    "if __name__ == \"__main__\":\n",
    "    sys.path.append(\"../../../../\")\n",
    "from notebooks_src.load_data.label_maker.box_processing.coord_conversion import convert_min_max_to_wh_boxes"
   ]
  },
  {
   "cell_type": "code",
   "execution_count": 222,
   "metadata": {
    "collapsed": false
   },
   "outputs": [],
   "source": [
    "def create_labelmaker_fxn(all_labels):\n",
    "    '''all_labels is a list of box_lists, where each box is a 5-D vector '''\n",
    "    pass\n",
    "\n",
    "def get_all_default_boxes(all_labels):\n",
    "    pass\n",
    "\n",
    "\n",
    "def get_default_ars():\n",
    "    return [1.,2.,3.]\n",
    "\n",
    "def get_dim_for_each_lrf(num_layers):\n",
    "    #lrf = [2**i for i in range(num_layers +1)]\n",
    "    \n",
    "    # if we do a 3x3 at each fmap, then our lrf is 3*2^i and then let's look for\n",
    "    #boxes that are at a maximum\n",
    "    layer_to_min_dim = { i: 2**(i) for i in range(num_layers +2) }\n",
    "    return layer_to_min_dim\n",
    "\n",
    "\n",
    "def get_boxes(num_layers):\n",
    "    ars = get_default_ars()\n",
    "    lay_to_min_dim = get_dim_for_each_lrf(num_layers)\n",
    "    default_boxes = {lay:[(lay_to_min_dim[lay]*ar, lay_to_min_dim[lay]) for ar in ars ] + [(lay_to_min_dim[lay], lay_to_min_dim[lay]*ar) for ar in ars ] for lay in lay_to_min_dim.keys() }\n",
    "    return default_boxes\n",
    "def get_flattened_list_of_h_w_ar(all_labels):\n",
    "    width_ind = 2\n",
    "    height_ind = 3\n",
    "    all_boxes_wh = [[[box[2], box[3]] for box in convert_min_max_to_wh_boxes(ex_box_list)] for ex_box_list in all_labels]\n",
    "    all_boxes_ar = []\n",
    "    [[all_boxes_ar.append(float(wh[0])/wh[1]) for wh in boxes] for boxes in all_boxes_wh]\n",
    "\n",
    "    all_boxes_w =[]\n",
    "    [[all_boxes_w.append(box[width_ind]) for box in convert_min_max_to_wh_boxes(ex_box_list)] for ex_box_list in all_labels]\n",
    "    all_boxes_h = []\n",
    "    [[all_boxes_h.append(box[height_ind]) for box in convert_min_max_to_wh_boxes(ex_box_list)] for ex_box_list in all_labels]\n",
    "    \n",
    "    return all_boxes_w, all_boxes_h, all_boxes_ar\n",
    "    \n",
    "\n"
   ]
  }
 ],
 "metadata": {
  "kernelspec": {
   "display_name": "Python 2",
   "language": "python",
   "name": "python2"
  }
 },
 "nbformat": 4,
 "nbformat_minor": 2
}
