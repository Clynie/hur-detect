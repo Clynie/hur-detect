{
 "cells": [
  {
   "cell_type": "code",
   "execution_count": 2,
   "metadata": {
    "collapsed": true
   },
   "outputs": [],
   "source": [
    "import sys\n",
    "import os\n",
    "from nbfinder import NotebookFinder\n",
    "sys.meta_path.append(NotebookFinder())\n",
    "from os import listdir, system\n",
    "from os.path import isfile, join, isdir\n",
    "import numpy as np\n",
    "import imp\n",
    "import itertools\n",
    "import os\n",
    "import sys\n",
    "import time\n",
    "import inspect\n",
    "import copy\n",
    "import random\n",
    "import collections\n",
    "\n",
    "import importlib"
   ]
  },
  {
   "cell_type": "code",
   "execution_count": 3,
   "metadata": {
    "collapsed": false
   },
   "outputs": [],
   "source": [
    "#Thanks to TensorFlow (https://github.com/tensorflow/tensorflow/blob/master/tensorflow/contrib/learn/python/learn/datasets/mnist.py)\n",
    "#for inspiration for this data structure\n",
    "class BatchFetcher(object):\n",
    "\n",
    "    def __init__(self, images, labels, num_examples=-1):\n",
    "        \"\"\"Create a Data Structure that can continually\n",
    "        return minibatches of some data\n",
    "\n",
    "        Keyword arguments:\n",
    "        images -- an object that can be indexed (aka an array or a class with the __get_item__ fxn implemented)\n",
    "                    * also the function shuffle and the attribute total_examples must be implemented\n",
    "        labels -- same as above\n",
    "        \"\"\"\n",
    "\n",
    "\n",
    "        self._images = images\n",
    "        self._labels = labels\n",
    "        self._num_examples = num_examples if num_examples != -1 else images.shape[0]\n",
    "        self._epochs_completed = 0\n",
    "        self._index_in_epoch = 0\n",
    "\n",
    "    @property\n",
    "    def images(self):\n",
    "        return self._images\n",
    "\n",
    "    @property\n",
    "    def labels(self):\n",
    "        return self._labels\n",
    "    \n",
    "    @property\n",
    "    def num_examples(self):\n",
    "        return self._num_examples\n",
    "\n",
    "    @property\n",
    "    def epochs_completed(self):\n",
    "        return self._epochs_completed\n",
    "    \n",
    "    def shuffle(self):\n",
    "        pass\n",
    "\n",
    "    def next_batch(self, batch_size, shuffle=False):\n",
    "        \"\"\"Return the next `batch_size` examples from this data set.\"\"\"\n",
    "        start = self._index_in_epoch\n",
    "        # Shuffle for the first epoch\n",
    "        if self._epochs_completed == 0 and start == 0 and shuffle:\n",
    "            raise NotImplementedError\n",
    "            \n",
    "            #shuffle files\n",
    "            # no shuffle for now\n",
    "#             seed = np.random.randint(0,1000)\n",
    "#             self._images.shuffle(seed)\n",
    "#             self._labels.shuffle(seed)\n",
    "\n",
    "        # Go to the next epoch\n",
    "        if start + batch_size > self._num_examples:\n",
    "            # Finished epoch\n",
    "            self._epochs_completed += 1\n",
    "            \n",
    "            # Get the rest examples in this epoch\n",
    "            rest_num_examples = self._num_examples - start\n",
    "            images_rest_part = self._images[start:self._num_examples]\n",
    "            labels_rest_part = self._labels[start:self._num_examples]\n",
    "            # Shuffle the data\n",
    "            if shuffle:\n",
    "                raise NotImplementedError\n",
    "                \n",
    "#                 seed = np.random.randint(0,1000)\n",
    "#                 self._images.shuffle(seed)\n",
    "#                 self._labels.shuffle(seed)\n",
    "            # Start next epoch\n",
    "            start = 0\n",
    "            self._index_in_epoch = batch_size - rest_num_examples\n",
    "            end = self._index_in_epoch\n",
    "            images_new_part = self._images[start:end]\n",
    "            labels_new_part = self._labels[start:end]\n",
    "            \n",
    "\n",
    "            return np.concatenate((images_rest_part, images_new_part), axis=0),\\\n",
    "                    np.concatenate((labels_rest_part, labels_new_part), axis=0)\n",
    "        else:\n",
    "           \n",
    "            self._index_in_epoch += batch_size\n",
    "            end = self._index_in_epoch\n",
    "            images = self._images[start:end]\n",
    "            labels = self._labels[start:end]\n",
    "            #print images.shape\n",
    "            #print labels.shape\n",
    "            return images,labels\n"
   ]
  },
  {
   "cell_type": "code",
   "execution_count": 5,
   "metadata": {
    "collapsed": false
   },
   "outputs": [
    {
     "name": "stdout",
     "output_type": "stream",
     "text": [
      "importing Jupyter notebook from climate/data.ipynb\n",
      "importing Jupyter notebook from climate/util.ipynb\n",
      "importing Jupyter notebook from climate/labels/util.ipynb\n",
      "importing Jupyter notebook from climate/configs.ipynb\n"
     ]
    }
   ],
   "source": [
    "if __name__ == \"__main__\":\n",
    "    dataset = make_dataset(\"tr\", 48)"
   ]
  },
  {
   "cell_type": "code",
   "execution_count": null,
   "metadata": {
    "collapsed": true
   },
   "outputs": [],
   "source": []
  }
 ],
 "metadata": {
  "anaconda-cloud": {},
  "kernelspec": {
   "display_name": "Python 2",
   "language": "python",
   "name": "python2"
  },
  "language_info": {
   "codemirror_mode": {
    "name": "ipython",
    "version": 2
   },
   "file_extension": ".py",
   "mimetype": "text/x-python",
   "name": "python",
   "nbconvert_exporter": "python",
   "pygments_lexer": "ipython2",
   "version": "2.7.12"
  }
 },
 "nbformat": 4,
 "nbformat_minor": 1
}
