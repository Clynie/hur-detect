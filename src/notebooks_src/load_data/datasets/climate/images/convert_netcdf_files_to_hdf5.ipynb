{
 "cells": [
  {
   "cell_type": "code",
   "execution_count": 17,
   "metadata": {
    "collapsed": false
   },
   "outputs": [],
   "source": [
    "import netCDF4 as nc\n",
    "\n",
    "import h5py\n",
    "\n",
    "import sys\n",
    "import os\n",
    "from os import listdir\n",
    "from os.path import join\n",
    "from nbfinder import NotebookFinder\n",
    "sys.meta_path.append(NotebookFinder())\n",
    "import pandas as pd\n",
    "import re\n",
    "\n",
    "from util import get_camfiles, convert_nc_data_to_tensor, convert_list_box_lists_to_np_array, get_boxes_for_nc_file\n",
    "import time"
   ]
  },
  {
   "cell_type": "code",
   "execution_count": 18,
   "metadata": {
    "collapsed": false
   },
   "outputs": [],
   "source": [
    "variables=['PRECT','PS','PSL','QREFHT','T200','T500','TMQ','TREFHT',\n",
    "                                  'TS','U850','UBOT','V850','VBOT','Z1000','Z200','ZBOT']\n",
    "\n",
    "\n",
    "\n",
    "ims_per_file = 8\n",
    "time_step_sample_freq=2\n",
    "max_rows = 15\n",
    "box_dim =5 #4 coords plus class\n",
    "ims_per_file /= time_step_sample_freq"
   ]
  },
  {
   "cell_type": "code",
   "execution_count": 19,
   "metadata": {
    "collapsed": true
   },
   "outputs": [],
   "source": [
    "def get_h5f(prefix, years, dest_path):\n",
    "    h5filename = prefix+\"climo_\" + \"_\".join([str(y) for y in years]) + \".h5\"\n",
    "    h5filepath = join(dest_path, h5filename)\n",
    "    h5f = h5py.File(h5filepath, \"w\")\n",
    "    return h5f"
   ]
  },
  {
   "cell_type": "code",
   "execution_count": 20,
   "metadata": {
    "collapsed": true
   },
   "outputs": [],
   "source": [
    "def get_ds(h5f, camfiles, num_ims):\n",
    "    all_ims = nc.MFDataset(camfiles)\n",
    "    num_ex = all_ims[variables[0]].shape[0] / time_step_sample_freq if num_ims == -1 else num_ims\n",
    "    xdim, ydim = all_ims[variables[0]].shape[1], all_ims[variables[0]].shape[2]\n",
    "\n",
    "    all_ims.close()\n",
    "    im_ds = h5f.create_dataset(name=\"images\",shape=(num_ex,len(variables), xdim, ydim), dtype=\"f4\",compression=\"gzip\" )\n",
    "    box_ds = h5f.create_dataset(name=\"boxes\", shape=(num_ex,max_rows,box_dim ), dtype=\"i4\",compression=\"gzip\")\n",
    "    \n",
    "\n",
    "    return im_ds, box_ds\n",
    "\n",
    "    "
   ]
  },
  {
   "cell_type": "code",
   "execution_count": 21,
   "metadata": {
    "collapsed": true
   },
   "outputs": [],
   "source": [
    "def get_im_box_arrays(camfile):\n",
    "    ncd = nc.MFDataset(camfile)\n",
    "    im_arr = convert_nc_data_to_tensor(ncd,variables=variables,is_label=False, \n",
    "                                         time_step_sample_freq=time_step_sample_freq, time_steps_per_example=1)\n",
    "    box_list_arr = convert_list_box_lists_to_np_array(get_boxes_for_nc_file(camfile), boxdim=5)\n",
    "    return  im_arr, box_list_arr"
   ]
  },
  {
   "cell_type": "code",
   "execution_count": 22,
   "metadata": {
    "collapsed": true
   },
   "outputs": [],
   "source": [
    "def copy_arrays_to_hdf5(im_arr, box_list_arr, add_to_ds, ind, num_ex):\n",
    "    if ind + ims_per_file <= num_ex:\n",
    "        add_to_ds(im_arr, box_list_arr, slice(ind, ind+ims_per_file))\n",
    "    else:\n",
    "        rest = num_ex - ind\n",
    "        add_to_ds(im_arr[:rest], box_list_arr[:rest], slice(ind, num_ex))\n",
    "    "
   ]
  },
  {
   "cell_type": "code",
   "execution_count": 23,
   "metadata": {
    "collapsed": false
   },
   "outputs": [],
   "source": [
    "def get_ds_func(im_ds, box_ds):\n",
    "    def add_to_ds(im_arr, box_arr, slice_):\n",
    "        im_ds[slice_] = im_arr\n",
    "        box_ds[slice_] = box_arr\n",
    "        print slice_.start, slice_.stop, im_arr.shape, box_arr.shape\n",
    "    return add_to_ds"
   ]
  },
  {
   "cell_type": "code",
   "execution_count": 10,
   "metadata": {
    "collapsed": false
   },
   "outputs": [],
   "source": [
    "def convert_nc_to_h5(years=[1980], base_path=\"/home/evan/data/climate/climo/images/\", dest_path=\"/home/evan/data/climate/\",num_ims=-1, prefix=\"\"):\n",
    "    h5f = get_h5f(prefix, years, dest_path)\n",
    "    \n",
    "    camfiles = get_camfiles(data_dir=base_path, with_dir=True,years=years, ims_per_file=ims_per_file, num_ims=num_ims)\n",
    "    im_ds, box_ds = get_ds(h5f, camfiles, num_ims)\n",
    "\n",
    "    add_to_ds = get_ds_func(im_ds, box_ds)\n",
    "    \n",
    "    num_ex = im_ds.shape[0]\n",
    "    \n",
    "    ind = 0\n",
    "    for camfile in camfiles:\n",
    "        if ind >= num_ex:\n",
    "            break\n",
    "        else:\n",
    "            im_arr, box_list_arr = get_im_box_arrays(camfile)\n",
    "            copy_arrays_to_hdf5(im_arr, box_list_arr, add_to_ds, ind, num_ex)\n",
    "\n",
    "        ind += ims_per_file"
   ]
  },
  {
   "cell_type": "code",
   "execution_count": 24,
   "metadata": {
    "collapsed": false
   },
   "outputs": [
    {
     "name": "stdout",
     "output_type": "stream",
     "text": [
      "8\n",
      "0 4 (4, 16, 768, 1152) (4, 15, 5)\n",
      "4 8 (4, 16, 768, 1152) (4, 15, 5)\n",
      "8 12 (4, 16, 768, 1152) (4, 15, 5)\n",
      "12 16 (4, 16, 768, 1152) (4, 15, 5)\n",
      "16 20 (4, 16, 768, 1152) (4, 15, 5)\n",
      "20 24 (4, 16, 768, 1152) (4, 15, 5)\n",
      "24 28 (4, 16, 768, 1152) (4, 15, 5)\n",
      "28 32 (4, 16, 768, 1152) (4, 15, 5)\n"
     ]
    }
   ],
   "source": [
    "if __name__ == \"__main__\":\n",
    "    convert_nc_to_h5(prefix=\"sample_\", num_ims=32)"
   ]
  },
  {
   "cell_type": "code",
   "execution_count": 12,
   "metadata": {
    "collapsed": false
   },
   "outputs": [
    {
     "name": "stdout",
     "output_type": "stream",
     "text": [
      "[NbConvertApp] Converting notebook convert_netcdf_files_to_hdf5.ipynb to script\n",
      "[NbConvertApp] Writing 3275 bytes to convert_netcdf_files_to_hdf5.py\n"
     ]
    }
   ],
   "source": [
    "#! jupyter nbconvert convert_netcdf_files_to_hdf5.ipynb --to script"
   ]
  },
  {
   "cell_type": "code",
   "execution_count": null,
   "metadata": {
    "collapsed": true
   },
   "outputs": [],
   "source": []
  }
 ],
 "metadata": {
  "kernelspec": {
   "display_name": "Python 2",
   "language": "python",
   "name": "python2"
  },
  "language_info": {
   "codemirror_mode": {
    "name": "ipython",
    "version": 2
   },
   "file_extension": ".py",
   "mimetype": "text/x-python",
   "name": "python",
   "nbconvert_exporter": "python",
   "pygments_lexer": "ipython2",
   "version": "2.7.12"
  }
 },
 "nbformat": 4,
 "nbformat_minor": 2
}
