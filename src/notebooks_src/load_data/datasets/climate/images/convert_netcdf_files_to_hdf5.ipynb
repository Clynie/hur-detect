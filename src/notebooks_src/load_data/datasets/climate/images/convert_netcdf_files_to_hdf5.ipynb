{
 "cells": [
  {
   "cell_type": "code",
   "execution_count": 1,
   "metadata": {
    "collapsed": false
   },
   "outputs": [
    {
     "name": "stdout",
     "output_type": "stream",
     "text": [
      "importing Jupyter notebook from util.ipynb\n"
     ]
    }
   ],
   "source": [
    "import netCDF4 as nc\n",
    "\n",
    "import h5py\n",
    "\n",
    "import sys\n",
    "import os\n",
    "from os import listdir\n",
    "from os.path import join\n",
    "from nbfinder import NotebookFinder\n",
    "sys.meta_path.append(NotebookFinder())\n",
    "import pandas as pd\n",
    "import re\n",
    "\n",
    "from util import *"
   ]
  },
  {
   "cell_type": "code",
   "execution_count": 2,
   "metadata": {
    "collapsed": true
   },
   "outputs": [],
   "source": [
    "variables=['PRECT','PS','PSL','QREFHT','T200','T500','TMQ','TREFHT',\n",
    "                                  'TS','U850','UBOT','V850','VBOT','Z1000','Z200','ZBOT']\n",
    "\n"
   ]
  },
  {
   "cell_type": "code",
   "execution_count": 33,
   "metadata": {
    "collapsed": false
   },
   "outputs": [],
   "source": [
    "def convert_nc_to_h5(year=1980, base_path=\"/home/evan/data/climate/climo/images/\", dest_path=\"/home/evan/data/climate/\",num_ims=-1, prefix=\"\"):\n",
    "    h5f = h5py.File(join(dest_path,prefix+\"climo_\" + str(year) + \".h5\"), \"w\")\n",
    "    \n",
    "    ims_per_file = 8\n",
    "    time_step_sample_freq=2\n",
    "    ims_per_file /= time_step_sample_freq\n",
    "    max_rows = 15\n",
    "    box_dim =5 #4 coords plus class\n",
    "\n",
    "\n",
    "    camfiles = get_camfiles(base_path,[year], with_dir=True )\n",
    "    camfiles.sort()\n",
    "    if num_ims != -1:\n",
    "        num_camfiles = int(np.ceil(float(num_ims) / ims_per_file))\n",
    "        camfiles = camfiles[:num_camfiles]\n",
    "    \n",
    "    all_ims = nc.MFDataset(camfiles)\n",
    "                    \n",
    "    num_ex = all_ims[variables[0]].shape[0] / time_step_sample_freq if num_ims == -1 else num_ims\n",
    "    xdim, ydim = all_ims[variables[0]].shape[1], all_ims[variables[0]].shape[2]\n",
    "\n",
    "\n",
    "    im_ds = h5f.create_dataset(name=\"images\",shape=(num_ex,len(variables), xdim, ydim), dtype=\"f4\",compression=\"gzip\" )\n",
    "    box_ds = h5f.create_dataset(name=\"boxes\", shape=(num_ex,max_rows,box_dim ), dtype=\"i4\",compression=\"gzip\")\n",
    "\n",
    "    ind = 0\n",
    "    for cfile in camfiles:\n",
    "        if ind >= num_ex:\n",
    "            break\n",
    "        ncd = nc.MFDataset(cfile)\n",
    "        np_array = convert_nc_data_to_tensor(ncd,variables=variables,is_label=False,time_step_sample_freq=time_step_sample_freq,time_steps_per_example=1)\n",
    "        \n",
    "        box_list_arr = convert_list_box_lists_to_np_array(get_boxes_for_nc_file(cfile))\n",
    "        if ind + ims_per_file <= num_ex:\n",
    "            im_ds[ind:ind+ims_per_file] = np_array\n",
    "            box_ds[ind:ind+ims_per_file] = box_list_arr\n",
    "            \n",
    "            print ind, ind+ims_per_file, np_array.shape, box_list_arr.shape\n",
    "        else:\n",
    "            rest = num_ex - ind\n",
    "            im_ds[ind:num_ex] = np_array[:rest]\n",
    "            box_ds[ind:num_ex] = box_list_arr[:rest]\n",
    "            print ind, num_ex, np_array[:rest].shape, box_list_arr[:rest].shape\n",
    "            \n",
    "        \n",
    "        \n",
    "        ind += ims_per_file"
   ]
  },
  {
   "cell_type": "code",
   "execution_count": 34,
   "metadata": {
    "collapsed": false
   },
   "outputs": [
    {
     "name": "stdout",
     "output_type": "stream",
     "text": [
      "0 2 (2, 16, 768, 1152) (2, 15, 5)\n"
     ]
    }
   ],
   "source": [
    "if __name__ == \"__main__\":\n",
    "    convert_nc_to_h5()\n",
    "    #h5f = h5py.File(\"/home/evan/data/climate/climo_1980.h5\")\n",
    "\n",
    "    # from matplotlib import pyplot as plt\n",
    "    # %matplotlib inline\n",
    "\n",
    "    # im = h5f[\"images\"][280][6]\n",
    "    # print im\n",
    "    # plt.imshow(im,origin=\"lower\")\n",
    "\n",
    "    # im = h5f[\"images\"][10][6]\n",
    "\n",
    "    # plt.imshow(im,origin=\"lower\")"
   ]
  },
  {
   "cell_type": "code",
   "execution_count": 41,
   "metadata": {
    "collapsed": false
   },
   "outputs": [
    {
     "name": "stdout",
     "output_type": "stream",
     "text": [
      "[NbConvertApp] Converting notebook convert_netcdf_files_to_hdf5.ipynb to script\n",
      "[NbConvertApp] Writing 2840 bytes to convert_netcdf_files_to_hdf5.py\n"
     ]
    }
   ],
   "source": [
    "#! jupyter nbconvert convert_netcdf_files_to_hdf5.ipynb --to script"
   ]
  },
  {
   "cell_type": "code",
   "execution_count": null,
   "metadata": {
    "collapsed": true
   },
   "outputs": [],
   "source": []
  }
 ],
 "metadata": {
  "kernelspec": {
   "display_name": "Python 2",
   "language": "python",
   "name": "python2"
  },
  "language_info": {
   "codemirror_mode": {
    "name": "ipython",
    "version": 2
   },
   "file_extension": ".py",
   "mimetype": "text/x-python",
   "name": "python",
   "nbconvert_exporter": "python",
   "pygments_lexer": "ipython2",
   "version": "2.7.12"
  }
 },
 "nbformat": 4,
 "nbformat_minor": 2
}
