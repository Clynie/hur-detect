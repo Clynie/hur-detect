{
 "cells": [
  {
   "cell_type": "code",
   "execution_count": 5,
   "metadata": {
    "collapsed": false
   },
   "outputs": [],
   "source": [
    "import sys\n",
    "import os\n",
    "from nbfinder import NotebookFinder\n",
    "sys.meta_path.append(NotebookFinder())\n",
    "import numpy as np\n",
    "import random\n",
    "# from configs import configs as climate_configs\n",
    "import collections\n",
    "from util import get_files_from_list, get_files_from_dir\n",
    "#put home on path\n",
    "# from notebooks_src.load_data.configs import configs as configs\n",
    "#from images.netcdf_data_structure import ClimateNC\n",
    "import h5py"
   ]
  },
  {
   "cell_type": "code",
   "execution_count": 5,
   "metadata": {
    "collapsed": true
   },
   "outputs": [],
   "source": [
    "def get_data(type_, data_file, file_format=\"h5\"):\n",
    "    if file_format == \"nc\":\n",
    "        raise NotImplementedError\n",
    "    else:\n",
    "        return _get_data_h5(type_, data_file)"
   ]
  },
  {
   "cell_type": "code",
   "execution_count": 6,
   "metadata": {
    "collapsed": false
   },
   "outputs": [],
   "source": [
    "def _get_data_h5(type_, data_file):\n",
    "    h5f = h5py.File(data_file)\n",
    "    images = h5f[\"images\"]\n",
    "    labels = h5f[\"boxes\"]\n",
    "    return images, labels\n",
    "\n",
    "    \n",
    "    \n",
    "    "
   ]
  },
  {
   "cell_type": "code",
   "execution_count": 4,
   "metadata": {
    "collapsed": true
   },
   "outputs": [],
   "source": [
    "def _get_data_nc(type_, num_examples, data_dir, years):\n",
    "\n",
    "    im_files = get_files_from_dir(data_dir, type_= \"images\", years=years)\n",
    "    #print im_files\n",
    "    lbl_files = get_files_from_dir(data_dir, type_=\"labels\",years=years)\n",
    "    if num_examples != -1:\n",
    "        num_files = (configs[\"time_step_sample_frequency\"] * num_examples) / configs[\"time_steps_per_file\"]\n",
    "        if num_files <= len(im_files):\n",
    "            im_files = im_files[:num_files]\n",
    "            lbl_files = lbl_files[:num_files]\n",
    "\n",
    "    crop_indices=None\n",
    "\n",
    "\n",
    "    images = ClimateNC(filepaths=im_files, shape=configs[\"input_shape\"],\n",
    "                                 crop_indices=crop_indices, \n",
    "                                 time_step_sample_freq=configs[\"time_step_sample_frequency\"],\n",
    "                                 variables=configs[\"image_variables\"],\n",
    "                                 time_steps_per_example=configs[\"time_steps_per_example\"])\n",
    "\n",
    "\n",
    "    labels = ClimateNC(filepaths=lbl_files,shape=configs[\"label_shape\"],\n",
    "                                 crop_indices=crop_indices,\n",
    "                                 variables=configs[\"label_variables\"],\n",
    "                                 time_step_sample_freq=configs[\"time_step_sample_frequency\"],\n",
    "                                 time_steps_per_example=configs[\"time_steps_per_example\"])\n",
    "\n",
    "\n",
    "    return images,labels"
   ]
  },
  {
   "cell_type": "code",
   "execution_count": 5,
   "metadata": {
    "collapsed": true
   },
   "outputs": [],
   "source": []
  }
 ],
 "metadata": {
  "kernelspec": {
   "display_name": "Python 2",
   "language": "python",
   "name": "python2"
  },
  "language_info": {
   "codemirror_mode": {
    "name": "ipython",
    "version": 2
   },
   "file_extension": ".py",
   "mimetype": "text/x-python",
   "name": "python",
   "nbconvert_exporter": "python",
   "pygments_lexer": "ipython2",
   "version": "2.7.12"
  }
 },
 "nbformat": 4,
 "nbformat_minor": 2
}
