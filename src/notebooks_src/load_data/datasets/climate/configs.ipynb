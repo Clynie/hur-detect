{
 "cells": [
  {
   "cell_type": "code",
   "execution_count": 1,
   "metadata": {
    "collapsed": true
   },
   "outputs": [],
   "source": [
    "import sys\n",
    "from nbfinder import NotebookFinder\n",
    "sys.meta_path.append(NotebookFinder())\n",
    "import os\n",
    "if os.path.basename(os.getcwd()) == \"src\":\n",
    "    from notebooks_src.config_util import update_configs\n",
    "\n",
    "\n",
    "# configs={'time_steps_per_example': 1,\n",
    "\n",
    "#                     \"time_step_sample_frequency\": 2,\n",
    "#                     \"time_steps_per_file\": 8,\n",
    "#                     \"image_variables\" :['PRECT','PS','PSL','QREFHT','T200','T500','TMQ','TREFHT',\n",
    "#                                   'TS','U850','UBOT','V850','VBOT','Z1000','Z200','ZBOT'],\n",
    "#                     \"label_variables\" : [\"x_coord\",\"y_coord\",\"w_coord\",\"h_coord\",\"obj\",\"cls\"]}\n",
    "\n",
    "if os.path.basename(os.getcwd()) == \"src\":\n",
    "    configs = update_configs(configs)"
   ]
  },
  {
   "cell_type": "code",
   "execution_count": null,
   "metadata": {
    "collapsed": true
   },
   "outputs": [],
   "source": []
  }
 ],
 "metadata": {
  "kernelspec": {
   "display_name": "Python 2",
   "language": "python",
   "name": "python2"
  },
  "language_info": {
   "codemirror_mode": {
    "name": "ipython",
    "version": 2
   },
   "file_extension": ".py",
   "mimetype": "text/x-python",
   "name": "python",
   "nbconvert_exporter": "python",
   "pygments_lexer": "ipython2",
   "version": "2.7.12"
  }
 },
 "nbformat": 4,
 "nbformat_minor": 2
}
