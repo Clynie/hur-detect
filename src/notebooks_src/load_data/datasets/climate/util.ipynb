{
 "cells": [
  {
   "cell_type": "code",
   "execution_count": null,
   "metadata": {
    "collapsed": true
   },
   "outputs": [],
   "source": [
    "import sys\n",
    "import os\n",
    "from nbfinder import NotebookFinder\n",
    "sys.meta_path.append(NotebookFinder())\n",
    "import numpy as np\n",
    "import threading\n",
    "import netCDF4 as nc\n",
    "from netCDF4 import MFDataset\n",
    "from os import listdir, system\n",
    "from os.path import isfile, join, isdir\n",
    "import imp\n",
    "import itertools\n",
    "import time\n",
    "import inspect\n",
    "import copy"
   ]
  },
  {
   "cell_type": "code",
   "execution_count": null,
   "metadata": {
    "collapsed": true
   },
   "outputs": [],
   "source": [
    "def get_files_from_dir(dir_,type_, years):\n",
    "    final_dir = join(dir_,type_)\n",
    "    return [join(final_dir, fil) for fil in listdir(final_dir) if any([year in fil for year in years])]\n",
    "\n",
    "def get_files_from_list(list_dir, type_, images_or_labels_or_crop_indices):\n",
    "    with open(join(list_dir, type_ + \"_\" + images_or_labels_or_crop_indices + \"_files.txt\"), \"r\") as f:\n",
    "        return [line.strip(\"\\n\") for line in f.readlines()]"
   ]
  }
 ],
 "metadata": {
  "kernelspec": {
   "display_name": "Python 2",
   "language": "python",
   "name": "python2"
  },
  "language_info": {
   "codemirror_mode": {
    "name": "ipython",
    "version": 2
   },
   "file_extension": ".py",
   "mimetype": "text/x-python",
   "name": "python",
   "nbconvert_exporter": "python",
   "pygments_lexer": "ipython2",
   "version": "2.7.12"
  }
 },
 "nbformat": 4,
 "nbformat_minor": 2
}
