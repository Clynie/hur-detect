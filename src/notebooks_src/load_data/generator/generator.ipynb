{
 "cells": [
  {
   "cell_type": "code",
   "execution_count": 1,
   "metadata": {
    "collapsed": false
   },
   "outputs": [
    {
     "name": "stdout",
     "output_type": "stream",
     "text": [
      "importing Jupyter notebook from ../../../notebooks_src/load_data/configs.ipynb\n"
     ]
    }
   ],
   "source": [
    "import sys\n",
    "import os\n",
    "from nbfinder import NotebookFinder\n",
    "sys.meta_path.append(NotebookFinder())\n",
    "import numpy as np\n",
    "import threading\n",
    "\n",
    "    "
   ]
  },
  {
   "cell_type": "code",
   "execution_count": 3,
   "metadata": {
    "collapsed": true
   },
   "outputs": [],
   "source": [
    "class GenThreadSafe(object):\n",
    "    def __init__(self, dataset, shape=None, batch_size=128, typ=\"tr\", tf_mode=False, num_ex=-1, make_label_fxn=None):\n",
    "        self.data = dataset\n",
    "        self.tf_mode = tf_mode\n",
    "        self.batch_size = batch_size\n",
    "        # create a lock\n",
    "        self.lock = threading.Lock()\n",
    "        self.make_label_fxn = make_label_fxn\n",
    "        if shape:\n",
    "            self.input_shape = shape\n",
    "        else:\n",
    "            self.input_shape = self.data.images.shape\n",
    "    def __iter__(self):\n",
    "        return self\n",
    "    @property\n",
    "    def num_ims(self):\n",
    "        return self.data.num_examples\n",
    "    \n",
    "    def next(self):\n",
    "        nch, xdim,ydim = self.input_shape\n",
    "        \n",
    "        # acquire/release the lock when updating self.i\n",
    "        with self.lock:\n",
    "            ims,lbls = self.data.next_batch(batch_size=self.batch_size)\n",
    "            \n",
    "            #figure out how much smaller we want to make im\n",
    "            raw_nch, raw_xdim,raw_ydim = ims.shape[1:]\n",
    "            xscale = xdim / float(raw_xdim)\n",
    "            yscale = ydim / float(raw_ydim)\n",
    "            \n",
    "            #crop to size specified\n",
    "            ims = ims[:,:nch,:xdim,:ydim]\n",
    "            \n",
    "            if self.tf_mode:\n",
    "                ims = np.transpose(ims,axes=(0,2,3,1))\n",
    "            if self.make_label_fxn:\n",
    "                    lbls = self.make_label_fxn(lbls)\n",
    "            \n",
    "            #scale down label accordingly\n",
    "            lblx, lbly, lblch = lbls.shape[1:]\n",
    "            lbls = lbls[:,:int(lblx*xscale),:int(lbly*yscale)]\n",
    "            \n",
    "            return ims, lbls"
   ]
  },
  {
   "cell_type": "code",
   "execution_count": 4,
   "metadata": {
    "collapsed": true
   },
   "outputs": [],
   "source": [
    "#thread safe\n",
    "class SemisupWrapper(object):\n",
    "    def __init__(self,generator):\n",
    "        self.generator = generator\n",
    "        self.lock = threading.Lock()\n",
    "        \n",
    "    def __iter__(self):\n",
    "        return self\n",
    "    \n",
    "    @property\n",
    "    def num_ims(self):\n",
    "        return self.generator.num_ims\n",
    "    \n",
    "    def next(self):\n",
    "        with self.lock:\n",
    "            ims, lbls = self.generator.next()\n",
    "            return ims, {\"box_score\":lbls,\"reconstruction\":ims}\n",
    "        "
   ]
  },
  {
   "cell_type": "code",
   "execution_count": null,
   "metadata": {
    "collapsed": true
   },
   "outputs": [],
   "source": []
  }
 ],
 "metadata": {
  "kernelspec": {
   "display_name": "Python 2",
   "language": "python",
   "name": "python2"
  },
  "language_info": {
   "codemirror_mode": {
    "name": "ipython",
    "version": 2
   },
   "file_extension": ".py",
   "mimetype": "text/x-python",
   "name": "python",
   "nbconvert_exporter": "python",
   "pygments_lexer": "ipython2",
   "version": "2.7.12"
  }
 },
 "nbformat": 4,
 "nbformat_minor": 2
}
