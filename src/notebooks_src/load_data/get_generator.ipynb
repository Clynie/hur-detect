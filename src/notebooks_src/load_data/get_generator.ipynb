{
 "cells": [
  {
   "cell_type": "code",
   "execution_count": 1,
   "metadata": {
    "collapsed": false
   },
   "outputs": [
    {
     "name": "stdout",
     "output_type": "stream",
     "text": [
      "importing Jupyter notebook from configs.ipynb\n",
      "importing Jupyter notebook from generator/generator.ipynb\n",
      "importing Jupyter notebook from generator/batch_fetcher.ipynb\n",
      "importing Jupyter notebook from ../../notebooks_src/load_data/label_maker/yolo/make_labels.ipynb\n",
      "importing Jupyter notebook from ../../notebooks_src/load_data/label_maker/yolo/label_util.ipynb\n",
      "importing Jupyter notebook from ../../notebooks_src/load_data/configs.ipynb\n",
      "importing Jupyter notebook from ../../notebooks_src/load_data/label_maker/box_processing/coord_conversion.ipynb\n"
     ]
    }
   ],
   "source": [
    "import sys\n",
    "import os\n",
    "from nbfinder import NotebookFinder\n",
    "sys.meta_path.append(NotebookFinder())\n",
    "from configs import configs\n",
    "import importlib\n",
    "from generator.generator import GenThreadSafe, SemisupWrapper\n",
    "from generator.batch_fetcher import BatchFetcher\n",
    "if __name__ == \"__main__\":\n",
    "    sys.path.append(\"../../\")\n",
    "from configs import configs\n",
    "label_maker_module = importlib.import_module(\"notebooks_src.load_data.label_maker.\" + configs[\"label_maker_name\"] + \".make_labels\")"
   ]
  },
  {
   "cell_type": "code",
   "execution_count": 2,
   "metadata": {
    "collapsed": false
   },
   "outputs": [],
   "source": [
    "create_labelmaker_fxn = label_maker_module.create_labelmaker_fxn"
   ]
  },
  {
   "cell_type": "code",
   "execution_count": 3,
   "metadata": {
    "collapsed": true
   },
   "outputs": [],
   "source": [
    "def make_batch_fetcher(typ=\"tr\", num_examples=-1,data_name=\"climate\", data_path=configs[\"data_file\"]):\n",
    "    data_module = importlib.import_module(\"notebooks_src.load_data.datasets.\" + data_name+\".get_data\")\n",
    "    ims, labels = data_module.get_data(type_=typ, data_file=data_path)\n",
    "    return BatchFetcher(ims,labels,num_examples=num_examples)"
   ]
  },
  {
   "cell_type": "code",
   "execution_count": 4,
   "metadata": {
    "collapsed": false
   },
   "outputs": [],
   "source": [
    "def get_generator(typ, data_path=configs[\"data_file\"],\n",
    "                  data_name=configs[\"data_name\"], \n",
    "                  batch_size=None,num_ims=-1, \n",
    "                  mode=\"supervised\" ):\n",
    "    \n",
    "\n",
    "    num_ims = configs[\"num_\"+ typ+\"_ims\"]\n",
    "    batch_fetcher = make_batch_fetcher(num_examples=num_ims,typ=typ,\n",
    "                                       data_name=data_name, data_path=data_path)\n",
    "    \n",
    "    \n",
    "    all_labels = batch_fetcher.labels\n",
    "    make_label_fn = create_labelmaker_fxn(all_labels)\n",
    "    \n",
    "    if batch_size is None:\n",
    "        batch_size = configs[\"batch_size\"]\n",
    "    generator = GenThreadSafe(batch_fetcher, \n",
    "                              shape=configs[\"input_shape\"],#configs[\"input_shape\"],\n",
    "                              batch_size = batch_size,\n",
    "                              typ=typ, \n",
    "                              tf_mode=True, \n",
    "                              num_ex = num_ims, \n",
    "                              make_label_fxn=make_label_fn) \n",
    "    \n",
    "    if mode == \"semi_supervised\":\n",
    "        generator = SemisupWrapper(generator)\n",
    "        \n",
    "    return generator"
   ]
  },
  {
   "cell_type": "code",
   "execution_count": 5,
   "metadata": {
    "collapsed": false
   },
   "outputs": [
    {
     "name": "stdout",
     "output_type": "stream",
     "text": [
      "importing Jupyter notebook from ../../notebooks_src/load_data/datasets/climate/get_data.ipynb\n",
      "importing Jupyter notebook from ../../notebooks_src/load_data/datasets/climate/util.ipynb\n"
     ]
    }
   ],
   "source": [
    "bf = make_batch_fetcher()"
   ]
  },
  {
   "cell_type": "code",
   "execution_count": 14,
   "metadata": {
    "collapsed": false
   },
   "outputs": [
    {
     "data": {
      "text/plain": [
       "[[array([ 164,  244, 1037, 1117,    3], dtype=int32)],\n",
       " [array([ 162,  242, 1054, 1134,    3], dtype=int32),\n",
       "  array([117, 197, 560, 640,   3], dtype=int32)],\n",
       " [array([ 159,  239, 1072, 1152,    3], dtype=int32),\n",
       "  array([118, 198, 566, 646,   3], dtype=int32)],\n",
       " [array([300, 320, 371, 391,   2], dtype=int32),\n",
       "  array([ 154,  234, 1089, 1169,    3], dtype=int32),\n",
       "  array([122, 202, 576, 656,   3], dtype=int32)],\n",
       " [array([308, 318, 376, 386,   2], dtype=int32),\n",
       "  array([ 152,  232, 1108, 1188,    3], dtype=int32),\n",
       "  array([ 97, 177, 610, 690,   3], dtype=int32)],\n",
       " [array([295, 329, 360, 394,   2], dtype=int32),\n",
       "  array([147, 227, -30,  50,   3], dtype=int32),\n",
       "  array([ 91, 171, 620, 700,   3], dtype=int32)],\n",
       " [array([298, 326, 361, 389,   2], dtype=int32),\n",
       "  array([145, 225, -14,  66,   3], dtype=int32),\n",
       "  array([ 86, 166, 630, 710,   3], dtype=int32)],\n",
       " [array([296, 328, 355, 387,   2], dtype=int32)],\n",
       " [array([294, 328, 351, 385,   2], dtype=int32)],\n",
       " [array([295, 327, 348, 380,   2], dtype=int32)],\n",
       " [array([281, 337, 335, 391,   2], dtype=int32)],\n",
       " [array([284, 330, 337, 383,   2], dtype=int32)],\n",
       " [array([283, 329, 332, 378,   2], dtype=int32),\n",
       "  array([154, 234, 392, 472,   3], dtype=int32)],\n",
       " [array([288, 326, 332, 370,   2], dtype=int32),\n",
       "  array([158, 238, 398, 478,   3], dtype=int32),\n",
       "  array([553, 633, 622, 702,   3], dtype=int32)],\n",
       " [array([283, 329, 326, 372,   2], dtype=int32),\n",
       "  array([157, 237, 412, 492,   3], dtype=int32),\n",
       "  array([560, 640, 644, 724,   3], dtype=int32),\n",
       "  array([585, 665, 457, 537,   3], dtype=int32)],\n",
       " [array([284, 326, 326, 368,   2], dtype=int32),\n",
       "  array([154, 234, 420, 500,   3], dtype=int32),\n",
       "  array([569, 649, 657, 737,   3], dtype=int32),\n",
       "  array([582, 662, 456, 536,   3], dtype=int32)],\n",
       " [array([274, 332, 314, 372,   2], dtype=int32),\n",
       "  array([148, 228, 433, 513,   3], dtype=int32),\n",
       "  array([548, 628, 636, 716,   3], dtype=int32),\n",
       "  array([580, 660, 490, 570,   3], dtype=int32)],\n",
       " [array([285, 319, 322, 356,   2], dtype=int32),\n",
       "  array([411, 429, 446, 464,   2], dtype=int32),\n",
       "  array([139, 219, 441, 521,   3], dtype=int32),\n",
       "  array([555, 635, 645, 725,   3], dtype=int32),\n",
       "  array([582, 662, 497, 577,   3], dtype=int32)],\n",
       " [array([278, 326, 312, 360,   2], dtype=int32),\n",
       "  array([411, 427, 440, 456,   2], dtype=int32),\n",
       "  array([126, 206, 432, 512,   3], dtype=int32),\n",
       "  array([586, 666, 502, 582,   3], dtype=int32)],\n",
       " [array([284, 324, 315, 355,   2], dtype=int32),\n",
       "  array([410, 424, 435, 449,   2], dtype=int32),\n",
       "  array([603, 683, 537, 617,   3], dtype=int32)],\n",
       " [array([285, 323, 315, 353,   2], dtype=int32),\n",
       "  array([407, 423, 431, 447,   2], dtype=int32),\n",
       "  array([605, 685, 545, 625,   3], dtype=int32),\n",
       "  array([128, 208, -35,  45,   3], dtype=int32)],\n",
       " [array([284, 320, 315, 351,   2], dtype=int32),\n",
       "  array([407, 419, 431, 443,   2], dtype=int32),\n",
       "  array([605, 685, 556, 636,   3], dtype=int32),\n",
       "  array([122, 202, -25,  55,   3], dtype=int32)],\n",
       " [array([282, 322, 313, 353,   2], dtype=int32),\n",
       "  array([403, 423, 424, 444,   2], dtype=int32),\n",
       "  array([597, 677, 518, 598,   3], dtype=int32),\n",
       "  array([117, 197, -17,  63,   3], dtype=int32)],\n",
       " [array([286, 322, 314, 350,   2], dtype=int32),\n",
       "  array([405, 425, 419, 439,   2], dtype=int32),\n",
       "  array([602, 682, 544, 624,   3], dtype=int32),\n",
       "  array([112, 192, -10,  70,   3], dtype=int32)],\n",
       " [array([293, 313, 321, 341,   2], dtype=int32),\n",
       "  array([409, 423, 415, 429,   2], dtype=int32),\n",
       "  array([601, 681, 512, 592,   3], dtype=int32),\n",
       "  array([106, 186,  -7,  73,   3], dtype=int32),\n",
       "  array([513, 593, 502, 582,   3], dtype=int32)],\n",
       " [array([290, 316, 316, 342,   2], dtype=int32),\n",
       "  array([406, 424, 408, 426,   2], dtype=int32),\n",
       "  array([597, 677, 501, 581,   3], dtype=int32),\n",
       "  array([102, 182,   1,  81,   3], dtype=int32),\n",
       "  array([519, 599, 520, 600,   3], dtype=int32)],\n",
       " [array([285, 321, 310, 346,   2], dtype=int32),\n",
       "  array([404, 426, 402, 424,   2], dtype=int32),\n",
       "  array([592, 672, 498, 578,   3], dtype=int32),\n",
       "  array([524, 604, 536, 616,   3], dtype=int32)],\n",
       " [array([286, 320, 310, 344,   2], dtype=int32),\n",
       "  array([404, 426, 398, 420,   2], dtype=int32),\n",
       "  array([596, 676, 516, 596,   3], dtype=int32),\n",
       "  array([533, 613, 548, 628,   3], dtype=int32),\n",
       "  array([103, 183, 744, 824,   3], dtype=int32)],\n",
       " [array([290, 318, 312, 340,   2], dtype=int32),\n",
       "  array([408, 420, 398, 410,   2], dtype=int32),\n",
       "  array([600, 680, 525, 605,   3], dtype=int32),\n",
       "  array([540, 620, 556, 636,   3], dtype=int32),\n",
       "  array([ 96, 176, 758, 838,   3], dtype=int32),\n",
       "  array([ 111,  191,  984, 1064,    3], dtype=int32)],\n",
       " [array([288, 318, 309, 339,   1], dtype=int32),\n",
       "  array([417, 425, 394, 402,   2], dtype=int32),\n",
       "  array([596, 676, 522, 602,   3], dtype=int32),\n",
       "  array([548, 628, 562, 642,   3], dtype=int32),\n",
       "  array([ 90, 170, 772, 852,   3], dtype=int32),\n",
       "  array([ 107,  187,  994, 1074,    3], dtype=int32)],\n",
       " [array([281, 325, 302, 346,   2], dtype=int32),\n",
       "  array([403, 435, 377, 409,   2], dtype=int32),\n",
       "  array([286, 332, 366, 412,   2], dtype=int32),\n",
       "  array([620, 700, 553, 633,   3], dtype=int32),\n",
       "  array([554, 634, 565, 645,   3], dtype=int32),\n",
       "  array([ 85, 165, 788, 868,   3], dtype=int32),\n",
       "  array([ 106,  186, 1008, 1088,    3], dtype=int32),\n",
       "  array([ 91, 171,  14,  94,   3], dtype=int32),\n",
       "  array([ 550,  630,  984, 1064,    3], dtype=int32)],\n",
       " [array([291, 315, 310, 334,   2], dtype=int32),\n",
       "  array([405, 433, 374, 402,   2], dtype=int32),\n",
       "  array([284, 332, 365, 413,   2], dtype=int32),\n",
       "  array([634, 714, 561, 641,   3], dtype=int32),\n",
       "  array([555, 635, 573, 653,   3], dtype=int32),\n",
       "  array([ 80, 160, 801, 881,   3], dtype=int32),\n",
       "  array([ 103,  183, 1020, 1100,    3], dtype=int32),\n",
       "  array([ 71, 151,  47, 127,   3], dtype=int32),\n",
       "  array([ 561,  641,  996, 1076,    3], dtype=int32)]]"
      ]
     },
     "execution_count": 14,
     "metadata": {},
     "output_type": "execute_result"
    }
   ],
   "source": [
    "bf.labels"
   ]
  },
  {
   "cell_type": "code",
   "execution_count": 5,
   "metadata": {
    "collapsed": false
   },
   "outputs": [
    {
     "name": "stdout",
     "output_type": "stream",
     "text": [
      "importing Jupyter notebook from ../../notebooks_src/load_data/datasets/climate/get_data.ipynb\n",
      "importing Jupyter notebook from ../../notebooks_src/load_data/datasets/climate/util.ipynb\n"
     ]
    }
   ],
   "source": [
    "#gen=get_generator(\"tr\")"
   ]
  }
 ],
 "metadata": {
  "kernelspec": {
   "display_name": "Python 2",
   "language": "python",
   "name": "python2"
  },
  "language_info": {
   "codemirror_mode": {
    "name": "ipython",
    "version": 2
   },
   "file_extension": ".py",
   "mimetype": "text/x-python",
   "name": "python",
   "nbconvert_exporter": "python",
   "pygments_lexer": "ipython2",
   "version": "2.7.12"
  }
 },
 "nbformat": 4,
 "nbformat_minor": 2
}
