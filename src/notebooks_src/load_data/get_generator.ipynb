{
 "cells": [
  {
   "cell_type": "code",
   "execution_count": null,
   "metadata": {
    "collapsed": true
   },
   "outputs": [],
   "source": [
    "import sys\n",
    "import os\n",
    "from nbfinder import NotebookFinder\n",
    "sys.meta_path.append(NotebookFinder())\n",
    "from configs import configs\n",
    "import importlib\n",
    "from generator.generator import GenThreadSafe, SemisupWrapper\n",
    "from generator.batch_fetcher import BatchFetcher\n",
    "if __name__ == \"__main__\":\n",
    "    sys.path.append(\"../../\")\n",
    "from configs import configs\n",
    "label_maker_module = importlib.import_module(\"notebooks_src.load_data.label_maker.\" + configs[\"label_maker_name\"] + \".make_labels\")"
   ]
  },
  {
   "cell_type": "code",
   "execution_count": 1,
   "metadata": {
    "collapsed": false
   },
   "outputs": [
    {
     "name": "stdout",
     "output_type": "stream",
     "text": [
      "importing Jupyter notebook from configs.ipynb\n",
      "importing Jupyter notebook from generator/generator.ipynb\n",
      "importing Jupyter notebook from generator/batch_fetcher.ipynb\n",
      "importing Jupyter notebook from label_maker/yolo/make_labels.ipynb\n",
      "importing Jupyter notebook from label_maker/yolo/label_util.ipynb\n",
      "importing Jupyter notebook from ../../notebooks_src/load_data/configs.ipynb\n",
      "importing Jupyter notebook from ../../notebooks_src/load_data/label_maker/box_processing/coord_conversion.ipynb\n"
     ]
    }
   ],
   "source": [
    "make_label_fn = label_maker_module.make_labels"
   ]
  },
  {
   "cell_type": "code",
   "execution_count": 2,
   "metadata": {
    "collapsed": true
   },
   "outputs": [],
   "source": [
    "def make_batch_fetcher(typ, num_examples,data_name, data_file):\n",
    "    data_module = importlib.import_module(\"notebooks_src.load_data.datasets.\" + data_name+\".get_data\")\n",
    "    ims, labels = data_module.get_data(type_=typ, data_file=data_file)\n",
    "    return BatchFetcher(ims,labels,num_examples=num_examples)"
   ]
  },
  {
   "cell_type": "code",
   "execution_count": 3,
   "metadata": {
    "collapsed": true
   },
   "outputs": [],
   "source": [
    "def get_generator(typ, data_path=None, data_name=configs[\"data_name\"], batch_size=None,num_ims=-1, mode=\"supervised\" ):\n",
    "    \n",
    "    if data_path is None:\n",
    "        data_path = configs[\"data_file\"]\n",
    "    num_ims = configs[\"num_\"+ typ+\"_ims\"]\n",
    "    batch_fetcher = make_batch_fetcher(num_examples=num_ims,typ=typ,\n",
    "                                       data_name=data_name, data_file=data_path)\n",
    "    \n",
    "    if batch_size is None:\n",
    "        batch_size = configs[\"batch_size\"]\n",
    "    generator = GenThreadSafe(batch_fetcher, \n",
    "                              batch_size = batch_size,\n",
    "                              typ=typ, \n",
    "                              tf_mode=True, \n",
    "                              num_ex = num_ims, \n",
    "                              make_label_fxn=make_label_fn) \n",
    "    \n",
    "    if mode == \"semi_supervised\":\n",
    "        generator = SemisupWrapper(generator)\n",
    "        \n",
    "    return generator"
   ]
  },
  {
   "cell_type": "code",
   "execution_count": 4,
   "metadata": {
    "collapsed": false
   },
   "outputs": [
    {
     "name": "stdout",
     "output_type": "stream",
     "text": [
      "importing Jupyter notebook from ../../notebooks_src/load_data/datasets/climate/get_data.ipynb\n",
      "importing Jupyter notebook from ../../notebooks_src/load_data/datasets/climate/util.ipynb\n"
     ]
    }
   ],
   "source": [
    "gen=get_generator(\"tr\")"
   ]
  }
 ],
 "metadata": {
  "kernelspec": {
   "display_name": "Python 2",
   "language": "python",
   "name": "python2"
  },
  "language_info": {
   "codemirror_mode": {
    "name": "ipython",
    "version": 2
   },
   "file_extension": ".py",
   "mimetype": "text/x-python",
   "name": "python",
   "nbconvert_exporter": "python",
   "pygments_lexer": "ipython2",
   "version": "2.7.12"
  }
 },
 "nbformat": 4,
 "nbformat_minor": 2
}
