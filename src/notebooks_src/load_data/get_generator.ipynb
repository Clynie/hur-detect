{
 "cells": [
  {
   "cell_type": "code",
   "execution_count": 1,
   "metadata": {
    "collapsed": false
   },
   "outputs": [
    {
     "name": "stdout",
     "output_type": "stream",
     "text": [
      "importing Jupyter notebook from configs.ipynb\n",
      "importing Jupyter notebook from generator/generator.ipynb\n",
      "importing Jupyter notebook from generator/batch_fetcher.ipynb\n",
      "importing Jupyter notebook from ../../notebooks_src/load_data/label_maker/yolo/make_labels.ipynb\n",
      "importing Jupyter notebook from ../../notebooks_src/load_data/label_maker/yolo/label_util.ipynb\n",
      "importing Jupyter notebook from ../../notebooks_src/load_data/configs.ipynb\n",
      "importing Jupyter notebook from ../../notebooks_src/load_data/label_maker/box_processing/coord_conversion.ipynb\n"
     ]
    }
   ],
   "source": [
    "import sys\n",
    "import os\n",
    "from nbfinder import NotebookFinder\n",
    "sys.meta_path.append(NotebookFinder())\n",
    "from configs import configs\n",
    "import importlib\n",
    "from generator.generator import GenThreadSafe, SemisupWrapper\n",
    "from generator.batch_fetcher import BatchFetcher\n",
    "if __name__ == \"__main__\":\n",
    "    sys.path.append(\"../../\")\n",
    "from configs import configs\n",
    "label_maker_module = importlib.import_module(\"notebooks_src.preprocessing.label_generation.\" + configs[\"label_maker_name\"] + \".make_labels\")"
   ]
  },
  {
   "cell_type": "code",
   "execution_count": 2,
   "metadata": {
    "collapsed": false
   },
   "outputs": [],
   "source": [
    "create_labelmaker_fxn = label_maker_module.create_labelmaker_fxn"
   ]
  },
  {
   "cell_type": "code",
   "execution_count": 3,
   "metadata": {
    "collapsed": true
   },
   "outputs": [],
   "source": [
    "def make_batch_fetcher(typ=\"tr\", num_examples=-1,data_name=\"climate\", data_path=configs[\"data_file\"]):\n",
    "    data_module = importlib.import_module(\"notebooks_src.load_data.datasets.\" + data_name+\".get_data\")\n",
    "    ims, labels = data_module.get_data(type_=typ, data_file=data_path)\n",
    "    return BatchFetcher(ims,labels,num_examples=num_examples)"
   ]
  },
  {
   "cell_type": "code",
   "execution_count": 4,
   "metadata": {
    "collapsed": false
   },
   "outputs": [],
   "source": [
    "def get_generator(typ, data_path=configs[\"data_file\"],\n",
    "                  data_name=configs[\"data_name\"], \n",
    "                  batch_size=None,num_ims=-1, \n",
    "                  mode=\"supervised\" ):\n",
    "    \n",
    "\n",
    "    num_ims = configs[\"num_\"+ typ+\"_ims\"]\n",
    "    batch_fetcher = make_batch_fetcher(num_examples=num_ims,typ=typ,\n",
    "                                       data_name=data_name, data_path=data_path)\n",
    "    \n",
    "    \n",
    "    all_labels = batch_fetcher.labels\n",
    "    make_label_fn = create_labelmaker_fxn(all_labels)\n",
    "    \n",
    "    if batch_size is None:\n",
    "        batch_size = configs[\"batch_size\"]\n",
    "    generator = GenThreadSafe(batch_fetcher, \n",
    "                              shape=configs[\"input_shape\"],#configs[\"input_shape\"],\n",
    "                              batch_size = batch_size,\n",
    "                              typ=typ, \n",
    "                              tf_mode=True, \n",
    "                              num_ex = num_ims, \n",
    "                              make_label_fxn=make_label_fn) \n",
    "    \n",
    "    if mode == \"semi_supervised\":\n",
    "        generator = SemisupWrapper(generator)\n",
    "        \n",
    "    return generator"
   ]
  },
  {
   "cell_type": "code",
   "execution_count": 5,
   "metadata": {
    "collapsed": false
   },
   "outputs": [
    {
     "name": "stdout",
     "output_type": "stream",
     "text": [
      "importing Jupyter notebook from ../../notebooks_src/load_data/datasets/climate/get_data.ipynb\n",
      "importing Jupyter notebook from ../../notebooks_src/load_data/datasets/climate/util.ipynb\n"
     ]
    }
   ],
   "source": [
    "if __name__ == \"__main__\":\n",
    "    bf = make_batch_fetcher()\n",
    "\n",
    "    bf.labels\n",
    "\n",
    "    #gen=get_generator(\"tr\")"
   ]
  }
 ],
 "metadata": {
  "kernelspec": {
   "display_name": "Python 2",
   "language": "python",
   "name": "python2"
  },
  "language_info": {
   "codemirror_mode": {
    "name": "ipython",
    "version": 2
   },
   "file_extension": ".py",
   "mimetype": "text/x-python",
   "name": "python",
   "nbconvert_exporter": "python",
   "pygments_lexer": "ipython2",
   "version": "2.7.12"
  }
 },
 "nbformat": 4,
 "nbformat_minor": 2
}
