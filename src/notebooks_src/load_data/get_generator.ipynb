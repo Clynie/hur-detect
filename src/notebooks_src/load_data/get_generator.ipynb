{
 "cells": [
  {
   "cell_type": "code",
   "execution_count": 11,
   "metadata": {
    "collapsed": false
   },
   "outputs": [],
   "source": [
    "import sys\n",
    "import os\n",
    "from nbfinder import NotebookFinder\n",
    "sys.meta_path.append(NotebookFinder())\n",
    "from configs import configs\n",
    "import importlib\n",
    "from generator import GenThreadSafe, SemisupWrapper\n",
    "from batch_fetcher import BatchFetcher"
   ]
  },
  {
   "cell_type": "code",
   "execution_count": 17,
   "metadata": {
    "collapsed": true
   },
   "outputs": [],
   "source": [
    "def make_batch_fetcher(typ, num_examples,data_name, data_file):\n",
    "    data_module = importlib.import_module(\"notebooks_src.load_data.datasets.\" + data_name+\".get_data\")\n",
    "    ims, labels = data_module.get_data(type_=typ, data_file=data_file)\n",
    "    return BatchFetcher(ims,labels)"
   ]
  },
  {
   "cell_type": "code",
   "execution_count": 18,
   "metadata": {
    "collapsed": true
   },
   "outputs": [],
   "source": [
    "def get_generator(typ, data_path=None, data_name=\"climate\", batch_size=None,num_ims=-1, mode=\"supervised\" ):\n",
    "    \n",
    "    if data_path is None:\n",
    "        data_path = configs[\"data_file\"]\n",
    "    num_ims = configs[\"num_\"+ typ+\"_ims\"]\n",
    "    batch_fetcher = make_batch_fetcher(num_examples=num_ims,typ=typ,\n",
    "                                       data_name=data_name, data_file=data_path)\n",
    "    \n",
    "    if batch_size is None:\n",
    "        batch_size = configs[\"batch_size\"]\n",
    "    generator = GenThreadSafe(batch_fetcher, \n",
    "                              batch_size = batch_size,\n",
    "                              typ=typ, \n",
    "                              tf_mode=True, \n",
    "                              num_ex = num_ims) \n",
    "    \n",
    "    if mode == \"semi_supervised\":\n",
    "        generator = SemisupWrapper(generator)\n",
    "        \n",
    "    return generator"
   ]
  },
  {
   "cell_type": "code",
   "execution_count": null,
   "metadata": {
    "collapsed": true
   },
   "outputs": [],
   "source": []
  }
 ],
 "metadata": {
  "kernelspec": {
   "display_name": "Python 2",
   "language": "python",
   "name": "python2"
  },
  "language_info": {
   "codemirror_mode": {
    "name": "ipython",
    "version": 2
   },
   "file_extension": ".py",
   "mimetype": "text/x-python",
   "name": "python",
   "nbconvert_exporter": "python",
   "pygments_lexer": "ipython2",
   "version": "2.7.12"
  }
 },
 "nbformat": 4,
 "nbformat_minor": 2
}
