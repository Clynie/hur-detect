{
 "cells": [
  {
   "cell_type": "code",
   "execution_count": 1,
   "metadata": {
    "collapsed": true
   },
   "outputs": [],
   "source": [
    "import sys\n",
    "from nbfinder import NotebookFinder\n",
    "sys.meta_path.append(NotebookFinder())\n",
    "import os \n",
    "if os.path.basename(os.getcwd()) == \"src\":\n",
    "    from notebooks_src.config_util import update_configs\n",
    "import numpy as np\n"
   ]
  },
  {
   "cell_type": "code",
   "execution_count": 9,
   "metadata": {
    "collapsed": false
   },
   "outputs": [],
   "source": [
    "\n",
    "\n",
    "kwargs_dict = dict(    \n",
    "label_configs = dict(\n",
    "            feat_shapes=[(int((np.ceil(768 / float(2**i)))), \n",
    "                             int(np.ceil(1152 / float(2**i)))) for i in range(3,9) ] + [(1,1)],\n",
    "            #feat_layers=['block4', 'block7', 'block8', 'block9', 'block10', 'block11', 'block12']\n",
    "            anchor_size_bounds=[0.10, 0.90],\n",
    "            anchor_sizes=[(20.48, 51.2),\n",
    "                          (51.2, 133.12),\n",
    "                          (133.12, 215.04),\n",
    "                          (215.04, 296.96),\n",
    "                          (296.96, 378.88),\n",
    "                          (378.88, 460.8),\n",
    "                          (460.8, 542.72)],\n",
    "            anchor_ratios=[[2, .5],\n",
    "                           [2, .5, 3, 1./3],\n",
    "                           [2, .5, 3, 1./3],\n",
    "                           [2, .5, 3, 1./3],\n",
    "                           [2, .5, 3, 1./3],\n",
    "                           [2, .5],\n",
    "                           [2, .5]],\n",
    "            anchor_steps=[8, 16, 32, 64, 128, 256, 512],\n",
    "            anchor_offset=0.5,\n",
    "            normalizations=[20, -1, -1, -1, -1, -1, -1],\n",
    "            prior_scaling=[0.1, 0.1, 0.2, 0.2]),\n",
    "    \n",
    ")\n",
    "\n",
    "\n",
    "\n",
    "configs = {}\n",
    "for kwargs in kwargs_dict.values():\n",
    "    configs.update(kwargs)\n",
    "\n",
    "if os.path.basename(os.getcwd()) == \"src\":\n",
    "    configs = update_configs(configs)"
   ]
  },
  {
   "cell_type": "code",
   "execution_count": null,
   "metadata": {
    "collapsed": true
   },
   "outputs": [],
   "source": []
  }
 ],
 "metadata": {
  "kernelspec": {
   "display_name": "Python 2",
   "language": "python",
   "name": "python2"
  },
  "language_info": {
   "codemirror_mode": {
    "name": "ipython",
    "version": 2
   },
   "file_extension": ".py",
   "mimetype": "text/x-python",
   "name": "python",
   "nbconvert_exporter": "python",
   "pygments_lexer": "ipython2",
   "version": "2.7.12"
  }
 },
 "nbformat": 4,
 "nbformat_minor": 2
}
