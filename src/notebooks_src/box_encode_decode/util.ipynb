{
 "cells": [
  {
   "cell_type": "code",
   "execution_count": 1,
   "metadata": {
    "collapsed": true
   },
   "outputs": [],
   "source": [
    "import tensorflow as tf\n",
    "import sys\n",
    "from nbfinder import NotebookFinder\n",
    "sys.meta_path.append(NotebookFinder())\n",
    "import numpy as np"
   ]
  },
  {
   "cell_type": "code",
   "execution_count": 2,
   "metadata": {
    "collapsed": true
   },
   "outputs": [],
   "source": [
    "def filter_out_negative_one_rows(array, axis=1):\n",
    "    '''takes n x 5 tensor'''\n",
    "    return array[np.any(array > -1,axis=axis)]"
   ]
  },
  {
   "cell_type": "code",
   "execution_count": 3,
   "metadata": {
    "collapsed": true
   },
   "outputs": [],
   "source": [
    "def extract_labels_from_box_array(box_array):\n",
    "    pass"
   ]
  },
  {
   "cell_type": "code",
   "execution_count": 38,
   "metadata": {
    "collapsed": true
   },
   "outputs": [],
   "source": [
    "def make_box_coords_relative(bboxes, im_shape):\n",
    "    box_list =[]\n",
    "    for ind, bboxes_ex in enumerate(bboxes):\n",
    "        bb = _make_box_coords_relative(bboxes_ex, im_shape)\n",
    "        bb=np.expand_dims(bb, axis=0)\n",
    "        box_list.append(bb)\n",
    "    return np.concatenate(tuple(box_list))\n",
    "        \n",
    "def _make_box_coords_relative(bboxes_one_example, im_shape):\n",
    "    \"\"\"bboxes is [max_boxes x 5] where 5 is [ymin,xmin, ymax, xmax]\n",
    "    y in this case is first index into matrix, which is y on a cartesian plane\"\"\"\n",
    "    \"\"\"we assume the dims for axis=1 are as follows:\n",
    "          0: ymin\n",
    "          1: xmin\n",
    "          2: ymax\n",
    "          3: xmax\"\"\"\n",
    "    bboxes = bboxes_one_example.astype(\"float32\")\n",
    "    ymin_ind,ymax_ind, xmin_ind,  xmax_ind = range(4)\n",
    "    ydim, xdim = im_shape\n",
    "    num_boxes = bboxes[bboxes[:,0] > -1].shape[0]\n",
    "    bboxes[:num_boxes, ymin_ind] /= float(ydim)\n",
    "    bboxes[:num_boxes, ymax_ind] /= float(ydim)\n",
    "    bboxes[:num_boxes, xmin_ind] /= float(xdim)\n",
    "    bboxes[:num_boxes, xmax_ind] /= float(xdim)\n",
    "    \n",
    "    return bboxes"
   ]
  },
  {
   "cell_type": "code",
   "execution_count": 3,
   "metadata": {
    "collapsed": false
   },
   "outputs": [],
   "source": [
    "if __name__ == \"__main__\":\n",
    "    sys.path.append(\"../../\")\n",
    "    from notebooks_src.load_data.get_generator import get_generator\n",
    "    gen = get_generator(\"tr\", batch_size=4)\n",
    "\n",
    "    im, box = gen.next()\n",
    "\n",
    "    print box\n",
    "\n",
    "    #make_box_coords_relative(box,(768,1152))\n"
   ]
  },
  {
   "cell_type": "code",
   "execution_count": null,
   "metadata": {
    "collapsed": true
   },
   "outputs": [],
   "source": []
  }
 ],
 "metadata": {
  "kernelspec": {
   "display_name": "Python 2",
   "language": "python",
   "name": "python2"
  },
  "language_info": {
   "codemirror_mode": {
    "name": "ipython",
    "version": 2
   },
   "file_extension": ".py",
   "mimetype": "text/x-python",
   "name": "python",
   "nbconvert_exporter": "python",
   "pygments_lexer": "ipython2",
   "version": "2.7.12"
  }
 },
 "nbformat": 4,
 "nbformat_minor": 2
}
