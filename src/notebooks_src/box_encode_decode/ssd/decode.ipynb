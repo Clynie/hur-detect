{
 "cells": [
  {
   "cell_type": "code",
   "execution_count": null,
   "metadata": {
    "collapsed": true
   },
   "outputs": [],
   "source": [
    "# Some of this code came from this license:\n",
    "# Copyright 2015 Paul Balanca. All Rights Reserved.\n",
    "#\n",
    "# Licensed under the Apache License, Version 2.0 (the \"License\");\n",
    "# you may not use this file except in compliance with the License.\n",
    "# You may obtain a copy of the License at\n",
    "#\n",
    "#     http://www.apache.org/licenses/LICENSE-2.0\n",
    "#\n",
    "# Unless required by applicable law or agreed to in writing, software\n",
    "# distributed under the License is distributed on an \"AS IS\" BASIS,\n",
    "# WITHOUT WARRANTIES OR CONDITIONS OF ANY KIND, either express or implied.\n",
    "# See the License for the specific language governing permissions and\n",
    "# limitations under the License.\n",
    "# =============================================================================="
   ]
  },
  {
   "cell_type": "code",
   "execution_count": 3,
   "metadata": {
    "collapsed": false
   },
   "outputs": [],
   "source": [
    "import sys\n",
    "from nbfinder import NotebookFinder\n",
    "sys.meta_path.append(NotebookFinder())\n",
    "import tensorflow as tf\n",
    "import numpy as np\n",
    "if __name__ == \"__main__\":\n",
    "    sys.path.append(\"../../../\")\n",
    "from make_anchors_orig import make_anchors\n",
    "from notebooks_src.configs import configs\n",
    "\n",
    "from notebooks_src.postprocessing.utils import sort_some_lists_of_tensors"
   ]
  },
  {
   "cell_type": "code",
   "execution_count": 2,
   "metadata": {
    "collapsed": true
   },
   "outputs": [],
   "source": [
    "def decode(localizations):\n",
    "    \"\"\"takes net output or encoded ground truth label\n",
    "    and returns list of boxes? and class?\"\"\"\n",
    "    anchors = make_anchors()\n",
    "    localizations = sort_some_lists_of_tensors(localizations)\n",
    "    bboxes = bboxes_decode(localizations, anchors)\n",
    "    return bboxes\n",
    "    "
   ]
  },
  {
   "cell_type": "code",
   "execution_count": 3,
   "metadata": {
    "collapsed": true
   },
   "outputs": [],
   "source": [
    "def bboxes_decode(feat_localizations, anchors,\n",
    "                  scope='ssd_bboxes_decode'):\n",
    "    \"\"\"Encode labels and bounding boxes.\n",
    "    \"\"\"\n",
    "    return tf_ssd_bboxes_decode(\n",
    "        feat_localizations, anchors,\n",
    "        prior_scaling=configs[\"prior_scaling\"],\n",
    "        scope=scope)"
   ]
  },
  {
   "cell_type": "code",
   "execution_count": 24,
   "metadata": {
    "collapsed": true
   },
   "outputs": [],
   "source": [
    "def tf_ssd_bboxes_decode_layer(feat_localizations,\n",
    "                               anchors_layer,\n",
    "                               prior_scaling=[0.1, 0.1, 0.2, 0.2]):\n",
    "    \"\"\"Compute the relative bounding boxes from the layer features and\n",
    "    reference anchor bounding boxes.\n",
    "\n",
    "    Arguments:\n",
    "      feat_localizations: Tensor containing localization features.\n",
    "      anchors: List of numpy array containing anchor boxes.\n",
    "\n",
    "    Return:\n",
    "      Tensor Nx4: ymin, xmin, ymax, xmax\n",
    "    \"\"\"\n",
    "    yref, xref, href, wref = anchors_layer\n",
    "    \n",
    "    x_loc, y_loc, w_loc, h_loc = [ tf.squeeze( tens, axis=4) for tens in tf.split(feat_localizations,axis=4,num_or_size_splits=4)]\n",
    "    cx = x_loc * wref * prior_scaling[0] + xref\n",
    "    cy = y_loc * href * prior_scaling[1] + yref\n",
    "    w = wref * tf.exp(w_loc * prior_scaling[2])\n",
    "    h = href * tf.exp(h_loc * prior_scaling[3])\n",
    "    # Boxes coordinates.\n",
    "    ymin = cy - h / 2.\n",
    "    xmin = cx - w / 2.\n",
    "    ymax = cy + h / 2.\n",
    "    xmax = cx + w / 2.\n",
    "    bboxes = tf.stack([ymin, xmin, ymax, xmax], axis=-1)\n",
    "    return bboxes\n",
    "\n",
    "\n",
    "def tf_ssd_bboxes_decode(feat_localizations,\n",
    "                         anchors,\n",
    "                         prior_scaling=[0.1, 0.1, 0.2, 0.2],\n",
    "                         scope='ssd_bboxes_decode'):\n",
    "    \"\"\"Compute the relative bounding boxes from the SSD net features and\n",
    "    reference anchors bounding boxes.\n",
    "\n",
    "    Arguments:\n",
    "      feat_localizations: List of Tensors containing localization features.\n",
    "      anchors: List of numpy array containing anchor boxes.\n",
    "\n",
    "    Return:\n",
    "      List of Tensors Nx4: ymin, xmin, ymax, xmax\n",
    "    \"\"\"\n",
    "    with tf.name_scope(scope):\n",
    "        bboxes = []\n",
    "        for i, anchors_layer in enumerate(anchors):\n",
    "            bboxes.append(\n",
    "                tf_ssd_bboxes_decode_layer(feat_localizations[i],\n",
    "                                           anchors_layer,\n",
    "                                           prior_scaling))\n",
    "        return bboxes\n",
    "\n"
   ]
  },
  {
   "cell_type": "code",
   "execution_count": 27,
   "metadata": {
    "collapsed": false
   },
   "outputs": [],
   "source": [
    "if __name__ == \"__main__\":\n",
    "    from notebooks_src.postprocessing.unpack import unpack_net_output\n",
    "    shapes = [(2, 6, 9, 48),\n",
    "                     (2, 3, 5, 32),\n",
    "                     (2, 96, 144, 32),\n",
    "                     (2, 24, 36, 48),\n",
    "                     (2, 12, 18, 48),\n",
    "                     (2, 48, 72, 48),\n",
    "                     (2, 1, 1, 32)]\n",
    "\n",
    "    y_preds = [tf.ones((shape)) for shape in shapes]\n",
    "    localizations, logits, predictions = unpack_net_output(y_preds)\n",
    "    \n",
    "    #print localizations\n",
    "    boxes=decode(localizations)"
   ]
  },
  {
   "cell_type": "code",
   "execution_count": null,
   "metadata": {
    "collapsed": true
   },
   "outputs": [],
   "source": []
  }
 ],
 "metadata": {
  "kernelspec": {
   "display_name": "Python 2",
   "language": "python",
   "name": "python2"
  },
  "language_info": {
   "codemirror_mode": {
    "name": "ipython",
    "version": 2
   },
   "file_extension": ".py",
   "mimetype": "text/x-python",
   "name": "python",
   "nbconvert_exporter": "python",
   "pygments_lexer": "ipython2",
   "version": "2.7.12"
  }
 },
 "nbformat": 4,
 "nbformat_minor": 2
}
