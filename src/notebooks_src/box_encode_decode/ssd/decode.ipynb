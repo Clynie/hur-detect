{
 "cells": [
  {
   "cell_type": "code",
   "execution_count": null,
   "metadata": {
    "collapsed": true
   },
   "outputs": [],
   "source": [
    "def decode(net_output):\n",
    "    \"\"\"takes net output or encoded ground truth label\n",
    "    and returns list of boxes? and class?\"\"\"\n",
    "    pass\n",
    "    "
   ]
  },
  {
   "cell_type": "code",
   "execution_count": null,
   "metadata": {
    "collapsed": true
   },
   "outputs": [],
   "source": [
    "def bboxes_decode(feat_localizations, anchors,\n",
    "                  scope='ssd_bboxes_decode'):\n",
    "    \"\"\"Encode labels and bounding boxes.\n",
    "    \"\"\"\n",
    "    return ssd_common.tf_ssd_bboxes_decode(\n",
    "        feat_localizations, anchors,\n",
    "        prior_scaling=self.params.prior_scaling,\n",
    "        scope=scope)"
   ]
  },
  {
   "cell_type": "code",
   "execution_count": null,
   "metadata": {
    "collapsed": true
   },
   "outputs": [],
   "source": [
    "def tf_ssd_bboxes_decode_layer(feat_localizations,\n",
    "                               anchors_layer,\n",
    "                               prior_scaling=[0.1, 0.1, 0.2, 0.2]):\n",
    "    \"\"\"Compute the relative bounding boxes from the layer features and\n",
    "    reference anchor bounding boxes.\n",
    "\n",
    "    Arguments:\n",
    "      feat_localizations: Tensor containing localization features.\n",
    "      anchors: List of numpy array containing anchor boxes.\n",
    "\n",
    "    Return:\n",
    "      Tensor Nx4: ymin, xmin, ymax, xmax\n",
    "    \"\"\"\n",
    "    yref, xref, href, wref = anchors_layer\n",
    "\n",
    "    # Compute center, height and width\n",
    "    cx = feat_localizations[:, :, :, :, 0] * wref * prior_scaling[0] + xref\n",
    "    cy = feat_localizations[:, :, :, :, 1] * href * prior_scaling[1] + yref\n",
    "    w = wref * tf.exp(feat_localizations[:, :, :, :, 2] * prior_scaling[2])\n",
    "    h = href * tf.exp(feat_localizations[:, :, :, :, 3] * prior_scaling[3])\n",
    "    # Boxes coordinates.\n",
    "    ymin = cy - h / 2.\n",
    "    xmin = cx - w / 2.\n",
    "    ymax = cy + h / 2.\n",
    "    xmax = cx + w / 2.\n",
    "    bboxes = tf.stack([ymin, xmin, ymax, xmax], axis=-1)\n",
    "    return bboxes\n",
    "\n",
    "\n",
    "def tf_ssd_bboxes_decode(feat_localizations,\n",
    "                         anchors,\n",
    "                         prior_scaling=[0.1, 0.1, 0.2, 0.2],\n",
    "                         scope='ssd_bboxes_decode'):\n",
    "    \"\"\"Compute the relative bounding boxes from the SSD net features and\n",
    "    reference anchors bounding boxes.\n",
    "\n",
    "    Arguments:\n",
    "      feat_localizations: List of Tensors containing localization features.\n",
    "      anchors: List of numpy array containing anchor boxes.\n",
    "\n",
    "    Return:\n",
    "      List of Tensors Nx4: ymin, xmin, ymax, xmax\n",
    "    \"\"\"\n",
    "    with tf.name_scope(scope):\n",
    "        bboxes = []\n",
    "        for i, anchors_layer in enumerate(anchors):\n",
    "            bboxes.append(\n",
    "                tf_ssd_bboxes_decode_layer(feat_localizations[i],\n",
    "                                           anchors_layer,\n",
    "                                           prior_scaling))\n",
    "        return bboxes\n",
    "\n"
   ]
  }
 ],
 "metadata": {
  "kernelspec": {
   "display_name": "Python 2",
   "language": "python",
   "name": "python2"
  },
  "language_info": {
   "codemirror_mode": {
    "name": "ipython",
    "version": 2
   },
   "file_extension": ".py",
   "mimetype": "text/x-python",
   "name": "python",
   "nbconvert_exporter": "python",
   "pygments_lexer": "ipython2",
   "version": "2.7.12"
  }
 },
 "nbformat": 4,
 "nbformat_minor": 2
}
