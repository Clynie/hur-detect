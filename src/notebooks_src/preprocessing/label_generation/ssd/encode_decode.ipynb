{
 "cells": [
  {
   "cell_type": "code",
   "execution_count": 1,
   "metadata": {
    "collapsed": true
   },
   "outputs": [],
   "source": [
    "import sys\n",
    "from nbfinder import NotebookFinder\n",
    "sys.meta_path.append(NotebookFinder())\n",
    "import numpy as np\n",
    "import tensorflow as tf"
   ]
  },
  {
   "cell_type": "code",
   "execution_count": 2,
   "metadata": {
    "collapsed": true
   },
   "outputs": [],
   "source": [
    "def bboxes_encode(labels, bboxes, anchors,\n",
    "                  scope=None):\n",
    "    \"\"\"Encode labels and bounding boxes.\n",
    "    \"\"\"\n",
    "    return ssd_common.tf_ssd_bboxes_encode(\n",
    "        labels, bboxes, anchors,\n",
    "        self.params.num_classes,\n",
    "        self.params.no_annotation_label,\n",
    "        ignore_threshold=0.5,\n",
    "        prior_scaling=self.params.prior_scaling,\n",
    "        scope=scope)\n",
    "\n",
    "def bboxes_decode(feat_localizations, anchors,\n",
    "                  scope='ssd_bboxes_decode'):\n",
    "    \"\"\"Encode labels and bounding boxes.\n",
    "    \"\"\"\n",
    "    return ssd_common.tf_ssd_bboxes_decode(\n",
    "        feat_localizations, anchors,\n",
    "        prior_scaling=self.params.prior_scaling,\n",
    "        scope=scope)"
   ]
  },
  {
   "cell_type": "code",
   "execution_count": null,
   "metadata": {
    "collapsed": true
   },
   "outputs": [],
   "source": []
  }
 ],
 "metadata": {
  "kernelspec": {
   "display_name": "Python 2",
   "language": "python",
   "name": "python2"
  },
  "language_info": {
   "codemirror_mode": {
    "name": "ipython",
    "version": 2
   },
   "file_extension": ".py",
   "mimetype": "text/x-python",
   "name": "python",
   "nbconvert_exporter": "python",
   "pygments_lexer": "ipython2",
   "version": "2.7.12"
  }
 },
 "nbformat": 4,
 "nbformat_minor": 2
}
