{
 "cells": [
  {
   "cell_type": "code",
   "execution_count": 2,
   "metadata": {
    "collapsed": false
   },
   "outputs": [
    {
     "name": "stdout",
     "output_type": "stream",
     "text": [
      "box_encode_decode_configs\n",
      "box_encode_decode_configs\n",
      "tensorboard_configs\n",
      "fit_configs\n",
      "labels_configs\n",
      "load_data_configs\n",
      "losses_configs\n",
      "metrics_configs\n",
      "models_configs\n",
      "optimizers_configs\n",
      "tensorboard_configs\n",
      "fit_configs\n",
      "labels_configs\n",
      "load_data_configs\n",
      "losses_configs\n",
      "metrics_configs\n",
      "models_configs\n",
      "optimizers_configs\n"
     ]
    }
   ],
   "source": [
    "import tensorflow as tf\n",
    "import sys\n",
    "from nbfinder import NotebookFinder\n",
    "sys.meta_path.append(NotebookFinder())\n",
    "import numpy as np\n",
    "if __name__ == \"__main__\":\n",
    "    sys.path.append(\"../../\")\n",
    "from notebooks_src.configs import configs"
   ]
  },
  {
   "cell_type": "code",
   "execution_count": 5,
   "metadata": {
    "collapsed": true
   },
   "outputs": [],
   "source": [
    "def make_box_coords_relative(bboxes, im_shape=None):\n",
    "    #bboxes -> N,15,4 or something of that ilk 3D array (num_examples, max_boxes,number of coordinates)\n",
    "    if not im_shape:\n",
    "        im_shape = configs[\"input_shape\"][1:]\n",
    "    #zero out -1's just to be sure\n",
    "    bboxes = np.where(bboxes==-1.,0.,bboxes)\n",
    "    ymin_ind,ymax_ind, xmin_ind,  xmax_ind = range(4)\n",
    "    ydim, xdim = im_shape\n",
    "    bboxes[:,:, ymin_ind] /= float(ydim)\n",
    "    bboxes[:,:, ymax_ind] /= float(ydim)\n",
    "    bboxes[:, :, xmin_ind] /= float(xdim)\n",
    "    bboxes[:,:, xmax_ind] /= float(xdim)\n",
    "    return bboxes"
   ]
  },
  {
   "cell_type": "code",
   "execution_count": null,
   "metadata": {
    "collapsed": true
   },
   "outputs": [],
   "source": [
    "def extract_box_coordinates(bboxes):\n",
    "    ymin,ymax,xmin,xmax = [bboxes[:,:,i] for i in range(4)]\n",
    "    return ymin,ymax,xmin,xmax"
   ]
  }
 ],
 "metadata": {
  "kernelspec": {
   "display_name": "Python 2",
   "language": "python",
   "name": "python2"
  },
  "language_info": {
   "codemirror_mode": {
    "name": "ipython",
    "version": 2
   },
   "file_extension": ".py",
   "mimetype": "text/x-python",
   "name": "python",
   "nbconvert_exporter": "python",
   "pygments_lexer": "ipython2",
   "version": "2.7.12"
  }
 },
 "nbformat": 4,
 "nbformat_minor": 2
}
