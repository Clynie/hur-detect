{
 "cells": [
  {
   "cell_type": "code",
   "execution_count": 1,
   "metadata": {
    "collapsed": false
   },
   "outputs": [
    {
     "name": "stdout",
     "output_type": "stream",
     "text": [
      "importing Jupyter notebook from ../../notebooks_src/configs/box_encode_decode_configs.ipynb\n",
      "importing Jupyter notebook from ../../notebooks_src/configs/tensorboard_configs.ipynb\n",
      "importing Jupyter notebook from ../../notebooks_src/configs/fit_configs.ipynb\n",
      "importing Jupyter notebook from ../../notebooks_src/configs/labels_configs.ipynb\n",
      "importing Jupyter notebook from ../../notebooks_src/configs/load_data_configs.ipynb\n",
      "importing Jupyter notebook from ../../notebooks_src/configs/losses_configs.ipynb\n",
      "importing Jupyter notebook from ../../notebooks_src/configs/metrics_configs.ipynb\n",
      "importing Jupyter notebook from ../../notebooks_src/configs/models_configs.ipynb\n",
      "importing Jupyter notebook from ../../notebooks_src/configs/optimizers_configs.ipynb\n",
      "importing Jupyter notebook from ../../notebooks_src/box_processing/np_util.ipynb\n",
      "importing Jupyter notebook from ../../notebooks_src/box_processing/tf_box_util.ipynb\n",
      "importing Jupyter notebook from make_anchors_orig.ipynb\n"
     ]
    }
   ],
   "source": [
    "import tensorflow as tf\n",
    "import sys\n",
    "from nbfinder import NotebookFinder\n",
    "sys.meta_path.append(NotebookFinder())\n",
    "if __name__ == \"__main__\":\n",
    "    sys.path.append(\"../../\")\n",
    "from notebooks_src.configs import configs\n",
    "from notebooks_src.box_processing.np_util import make_box_coords_relative, extract_box_coordinates\n",
    "from notebooks_src.box_processing.tf_box_util import make_actual_gt_box_mask,ious_with_anchors, convert_to_xyminmax, encode_to_scaled_offsets,\\\n",
    "convert_to_yxhw\n",
    "import numpy as np\n",
    "from make_anchors_orig import make_anchors"
   ]
  },
  {
   "cell_type": "code",
   "execution_count": 2,
   "metadata": {
    "collapsed": true
   },
   "outputs": [],
   "source": [
    "def match_boxes(bboxes):\n",
    "    \"\"\"bboxes: numpy array B x max_boxes x 4 box coordinates for each batch, where B is number of Batches\n",
    "                * optionally may have -1's where there is no box (unnormalized by im size)\"\"\"\n",
    "    # zero out any negative ones\n",
    "    bboxes = np.where(bboxes==-1.,0.,bboxes)\n",
    "    bboxes = make_box_coords_relative(bboxes)\n",
    "    ymin, ymax, xmin,xmax = extract_box_coordinates(bboxes)\n",
    "    actual_gt_box_mask = make_actual_gt_box_mask(ymin, ymax, xmin, xmax)\n",
    "    #get anchors\n",
    "    all_anchors = make_anchors()\n",
    "    #get the shape of each anchor array -> same as fmap shapes\n",
    "    fmap_shapes = [anchor[0].shape[:2] for anchor in all_anchors]\n",
    "    #dictionary mapping fmap shape to anchors for that fmap shape\n",
    "    anchors_map = dict(zip(fmap_shapes,all_anchors))\n",
    "    x_mask_dict = {}\n",
    "    num_matches_dict = {}\n",
    "    for fmap_shape, anchors in anchors_map.iteritems():\n",
    "        x_mask, num_matches = _match_boxes(bboxes,anchors, actual_gt_box_mask)\n",
    "        x_mask_dict[fmap_shape] = x_mask\n",
    "        num_matches_dict[fmap_shape] = num_matches\n",
    "    return x_mask_dict, num_matches_dict, actual_gt_box_mask\n",
    "def _match_boxes(bboxes, anchors,actual_gt_box_mask, matching_threshold=0.5):\n",
    "    \"\"\"bboxes: numpy array B x max_boxes x 4 box coordinates for each batch, where B is number of Batches\n",
    "                   * 0's where no box, normalized \n",
    "       anchors_for_layer: list of 4 arrays (y,x,h,w)\n",
    "           * y and x is fm x fn x 1\n",
    "           * h and w are (M,) where M is number of anchor box shapes\"\"\"\n",
    "    aymin, aymax, axmin, axmax = preprocess_anchors(anchors)\n",
    "    ymin, ymax, xmin,xmax = extract_box_coordinates(bboxes)\n",
    "    ious = ious_with_anchors(anchors=[aymin, aymax, axmin, axmax], bbox=[ymin,ymax,xmin,xmax])\n",
    "    x_mask = make_x_mask(ious, actual_gt_box_mask, matching_threshold)\n",
    "    float_x_mask = tf.cast(x_mask,dtype=tf.float32)\n",
    "    num_matches = tf.reduce_sum(float_x_mask)\n",
    "    return x_mask, num_matches\n",
    "\n",
    "def preprocess_anchors(anchors):\n",
    "    # anchor processing\n",
    "    ay, ax, ah, aw = anchors\n",
    "    aymin, aymax, axmin, axmax= convert_to_xyminmax(ay, ax, ah, aw)\n",
    "    #pad with two dims at end of 1\n",
    "    aymin, aymax, axmin, axmax = [np.expand_dims(np.expand_dims(tens,axis=-1), axis=-1)\\\n",
    "                                  for tens in [aymin, aymax, axmin, axmax]]\n",
    "    return aymin, aymax, axmin, axmax\n",
    "\n",
    "def make_x_mask(ious, actual_gt_box_mask, matching_threshold):\n",
    "    max_iou_for_each_box = tf.reduce_max(ious, axis=[0,1,2])\n",
    "    best_box_mask = tf.greater_equal(x=ious, y=max_iou_for_each_box)\n",
    "    greater_than_match_thresh_mask = tf.greater_equal(x=ious, y=matching_threshold)\n",
    "    x_mask = tf.logical_or(greater_than_match_thresh_mask, best_box_mask)\n",
    "    x_mask = tf.logical_and(actual_gt_box_mask, x_mask)\n",
    "    x_mask = tf.transpose(x_mask, perm=[3,0,1,2,4])\n",
    "    return x_mask"
   ]
  },
  {
   "cell_type": "code",
   "execution_count": 3,
   "metadata": {
    "collapsed": false
   },
   "outputs": [
    {
     "name": "stdout",
     "output_type": "stream",
     "text": [
      "(5, 96, 144, 4, 15)\n"
     ]
    }
   ],
   "source": [
    "if __name__ == \"__main__\":\n",
    "    import h5py\n",
    "    bbox = h5py.File(configs[\"tr_data_file\"])[\"boxes\"][7:12]\n",
    "    x,n,am= match_boxes(bbox)\n",
    "    \n",
    "    with tf.Session() as sess:\n",
    "        print sess.run(x[(96,144)]).shape"
   ]
  },
  {
   "cell_type": "code",
   "execution_count": null,
   "metadata": {
    "collapsed": true
   },
   "outputs": [],
   "source": []
  }
 ],
 "metadata": {
  "kernelspec": {
   "display_name": "Python 2",
   "language": "python",
   "name": "python2"
  },
  "language_info": {
   "codemirror_mode": {
    "name": "ipython",
    "version": 2
   },
   "file_extension": ".py",
   "mimetype": "text/x-python",
   "name": "python",
   "nbconvert_exporter": "python",
   "pygments_lexer": "ipython2",
   "version": "2.7.12"
  }
 },
 "nbformat": 4,
 "nbformat_minor": 2
}
