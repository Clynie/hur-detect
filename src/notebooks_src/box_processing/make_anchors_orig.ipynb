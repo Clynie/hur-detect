{
 "cells": [
  {
   "cell_type": "code",
   "execution_count": 1,
   "metadata": {
    "collapsed": true
   },
   "outputs": [],
   "source": [
    "# Copyright 2016 Paul Balanca. All Rights Reserved.\n",
    "#\n",
    "# Licensed under the Apache License, Version 2.0 (the \"License\");\n",
    "# you may not use this file except in compliance with the License.\n",
    "# You may obtain a copy of the License at\n",
    "#\n",
    "#     http://www.apache.org/licenses/LICENSE-2.0\n",
    "#\n",
    "# Unless required by applicable law or agreed to in writing, software\n",
    "# distributed under the License is distributed on an \"AS IS\" BASIS,\n",
    "# WITHOUT WARRANTIES OR CONDITIONS OF ANY KIND, either express or implied.\n",
    "# See the License for the specific language governing permissions and\n",
    "# limitations under the License.\n",
    "# ==============================================================================\n",
    "#Thanks, Paul!^\n",
    "import sys\n",
    "from nbfinder import NotebookFinder\n",
    "sys.meta_path.append(NotebookFinder())\n",
    "import math\n",
    "from collections import namedtuple\n",
    "\n",
    "import numpy as np\n",
    "import tensorflow as tf\n",
    "\n",
    "if __name__ == \"__main__\":\n",
    "    sys.path.append(\"../../\")\n",
    "from notebooks_src.configs import configs"
   ]
  },
  {
   "cell_type": "code",
   "execution_count": 3,
   "metadata": {
    "collapsed": false
   },
   "outputs": [],
   "source": [
    "def make_anchors_for_one_fmap(img_shape, feat_shape, dtype=np.float32):\n",
    "    ind = configs[\"feat_shapes\"].index(feat_shape)\n",
    "    return ssd_anchor_one_layer(img_shape,\n",
    "                      feat_shape,\n",
    "                      configs[\"anchor_sizes\"][ind],\n",
    "                      configs[\"anchor_ratios\"][ind],\n",
    "                      configs[\"anchor_steps\"][ind],\n",
    "                      configs[\"anchor_offset\"],\n",
    "                     dtype=np.float32)\n"
   ]
  },
  {
   "cell_type": "code",
   "execution_count": 4,
   "metadata": {
    "collapsed": true
   },
   "outputs": [],
   "source": [
    "# ======================================================================= #\n",
    "def make_anchors(img_shape=configs[\"input_shape\"][-2:], dtype=np.float32):\n",
    "    \"\"\"Compute the default anchor boxes, given an image shape.\n",
    "    \"\"\"\n",
    "    return ssd_anchors_all_layers(img_shape,\n",
    "                                  configs[\"feat_shapes\"],\n",
    "                                  configs[\"anchor_sizes\"],\n",
    "                                  configs[\"anchor_ratios\"],\n",
    "                                  configs[\"anchor_steps\"],\n",
    "                                  configs[\"anchor_offset\"],\n",
    "                                  dtype)"
   ]
  },
  {
   "cell_type": "code",
   "execution_count": 5,
   "metadata": {
    "collapsed": true
   },
   "outputs": [],
   "source": [
    "def ssd_anchors_all_layers(img_shape,\n",
    "                       layers_shape,\n",
    "                       anchor_sizes,\n",
    "                       anchor_ratios,\n",
    "                       anchor_steps,\n",
    "                       offset=0.5,\n",
    "                       dtype=np.float32):\n",
    "    \"\"\"Compute anchor boxes for all feature layers.\n",
    "    \"\"\"\n",
    "    layers_anchors = []\n",
    "    for i, s in enumerate(layers_shape):\n",
    "        anchor_bboxes = ssd_anchor_one_layer(img_shape, s,\n",
    "                                             anchor_sizes[i],\n",
    "                                             anchor_ratios[i],\n",
    "                                             anchor_steps[i],\n",
    "                                             offset=offset, dtype=dtype)\n",
    "        layers_anchors.append(anchor_bboxes)\n",
    "    return layers_anchors"
   ]
  },
  {
   "cell_type": "code",
   "execution_count": 6,
   "metadata": {
    "collapsed": true
   },
   "outputs": [],
   "source": [
    "def ssd_anchor_one_layer(img_shape,\n",
    "                     feat_shape,\n",
    "                     sizes,\n",
    "                     ratios,\n",
    "                     step,\n",
    "                     offset=0.5,\n",
    "                     dtype=np.float32):\n",
    "    \"\"\"Computer SSD default anchor boxes for one feature layer.\n",
    "\n",
    "    Determine the relative position grid of the centers, and the relative\n",
    "    width and height.\n",
    "\n",
    "    Arguments:\n",
    "      feat_shape: Feature shape, used for computing relative position grids;\n",
    "      size: Absolute reference sizes;\n",
    "      ratios: Ratios to use on these features;\n",
    "      img_shape: Image shape, used for computing height, width relatively to the\n",
    "        former;\n",
    "      offset: Grid offset.\n",
    "\n",
    "    Return:\n",
    "      y, x, h, w: Relative x and y grids, and height and width.\n",
    "    \"\"\"\n",
    "    # Compute the position grid: simple way.\n",
    "    # y, x = np.mgrid[0:feat_shape[0], 0:feat_shape[1]]\n",
    "    # y = (y.astype(dtype) + offset) / feat_shape[0]\n",
    "    # x = (x.astype(dtype) + offset) / feat_shape[1]\n",
    "    # Weird SSD-Caffe computation using steps values...\n",
    "    y, x = np.mgrid[0:feat_shape[0], 0:feat_shape[1]]\n",
    "    y = (y.astype(dtype) + offset) * step / img_shape[0]\n",
    "    x = (x.astype(dtype) + offset) * step / img_shape[1]\n",
    "\n",
    "    # Expand dims to support easy broadcasting.\n",
    "    y = np.expand_dims(y, axis=-1)\n",
    "    x = np.expand_dims(x, axis=-1)\n",
    "\n",
    "    # Compute relative height and width.\n",
    "    # Tries to follow the original implementation of SSD for the order.\n",
    "    num_anchors = len(sizes) + len(ratios)\n",
    "    h = np.zeros((num_anchors, ), dtype=dtype)\n",
    "    w = np.zeros((num_anchors, ), dtype=dtype)\n",
    "    # Add first anchor boxes with ratio=1.\n",
    "    h[0] = sizes[0] / img_shape[0]\n",
    "    w[0] = sizes[0] / img_shape[1]\n",
    "    di = 1\n",
    "    if len(sizes) > 1:\n",
    "        h[1] = math.sqrt(sizes[0] * sizes[1]) / img_shape[0]\n",
    "        w[1] = math.sqrt(sizes[0] * sizes[1]) / img_shape[1]\n",
    "        di += 1\n",
    "    for i, r in enumerate(ratios):\n",
    "        h[i+di] = sizes[0] / img_shape[0] / math.sqrt(r)\n",
    "        w[i+di] = sizes[0] / img_shape[1] * math.sqrt(r)\n",
    "    return y, x, h, w"
   ]
  },
  {
   "cell_type": "code",
   "execution_count": null,
   "metadata": {
    "collapsed": true
   },
   "outputs": [],
   "source": []
  },
  {
   "cell_type": "code",
   "execution_count": null,
   "metadata": {
    "collapsed": true
   },
   "outputs": [],
   "source": []
  },
  {
   "cell_type": "code",
   "execution_count": 12,
   "metadata": {
    "collapsed": false
   },
   "outputs": [
    {
     "data": {
      "text/plain": [
       "4"
      ]
     },
     "execution_count": 12,
     "metadata": {},
     "output_type": "execute_result"
    }
   ],
   "source": [
    "make_anchors()[0][2].size"
   ]
  },
  {
   "cell_type": "code",
   "execution_count": null,
   "metadata": {
    "collapsed": true
   },
   "outputs": [],
   "source": []
  }
 ],
 "metadata": {
  "kernelspec": {
   "display_name": "Python 2",
   "language": "python",
   "name": "python2"
  },
  "language_info": {
   "codemirror_mode": {
    "name": "ipython",
    "version": 2
   },
   "file_extension": ".py",
   "mimetype": "text/x-python",
   "name": "python",
   "nbconvert_exporter": "python",
   "pygments_lexer": "ipython2",
   "version": "2.7.12"
  }
 },
 "nbformat": 4,
 "nbformat_minor": 2
}
