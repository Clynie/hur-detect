{
 "cells": [
  {
   "cell_type": "code",
   "execution_count": 3,
   "metadata": {
    "collapsed": false
   },
   "outputs": [],
   "source": [
    "import sys\n",
    "from nbfinder import NotebookFinder\n",
    "sys.meta_path.append(NotebookFinder())\n",
    "if __name__ == \"__main__\":\n",
    "    sys.path.append(\"../../\")\n",
    "import tensorflow as tf\n",
    "from notebooks_src.configs import configs"
   ]
  },
  {
   "cell_type": "code",
   "execution_count": 4,
   "metadata": {
    "collapsed": true
   },
   "outputs": [],
   "source": [
    "def zero_out_negatives(tensor):\n",
    "    return tf.where(tensor < 0, tf.zeros_like(tensor), tensor)"
   ]
  },
  {
   "cell_type": "code",
   "execution_count": 5,
   "metadata": {
    "collapsed": true
   },
   "outputs": [],
   "source": [
    "def extract_box_coordinates(bboxes):\n",
    "    bboxes = zero_out_negatives(bboxes)\n",
    "    \n",
    "    ymin,xmin, ymax, xmax = make_box_coords_relative(bboxes)\n",
    "   \n",
    "    return ymin,xmin, ymax, xmax"
   ]
  },
  {
   "cell_type": "code",
   "execution_count": 7,
   "metadata": {
    "collapsed": true
   },
   "outputs": [],
   "source": [
    "def separate_out_box_coords(bboxes):\n",
    "    last_axis = len(bboxes.get_shape()) - 1\n",
    "    ymin,ymax, xmin, xmax = tf.split(value=bboxes,num_or_size_splits=4,axis=last_axis)\n",
    "    ymin,ymax, xmin, xmax = [tf.squeeze(tens) for tens in [ymin,ymax, xmin, xmax] ]\n",
    "    return ymin,xmin, ymax, xmax"
   ]
  },
  {
   "cell_type": "code",
   "execution_count": 20,
   "metadata": {
    "collapsed": true
   },
   "outputs": [],
   "source": [
    "def make_box_coords_relative(bboxes, im_shape=None):\n",
    "    bboxes = tf.cast(x=bboxes, dtype=tf.float32)\n",
    "    if not im_shape:\n",
    "        im_shape = configs[\"input_shape\"][1:]\n",
    "    \n",
    "    \n",
    "    ymin,xmin, ymax, xmax = separate_out_box_coords(bboxes)\n",
    "\n",
    "    ydim, xdim = im_shape\n",
    "    \n",
    "    ymin = ymin / float(ydim)\n",
    "    ymax = ymax / float(ydim)\n",
    "    xmin = xmin / float(xdim)\n",
    "    xmax = xmax / float(xdim)\n",
    "    \n",
    "    bboxes = tf.stack([ymin,xmin, ymax, xmax], axis=-1)\n",
    "    return bboxes"
   ]
  },
  {
   "cell_type": "code",
   "execution_count": 9,
   "metadata": {
    "collapsed": true
   },
   "outputs": [],
   "source": [
    "def convert_to_yxhw(ymin, ymax,xmin, xmax):\n",
    "    # Transform to center / size.\n",
    "    cy = (ymax + ymin) / 2.\n",
    "    cx = (xmax + xmin) / 2.\n",
    "    h = ymax - ymin\n",
    "    w = xmax - xmin\n",
    "    return cy,cx,h,w"
   ]
  },
  {
   "cell_type": "code",
   "execution_count": 10,
   "metadata": {
    "collapsed": true
   },
   "outputs": [],
   "source": [
    "def convert_to_xyminmax(y, x, h, w):\n",
    "    ymin = y - h / 2.\n",
    "    xmin = x - w / 2.\n",
    "    ymax = y + h / 2.\n",
    "    xmax = x + w / 2.\n",
    "    return ymin,ymax,xmin,xmax"
   ]
  },
  {
   "cell_type": "code",
   "execution_count": 11,
   "metadata": {
    "collapsed": true
   },
   "outputs": [],
   "source": [
    "def encode_to_scaled_offsets(cy,cx,h,w, yref, xref, href, wref):\n",
    "\n",
    "    cy,cx,h,w, yref, xref, href, wref = [tf.cast(arr,tf.float32) for arr in [cy,cx,h,w, yref, xref, href, wref]]\n",
    "    # Encode features.\n",
    "    \n",
    "    cy = tf.expand_dims((cy - yref), axis=-1) / href\n",
    "    cx = tf.expand_dims((cx - xref), axis=-1) / wref\n",
    "    \n",
    "    # some infs will be made here b/c some h's and w's are 0 and log(0) is -inf\n",
    "    # we can't just mask them out b/c 0 * -inf is nan, so we set them to 0. well instead of multiplying\n",
    "    # by mask, we use where or boolean mask maybe?\n",
    "    h = tf.log(tf.expand_dims(h, axis=-1) / href)\n",
    "    w = tf.log(tf.expand_dims(w, axis=-1) / wref)\n",
    "    \n",
    "    fmap_y, fmap_x = cy.shape[:2]\n",
    "    empty_fmap = tf.ones(shape=(fmap_y,fmap_x,1,1,1), dtype=tf.float32)\n",
    "    h = h* empty_fmap\n",
    "    w = w* empty_fmap\n",
    "    return cy,cx,h,w\n",
    "    "
   ]
  },
  {
   "cell_type": "code",
   "execution_count": null,
   "metadata": {
    "collapsed": true
   },
   "outputs": [],
   "source": []
  },
  {
   "cell_type": "code",
   "execution_count": 12,
   "metadata": {
    "collapsed": true
   },
   "outputs": [],
   "source": [
    "def make_actual_gt_box_mask(bboxes):\n",
    "    ymin, ymax,xmin,xmax = extract_box_coordinates(bboxes)\n",
    "    actual_gt_box_mask = _make_actual_gt_box_mask(ymin,ymax,xmin,xmax)\n",
    "    return actual_gt_box_mask"
   ]
  },
  {
   "cell_type": "code",
   "execution_count": 13,
   "metadata": {
    "collapsed": true
   },
   "outputs": [],
   "source": [
    "def _make_actual_gt_box_mask(ymin,ymax,xmin,xmax):\n",
    "    both_ys_nonzero = tf.logical_and(tf.greater(ymin,0.),tf.greater(ymax,0.))\n",
    "    both_xs_nonzero = tf.logical_and(tf.greater(xmin,0.),tf.greater(xmax,0.))\n",
    "    actual_gt_box_mask = tf.logical_and(both_xs_nonzero, both_ys_nonzero)\n",
    "    return actual_gt_box_mask"
   ]
  },
  {
   "cell_type": "code",
   "execution_count": 14,
   "metadata": {
    "collapsed": false
   },
   "outputs": [],
   "source": [
    "def ious_with_reference_boxes(bboxes, reference_boxes, scope=\"anchors\"):\n",
    "    #ious is y,x,num_anchors, batch_size, max_boxes(15)\n",
    "    \"\"\"Compute jaccard score between a box and the anchors.\n",
    "        bbox: one or more boxes of [bymin, bymax, bxmin, bxmax]\n",
    "        anchors: a list of arrays [aymin,aymax,axmin,axmax]\n",
    "    \"\"\"\n",
    "    bymin, bymax, bxmin, bxmax = bboxes\n",
    "    aymin, aymax, axmin, axmax = reference_boxes\n",
    "    \n",
    "    int_ymin = tf.maximum(aymin, bymin)\n",
    "    int_xmin = tf.maximum(axmin, bxmin)\n",
    "    int_ymax = tf.minimum(aymax, bymax)\n",
    "    int_xmax = tf.minimum(axmax, bxmax)\n",
    "    h = tf.maximum(int_ymax - int_ymin, 0.)\n",
    "    w = tf.maximum(int_xmax - int_xmin, 0.)\n",
    "    \n",
    "    anchors_areas = (aymax - aymin) * (axmax - axmin)\n",
    "    bbox_area = (bymax - bymin) * (bxmax - bxmin)\n",
    "\n",
    "    \n",
    "    intersections = h * w\n",
    "    union = anchors_areas + bbox_area - intersections\n",
    "    ious = tf.div(intersections, union)\n",
    "    with tf.name_scope(\"ious_\" + scope):\n",
    "        tf.summary.histogram(\"ious\", tf.reshape(ious,[-1]))\n",
    "    return ious"
   ]
  },
  {
   "cell_type": "code",
   "execution_count": 15,
   "metadata": {
    "collapsed": true
   },
   "outputs": [],
   "source": [
    "def convert_tf_shape_to_int_tuple(tf_shape):\n",
    "    return tuple([dim.value for dim in tf_shape])"
   ]
  },
  {
   "cell_type": "code",
   "execution_count": 16,
   "metadata": {
    "collapsed": true
   },
   "outputs": [],
   "source": [
    "def zero_out_negative_rows(tensor):\n",
    "    \"\"\"takes Nx15x5 tensor\"\"\"\n",
    "    tmask = tf.cast(tensor >= 0, dtype=tensor.dtype)\n",
    "    tensor = tf.multiply(tmask, tensor)\n",
    "    return tensor\n",
    "    \n",
    "    \n",
    "\n",
    "def split_boxes_labels(label_tensor, axis=1):\n",
    "    bboxes, classes = tf.split(label_tensor, axis=axis,num_or_size_splits=[4,1])\n",
    "    return bboxes, classes\n",
    "\n",
    "def mask_out_negative_rows(tensor):\n",
    "    tmask = tf.cast(tensor >= 0, dtype=tensor.dtype)\n",
    "    tensor = tf.boolean_mask(mask=tmask,tensor=tensor)\n",
    "    return tensor"
   ]
  },
  {
   "cell_type": "code",
   "execution_count": null,
   "metadata": {
    "collapsed": true
   },
   "outputs": [],
   "source": []
  }
 ],
 "metadata": {
  "kernelspec": {
   "display_name": "Python 2",
   "language": "python",
   "name": "python2"
  },
  "language_info": {
   "codemirror_mode": {
    "name": "ipython",
    "version": 2
   },
   "file_extension": ".py",
   "mimetype": "text/x-python",
   "name": "python",
   "nbconvert_exporter": "python",
   "pygments_lexer": "ipython2",
   "version": "2.7.12"
  }
 },
 "nbformat": 4,
 "nbformat_minor": 2
}
