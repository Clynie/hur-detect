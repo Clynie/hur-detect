{
 "cells": [
  {
   "cell_type": "code",
   "execution_count": 1,
   "metadata": {
    "collapsed": false
   },
   "outputs": [
    {
     "name": "stdout",
     "output_type": "stream",
     "text": [
      "importing Jupyter notebook from make_anchors_orig.ipynb\n",
      "importing Jupyter notebook from ../../notebooks_src/configs/box_encode_decode_configs.ipynb\n",
      "importing Jupyter notebook from ../../notebooks_src/configs/tensorboard_configs.ipynb\n",
      "importing Jupyter notebook from ../../notebooks_src/configs/fit_configs.ipynb\n",
      "importing Jupyter notebook from ../../notebooks_src/configs/labels_configs.ipynb\n",
      "importing Jupyter notebook from ../../notebooks_src/configs/load_data_configs.ipynb\n",
      "importing Jupyter notebook from ../../notebooks_src/configs/losses_configs.ipynb\n",
      "importing Jupyter notebook from ../../notebooks_src/configs/metrics_configs.ipynb\n",
      "importing Jupyter notebook from ../../notebooks_src/configs/models_configs.ipynb\n",
      "importing Jupyter notebook from ../../notebooks_src/configs/optimizers_configs.ipynb\n",
      "importing Jupyter notebook from ../../notebooks_src/box_processing/np_util.ipynb\n",
      "importing Jupyter notebook from ../../notebooks_src/box_processing/tf_box_util.ipynb\n"
     ]
    }
   ],
   "source": [
    "import sys\n",
    "from nbfinder import NotebookFinder\n",
    "sys.meta_path.append(NotebookFinder())\n",
    "import numpy as np\n",
    "import tensorflow as tf\n",
    "if __name__ == \"__main__\":\n",
    "    sys.path.append(\"../../\")\n",
    "from make_anchors_orig import make_anchors\n",
    "from notebooks_src.configs import configs\n",
    "from notebooks_src.box_processing.np_util import make_box_coords_relative, extract_box_coordinates\n",
    "from notebooks_src.box_processing.tf_box_util import ious_with_anchors, convert_to_xyminmax,\\\n",
    "encode_to_scaled_offsets, convert_to_yxhw,make_actual_gt_box_mask\n",
    "import numpy as np\n",
    "from make_anchors_orig import make_anchors\n"
   ]
  },
  {
   "cell_type": "code",
   "execution_count": 53,
   "metadata": {
    "collapsed": false
   },
   "outputs": [],
   "source": [
    "def encode(bboxes, labels):\n",
    "    labels = np.where(labels==-1.,0.,labels)\n",
    "    bboxes = np.where(bboxes==-1.,0.,bboxes)\n",
    "    bboxes = make_box_coords_relative(bboxes)\n",
    "    ymin, ymax, xmin,xmax = extract_box_coordinates(bboxes)\n",
    "    actual_gt_box_mask = make_actual_gt_box_mask(ymin, ymax, xmin, xmax)\n",
    "    all_anchors = make_anchors()\n",
    "    #get the shape of each anchor array -> same as fmap shapes\n",
    "    fmap_shapes = [anchor[0].shape[:2] for anchor in all_anchors]\n",
    "    #dictionary mapping fmap shape to anchors for that fmap shape\n",
    "    anchors_map = dict(zip(fmap_shapes,all_anchors))\n",
    "    \n",
    "    encoded_boxes_dict = {}\n",
    "    encoded_labels_dict = {}\n",
    "    for fmap_shape, anchors in anchors_map.iteritems():\n",
    "        encoded_boxes_dict[fmap_shape] = _encode_boxes(bboxes, anchors)\n",
    "        encoded_labels_dict[fmap_shape] = _encode_labels(labels, anchors)\n",
    "        \n",
    "    return encoded_boxes_dict, encoded_labels_dict\n",
    "        \n",
    "        \n",
    "        \n",
    "        \n",
    "    \n",
    "    \n",
    "    "
   ]
  },
  {
   "cell_type": "code",
   "execution_count": 86,
   "metadata": {
    "collapsed": true
   },
   "outputs": [],
   "source": [
    "def _encode_labels(labels, anchors):\n",
    "    ay, ax, ah, aw = anchors\n",
    "    print (ay*ah).shape\n",
    "    encoded_labels = labels * tf.expand_dims(tf.expand_dims(tf.ones_like(ay*ah),axis=-1),axis=-1)\n",
    "    encoded_labels = tf.transpose(encoded_labels,perm=[3,0,1,2,4])\n",
    "    return encoded_labels\n",
    "   # tf.transpose(encoded_labels,perm=[])"
   ]
  },
  {
   "cell_type": "code",
   "execution_count": 87,
   "metadata": {
    "collapsed": true
   },
   "outputs": [],
   "source": [
    "def expand_anchors(anchors):\n",
    "    ay, ax, ah, aw = anchors\n",
    "    ay, ax = [np.expand_dims(tens, axis=-1) for tens in [ay,ax]]\n",
    "    return ay,ax,ah,aw\n",
    "    "
   ]
  },
  {
   "cell_type": "code",
   "execution_count": 89,
   "metadata": {
    "collapsed": true
   },
   "outputs": [],
   "source": [
    "def _encode_boxes(bboxes, anchors):\n",
    "    ymin, ymax, xmin,xmax = extract_box_coordinates(bboxes)\n",
    "    cy,cx,h,w = convert_to_yxhw(ymin, ymax,xmin, xmax)\n",
    "    ay, ax, ah, aw = expand_anchors(anchors)\n",
    "    enc_y, enc_x, enc_h, enc_w = encode_to_scaled_offsets(cy,cx,h,w, ay, ax, ah, aw)\n",
    "    encoded_boxes = tf.stack([enc_y, enc_x, enc_h, enc_w],axis=-1)\n",
    "    encoded_boxes = tf.transpose(encoded_boxes,perm=(2,0,1,4,5,3))\n",
    "    return encoded_boxes\n",
    "    \n",
    "    "
   ]
  },
  {
   "cell_type": "code",
   "execution_count": 90,
   "metadata": {
    "collapsed": false
   },
   "outputs": [
    {
     "name": "stdout",
     "output_type": "stream",
     "text": [
      "(5, 15, 5)\n",
      "(6, 9, 6)\n",
      "(48, 72, 6)\n",
      "(24, 36, 6)\n",
      "(12, 18, 6)\n",
      "(96, 144, 4)\n",
      "(1, 1, 4)\n",
      "(3, 5, 4)\n"
     ]
    }
   ],
   "source": [
    "if __name__ == \"__main__\":\n",
    "    import h5py\n",
    "    bboxes = h5py.File(configs[\"tr_data_file\"])[\"boxes\"][7:12]\n",
    "    print bboxes.shape\n",
    "    bbox_coords = bboxes[:,:,:4]\n",
    "    labels = bboxes[:,:,4]\n",
    "    btens, ltens = encode(bbox_coords, labels)\n",
    "    \n",
    "    with tf.Session() as sess:\n",
    "        tens = sess.run(ltens)"
   ]
  }
 ],
 "metadata": {
  "kernelspec": {
   "display_name": "Python 2",
   "language": "python",
   "name": "python2"
  },
  "language_info": {
   "codemirror_mode": {
    "name": "ipython",
    "version": 2
   },
   "file_extension": ".py",
   "mimetype": "text/x-python",
   "name": "python",
   "nbconvert_exporter": "python",
   "pygments_lexer": "ipython2",
   "version": "2.7.12"
  }
 },
 "nbformat": 4,
 "nbformat_minor": 2
}
