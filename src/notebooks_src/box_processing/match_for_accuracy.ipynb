{
 "cells": [
  {
   "cell_type": "code",
   "execution_count": 2,
   "metadata": {
    "collapsed": false
   },
   "outputs": [],
   "source": [
    "import tensorflow as tf\n",
    "import sys\n",
    "from nbfinder import NotebookFinder\n",
    "sys.meta_path.append(NotebookFinder())\n",
    "if __name__ == \"__main__\":\n",
    "    sys.path.append(\"../../\")\n",
    "from notebooks_src.configs import configs\n",
    "from notebooks_src.box_processing.tf_box_util import make_actual_gt_box_mask,ious_with_anchors, convert_to_xyminmax, encode_to_scaled_offsets,\\\n",
    "convert_to_yxhw, make_box_coords_relative, extract_box_coordinates,zero_out_negatives\n",
    "import numpy as np\n",
    "from make_anchors_orig import make_anchors"
   ]
  },
  {
   "cell_type": "code",
   "execution_count": null,
   "metadata": {
    "collapsed": true
   },
   "outputs": [],
   "source": [
    "def map_match_boxes(bboxes, detected_bboxes, scores):\n",
    "    \"\"\"bboxes: numpy array B x max_boxes x 4 box coordinates for each batch, where B is number of Batches\n",
    "                * optionally may have -1's where there is no box (unnormalized by im size)\"\"\"\n",
    "    # zero out any negative ones\n",
    "    bboxes = zero_out_negatives(bboxes)\n",
    "    bboxes = make_box_coords_relative(bboxes)\n",
    "    ymin, ymax, xmin,xmax = extract_box_coordinates(bboxes)\n",
    "    actual_gt_box_mask = make_actual_gt_box_mask(ymin, ymax, xmin, xmax)\n",
    "    x_mask, tp_mask, num_matches = _match_boxes(bboxes,detected_boxes, actual_gt_box_mask)\n",
    "\n",
    "def _match_boxes(bboxes, detected_boxes,actual_gt_box_mask, matching_threshold=0.5):\n",
    "    \"\"\"bboxes: numpy array B x max_boxes x 4 box coordinates for each batch, where B is number of Batches\n",
    "                   * 0's where no box, normalized \n",
    "       anchors_for_layer: list of 4 arrays (y,x,h,w)\n",
    "           * y and x is fm x fn x 1\n",
    "           * h and w are (M,) where M is number of anchor box shapes\"\"\"\n",
    "    aymin, \n",
    "    aymax, \n",
    "    axmin, \n",
    "    axmax = preprocess_detected_boxes(detected_boxes)\n",
    "    ymin, ymax, xmin,xmax = extract_box_coordinates(bboxes)\n",
    "    \n",
    "    #should be y,x,num_detected, batch_size, max_boxes(15)?\n",
    "    ious = ious_with_anchors(anchors=[aymin, aymax, axmin, axmax], bbox=[ymin,ymax,xmin,xmax])\n",
    "    \n",
    "    with tf.name_scope(\"ious\"):\n",
    "        tf.summary.histogram(\"ious\", tf.reshape(ious,[-1]))\n",
    "    x_mask, tp_mask = make_x_mask(ious, actual_gt_box_mask, matching_threshold)\n",
    "    float_x_mask = tf.cast(x_mask,dtype=tf.float32)        \n",
    "    num_matches = tf.reduce_sum(float_x_mask)\n",
    "    return x_mask, tp_mask, num_matches\n",
    "\n",
    "def preprocess_detected_boxes(detected_boxes):\n",
    "    # anchor processin\n",
    "    ay, ax, ah, aw = detected_boxes\n",
    "    aymin, aymax, axmin, axmax= convert_to_xyminmax(ay, ax, ah, aw)\n",
    "    #pad with two dims at end of 1\n",
    "    aymin, aymax, axmin, axmax = [np.expand_dims(np.expand_dims(tens,axis=-1), axis=-1)\\\n",
    "                                  for tens in [aymin, aymax, axmin, axmax]]\n",
    "    return aymin, aymax, axmin, axmax\n",
    "\n",
    "def calc_tp_fp_mask(ious, actual_gt_box_mask, matching_threshold, scores):\n",
    "    # make mask of > 0.5\n",
    "    # tp -> make mask of highest \"confidence\", highest iou, box above 0.5 for each gt_box\n",
    "    # other boxes are fp\n",
    "    #max_iou_for_each_box = tf.reduce_max(ious, axis=[0,1,2])\n",
    "\n",
    "    best_box_mask = tf.greater_equal(x=ious, y=max_iou_for_each_box)\n",
    "\n",
    "    thresh_mask = tf.greater_equal(x=ious, y=matching_threshold)\n",
    "\n",
    "    tp_mask = tf.logical_or(thresh_mask, best_box_mask)\n",
    "\n",
    "    x_mask = tf.logical_and(actual_gt_box_mask, tp_mask)\n",
    "\n",
    "    x_mask = tf.transpose(x_mask, perm=[3,0,1,2,4])\n",
    "\n",
    "    #X_mask is (batch_size, y, x, num_anchors, max_boxes(15))\n",
    "    return x_mask, tp_mask"
   ]
  }
 ],
 "metadata": {
  "kernelspec": {
   "display_name": "Python 2",
   "language": "python",
   "name": "python2"
  },
  "language_info": {
   "codemirror_mode": {
    "name": "ipython",
    "version": 2
   },
   "file_extension": ".py",
   "mimetype": "text/x-python",
   "name": "python",
   "nbconvert_exporter": "python",
   "pygments_lexer": "ipython2",
   "version": "2.7.12"
  }
 },
 "nbformat": 4,
 "nbformat_minor": 2
}
