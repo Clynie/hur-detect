{
 "cells": [
  {
   "cell_type": "code",
   "execution_count": null,
   "metadata": {
    "collapsed": true
   },
   "outputs": [],
   "source": [
    "import sys\n",
    "from nbfinder import NotebookFinder\n",
    "sys.meta_path.append(NotebookFinder())\n",
    "import os \n",
    "import numpy as np\n",
    "\n",
    "\n",
    "kwargs_dict = dict(acc_stuff= { 'select_threshold': 0.01,\n",
    "                               'select_top_k': 400,\n",
    "                               'keep_top_k': 200,\n",
    "                               'nms_threshold': 0.45,\n",
    "                               'matching_threshold': 0.5})\n",
    "\n",
    "\n",
    "\n",
    "configs = {}\n",
    "for kwargs in kwargs_dict.values():\n",
    "    configs.update(kwargs)\n",
    "\n"
   ]
  }
 ],
 "metadata": {
  "kernelspec": {
   "display_name": "Python 2",
   "language": "python",
   "name": "python2"
  },
  "language_info": {
   "codemirror_mode": {
    "name": "ipython",
    "version": 2
   },
   "file_extension": ".py",
   "mimetype": "text/x-python",
   "name": "python",
   "nbconvert_exporter": "python",
   "pygments_lexer": "ipython2",
   "version": "2.7.12"
  }
 },
 "nbformat": 4,
 "nbformat_minor": 2
}
