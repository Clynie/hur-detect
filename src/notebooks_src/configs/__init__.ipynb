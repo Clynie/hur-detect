{
 "cells": [
  {
   "cell_type": "code",
   "execution_count": 1,
   "metadata": {
    "collapsed": false
   },
   "outputs": [],
   "source": [
    "import sys\n",
    "if __name__ == \"__main__\":\n",
    "    sys.path.append(\"../../\")\n",
    "from notebooks_src.nbfinder import NotebookFinder\n",
    "sys.meta_path.append(NotebookFinder())\n",
    "from os.path import dirname\n",
    "import argparse"
   ]
  },
  {
   "cell_type": "code",
   "execution_count": 2,
   "metadata": {
    "collapsed": true
   },
   "outputs": [],
   "source": [
    "import importlib"
   ]
  },
  {
   "cell_type": "code",
   "execution_count": 3,
   "metadata": {
    "collapsed": true
   },
   "outputs": [],
   "source": [
    "configs = {}"
   ]
  },
  {
   "cell_type": "code",
   "execution_count": 4,
   "metadata": {
    "collapsed": true
   },
   "outputs": [],
   "source": [
    "config_module_names = [\"box_encode_decode_configs\",\n",
    "                    \"callbacks_configs\",\n",
    "                    \"fit_configs\",\n",
    "                    \"labels_configs\",\n",
    "                    \"load_data_configs\",\n",
    "                    \"losses_configs\",\n",
    "                    \"metrics_configs\",\n",
    "                    \"models_configs\",\n",
    "                    \"optimizers_configs\"]"
   ]
  },
  {
   "cell_type": "code",
   "execution_count": 5,
   "metadata": {
    "collapsed": false
   },
   "outputs": [
    {
     "name": "stdout",
     "output_type": "stream",
     "text": [
      "box_encode_decode_configs\n",
      "box_encode_decode_configs\n",
      "importing Jupyter notebook from ../../notebooks_src/configs/box_encode_decode_configs.ipynb\n",
      "callbacks_configs\n",
      "importing Jupyter notebook from ../../notebooks_src/configs/callbacks_configs.ipynb\n",
      "fit_configs\n",
      "importing Jupyter notebook from ../../notebooks_src/configs/fit_configs.ipynb\n",
      "labels_configs\n",
      "importing Jupyter notebook from ../../notebooks_src/configs/labels_configs.ipynb\n",
      "load_data_configs\n",
      "importing Jupyter notebook from ../../notebooks_src/configs/load_data_configs.ipynb\n",
      "losses_configs\n",
      "importing Jupyter notebook from ../../notebooks_src/configs/losses_configs.ipynb\n",
      "metrics_configs\n",
      "importing Jupyter notebook from ../../notebooks_src/configs/metrics_configs.ipynb\n",
      "models_configs\n",
      "importing Jupyter notebook from ../../notebooks_src/configs/models_configs.ipynb\n",
      "importing Jupyter notebook from ../../notebooks_src/load_data/configs.ipynb\n",
      "optimizers_configs\n",
      "importing Jupyter notebook from ../../notebooks_src/configs/optimizers_configs.ipynb\n",
      "callbacks_configs\n",
      "fit_configs\n",
      "labels_configs\n",
      "load_data_configs\n",
      "losses_configs\n",
      "metrics_configs\n",
      "models_configs\n",
      "optimizers_configs\n"
     ]
    }
   ],
   "source": [
    "for config_module_name in config_module_names:\n",
    "    print config_module_name\n",
    "    config_module = importlib.import_module(\"notebooks_src.configs.\" + config_module_name)\n",
    "    configs_dict = config_module.configs\n",
    "    configs.update(configs_dict)"
   ]
  },
  {
   "cell_type": "code",
   "execution_count": 6,
   "metadata": {
    "collapsed": true
   },
   "outputs": [],
   "source": [
    "def _parse_cla(configs):\n",
    "    \n",
    "    if \"ipykernel\" in sys.argv[0]:\n",
    "        sys.argv = sys.argv[3:] if len(sys.argv) > 3 else [sys.argv[0]]\n",
    "    parser = argparse.ArgumentParser(formatter_class=argparse.ArgumentDefaultsHelpFormatter)\n",
    "    for k,v in configs.iteritems():\n",
    "        \n",
    "        if k is not \"variables\":\n",
    "            if type(v) is list:\n",
    "                parser.add_argument('--' + k, type=type(v[0]),nargs='+', default=v, help=k)\n",
    "            elif type(v) is bool:\n",
    "                parser.add_argument('--' + k, action='store_true', default=v, help=k)\n",
    "            else:   \n",
    "                parser.add_argument('--' + k, type=type(v), default=v, help=k)\n",
    "\n",
    "    args = parser.parse_args()\n",
    "    configs.update(args.__dict__)\n",
    "    return configs"
   ]
  },
  {
   "cell_type": "code",
   "execution_count": null,
   "metadata": {
    "collapsed": true
   },
   "outputs": [],
   "source": [
    "def convert_shape_to_tf(shape):\n",
    "    #shape is 3 dimensions\n",
    "    new_shape = (shape[1], shape[2], shape[0])\n",
    "    return new_shape"
   ]
  },
  {
   "cell_type": "code",
   "execution_count": 7,
   "metadata": {
    "collapsed": false
   },
   "outputs": [],
   "source": [
    "configs = _parse_cla(configs)"
   ]
  },
  {
   "cell_type": "code",
   "execution_count": null,
   "metadata": {
    "collapsed": true
   },
   "outputs": [],
   "source": [
    "configs[\"tensor_input_shape\"] = convert_shape_to_tf(configs[\"input_shape\"])"
   ]
  },
  {
   "cell_type": "code",
   "execution_count": 10,
   "metadata": {
    "collapsed": false
   },
   "outputs": [
    {
     "name": "stdout",
     "output_type": "stream",
     "text": [
      "[NbConvertApp] Converting notebook __init__.ipynb to script\n",
      "[NbConvertApp] Writing 2004 bytes to __init__.py\n"
     ]
    }
   ],
   "source": [
    "#! jupyter nbconvert --to script __init__.ipynb"
   ]
  },
  {
   "cell_type": "code",
   "execution_count": null,
   "metadata": {
    "collapsed": true
   },
   "outputs": [],
   "source": []
  }
 ],
 "metadata": {
  "kernelspec": {
   "display_name": "Python 2",
   "language": "python",
   "name": "python2"
  },
  "language_info": {
   "codemirror_mode": {
    "name": "ipython",
    "version": 2
   },
   "file_extension": ".py",
   "mimetype": "text/x-python",
   "name": "python",
   "nbconvert_exporter": "python",
   "pygments_lexer": "ipython2",
   "version": "2.7.12"
  }
 },
 "nbformat": 4,
 "nbformat_minor": 2
}
