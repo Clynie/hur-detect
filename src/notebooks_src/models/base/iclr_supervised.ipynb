{
 "cells": [
  {
   "cell_type": "code",
   "execution_count": 10,
   "metadata": {
    "collapsed": false
   },
   "outputs": [
    {
     "name": "stdout",
     "output_type": "stream",
     "text": [
      "importing Jupyter notebook from ../../../notebooks_src/models/configs.ipynb\n",
      "importing Jupyter notebook from ../../../notebooks_src/config_util.ipynb\n",
      "importing Jupyter notebook from ../../../notebooks_src/load_data/configs.ipynb\n",
      "importing Jupyter notebook from ../../../notebooks_src/models/iclr_semisupervised.ipynb\n",
      "importing Jupyter notebook from ../../../notebooks_src/models/util.ipynb\n",
      "importing Jupyter notebook from ../../../notebooks_src/models/iclr_supervised.ipynb\n"
     ]
    }
   ],
   "source": [
    "import sys\n",
    "from nbfinder import NotebookFinder\n",
    "sys.meta_path.append(NotebookFinder())\n",
    "import keras\n",
    "\n",
    "\n",
    "from keras.initializations import he_normal\n",
    "\n",
    "from keras.models import Model\n",
    "\n",
    "from keras.layers import Input, Conv2D\n",
    "if __name__ == \"__main__\":\n",
    "    sys.path.append(\"../../../\")\n",
    "from notebooks_src.models.util import make_model_data_struct   \n",
    "from notebooks_src.models.configs import configs\n",
    "\n",
    "from keras.regularizers import l2"
   ]
  },
  {
   "cell_type": "code",
   "execution_count": 11,
   "metadata": {
    "collapsed": false
   },
   "outputs": [],
   "source": [
    "encoder_num_filters_list = configs[\"num_filter_list\"]\n",
    "num_layers = len(encoder_num_filters_list)\n",
    "inp_shape = configs[\"tensor_input_shape\"]"
   ]
  },
  {
   "cell_type": "code",
   "execution_count": 12,
   "metadata": {
    "collapsed": false
   },
   "outputs": [],
   "source": [
    "input_ = Input(inp_shape)"
   ]
  },
  {
   "cell_type": "code",
   "execution_count": 13,
   "metadata": {
    "collapsed": false
   },
   "outputs": [],
   "source": [
    "conv_kwargs =  dict(border_mode=\"same\", init=configs[\"w_init\"], W_regularizer=l2(configs[\"w_decay\"]))"
   ]
  },
  {
   "cell_type": "code",
   "execution_count": 15,
   "metadata": {
    "collapsed": false
   },
   "outputs": [],
   "source": [
    "def encoder(inp):\n",
    "    layers = [inp]\n",
    "    x = inp\n",
    "    for lay_no in range(num_layers):\n",
    "        num_filters = encoder_num_filters_list[lay_no]\n",
    "        x = Conv2D(num_filters, 5,5, subsample=(2,2),activation=\"relu\", name=\"layer_\" + str(lay_no),**conv_kwargs  )(x)\n",
    "        layers.append(x)\n",
    "    return layers"
   ]
  },
  {
   "cell_type": "code",
   "execution_count": 26,
   "metadata": {
    "collapsed": true
   },
   "outputs": [],
   "source": [
    "def get_base_layers():\n",
    "    #returns a dictionary mapping the local receptive field size to a layer for all relevant layers\n",
    "    layers_list = encoder(inp = input_)\n",
    "    # add one b/c for n layers we want 0th layer up to and including nth layer (1st layer is 2^1 lrf, nth is 2^n)\n",
    "    lrf_list = [2**i for i in range(num_layers + 1)]\n",
    "    layers_dict = dict(zip(lrf_list, layers_list))\n",
    "    return layers_dict"
   ]
  },
  {
   "cell_type": "code",
   "execution_count": 5,
   "metadata": {
    "collapsed": false
   },
   "outputs": [
    {
     "name": "stdout",
     "output_type": "stream",
     "text": [
      "[NbConvertApp] Converting notebook iclr_supervised.ipynb to script\n",
      "[NbConvertApp] Writing 2105 bytes to iclr_supervised.py\n"
     ]
    }
   ],
   "source": [
    "#! jupyter nbconvert --to script iclr_supervised.ipynb"
   ]
  },
  {
   "cell_type": "code",
   "execution_count": null,
   "metadata": {
    "collapsed": true
   },
   "outputs": [],
   "source": []
  }
 ],
 "metadata": {
  "kernelspec": {
   "display_name": "Python 2",
   "language": "python",
   "name": "python2"
  },
  "language_info": {
   "codemirror_mode": {
    "name": "ipython",
    "version": 2
   },
   "file_extension": ".py",
   "mimetype": "text/x-python",
   "name": "python",
   "nbconvert_exporter": "python",
   "pygments_lexer": "ipython2",
   "version": "2.7.12"
  }
 },
 "nbformat": 4,
 "nbformat_minor": 2
}
