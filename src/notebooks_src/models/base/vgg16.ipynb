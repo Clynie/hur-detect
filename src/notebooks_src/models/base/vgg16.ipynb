{
 "cells": [
  {
   "cell_type": "code",
   "execution_count": 3,
   "metadata": {
    "collapsed": false
   },
   "outputs": [
    {
     "name": "stderr",
     "output_type": "stream",
     "text": [
      "Using TensorFlow backend.\n"
     ]
    },
    {
     "name": "stdout",
     "output_type": "stream",
     "text": [
      "importing Jupyter notebook from resnet_utils.ipynb\n",
      "importing Jupyter notebook from ../../../notebooks_src/models/configs.ipynb\n",
      "importing Jupyter notebook from ../../../notebooks_src/config_util.ipynb\n",
      "importing Jupyter notebook from ../../../notebooks_src/load_data/configs.ipynb\n"
     ]
    }
   ],
   "source": [
    "# -*- coding: utf-8 -*-\n",
    "\"\"\"VGG16 model for Keras.\n",
    "# Reference\n",
    "- [Very Deep Convolutional layersworks for Large-Scale Image Recognition](https://arxiv.org/abs/1409.1556)\n",
    "\"\"\"\n",
    "import sys\n",
    "from nbfinder import NotebookFinder\n",
    "sys.meta_path.append(NotebookFinder())\n",
    "import keras\n",
    "from keras.layers import Conv2D, BatchNormalization, Activation, MaxPooling2D,\\\n",
    "Flatten, ZeroPadding2D, AveragePooling2D, Dense, GlobalAveragePooling2D, GlobalMaxPooling2D, Input\n",
    "\n",
    "if __name__ == \"__main__\":\n",
    "    sys.path.append(\"../../../\") \n",
    "from notebooks_src.models.configs import configs\n",
    "from notebooks_src.load_data.configs import configs as data_configs\n",
    "configs.update(data_configs)\n",
    "\n",
    "#WEIGHTS_PATH = 'https://github.com/fchollet/deep-learning-models/releases/download/v0.1/vgg16_weights_tf_dim_ordering_tf_kernels.h5'\n",
    "WEIGHTS_PATH_NO_TOP = 'https://github.com/fchollet/deep-learning-models/releases/download/v0.1/vgg16_weights_tf_dim_ordering_tf_kernels_notop.h5'\n",
    "\n",
    "\n",
    "def VGG16(inp_shape):\n",
    "\n",
    "    layers = {}\n",
    "    img_input = Input(shape=inp_shape)\n",
    "    layers['input'] = img_input\n",
    "    layers['conv1_1'] = Conv2D(64, (3, 3),\n",
    "                                   activation='relu',\n",
    "                                   padding='same',\n",
    "                                   name='conv1_1')(layers['input'])\n",
    "    layers['conv1_2'] = Conv2D(64, (3, 3),\n",
    "                                   activation='relu',\n",
    "                                   padding='same',\n",
    "                                   name='conv1_2')(layers['conv1_1'])\n",
    "    layers['pool1'] = MaxPooling2D((2, 2), strides=(2, 2), padding='same',\n",
    "                                name='pool1')(layers['conv1_2'])\n",
    "    # Block 2\n",
    "    layers['conv2_1'] = Conv2D(128, (3, 3),\n",
    "                                   activation='relu',\n",
    "                                   padding='same',\n",
    "                                   name='conv2_1')(layers['pool1'])\n",
    "    layers['conv2_2'] = Conv2D(128, (3, 3),\n",
    "                                   activation='relu',\n",
    "                                   padding='same',\n",
    "                                   name='conv2_2')(layers['conv2_1'])\n",
    "    layers['pool2'] = MaxPooling2D((2, 2), strides=(2, 2), padding='same',\n",
    "                                name='pool2')(layers['conv2_2'])\n",
    "    # Block 3\n",
    "    layers['conv3_1'] = Conv2D(256, (3, 3),\n",
    "                                   activation='relu',\n",
    "                                   padding='same',\n",
    "                                   name='conv3_1')(layers['pool2'])\n",
    "    layers['conv3_2'] = Conv2D(256, (3, 3),\n",
    "                                   activation='relu',\n",
    "                                   padding='same',\n",
    "                                   name='conv3_2')(layers['conv3_1'])\n",
    "    layers['conv3_3'] = Conv2D(256, (3, 3),\n",
    "                                   activation='relu',\n",
    "                                   padding='same',\n",
    "                                   name='conv3_3')(layers['conv3_2'])\n",
    "    layers['pool3'] = MaxPooling2D((2, 2), strides=(2, 2), padding='same',\n",
    "                                name='pool3')(layers['conv3_3'])\n",
    "    # Block 4\n",
    "    layers['conv4_1'] = Conv2D(512, (3, 3),\n",
    "                                   activation='relu',\n",
    "                                   padding='same',\n",
    "                                   name='conv4_1')(layers['pool3'])\n",
    "    layers['conv4_2'] = Conv2D(512, (3, 3),\n",
    "                                   activation='relu',\n",
    "                                   padding='same',\n",
    "                                   name='conv4_2')(layers['conv4_1'])\n",
    "    layers['conv4_3'] = Conv2D(512, (3, 3),\n",
    "                                   activation='relu',\n",
    "                                   padding='same',\n",
    "                                   name='conv4_3')(layers['conv4_2'])\n",
    "    layers['pool4'] = MaxPooling2D((2, 2), strides=(2, 2), padding='same',\n",
    "                                name='pool4')(layers['conv4_3'])\n",
    "    # Block 5\n",
    "    layers['conv5_1'] = Conv2D(512, (3, 3),\n",
    "                                   activation='relu',\n",
    "                                   padding='same',\n",
    "                                   name='conv5_1')(layers['pool4'])\n",
    "    layers['conv5_2'] = Conv2D(512, (3, 3),\n",
    "                                   activation='relu',\n",
    "                                   padding='same',\n",
    "                                   name='conv5_2')(layers['conv5_1'])\n",
    "    layers['conv5_3'] = Conv2D(512, (3, 3),\n",
    "                                   activation='relu',\n",
    "                                   padding='same',\n",
    "                                   name='conv5_3')(layers['conv5_2'])\n",
    "    layers['pool5'] = MaxPooling2D((3, 3), strides=(1, 1), padding='same',\n",
    "                                name='pool5')(layers['conv5_3'])\n",
    "    return layers\n",
    "    "
   ]
  },
  {
   "cell_type": "code",
   "execution_count": 4,
   "metadata": {
    "collapsed": true
   },
   "outputs": [],
   "source": [
    "def get_base_layers(inp_shape=None):\n",
    "    if inp_shape is None:\n",
    "        inp_shape = configs[\"tensor_input_shape\"]\n",
    "    layers_dict = VGG16(inp_shape)\n",
    "    return layers_dict"
   ]
  },
  {
   "cell_type": "code",
   "execution_count": 5,
   "metadata": {
    "collapsed": false
   },
   "outputs": [
    {
     "data": {
      "text/plain": [
       "{'block1': <tf.Tensor 'block1_conv2/Relu:0' shape=(?, 768, 1152, 64) dtype=float32>,\n",
       " 'block2': <tf.Tensor 'block2_conv2/Relu:0' shape=(?, 384, 576, 128) dtype=float32>,\n",
       " 'block3': <tf.Tensor 'block3_conv3/Relu:0' shape=(?, 192, 288, 256) dtype=float32>,\n",
       " 'block4': <tf.Tensor 'block4_conv3/Relu:0' shape=(?, 96, 144, 512) dtype=float32>,\n",
       " 'block5': <tf.Tensor 'block5_conv3/Relu:0' shape=(?, 48, 72, 512) dtype=float32>,\n",
       " 'input': <tf.Tensor 'input_1:0' shape=(?, 768, 1152, 16) dtype=float32>,\n",
       " 'last': <tf.Tensor 'block5_pool/MaxPool:0' shape=(?, 24, 36, 512) dtype=float32>,\n",
       " 'pool4': <tf.Tensor 'block4_pool/MaxPool:0' shape=(?, 48, 72, 512) dtype=float32>,\n",
       " 'pool5': <tf.Tensor 'block5_pool/MaxPool:0' shape=(?, 24, 36, 512) dtype=float32>}"
      ]
     },
     "execution_count": 5,
     "metadata": {},
     "output_type": "execute_result"
    }
   ],
   "source": [
    "get_base_layers()"
   ]
  },
  {
   "cell_type": "code",
   "execution_count": null,
   "metadata": {
    "collapsed": true
   },
   "outputs": [],
   "source": []
  }
 ],
 "metadata": {
  "kernelspec": {
   "display_name": "Python 2",
   "language": "python",
   "name": "python2"
  },
  "language_info": {
   "codemirror_mode": {
    "name": "ipython",
    "version": 2
   },
   "file_extension": ".py",
   "mimetype": "text/x-python",
   "name": "python",
   "nbconvert_exporter": "python",
   "pygments_lexer": "ipython2",
   "version": "2.7.12"
  }
 },
 "nbformat": 4,
 "nbformat_minor": 2
}
