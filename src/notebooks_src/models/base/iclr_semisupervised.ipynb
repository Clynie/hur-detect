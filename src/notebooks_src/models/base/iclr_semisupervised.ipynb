{
 "cells": [
  {
   "cell_type": "code",
   "execution_count": 1,
   "metadata": {
    "collapsed": false
   },
   "outputs": [
    {
     "name": "stderr",
     "output_type": "stream",
     "text": [
      "Using TensorFlow backend.\n"
     ]
    },
    {
     "name": "stdout",
     "output_type": "stream",
     "text": [
      "importing Jupyter notebook from ../../../notebooks_src/models/configs.ipynb\n",
      "importing Jupyter notebook from ../../../notebooks_src/config_util.ipynb\n",
      "importing Jupyter notebook from ../../../notebooks_src/load_data/configs.ipynb\n",
      "importing Jupyter notebook from ../../../notebooks_src/models/util.ipynb\n",
      "importing Jupyter notebook from iclr_supervised.ipynb\n"
     ]
    }
   ],
   "source": [
    "import sys\n",
    "from nbfinder import NotebookFinder\n",
    "sys.meta_path.append(NotebookFinder())\n",
    "import keras\n",
    "\n",
    "from keras.models import Model\n",
    "\n",
    "from keras.layers import Input, Conv2D,Deconv2D\n",
    "if __name__ == \"__main__\":\n",
    "    sys.path.append(\"../../../\")\n",
    "from notebooks_src.models.configs import configs\n",
    "\n",
    "\n",
    "from keras.regularizers import l2\n",
    "\n",
    "from iclr_supervised import get_base_layers as supervised_get_base_layers"
   ]
  },
  {
   "cell_type": "code",
   "execution_count": 2,
   "metadata": {
    "collapsed": false
   },
   "outputs": [],
   "source": [
    "encoder_num_filters_list = configs[\"num_filter_list\"]\n",
    "num_layers = len(encoder_num_filters_list)\n",
    "inp_shape = configs[\"tensor_input_shape\"]"
   ]
  },
  {
   "cell_type": "code",
   "execution_count": 3,
   "metadata": {
    "collapsed": false
   },
   "outputs": [],
   "source": [
    "input_ = Input(inp_shape)"
   ]
  },
  {
   "cell_type": "code",
   "execution_count": 4,
   "metadata": {
    "collapsed": true
   },
   "outputs": [],
   "source": [
    "conv_kwargs =  dict(border_mode=\"same\", init=configs[\"w_init\"], W_regularizer=l2(configs[\"w_decay\"]))"
   ]
  },
  {
   "cell_type": "code",
   "execution_count": 5,
   "metadata": {
    "collapsed": false
   },
   "outputs": [],
   "source": [
    "def decoder(code_layer_output):\n",
    "    # us all filter sizes from encoder except for last, most recent one\n",
    "    decoder_num_filters_list = encoder_num_filters_list[:-1]\n",
    "    # use them in reverse\n",
    "    decoder_num_filters_list.reverse()\n",
    "    \n",
    "    # so the last layer gets to shape of input, last layer num_filters == input num channels\n",
    "    decoder_num_filters_list.append(inp_shape[-1])\n",
    "\n",
    "    x = code_layer_output\n",
    "    \n",
    "    for lay_no in range(num_layers):\n",
    "        num_filters = decoder_num_filters_list[lay_no]\n",
    "        o_shape = [None]+ [dim / 2**(num_layers - lay_no -1) for dim in inp_shape[0:2]] + [num_filters]\n",
    "        #print o_shape\n",
    "        if lay_no == num_layers - 1:\n",
    "            name = \"reconstruction\"\n",
    "        else:\n",
    "            name = \"deconv_\" + str(lay_no)\n",
    "        x = Deconv2D(num_filters, 5,5,subsample=(2,2), output_shape=o_shape,  name=name, **conv_kwargs)(x)\n",
    "\n",
    "\n",
    "    return x"
   ]
  },
  {
   "cell_type": "code",
   "execution_count": 6,
   "metadata": {
    "collapsed": true
   },
   "outputs": [],
   "source": [
    "encoder_layers = supervised_get_base_layers()"
   ]
  },
  {
   "cell_type": "code",
   "execution_count": 7,
   "metadata": {
    "collapsed": false
   },
   "outputs": [],
   "source": [
    "code_layer_output = encoder_layers[max(encoder_layers.keys())]"
   ]
  },
  {
   "cell_type": "code",
   "execution_count": 8,
   "metadata": {
    "collapsed": false
   },
   "outputs": [],
   "source": [
    "reconstruction = decoder(code_layer_output)"
   ]
  },
  {
   "cell_type": "code",
   "execution_count": 11,
   "metadata": {
    "collapsed": true
   },
   "outputs": [],
   "source": [
    "def get_base_layers():\n",
    "    layers = encoder_layers\n",
    "    layers[\"reconstruction\"] = reconstruction\n",
    "    return layers"
   ]
  },
  {
   "cell_type": "code",
   "execution_count": null,
   "metadata": {
    "collapsed": true
   },
   "outputs": [],
   "source": []
  }
 ],
 "metadata": {
  "kernelspec": {
   "display_name": "Python 2",
   "language": "python",
   "name": "python2"
  },
  "language_info": {
   "codemirror_mode": {
    "name": "ipython",
    "version": 2
   },
   "file_extension": ".py",
   "mimetype": "text/x-python",
   "name": "python",
   "nbconvert_exporter": "python",
   "pygments_lexer": "ipython2",
   "version": "2.7.12"
  }
 },
 "nbformat": 4,
 "nbformat_minor": 2
}
