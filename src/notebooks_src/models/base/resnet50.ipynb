{
 "cells": [
  {
   "cell_type": "code",
   "execution_count": 1,
   "metadata": {
    "collapsed": false
   },
   "outputs": [
    {
     "name": "stderr",
     "output_type": "stream",
     "text": [
      "Using TensorFlow backend.\n"
     ]
    },
    {
     "name": "stdout",
     "output_type": "stream",
     "text": [
      "importing Jupyter notebook from resnet_utils.ipynb\n",
      "importing Jupyter notebook from ../../../notebooks_src/models/configs.ipynb\n",
      "importing Jupyter notebook from ../../../notebooks_src/config_util.ipynb\n",
      "importing Jupyter notebook from ../../../notebooks_src/load_data/configs.ipynb\n"
     ]
    }
   ],
   "source": [
    "import sys\n",
    "from nbfinder import NotebookFinder\n",
    "sys.meta_path.append(NotebookFinder())\n",
    "import keras\n",
    "from keras.layers import Conv2D, BatchNormalization, Activation, MaxPooling2D,\\\n",
    "Flatten, ZeroPadding2D, AveragePooling2D, Dense, GlobalAveragePooling2D, GlobalMaxPooling2D, Input\n",
    "from resnet_utils import conv_block, identity_block\n",
    "if __name__ == \"__main__\":\n",
    "    sys.path.append(\"../../../\") \n",
    "from notebooks_src.models.configs import configs\n",
    "from notebooks_src.load_data.configs import configs as data_configs\n",
    "configs.update(data_configs)"
   ]
  },
  {
   "cell_type": "code",
   "execution_count": 2,
   "metadata": {
    "collapsed": false
   },
   "outputs": [],
   "source": [
    "# def ResNet50(include_top=True, weights='imagenet',\n",
    "#  input_tensor=None, input_shape=None,\n",
    "#  pooling=None,\n",
    "#  classes=1000):\n",
    "\"\"\"Instantiates the ResNet50 architecture.\n",
    "Optionally loads weights pre-trained\n",
    "on ImageNet\n",
    "# Arguments\n",
    "    weights: one of `None` (random initialization)\n",
    "        or \"imagenet\" (pre-training on ImageNet).\n",
    "    input_shape: optional shape tuple, only to be specified\n",
    "        if `include_top` is False (otherwise the input shape\n",
    "        has to be `(224, 224, 3)` (with `channels_last` data format)\n",
    "        or `(3, 224, 224)` (with `channels_first` data format).\n",
    "        It should have exactly 3 inputs channels,\n",
    "        and width and height should be no smaller than 197.\n",
    "        E.g. `(200, 200, 3)` would be one valid value.\n",
    "\n",
    "# Returns\n",
    "    A Keras model instance.\n",
    "\"\"\" \n",
    "inp_shape = configs[\"tensor_input_shape\"]\n",
    "\n",
    "img_input = Input(shape=inp_shape)\n",
    "\n",
    "layers = {}\n",
    "def ResNet50(img_input):\n",
    "    bn_axis = 3\n",
    "\n",
    "    layers=[\"input\"] = img_input\n",
    "\n",
    "    x = Conv2D(64, 7, 7, subsample=(2, 2),border_mode=\"same\", name='conv1')(img_input)\n",
    "    x = BatchNormalization(axis=bn_axis, name='bn_conv1')(x)\n",
    "    x = Activation('relu')(x)\n",
    "    layers[\"conv1\"] = x\n",
    "\n",
    "    x = MaxPooling2D((3, 3), strides=(2, 2),border_mode=\"same\")(x)\n",
    "    x = conv_block(x, 3, [64, 64, 256], stage=2, block='a', strides=(1, 1))\n",
    "    x = identity_block(x, 3, [64, 64, 256], stage=2, block='b')\n",
    "    x = identity_block(x, 3, [64, 64, 256], stage=2, block='c')\n",
    "    layers[\"conv2_x\"] = x\n",
    "\n",
    "\n",
    "    x = conv_block(x, 3, [128, 128, 512], stage=3, block='a', strides=(2,2))\n",
    "    x = identity_block(x, 3, [128, 128, 512], stage=3, block='b')\n",
    "    x = identity_block(x, 3, [128, 128, 512], stage=3, block='c')\n",
    "    x = identity_block(x, 3, [128, 128, 512], stage=3, block='d')\n",
    "    layers[\"conv3_x\"] = x\n",
    "\n",
    "    x = conv_block(x, 3, [256, 256, 1024], stage=4, block='a',strides=(2,2))\n",
    "    x = identity_block(x, 3, [256, 256, 1024], stage=4, block='b')\n",
    "    x = identity_block(x, 3, [256, 256, 1024], stage=4, block='c')\n",
    "    x = identity_block(x, 3, [256, 256, 1024], stage=4, block='d')\n",
    "    x = identity_block(x, 3, [256, 256, 1024], stage=4, block='e')\n",
    "    x = identity_block(x, 3, [256, 256, 1024], stage=4, block='f')\n",
    "    layers[\"conv4_x\"] = x\n",
    "\n",
    "    x = conv_block(x, 3, [512, 512, 2048], stage=5, block='a', strides=(2,2))\n",
    "    x = identity_block(x, 3, [512, 512, 2048], stage=5, block='b')\n",
    "    x = identity_block(x, 3, [512, 512, 2048], stage=5, block='c')\n",
    "    layers[\"conv5_x\"] = x\n",
    "\n",
    "    return layers"
   ]
  },
  {
   "cell_type": "code",
   "execution_count": 2,
   "metadata": {
    "collapsed": true
   },
   "outputs": [],
   "source": [
    "def get_base_layers():\n",
    "    #returns a dictionary mapping the local receptive field size to a layer for all relevant layers\n",
    "    layers_dict = ResNet50(img_input)\n",
    "    # add one b/c for n layers we want 0th layer up to and including nth layer (1st layer is 2^1 lrf, nth is 2^n)\n",
    "    return layers_dict"
   ]
  },
  {
   "cell_type": "code",
   "execution_count": null,
   "metadata": {
    "collapsed": true
   },
   "outputs": [],
   "source": []
  }
 ],
 "metadata": {
  "kernelspec": {
   "display_name": "Python 2",
   "language": "python",
   "name": "python2"
  },
  "language_info": {
   "codemirror_mode": {
    "name": "ipython",
    "version": 2
   },
   "file_extension": ".py",
   "mimetype": "text/x-python",
   "name": "python",
   "nbconvert_exporter": "python",
   "pygments_lexer": "ipython2",
   "version": "2.7.12"
  }
 },
 "nbformat": 4,
 "nbformat_minor": 2
}
