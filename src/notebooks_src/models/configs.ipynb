{
 "cells": [
  {
   "cell_type": "code",
   "execution_count": 1,
   "metadata": {
    "collapsed": false
   },
   "outputs": [
    {
     "name": "stdout",
     "output_type": "stream",
     "text": [
      "importing Jupyter notebook from ../../notebooks_src/config_util.ipynb\n",
      "importing Jupyter notebook from ../../notebooks_src/load_data/configs.ipynb\n"
     ]
    }
   ],
   "source": [
    "import sys\n",
    "from nbfinder import NotebookFinder\n",
    "sys.meta_path.append(NotebookFinder())\n",
    "if __name__ == \"__main__\":\n",
    "    sys.path.append(\"../../\")\n",
    "from notebooks_src.config_util import update_configs\n",
    "\n",
    "\n",
    "from notebooks_src.load_data.configs import configs as data_configs"
   ]
  },
  {
   "cell_type": "code",
   "execution_count": 2,
   "metadata": {
    "collapsed": true
   },
   "outputs": [],
   "source": [
    "def convert_shape_to_tf(shape):\n",
    "    #shape is 3 dimensions\n",
    "    new_shape = (shape[1], shape[2], shape[0])\n",
    "    return new_shape"
   ]
  },
  {
   "cell_type": "code",
   "execution_count": 3,
   "metadata": {
    "collapsed": false
   },
   "outputs": [],
   "source": [
    "configs= {\"tensor_input_shape\": convert_shape_to_tf(data_configs[\"input_shape\"]),\n",
    "        \"num_filter_list\":[128/8, 256/8, 512/8, 768/8, 1024/8],\n",
    "         \"base_model\": \"vgg16\",\n",
    "          \"detection_model\": \"ssd\",\n",
    "          \"batch_size\": data_configs[\"batch_size\"],\n",
    "         \"num_classes\": data_configs[\"num_classes\"], \"w_decay\": 0.0005, \"w_init\":\"he_normal\",\n",
    "          #\"feat_layers\":['block4', 'block7', 'block8', 'block9', 'block10', 'block11', 'block12']\n",
    "         }"
   ]
  },
  {
   "cell_type": "code",
   "execution_count": 4,
   "metadata": {
    "collapsed": false
   },
   "outputs": [],
   "source": [
    "#! jupyter nbconvert --to script configs.ipynb"
   ]
  },
  {
   "cell_type": "code",
   "execution_count": 5,
   "metadata": {
    "collapsed": true
   },
   "outputs": [],
   "source": [
    "configs = update_configs(configs)"
   ]
  },
  {
   "cell_type": "code",
   "execution_count": null,
   "metadata": {
    "collapsed": true
   },
   "outputs": [],
   "source": []
  }
 ],
 "metadata": {
  "kernelspec": {
   "display_name": "Python 2",
   "language": "python",
   "name": "python2"
  },
  "language_info": {
   "codemirror_mode": {
    "name": "ipython",
    "version": 2
   },
   "file_extension": ".py",
   "mimetype": "text/x-python",
   "name": "python",
   "nbconvert_exporter": "python",
   "pygments_lexer": "ipython2",
   "version": "2.7.12"
  }
 },
 "nbformat": 4,
 "nbformat_minor": 2
}
