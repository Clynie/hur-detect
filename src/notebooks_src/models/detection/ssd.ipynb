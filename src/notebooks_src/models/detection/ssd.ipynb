{
 "cells": [
  {
   "cell_type": "code",
   "execution_count": 1,
   "metadata": {
    "collapsed": false
   },
   "outputs": [
    {
     "name": "stderr",
     "output_type": "stream",
     "text": [
      "Using TensorFlow backend.\n"
     ]
    },
    {
     "name": "stdout",
     "output_type": "stream",
     "text": [
      "importing Jupyter notebook from ../../../notebooks_src/models/configs.ipynb\n",
      "importing Jupyter notebook from ../../../notebooks_src/config_util.ipynb\n",
      "importing Jupyter notebook from ../../../notebooks_src/load_data/configs.ipynb\n",
      "importing Jupyter notebook from ../../../notebooks_src/models/util.ipynb\n",
      "importing Jupyter notebook from ../../../notebooks_src/models/base/get_base_model.ipynb\n",
      "importing Jupyter notebook from ../../../notebooks_src/box_encode_decode/configs.ipynb\n"
     ]
    }
   ],
   "source": [
    "import sys\n",
    "from nbfinder import NotebookFinder\n",
    "sys.meta_path.append(NotebookFinder())\n",
    "import keras\n",
    "\n",
    "\n",
    "#from keras.initializations import he_normal\n",
    "\n",
    "from keras.models import Model\n",
    "from keras.regularizers import l2\n",
    "from keras.layers import Input, Conv2D,merge, GlobalAveragePooling2D, Dense, Reshape, Activation\n",
    "from keras.layers.merge import concatenate\n",
    "import importlib\n",
    "if __name__ == \"__main__\":\n",
    "    sys.path.append(\"../../../\")\n",
    "from notebooks_src.models.configs import configs\n",
    "from notebooks_src.models.util import make_model_data_struct, Normalize\n",
    "from notebooks_src.models.base.get_base_model import get_base_model_layers  \n",
    "from notebooks_src.box_encode_decode.configs import configs as box_configs\n",
    "configs.update(box_configs)\n"
   ]
  },
  {
   "cell_type": "code",
   "execution_count": 2,
   "metadata": {
    "collapsed": true
   },
   "outputs": [],
   "source": [
    "# from IPython.display import Image\n",
    "# Image(filename='./../ssd-resnet.png') \n",
    "\n",
    "# Image(filename=\"./../ssd-vgg.png\")"
   ]
  },
  {
   "cell_type": "code",
   "execution_count": 3,
   "metadata": {
    "collapsed": false
   },
   "outputs": [],
   "source": [
    "conv_kwargs =  dict(padding=\"same\",kernel_initializer=configs[\"w_init\"])"
   ]
  },
  {
   "cell_type": "code",
   "execution_count": 4,
   "metadata": {
    "collapsed": false
   },
   "outputs": [],
   "source": [
    "def add_ssd_additional_feat_layers(layers):\n",
    "\n",
    "    layers['conv4_3_norm'] = Normalize(20, name='conv4_3_norm')(layers['conv4_3'])\n",
    "    \n",
    "    layers['fc6'] = Conv2D(1024, (3, 3), dilation_rate=6,\n",
    "                                     activation='relu', padding='same',\n",
    "                                     name='fc6')(layers['pool5'])\n",
    "    # FC7\n",
    "    layers['fc7'] = Conv2D(1024,(1, 1), activation='relu',\n",
    "                               padding='same', name='fc7')(layers['fc6'])\n",
    "    # x = Dropout(0.5, name='drop7')(x)\n",
    "    # Block 6\n",
    "    layers['conv8_1'] = Conv2D(256, (1, 1), activation='relu',\n",
    "                                   padding='same',\n",
    "                                   name='conv8_1')(layers['fc7'])\n",
    "    layers['conv8_2'] = Conv2D(512, (3, 3), strides=(2, 2),\n",
    "                                   activation='relu', padding='same',\n",
    "                                   name='conv8_2')(layers['conv8_1'])\n",
    "    # Block 7\n",
    "    layers['conv9_1'] = Conv2D(128, (1, 1), activation='relu',\n",
    "                                   padding='same',\n",
    "                                   name='conv9_1')(layers['conv8_2'])\n",
    "    #layers['conv9_2'] = ZeroPadding2D()(layers['conv9_1'])\n",
    "    layers['conv9_2'] = Conv2D(256, (3, 3), strides=(2, 2),\n",
    "                                   activation='relu', padding='same',\n",
    "                                   name='conv9_2')(layers['conv9_1'])\n",
    "    # Block 8\n",
    "    layers['conv10_1'] = Conv2D(128, (1, 1), activation='relu',\n",
    "                                   padding='same',\n",
    "                                   name='conv10_1')(layers['conv9_2'])\n",
    "    layers['conv10_2'] = Conv2D(256, (3, 3), strides=(2, 2),\n",
    "                                   activation='relu', padding='same',\n",
    "                                   name='conv10_2')(layers['conv10_1'])\n",
    "    \n",
    "    \n",
    "    \n",
    "    layers['conv11_1'] = Conv2D(128, (1, 1), activation='relu',\n",
    "                                   padding='same',\n",
    "                                   name='conv11_1')(layers['conv10_2'])\n",
    "    layers['conv11_2'] = Conv2D(256, (3, 3), strides=(2, 2),\n",
    "                                   activation='relu', padding='same',\n",
    "                                   name='conv11_2')(layers['conv11_1'])\n",
    "    # Last Pool\n",
    "    layers['pool12'] = GlobalAveragePooling2D(name='pool6')(layers['conv11_2'])\n",
    "\n",
    "    return layers\n",
    "    \n",
    "    \n",
    "    \n",
    "    "
   ]
  },
  {
   "cell_type": "code",
   "execution_count": 5,
   "metadata": {
    "collapsed": true
   },
   "outputs": [],
   "source": [
    "def get_ssd_detection_outputs(layers):\n",
    "    num_anchors = [len(sizes) + len(ratios) for sizes, ratios in zip(configs[\"anchor_sizes\"],configs[\"anchor_ratios\"])]\n",
    "    net_out_dict={}\n",
    "    num_classes = configs[\"num_classes\"]\n",
    "    \n",
    "    layer_names_for_pred = ['conv4_3_norm','fc7','conv8_2', 'conv9_2','conv10_2', 'conv11_2', 'pool12' ]\n",
    "    for ind, name in enumerate(layer_names_for_pred):\n",
    "        fmap = layers[name]\n",
    "        layers[name + \"_xywh_output\"], layers[name + \"_cls_output\"] = get_detections_for_fmap(name, fmap, num_anchors[ind])\n",
    "        layers[name + \"_combined_output\"] = concatenate([layers[name + \"_xywh_output\"],\n",
    "                                                         layers[name + \"_cls_output\"]],axis=3)\n",
    "\n",
    "        \n",
    "\n",
    "    return layers # [lay for lay in layers if \"combined\" in lay]"
   ]
  },
  {
   "cell_type": "code",
   "execution_count": 10,
   "metadata": {
    "collapsed": false
   },
   "outputs": [],
   "source": [
    "def get_detections_for_fmap(name, fmap, num_anchors):\n",
    "        num_classes = configs[\"num_classes\"]\n",
    "        num_xywh_outputs = num_anchors * 4\n",
    "        num_cls_outputs = num_anchors * num_classes\n",
    "        if \"pool\" in name:\n",
    "            xywh_output = Dense(num_xywh_outputs)(fmap)\n",
    "            xywh_output = Reshape(target_shape=(1,1, num_xywh_outputs))(xywh_output)\n",
    "            cls_output = Dense(num_cls_outputs)(fmap)\n",
    "            cls_output = Reshape((1,1,num_cls_outputs))(cls_output)\n",
    "            \n",
    "\n",
    "        else:\n",
    "            xywh_output = Conv2D( num_xywh_outputs, (3, 3), activation=\"linear\", **conv_kwargs)(fmap)\n",
    "\n",
    "            #no softmax for now?\n",
    "            cls_output = Conv2D(num_cls_outputs, (3, 3), activation=\"linear\", **conv_kwargs)(fmap)\n",
    "            \n",
    "        \n",
    "        \n",
    "        return xywh_output, cls_output\n",
    "        \n",
    "    "
   ]
  },
  {
   "cell_type": "code",
   "execution_count": 11,
   "metadata": {
    "collapsed": false
   },
   "outputs": [
    {
     "name": "stdout",
     "output_type": "stream",
     "text": [
      "vgg16\n"
     ]
    }
   ],
   "source": [
    "# # layers is a dict matching local receptive field to layer\n",
    "#pseudoish-code\n",
    "layers = get_base_model_layers()\n",
    "layers = add_ssd_additional_feat_layers(layers)\n",
    "layers = get_ssd_detection_outputs(layers)"
   ]
  },
  {
   "cell_type": "code",
   "execution_count": 11,
   "metadata": {
    "collapsed": false
   },
   "outputs": [],
   "source": [
    "outputs = [layers[k] for k in sorted(layers.keys()) if \"combined\" in k]"
   ]
  },
  {
   "cell_type": "code",
   "execution_count": 12,
   "metadata": {
    "collapsed": true
   },
   "outputs": [],
   "source": [
    "input_tensor = layers[\"input\"]"
   ]
  },
  {
   "cell_type": "code",
   "execution_count": 13,
   "metadata": {
    "collapsed": true
   },
   "outputs": [],
   "source": [
    "def get_model_params():\n",
    "    return make_model_data_struct(inputs=input_tensor, outputs=outputs)"
   ]
  }
 ],
 "metadata": {
  "kernelspec": {
   "display_name": "Python 2",
   "language": "python",
   "name": "python2"
  },
  "language_info": {
   "codemirror_mode": {
    "name": "ipython",
    "version": 2
   },
   "file_extension": ".py",
   "mimetype": "text/x-python",
   "name": "python",
   "nbconvert_exporter": "python",
   "pygments_lexer": "ipython2",
   "version": "2.7.12"
  }
 },
 "nbformat": 4,
 "nbformat_minor": 2
}
