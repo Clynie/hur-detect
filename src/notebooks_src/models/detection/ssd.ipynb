{
 "cells": [
  {
   "cell_type": "code",
   "execution_count": 1,
   "metadata": {
    "collapsed": false
   },
   "outputs": [
    {
     "name": "stderr",
     "output_type": "stream",
     "text": [
      "Using TensorFlow backend.\n"
     ]
    },
    {
     "name": "stdout",
     "output_type": "stream",
     "text": [
      "importing Jupyter notebook from ../../../notebooks_src/models/configs.ipynb\n",
      "importing Jupyter notebook from ../../../notebooks_src/config_util.ipynb\n",
      "importing Jupyter notebook from ../../../notebooks_src/load_data/configs.ipynb\n",
      "importing Jupyter notebook from ../../../notebooks_src/models/util.ipynb\n",
      "importing Jupyter notebook from ../../../notebooks_src/models/base/get_base_model.ipynb\n",
      "importing Jupyter notebook from ../../../notebooks_src/box_encode_decode/configs.ipynb\n"
     ]
    }
   ],
   "source": [
    "import sys\n",
    "from nbfinder import NotebookFinder\n",
    "sys.meta_path.append(NotebookFinder())\n",
    "import keras\n",
    "\n",
    "\n",
    "from keras.initializations import he_normal\n",
    "\n",
    "from keras.models import Model\n",
    "from keras.regularizers import l2\n",
    "from keras.layers import Input, Conv2D,merge\n",
    "import importlib\n",
    "\n",
    "if __name__ == \"__main__\":\n",
    "    sys.path.append(\"../../../\")\n",
    "from notebooks_src.models.configs import configs\n",
    "from notebooks_src.models.util import make_model_data_struct\n",
    "from notebooks_src.models.base.get_base_model import get_base_model_layers  \n",
    "from notebooks_src.box_encode_decode.configs import configs as box_configs\n",
    "configs.update(box_configs)"
   ]
  },
  {
   "cell_type": "code",
   "execution_count": null,
   "metadata": {
    "collapsed": true
   },
   "outputs": [],
   "source": []
  },
  {
   "cell_type": "code",
   "execution_count": 2,
   "metadata": {
    "collapsed": true
   },
   "outputs": [],
   "source": [
    "conv_kwargs =  dict(border_mode=\"same\", init=configs[\"w_init\"])#, W_regularizer=l2(configs[\"w_decay\"]))"
   ]
  },
  {
   "cell_type": "code",
   "execution_count": null,
   "metadata": {
    "collapsed": true
   },
   "outputs": [],
   "source": [
    "def add_ssd_additional_feat_layers():\n",
    "    #look up in SSD or DSSD paper\n",
    "    "
   ]
  },
  {
   "cell_type": "code",
   "execution_count": 8,
   "metadata": {
    "collapsed": true
   },
   "outputs": [],
   "source": [
    "def get_ssd_detection_outputs(layers):\n",
    "    lrf_layers_dict, layer_fmap_size_dict = get_base_model_layers()\n",
    "    num_anchors_dict = make_fmap_size_to_num_anchors_map()\n",
    "    net_out_dict={}\n",
    "    num_classes = configs[\"num_classes\"]\n",
    "    xywh_outputs = []\n",
    "    cls_outputs = []\n",
    "    \n",
    "    for fmap_size, fmap in layer_fmap_size_dict.iteritems():\n",
    "        xywh_output, cls_output = get_detections_for_fmap(fmap_size, fmap)\n",
    "        xywh_outputs.append(xywh_output)\n",
    "        cls_outputs.append(cls_output)\n",
    "        \n",
    "\n",
    "        \n",
    "\n",
    "    return xywh_outputs, cls_outputs"
   ]
  },
  {
   "cell_type": "code",
   "execution_count": 5,
   "metadata": {
    "collapsed": true
   },
   "outputs": [],
   "source": [
    "def get_detections_for_fmap(fmap_size, fmap):\n",
    "        num_anchors = num_anchors_dict[fmap_size]\n",
    "        num_xywh_outputs = num_anchors * 4\n",
    "        num_cls_ouputs = num_anchors * num_classes\n",
    "        xywh_output = Conv2D(fmap, num_xywh_outputs, 3, 3, activation=\"linear\", **conv_kwargs)\n",
    "        \n",
    "        #no softmax for now?\n",
    "        cls_output = Conv2D(fmap, num_cls_ouputs, 3, 3, activation=\"linear\", **conv_kwargs)\n",
    "        \n",
    "        return xywh_output, cls_output\n",
    "        \n",
    "    "
   ]
  },
  {
   "cell_type": "code",
   "execution_count": 6,
   "metadata": {
    "collapsed": false
   },
   "outputs": [],
   "source": [
    "def make_fmap_size_to_num_anchors_map():\n",
    "    fmap_sizes = configs[\"feat_shapes\"]\n",
    "    num_boxes = [len(sizes) + len(ratios) for sizes, ratios in zip(configs[\"anchor_sizes\"],configs[\"anchor_ratios\"])]\n",
    "    return dict(zip(fmap_sizes, num_boxes))"
   ]
  },
  {
   "cell_type": "code",
   "execution_count": 7,
   "metadata": {
    "collapsed": false
   },
   "outputs": [
    {
     "name": "stdout",
     "output_type": "stream",
     "text": [
      "importing Jupyter notebook from ../../../notebooks_src/models/base/resnet50.ipynb\n",
      "importing Jupyter notebook from ../../../notebooks_src/models/base/resnet_utils.ipynb\n"
     ]
    }
   ],
   "source": [
    "# # layers is a dict matching local receptive field to layer\n",
    "#pseudoish-code\n",
    "layers = get_base_model_layers()\n",
    "layers = add_ssd_additional_feat_layers()\n",
    "outputs = get_ssd_detection_outputs()"
   ]
  },
  {
   "cell_type": "code",
   "execution_count": null,
   "metadata": {
    "collapsed": true
   },
   "outputs": [],
   "source": [
    "# # encoder is last layer, so layer with largest receptive field\n",
    "# encoder_layer = layers[max(layers.keys())]\n",
    "\n",
    "# #input tensor has local recpetive field of 1 (layers is a dict NOT a list)\n",
    "# input_tensor = layers[1]\n",
    "\n",
    "# output = bbox(encoder_layer)"
   ]
  },
  {
   "cell_type": "code",
   "execution_count": null,
   "metadata": {
    "collapsed": true
   },
   "outputs": [],
   "source": [
    "def get_model_params():\n",
    "    return make_model_data_struct(input=input_tensor, output=output)"
   ]
  },
  {
   "cell_type": "code",
   "execution_count": null,
   "metadata": {
    "collapsed": true
   },
   "outputs": [],
   "source": []
  }
 ],
 "metadata": {
  "kernelspec": {
   "display_name": "Python 2",
   "language": "python",
   "name": "python2"
  },
  "language_info": {
   "codemirror_mode": {
    "name": "ipython",
    "version": 2
   },
   "file_extension": ".py",
   "mimetype": "text/x-python",
   "name": "python",
   "nbconvert_exporter": "python",
   "pygments_lexer": "ipython2",
   "version": "2.7.12"
  }
 },
 "nbformat": 4,
 "nbformat_minor": 2
}
