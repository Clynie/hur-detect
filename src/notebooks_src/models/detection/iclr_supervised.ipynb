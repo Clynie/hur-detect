{
 "cells": [
  {
   "cell_type": "code",
   "execution_count": 1,
   "metadata": {
    "collapsed": false
   },
   "outputs": [
    {
     "name": "stderr",
     "output_type": "stream",
     "text": [
      "Using TensorFlow backend.\n"
     ]
    }
   ],
   "source": [
    "import sys\n",
    "from nbfinder import NotebookFinder\n",
    "sys.meta_path.append(NotebookFinder())\n",
    "import keras\n",
    "\n",
    "\n",
    "from keras.initializations import he_normal\n",
    "\n",
    "from keras.models import Model\n",
    "from keras.regularizers import l2\n",
    "from keras.layers import Input, Conv2D,merge\n",
    "import importlib"
   ]
  },
  {
   "cell_type": "code",
   "execution_count": 2,
   "metadata": {
    "collapsed": false
   },
   "outputs": [
    {
     "name": "stdout",
     "output_type": "stream",
     "text": [
      "importing Jupyter notebook from ../../../notebooks_src/models/configs.ipynb\n",
      "importing Jupyter notebook from ../../../notebooks_src/config_util.ipynb\n",
      "importing Jupyter notebook from ../../../notebooks_src/load_data/configs.ipynb\n",
      "importing Jupyter notebook from ../../../notebooks_src/models/util.ipynb\n",
      "importing Jupyter notebook from ../../../notebooks_src/models/base/get_base_model.ipynb\n"
     ]
    }
   ],
   "source": [
    "if __name__ == \"__main__\":\n",
    "    sys.path.append(\"../../../\")\n",
    "from notebooks_src.models.configs import configs\n",
    "from notebooks_src.models.util import make_model_data_struct\n",
    "from notebooks_src.models.base.get_base_model import get_base_model_layers                                  "
   ]
  },
  {
   "cell_type": "code",
   "execution_count": 10,
   "metadata": {
    "collapsed": true
   },
   "outputs": [],
   "source": [
    "conv_kwargs =  dict(border_mode=\"same\", init=configs[\"w_init\"], W_regularizer=l2(configs[\"w_decay\"]))"
   ]
  },
  {
   "cell_type": "code",
   "execution_count": 11,
   "metadata": {
    "collapsed": false
   },
   "outputs": [],
   "source": [
    "def bbox(encoder):\n",
    "    \n",
    "    xy_coords_score = Conv2D(2,3,3,\n",
    "                             activation=\"linear\", \n",
    "                             name=\"xy_score\",**conv_kwargs)(encoder)\n",
    "    \n",
    "    \n",
    "    \n",
    "    wh_coords_score = Conv2D(2,3,3,\n",
    "                             activation=\"linear\",\n",
    "                             name=\"wh_score\",**conv_kwargs)(encoder)\n",
    "    \n",
    "    objectness_score = Conv2D(2,3,3,\n",
    "                              activation=\"relu\", name=\"objectness_score\",**conv_kwargs)(encoder)\n",
    "    \n",
    "    class_score = Conv2D(configs[\"num_classes\"],3,3,\n",
    "                         activation=\"relu\", \n",
    "                         name=\"class_score\", **conv_kwargs)(encoder)\n",
    "    \n",
    "    \n",
    "    output = merge([xy_coords_score,wh_coords_score,objectness_score,class_score],\n",
    "                   concat_axis=-1, mode=\"concat\",name=\"box_score\")\n",
    "    return output"
   ]
  },
  {
   "cell_type": "code",
   "execution_count": 12,
   "metadata": {
    "collapsed": false
   },
   "outputs": [],
   "source": [
    "# layers is a dict matching local receptive field to layer\n",
    "layers = get_base_model_layers()"
   ]
  },
  {
   "cell_type": "code",
   "execution_count": 18,
   "metadata": {
    "collapsed": false
   },
   "outputs": [],
   "source": [
    "# encoder is last layer, so layer with largest receptive field\n",
    "encoder_layer = layers[max(layers.keys())]\n",
    "\n",
    "#input tensor has local recpetive field of 1 (layers is a dict NOT a list)\n",
    "input_tensor = layers[1]"
   ]
  },
  {
   "cell_type": "code",
   "execution_count": 19,
   "metadata": {
    "collapsed": false
   },
   "outputs": [],
   "source": [
    "output = bbox(encoder_layer)"
   ]
  },
  {
   "cell_type": "code",
   "execution_count": 22,
   "metadata": {
    "collapsed": true
   },
   "outputs": [],
   "source": [
    "def get_model_params():\n",
    "    return make_model_data_struct(input=input_tensor, output=output)"
   ]
  }
 ],
 "metadata": {
  "kernelspec": {
   "display_name": "Python 2",
   "language": "python",
   "name": "python2"
  },
  "language_info": {
   "codemirror_mode": {
    "name": "ipython",
    "version": 2
   },
   "file_extension": ".py",
   "mimetype": "text/x-python",
   "name": "python",
   "nbconvert_exporter": "python",
   "pygments_lexer": "ipython2",
   "version": "2.7.12"
  }
 },
 "nbformat": 4,
 "nbformat_minor": 2
}
