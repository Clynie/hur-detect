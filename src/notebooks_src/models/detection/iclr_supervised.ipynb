{
 "cells": [
  {
   "cell_type": "code",
   "execution_count": 1,
   "metadata": {
    "collapsed": false
   },
   "outputs": [
    {
     "name": "stderr",
     "output_type": "stream",
     "text": [
      "Using TensorFlow backend.\n"
     ]
    }
   ],
   "source": [
    "import sys\n",
    "from nbfinder import NotebookFinder\n",
    "sys.meta_path.append(NotebookFinder())\n",
    "import keras\n",
    "\n",
    "\n",
    "from keras.initializations import he_normal\n",
    "\n",
    "from keras.models import Model\n",
    "from keras.regularizers import l2\n",
    "from keras.layers import Input, Conv2D,merge\n",
    "import importlib\n",
    "\n",
    "if __name__ == \"__main__\":\n",
    "    sys.path.append(\"../../../\")\n",
    "from notebooks_src.configs import configs\n",
    "from notebooks_src.models.util import make_model_data_struct\n",
    "from notebooks_src.models.base.get_base_model import get_base_model_layers                                  "
   ]
  },
  {
   "cell_type": "code",
   "execution_count": 3,
   "metadata": {
    "collapsed": true
   },
   "outputs": [],
   "source": [
    "conv_kwargs =  dict(border_mode=\"same\", init=configs[\"w_init\"], W_regularizer=l2(configs[\"w_decay\"]))"
   ]
  },
  {
   "cell_type": "code",
   "execution_count": 4,
   "metadata": {
    "collapsed": false
   },
   "outputs": [],
   "source": [
    "def bbox(encoder):\n",
    "    \n",
    "    xy_coords_score = Conv2D(2,3,3,\n",
    "                             activation=\"linear\", \n",
    "                             name=\"xy_score\",**conv_kwargs)(encoder)\n",
    "    \n",
    "    \n",
    "    \n",
    "    wh_coords_score = Conv2D(2,3,3,\n",
    "                             activation=\"linear\",\n",
    "                             name=\"wh_score\",**conv_kwargs)(encoder)\n",
    "    \n",
    "    objectness_score = Conv2D(2,3,3,\n",
    "                              activation=\"relu\", name=\"objectness_score\",**conv_kwargs)(encoder)\n",
    "    \n",
    "    class_score = Conv2D(configs[\"num_classes\"],3,3,\n",
    "                         activation=\"relu\", \n",
    "                         name=\"class_score\", **conv_kwargs)(encoder)\n",
    "    \n",
    "    \n",
    "    output = merge([xy_coords_score,wh_coords_score,objectness_score,class_score],\n",
    "                   concat_axis=-1, mode=\"concat\",name=\"box_score\")\n",
    "    return output\n",
    "\n",
    "# layers is a dict matching local receptive field to layer\n",
    "layers = get_base_model_layers()\n",
    "\n",
    "# encoder is last layer, so layer with largest receptive field\n",
    "encoder_layer = layers[max(layers.keys())]\n",
    "\n",
    "#input tensor has local recpetive field of 1 (layers is a dict NOT a list)\n",
    "input_tensor = layers[1]\n",
    "\n",
    "output = bbox(encoder_layer)\n",
    "\n",
    "def get_model_params():\n",
    "    return make_model_data_struct(input=input_tensor, output=output)"
   ]
  },
  {
   "cell_type": "code",
   "execution_count": null,
   "metadata": {
    "collapsed": true
   },
   "outputs": [],
   "source": []
  }
 ],
 "metadata": {
  "kernelspec": {
   "display_name": "Python 2",
   "language": "python",
   "name": "python2"
  },
  "language_info": {
   "codemirror_mode": {
    "name": "ipython",
    "version": 2
   },
   "file_extension": ".py",
   "mimetype": "text/x-python",
   "name": "python",
   "nbconvert_exporter": "python",
   "pygments_lexer": "ipython2",
   "version": "2.7.12"
  }
 },
 "nbformat": 4,
 "nbformat_minor": 2
}
