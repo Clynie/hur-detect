{
 "cells": [
  {
   "cell_type": "code",
   "execution_count": 1,
   "metadata": {
    "collapsed": true
   },
   "outputs": [],
   "source": [
    "def make_model_data_struct(inputs, outputs, params=None):\n",
    "    return dict(inputs=inputs, outputs=outputs, params=params)"
   ]
  },
  {
   "cell_type": "code",
   "execution_count": 1,
   "metadata": {
    "collapsed": false
   },
   "outputs": [
    {
     "name": "stderr",
     "output_type": "stream",
     "text": [
      "Using TensorFlow backend.\n"
     ]
    }
   ],
   "source": [
    "import keras.backend as K\n",
    "from keras.engine.topology import InputSpec\n",
    "from keras.engine.topology import Layer\n",
    "import numpy as np\n",
    "import tensorflow as tf\n",
    "\n",
    "\n",
    "class Normalize(Layer):\n",
    "    \"\"\"Normalization layer as described in ParseNet paper.\n",
    "    # Arguments\n",
    "        scale: Default feature scale.\n",
    "    # Input shape\n",
    "        4D tensor with shape:\n",
    "        `(samples, channels, rows, cols)` if dim_ordering='th'\n",
    "        or 4D tensor with shape:\n",
    "        `(samples, rows, cols, channels)` if dim_ordering='tf'.\n",
    "    # Output shape\n",
    "        Same as input\n",
    "    # References\n",
    "        http://cs.unc.edu/~wliu/papers/parsenet.pdf\n",
    "    #TODO\n",
    "        Add possibility to have one scale for all features.\n",
    "    \"\"\"\n",
    "    def __init__(self, scale, **kwargs):\n",
    "        if K.image_dim_ordering() == 'tf':\n",
    "            self.axis = 3\n",
    "        else:\n",
    "            self.axis = 1\n",
    "        self.scale = scale\n",
    "        super(Normalize, self).__init__(**kwargs)\n",
    "\n",
    "    def build(self, input_shape):\n",
    "        self.input_spec = [InputSpec(shape=input_shape)]\n",
    "        shape = (input_shape[self.axis],)\n",
    "        init_gamma = self.scale * np.ones(shape)\n",
    "        self.gamma = K.variable(init_gamma, name='{}_gamma'.format(self.name))\n",
    "        self.trainable_weights = [self.gamma]\n",
    "\n",
    "    def call(self, x, mask=None):\n",
    "        output = K.l2_normalize(x, self.axis)\n",
    "        output *= self.gamma\n",
    "        return output"
   ]
  },
  {
   "cell_type": "code",
   "execution_count": null,
   "metadata": {
    "collapsed": true
   },
   "outputs": [],
   "source": []
  }
 ],
 "metadata": {
  "kernelspec": {
   "display_name": "Python 2",
   "language": "python",
   "name": "python2"
  },
  "language_info": {
   "codemirror_mode": {
    "name": "ipython",
    "version": 2
   },
   "file_extension": ".py",
   "mimetype": "text/x-python",
   "name": "python",
   "nbconvert_exporter": "python",
   "pygments_lexer": "ipython2",
   "version": "2.7.12"
  }
 },
 "nbformat": 4,
 "nbformat_minor": 2
}
