{
 "cells": [
  {
   "cell_type": "code",
   "execution_count": 1,
   "metadata": {
    "collapsed": true
   },
   "outputs": [],
   "source": [
    "import tensorflow as tf\n",
    "import numpy as np"
   ]
  },
  {
   "cell_type": "code",
   "execution_count": 2,
   "metadata": {
    "collapsed": false
   },
   "outputs": [],
   "source": [
    "def fit(model, generator, val_generator,num_epochs, loss_func, opt):\n",
    "    with tf.Session() as sess:\n",
    "        steps_per_epoch= generator.num_ims / generator.batch_size\n",
    "        input_ = model.input\n",
    "        loss_tensor, label  = get_loss_tensor(loss_func, model, generator)\n",
    "\n",
    "        train_step = opt.minimize(loss_tensor)\n",
    "        # accuracy = get_accuracy\n",
    "        \n",
    "        \n",
    "        sess.run(tf.global_variables_initializer())\n",
    "  \n",
    "        for ep in range(num_epochs):\n",
    "            for step in range(steps_per_epoch):\n",
    "                im, box = generator.next()\n",
    "                _,cur_loss = sess.run([train_step, loss_tensor],feed_dict={input_:im,label:box})\n",
    "                print \"loss: %8.4f\"% cur_loss\n",
    "#TODO: add streaming mAP calc for train and val"
   ]
  },
  {
   "cell_type": "code",
   "execution_count": 5,
   "metadata": {
    "collapsed": true
   },
   "outputs": [],
   "source": [
    "def get_loss_tensor(loss_func, model, generator):\n",
    "        batch_size = generator.batch_size\n",
    "        output_tensors = model.outputs\n",
    "        \n",
    "        label_batch_shape = tuple([batch_size] + list(generator.data.labels.shape[1:]))\n",
    "        \n",
    "        \n",
    "        label_tensor = tf.placeholder(tf.float32,shape=label_batch_shape, name=\"label\")\n",
    "        \n",
    "\n",
    "        loss_tensor = loss_func(label_tensor, output_tensors)\n",
    "\n",
    "        return loss_tensor, label_tensor"
   ]
  },
  {
   "cell_type": "code",
   "execution_count": null,
   "metadata": {
    "collapsed": true
   },
   "outputs": [],
   "source": []
  }
 ],
 "metadata": {
  "kernelspec": {
   "display_name": "Python 2",
   "language": "python",
   "name": "python2"
  },
  "language_info": {
   "codemirror_mode": {
    "name": "ipython",
    "version": 2
   },
   "file_extension": ".py",
   "mimetype": "text/x-python",
   "name": "python",
   "nbconvert_exporter": "python",
   "pygments_lexer": "ipython2",
   "version": "2.7.12"
  }
 },
 "nbformat": 4,
 "nbformat_minor": 2
}
