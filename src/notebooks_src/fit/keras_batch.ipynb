{
 "cells": [
  {
   "cell_type": "code",
   "execution_count": 2,
   "metadata": {
    "collapsed": true
   },
   "outputs": [],
   "source": [
    "def fit(model, generator, val_generator,callbacks, num_epochs):\n",
    "    steps_per_epoch= generator.num_ims / generator.batch_size\n",
    "    validation_steps=val_generator.num_ims / val_generator.batch_size\n",
    "    \n",
    "    for ep in range(num_epochs):\n",
    "        for _ in range(steps_per_epoch):\n",
    "            ims,lbls = generator.next()\n",
    "            model.train_on_batch(x=ims,y=lbls)\n",
    "        for _ in range(validation_steps):\n",
    "            val_ims, val_lbls = val_generator.next()\n",
    "            print \"validation: \", model.evaluate(val_ims, val_labels)\n"
   ]
  },
  {
   "cell_type": "code",
   "execution_count": null,
   "metadata": {
    "collapsed": true
   },
   "outputs": [],
   "source": []
  }
 ],
 "metadata": {
  "kernelspec": {
   "display_name": "Python 2",
   "language": "python",
   "name": "python2"
  },
  "language_info": {
   "codemirror_mode": {
    "name": "ipython",
    "version": 2
   },
   "file_extension": ".py",
   "mimetype": "text/x-python",
   "name": "python",
   "nbconvert_exporter": "python",
   "pygments_lexer": "ipython2",
   "version": "2.7.12"
  }
 },
 "nbformat": 4,
 "nbformat_minor": 2
}
