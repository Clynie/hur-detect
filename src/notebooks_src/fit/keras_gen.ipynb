{
 "cells": [
  {
   "cell_type": "code",
   "execution_count": 1,
   "metadata": {
    "collapsed": true
   },
   "outputs": [],
   "source": [
    "def fit(model, generator, val_generator,callbacks, num_epochs):\n",
    "\n",
    "    model.fit_generator(generator=generator,\n",
    "                        steps_per_epoch= generator.num_ims / generator.batch_size,\n",
    "                        validation_data=val_generator, \n",
    "                        validation_steps=val_generator.num_ims / val_generator.batch_size,\n",
    "                        callbacks=callbacks,\n",
    "                        epochs=num_epochs,\n",
    "                        workers=4\n",
    "                       )"
   ]
  },
  {
   "cell_type": "code",
   "execution_count": null,
   "metadata": {
    "collapsed": true
   },
   "outputs": [],
   "source": []
  }
 ],
 "metadata": {
  "kernelspec": {
   "display_name": "Python 2",
   "language": "python",
   "name": "python2"
  },
  "language_info": {
   "codemirror_mode": {
    "name": "ipython",
    "version": 2
   },
   "file_extension": ".py",
   "mimetype": "text/x-python",
   "name": "python",
   "nbconvert_exporter": "python",
   "pygments_lexer": "ipython2",
   "version": "2.7.12"
  }
 },
 "nbformat": 4,
 "nbformat_minor": 2
}
