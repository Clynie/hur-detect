{
 "cells": [
  {
   "cell_type": "code",
   "execution_count": 3,
   "metadata": {
    "collapsed": false
   },
   "outputs": [],
   "source": [
    "import sys\n",
    "from nbfinder import NotebookFinder\n",
    "sys.meta_path.append(NotebookFinder())\n",
    "\n",
    "from notebooks_src.configs import configs\n",
    "import importlib"
   ]
  },
  {
   "cell_type": "code",
   "execution_count": 4,
   "metadata": {
    "collapsed": true
   },
   "outputs": [],
   "source": [
    "def get_loss(model_name):\n",
    "    loss_name = model_name\n",
    "\n",
    "    loss_module = importlib.import_module(\"notebooks_src.losses.\" + loss_name + \".\" + loss_name)\n",
    "    loss, loss_weights = loss_module.compute_loss, loss_module.loss_weights\n",
    "    return loss, loss_weights\n",
    "\n",
    "            \n",
    "        \n",
    "#         print loss_name\n",
    "#         loss, loss_weights = get_case_by_case_loss(loss_name)\n",
    "#         return loss, loss_weights\n",
    "        \n",
    "  \n",
    "        \n",
    "    \n",
    "        "
   ]
  },
  {
   "cell_type": "code",
   "execution_count": 5,
   "metadata": {
    "collapsed": true
   },
   "outputs": [],
   "source": [
    "def get_case_by_case_loss(model_name):\n",
    "    #sys.stderr.write(model_name)\n",
    "    if model_name == \"iclr_semisupervised\":\n",
    "        sup_loss, _ = get_loss(\"iclr_supervised\")\n",
    "        unsup_loss = \"mean_squared_error\"\n",
    "        loss_weights = {\"box_score\":1, \"reconstruction\": configs[\"autoencoder_weight\"]}\n",
    "        loss = {\"box_score\":sup_loss, \"reconstruction\": unsup_loss}\n",
    "    else:\n",
    "        raise NotImplementedError\n",
    "    return loss, loss_weights"
   ]
  },
  {
   "cell_type": "code",
   "execution_count": 1,
   "metadata": {
    "collapsed": false
   },
   "outputs": [
    {
     "name": "stdout",
     "output_type": "stream",
     "text": [
      "[NbConvertApp] Converting notebook __init__.ipynb to script\n",
      "[NbConvertApp] Writing 1115 bytes to __init__.py\n"
     ]
    }
   ],
   "source": [
    "#! jupyter nbconvert --to script __init__.ipynb"
   ]
  },
  {
   "cell_type": "code",
   "execution_count": null,
   "metadata": {
    "collapsed": true
   },
   "outputs": [],
   "source": []
  }
 ],
 "metadata": {
  "kernelspec": {
   "display_name": "Python 2",
   "language": "python",
   "name": "python2"
  },
  "language_info": {
   "codemirror_mode": {
    "name": "ipython",
    "version": 2
   },
   "file_extension": ".py",
   "mimetype": "text/x-python",
   "name": "python",
   "nbconvert_exporter": "python",
   "pygments_lexer": "ipython2",
   "version": "2.7.12"
  }
 },
 "nbformat": 4,
 "nbformat_minor": 2
}
