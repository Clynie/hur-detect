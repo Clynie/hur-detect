{
 "cells": [
  {
   "cell_type": "code",
   "execution_count": 4,
   "metadata": {
    "collapsed": false
   },
   "outputs": [
    {
     "name": "stdout",
     "output_type": "stream",
     "text": [
      "importing Jupyter notebook from ../../notebooks_src/box_encode_decode/configs.ipynb\n"
     ]
    }
   ],
   "source": [
    "import tensorflow as tf\n",
    "import sys\n",
    "from nbfinder import NotebookFinder\n",
    "sys.meta_path.append(NotebookFinder())\n",
    "if __name__ == \"__main__\":\n",
    "    sys.path.append(\"../../\")\n",
    "from notebooks_src.box_encode_decode.configs import configs"
   ]
  },
  {
   "cell_type": "code",
   "execution_count": 5,
   "metadata": {
    "collapsed": true
   },
   "outputs": [],
   "source": [
    "def add_epsilon(tens):\n",
    "    epsilon = tf.constant(value=0.0001)\n",
    "    return tf.add(tens,epsilon)\n",
    "    \n",
    "\n",
    "def average_nonzero_elements(tens):\n",
    "    denominator = tf.count_nonzero(tens)\n",
    "    denominator = tf.cast(denominator, tf.float32) + 0.001\n",
    "    tens_sum = tf.reduce_sum(tens)\n",
    "    mean_tens = tf.div(tens_sum, denominator)\n",
    "    return mean_tens\n",
    "    \n",
    "\n",
    "\n",
    "def mask_tens(tens, mask):\n",
    "    return tf.mul(tens, mask)   \n",
    "    #tf.where(tf.equal(mask, tf.zeros_like(mask)),tf.zeros_like(tens),  tens)\n",
    "    \n",
    "\n",
    "def zero_out_nans(tens):\n",
    "    return tf.where(condition=tf.is_nan(tens),x=tf.zeros_like(tens), y=tens)"
   ]
  },
  {
   "cell_type": "code",
   "execution_count": 6,
   "metadata": {
    "collapsed": true
   },
   "outputs": [],
   "source": [
    "def unpack_net_output(pred_tensor, feat_shape):\n",
    "    ind = configs[\"feat_shapes\"].index(feat_shape)\n",
    "    sizes, ratios = configs[\"anchor_sizes\"][ind], configs[\"anchor_ratios\"][ind]\n",
    "    num_boxes = len(sizes)+ len(ratios)\n",
    "    loc_channels = num_boxes * 4\n",
    "    cls_channels = configs[\"num_classes\"] * num_boxes\n",
    "    #split by grabbing the first loc_channels channels\n",
    "    localizations, logits = tf.split(pred_tensor, axis=2,num_or_size_splits=[loc_channels, cls_channels])\n",
    "    return localizations, logits"
   ]
  },
  {
   "cell_type": "code",
   "execution_count": null,
   "metadata": {
    "collapsed": true
   },
   "outputs": [],
   "source": []
  }
 ],
 "metadata": {
  "kernelspec": {
   "display_name": "Python 2",
   "language": "python",
   "name": "python2"
  },
  "language_info": {
   "codemirror_mode": {
    "name": "ipython",
    "version": 2
   },
   "file_extension": ".py",
   "mimetype": "text/x-python",
   "name": "python",
   "nbconvert_exporter": "python",
   "pygments_lexer": "ipython2",
   "version": "2.7.12"
  }
 },
 "nbformat": 4,
 "nbformat_minor": 2
}
