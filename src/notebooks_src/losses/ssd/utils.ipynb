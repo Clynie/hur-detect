{
 "cells": [
  {
   "cell_type": "code",
   "execution_count": 6,
   "metadata": {
    "collapsed": false
   },
   "outputs": [
    {
     "name": "stdout",
     "output_type": "stream",
     "text": [
      "importing Jupyter notebook from ../../../notebooks_src/postprocessing/utils.ipynb\n"
     ]
    }
   ],
   "source": [
    "import sys\n",
    "from nbfinder import NotebookFinder\n",
    "sys.meta_path.append(NotebookFinder())\n",
    "if __name__ == \"__main__\":\n",
    "    sys.path.append(\"../../../\")\n",
    "from notebooks_src.postprocessing.utils import get_int_tensor_shape\n",
    "import tensorflow as tf\n",
    "slim=tf.contrib.slim\n",
    "from notebooks_src.losses.utils import abs_smooth as smooth_L1"
   ]
  },
  {
   "cell_type": "code",
   "execution_count": 7,
   "metadata": {
    "collapsed": true
   },
   "outputs": [],
   "source": [
    "def ssd_losses(logits, localisations,\n",
    "               gclasses, glocalisations, gscores,\n",
    "               match_threshold=0.5,\n",
    "               negative_ratio=3.,\n",
    "               alpha=1.,\n",
    "               label_smoothing=0.,\n",
    "               device='/cpu:0',\n",
    "               scope=None):\n",
    "    with tf.name_scope(scope, 'ssd_losses'):\n",
    "        lshape = get_int_tensor_shape(logits[0])\n",
    "        num_classes = lshape[-1]\n",
    "        batch_size = lshape[0]\n",
    "\n",
    "        # Flatten out all vectors!\n",
    "        flogits = []\n",
    "        fgclasses = []\n",
    "        fgscores = []\n",
    "        flocalisations = []\n",
    "        fglocalisations = []\n",
    "        for i in range(len(logits)):\n",
    "            flogits.append(tf.reshape(logits[i], [-1, num_classes]))\n",
    "            fgclasses.append(tf.reshape(gclasses[i], [-1]))\n",
    "            fgscores.append(tf.reshape(gscores[i], [-1]))\n",
    "            flocalisations.append(tf.reshape(localisations[i], [-1, 4]))\n",
    "            fglocalisations.append(tf.reshape(glocalisations[i], [-1, 4]))\n",
    "        # And concat the crap!\n",
    "        logits = tf.concat(flogits, axis=0)\n",
    "        gclasses = tf.concat(fgclasses, axis=0)\n",
    "        gscores = tf.concat(fgscores, axis=0)\n",
    "        localisations = tf.concat(flocalisations, axis=0)\n",
    "        glocalisations = tf.concat(fglocalisations, axis=0)\n",
    "        dtype = logits.dtype\n",
    "\n",
    "        # Compute positive matching mask...\n",
    "        pmask = gscores > match_threshold\n",
    "        fpmask = tf.cast(pmask, dtype)\n",
    "        n_positives = tf.reduce_sum(fpmask)\n",
    "\n",
    "        # Hard negative mining...\n",
    "        no_classes = tf.cast(pmask, tf.int32)\n",
    "        predictions = slim.softmax(logits)\n",
    "        nmask = tf.logical_and(tf.logical_not(pmask),\n",
    "                               gscores > -0.5)\n",
    "        fnmask = tf.cast(nmask, dtype)\n",
    "        nvalues = tf.where(nmask,\n",
    "                           predictions[:, 0],\n",
    "                           1. - fnmask)\n",
    "        nvalues_flat = tf.reshape(nvalues, [-1])\n",
    "        # Number of negative entries to select.\n",
    "        max_neg_entries = tf.cast(tf.reduce_sum(fnmask), tf.int32)\n",
    "        n_neg = tf.cast(negative_ratio * n_positives, tf.int32) + batch_size\n",
    "        n_neg = tf.minimum(n_neg, max_neg_entries)\n",
    "\n",
    "        val, idxes = tf.nn.top_k(-nvalues_flat, k=n_neg)\n",
    "        max_hard_pred = -val[-1]\n",
    "        # Final negative mask.\n",
    "        nmask = tf.logical_and(nmask, nvalues < max_hard_pred)\n",
    "        fnmask = tf.cast(nmask, dtype)\n",
    "\n",
    "        # Add cross-entropy loss.\n",
    "        with tf.name_scope('cross_entropy_pos'):\n",
    "            loss = tf.nn.sparse_softmax_cross_entropy_with_logits(logits=logits,\n",
    "                                                                  labels=gclasses)\n",
    "            loss = tf.div(tf.reduce_sum(loss * fpmask), batch_size, name='value')\n",
    "            tf.losses.add_loss(loss)\n",
    "            xent_pos = loss\n",
    "\n",
    "        with tf.name_scope('cross_entropy_neg'):\n",
    "            loss = tf.nn.sparse_softmax_cross_entropy_with_logits(logits=logits,\n",
    "                                                                  labels=no_classes)\n",
    "            loss = tf.div(tf.reduce_sum(loss * fnmask), batch_size, name='value')\n",
    "            tf.losses.add_loss(loss)\n",
    "            xent_neg = loss\n",
    "\n",
    "        # Add localization loss: smooth L1, L2, ...\n",
    "        with tf.name_scope('localization'):\n",
    "            # Weights Tensor: positive mask + random negative.\n",
    "            weights = tf.expand_dims(alpha * fpmask, axis=-1)\n",
    "            loss = smooth_L1(localisations - glocalisations)\n",
    "            loss = tf.div(tf.reduce_sum(loss * weights), batch_size, name='value')\n",
    "            tf.losses.add_loss(loss)\n",
    "            loc = loss\n",
    "        return loc + xent_pos + xent_neg"
   ]
  },
  {
   "cell_type": "code",
   "execution_count": null,
   "metadata": {
    "collapsed": true
   },
   "outputs": [],
   "source": []
  }
 ],
 "metadata": {
  "kernelspec": {
   "display_name": "Python 2",
   "language": "python",
   "name": "python2"
  },
  "language_info": {
   "codemirror_mode": {
    "name": "ipython",
    "version": 2
   },
   "file_extension": ".py",
   "mimetype": "text/x-python",
   "name": "python",
   "nbconvert_exporter": "python",
   "pygments_lexer": "ipython2",
   "version": "2.7.12"
  }
 },
 "nbformat": 4,
 "nbformat_minor": 2
}
