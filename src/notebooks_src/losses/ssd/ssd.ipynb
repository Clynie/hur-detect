{
 "cells": [
  {
   "cell_type": "code",
   "execution_count": 1,
   "metadata": {
    "collapsed": false
   },
   "outputs": [],
   "source": [
    "import sys\n",
    "from nbfinder import NotebookFinder\n",
    "sys.meta_path.append(NotebookFinder())\n",
    "import tensorflow as tf\n",
    "slim=tf.contrib.slim\n",
    "if __name__ == \"__main__\":\n",
    "    sys.path.append(\"../../../\")"
   ]
  },
  {
   "cell_type": "code",
   "execution_count": 2,
   "metadata": {
    "collapsed": false
   },
   "outputs": [
    {
     "name": "stdout",
     "output_type": "stream",
     "text": [
      "importing Jupyter notebook from ../../../notebooks_src/box_encode_decode/ssd/make_anchors_orig.ipynb\n",
      "importing Jupyter notebook from ../../../notebooks_src/box_encode_decode/configs.ipynb\n",
      "importing Jupyter notebook from ../../../notebooks_src/box_encode_decode/ssd/encode.ipynb\n",
      "importing Jupyter notebook from ../../../notebooks_src/load_data/get_generator.ipynb\n",
      "importing Jupyter notebook from ../../../notebooks_src/load_data/configs.ipynb\n",
      "importing Jupyter notebook from ../../../notebooks_src/load_data/generator/generator.ipynb\n",
      "importing Jupyter notebook from ../../../notebooks_src/box_encode_decode/util.ipynb\n",
      "importing Jupyter notebook from ../../../notebooks_src/load_data/generator/batch_fetcher.ipynb\n",
      "importing Jupyter notebook from ../../../notebooks_src/models/configs.ipynb\n",
      "importing Jupyter notebook from ../../../notebooks_src/config_util.ipynb\n",
      "importing Jupyter notebook from ../../../notebooks_src/losses/util.ipynb\n"
     ]
    }
   ],
   "source": [
    "from notebooks_src.box_encode_decode.ssd.make_anchors_orig import make_anchors_for_one_fmap\n",
    "from notebooks_src.box_encode_decode.ssd.encode import encode, encode_one_fmap\n",
    "from notebooks_src.models.configs import configs\n",
    "from notebooks_src.box_encode_decode.configs import configs as box_configs\n",
    "from notebooks_src.losses.util import unpack_net_output\n",
    "configs.update(box_configs)"
   ]
  },
  {
   "cell_type": "code",
   "execution_count": 18,
   "metadata": {
    "collapsed": false
   },
   "outputs": [],
   "source": [
    "def compute_loss(y_true, y_pred):\n",
    "    #TODO: make work for batch size greater than 1\n",
    "    '''y_true: the boxes\n",
    "       y_pred: a tensor of Nxfy x fx x k where k = 4*number of anchors + number_of_anchors*num_classes'''\n",
    "    feat_shape = tuple([d.value for d in list(y_pred.get_shape()[1:3])])\n",
    "    #anchors = make_anchors_for_one_fmap(img_shape=configs[\"tensor_input_shape\"], feat_shape=feat_shape)\n",
    "    y_true = tf.squeeze(y_true,axis=0)\n",
    "    y_pred = tf.squeeze(y_pred,axis=0)\n",
    "    gclasses, glocalizations, gscores= encode_one_fmap(y_true, feat_shape=feat_shape)\n",
    "    \n",
    "    #TODO: reshape to have 96,144,4,4 for localizations and logits\n",
    "    localizations, logits = unpack_net_output(y_pred, feat_shape)\n",
    "    return logits, localizations,gclasses, glocalizations, gscores\n",
    "    return losses(logits, \n",
    "                  localizations,\n",
    "                  gclasses, \n",
    "                  glocalizations, \n",
    "                  gscores)\n",
    "    \n"
   ]
  },
  {
   "cell_type": "code",
   "execution_count": 4,
   "metadata": {
    "collapsed": true
   },
   "outputs": [],
   "source": [
    "from notebooks_src.load_data.get_generator import get_generator"
   ]
  },
  {
   "cell_type": "code",
   "execution_count": 5,
   "metadata": {
    "collapsed": false
   },
   "outputs": [
    {
     "name": "stdout",
     "output_type": "stream",
     "text": [
      "importing Jupyter notebook from ../../../notebooks_src/load_data/datasets/climate/get_data.ipynb\n",
      "importing Jupyter notebook from ../../../notebooks_src/load_data/datasets/climate/util.ipynb\n"
     ]
    }
   ],
   "source": [
    "gen=get_generator(\"tr\", batch_size=2)"
   ]
  },
  {
   "cell_type": "code",
   "execution_count": 6,
   "metadata": {
    "collapsed": false
   },
   "outputs": [],
   "source": [
    "im, box = gen.next()"
   ]
  },
  {
   "cell_type": "code",
   "execution_count": 4,
   "metadata": {
    "collapsed": false
   },
   "outputs": [],
   "source": [
    "bboxes = tf.placeholder(tf.float32,shape=(1,15,5),name=\"bboxes\")"
   ]
  },
  {
   "cell_type": "code",
   "execution_count": 5,
   "metadata": {
    "collapsed": false
   },
   "outputs": [
    {
     "data": {
      "text/plain": [
       "<tf.Tensor 'bboxes:0' shape=(1, 15, 5) dtype=float32>"
      ]
     },
     "execution_count": 5,
     "metadata": {},
     "output_type": "execute_result"
    }
   ],
   "source": [
    "bboxes"
   ]
  },
  {
   "cell_type": "code",
   "execution_count": 6,
   "metadata": {
    "collapsed": true
   },
   "outputs": [],
   "source": [
    "y_pred = tf.ones((1,96,144,32))"
   ]
  },
  {
   "cell_type": "code",
   "execution_count": 19,
   "metadata": {
    "collapsed": false
   },
   "outputs": [
    {
     "data": {
      "text/plain": [
       "(<tf.Tensor 'split_11:1' shape=(96, 144, 16) dtype=float32>,\n",
       " <tf.Tensor 'split_11:0' shape=(96, 144, 16) dtype=float32>,\n",
       " <tf.Tensor 'while_5/Exit_1:0' shape=(96, 144, 4) dtype=int64>,\n",
       " <tf.Tensor 'stack_5:0' shape=(96, 144, 4, 4) dtype=float32>,\n",
       " <tf.Tensor 'while_5/Exit_2:0' shape=(96, 144, 4) dtype=float32>)"
      ]
     },
     "execution_count": 19,
     "metadata": {},
     "output_type": "execute_result"
    }
   ],
   "source": [
    "compute_loss(bboxes,y_pred)"
   ]
  },
  {
   "cell_type": "code",
   "execution_count": 10,
   "metadata": {
    "collapsed": true
   },
   "outputs": [],
   "source": [
    "loss_weights = None"
   ]
  },
  {
   "cell_type": "code",
   "execution_count": 16,
   "metadata": {
    "collapsed": false
   },
   "outputs": [],
   "source": [
    "def losses(logits, localisations,\n",
    "           gclasses, glocalisations, gscores,\n",
    "           match_threshold=0.5,\n",
    "           negative_ratio=3.,\n",
    "           alpha=1.,\n",
    "           label_smoothing=0.,\n",
    "           scope='ssd_losses'):\n",
    "    \"\"\"Define the SSD network losses.\n",
    "    \"\"\"\n",
    "    return ssd_single_loss(logits, localisations,\n",
    "                      gclasses, glocalisations, gscores,\n",
    "                      match_threshold=match_threshold,\n",
    "                      negative_ratio=negative_ratio,\n",
    "                      alpha=alpha,\n",
    "                      label_smoothing=label_smoothing,\n",
    "                      scope=scope)\n",
    "\n",
    "\n",
    "def ssd_single_loss(logits, localisations,\n",
    "           gclasses, glocalisations, gscores,\n",
    "           match_threshold=0.5,\n",
    "           negative_ratio=3.,\n",
    "           alpha=1.,\n",
    "           label_smoothing=0.,\n",
    "           scope=None):\n",
    "    \"\"\"Loss functions for training the SSD 300 VGG network.\n",
    "\n",
    "    This function defines the different loss components of the SSD, and\n",
    "    adds them to the TF loss collection.\n",
    "\n",
    "    Arguments:\n",
    "      logits: predictions logits Tensor;\n",
    "      localisations: localisations Tensor;\n",
    "      gclasses: groundtruth labels Tensor;\n",
    "      glocalisations: groundtruth localisation Tensor;\n",
    "      gscores: groundtruth score Tensor;\n",
    "    \"\"\"\n",
    "    dtype = logits.dtype\n",
    "    # Determine weights Tensor.\n",
    "    pmask = gscores > match_threshold\n",
    "    fpmask = tf.cast(pmask, dtype)\n",
    "    n_positives = tf.reduce_sum(fpmask)\n",
    "\n",
    "    # Select some random negative entries.\n",
    "    # n_entries = np.prod(gclasses[i].get_shape().as_list())\n",
    "    # r_positive = n_positives / n_entries\n",
    "    # r_negative = negative_ratio * n_positives / (n_entries - n_positives)\n",
    "\n",
    "    # Negative mask.\n",
    "    no_classes = tf.cast(pmask, tf.int32)\n",
    "    predictions = slim.softmax(logits)\n",
    "    nmask = tf.logical_and(tf.logical_not(pmask),\n",
    "                           gscores > -0.5)\n",
    "    fnmask = tf.cast(nmask, dtype)\n",
    "    nvalues = tf.where(nmask,\n",
    "                       predictions[:, :, :, :, 0],\n",
    "                       1. - fnmask)\n",
    "    nvalues_flat = tf.reshape(nvalues, [-1])\n",
    "    # Number of negative entries to select.\n",
    "    n_neg = tf.cast(negative_ratio * n_positives, tf.int32)\n",
    "    n_neg = tf.maximum(n_neg, tf.size(nvalues_flat) // 8)\n",
    "    n_neg = tf.maximum(n_neg, tf.shape(nvalues)[0] * 4)\n",
    "    max_neg_entries = 1 + tf.cast(tf.reduce_sum(fnmask), tf.int32)\n",
    "    n_neg = tf.minimum(n_neg, max_neg_entries)\n",
    "\n",
    "    val, idxes = tf.nn.top_k(-nvalues_flat, k=n_neg)\n",
    "    minval = val[-1]\n",
    "    # Final negative mask.\n",
    "    nmask = tf.logical_and(nmask, -nvalues > minval)\n",
    "    fnmask = tf.cast(nmask, dtype)\n",
    "\n",
    "    # Add cross-entropy loss.\n",
    "\n",
    "    #cross entropy for positives\n",
    "    loss = tf.nn.sparse_softmax_cross_entropy_with_logits(logits=logits,\n",
    "                                                          labels=gclasses)\n",
    "    loss = tf.losses.compute_weighted_loss(loss, fpmask)\n",
    "    l_cross_pos = loss\n",
    "\n",
    "    #cross entropy for negatives\n",
    "    loss = tf.nn.sparse_softmax_cross_entropy_with_logits(logits=logits,\n",
    "                                                          labels=no_classes)\n",
    "    loss = tf.losses.compute_weighted_loss(loss, fnmask)\n",
    "    l_cross_neg = loss\n",
    "\n",
    "    \n",
    "\n",
    "    # Weights Tensor: positive mask + random negative.\n",
    "    weights = tf.expand_dims(alpha * fpmask, axis=-1)\n",
    "    loss = custom_layers.abs_smooth(localisations - glocalisations)\n",
    "    loss = tf.losses.compute_weighted_loss(loss, weights)\n",
    "    l_loc = loss\n",
    "    \n",
    "    final_loss = l_cross_pos + l_cross_neg  + l_loc\n",
    "    return final_loss"
   ]
  },
  {
   "cell_type": "code",
   "execution_count": 12,
   "metadata": {
    "collapsed": true
   },
   "outputs": [],
   "source": [
    "# =========================================================================== #\n",
    "# SSD loss function.\n",
    "# =========================================================================== #\n",
    "def ssd_losses(logits, localisations,\n",
    "           gclasses, glocalisations, gscores,\n",
    "           match_threshold=0.5,\n",
    "           negative_ratio=3.,\n",
    "           alpha=1.,\n",
    "           label_smoothing=0.,\n",
    "           scope=None):\n",
    "    \"\"\"Loss functions for training the SSD 300 VGG network.\n",
    "\n",
    "    This function defines the different loss components of the SSD, and\n",
    "    adds them to the TF loss collection.\n",
    "\n",
    "    Arguments:\n",
    "      logits: (list of) predictions logits Tensors;\n",
    "      localisations: (list of) localisations Tensors;\n",
    "      gclasses: (list of) groundtruth labels Tensors;\n",
    "      glocalisations: (list of) groundtruth localisations Tensors;\n",
    "      gscores: (list of) groundtruth score Tensors;\n",
    "    \"\"\"\n",
    "    with tf.name_scope(scope, 'ssd_losses'):\n",
    "        l_cross_pos = []\n",
    "        l_cross_neg = []\n",
    "        l_loc = []\n",
    "        for i in range(len(logits)):\n",
    "            dtype = logits[i].dtype\n",
    "            with tf.name_scope('block_%i' % i):\n",
    "                # Determine weights Tensor.\n",
    "                pmask = gscores[i] > match_threshold\n",
    "                fpmask = tf.cast(pmask, dtype)\n",
    "                n_positives = tf.reduce_sum(fpmask)\n",
    "\n",
    "                # Select some random negative entries.\n",
    "                # n_entries = np.prod(gclasses[i].get_shape().as_list())\n",
    "                # r_positive = n_positives / n_entries\n",
    "                # r_negative = negative_ratio * n_positives / (n_entries - n_positives)\n",
    "\n",
    "                # Negative mask.\n",
    "                no_classes = tf.cast(pmask, tf.int32)\n",
    "                predictions = slim.softmax(logits[i])\n",
    "                nmask = tf.logical_and(tf.logical_not(pmask),\n",
    "                                       gscores[i] > -0.5)\n",
    "                fnmask = tf.cast(nmask, dtype)\n",
    "                nvalues = tf.where(nmask,\n",
    "                                   predictions[:, :, :, :, 0],\n",
    "                                   1. - fnmask)\n",
    "                nvalues_flat = tf.reshape(nvalues, [-1])\n",
    "                # Number of negative entries to select.\n",
    "                n_neg = tf.cast(negative_ratio * n_positives, tf.int32)\n",
    "                n_neg = tf.maximum(n_neg, tf.size(nvalues_flat) // 8)\n",
    "                n_neg = tf.maximum(n_neg, tf.shape(nvalues)[0] * 4)\n",
    "                max_neg_entries = 1 + tf.cast(tf.reduce_sum(fnmask), tf.int32)\n",
    "                n_neg = tf.minimum(n_neg, max_neg_entries)\n",
    "\n",
    "                val, idxes = tf.nn.top_k(-nvalues_flat, k=n_neg)\n",
    "                minval = val[-1]\n",
    "                # Final negative mask.\n",
    "                nmask = tf.logical_and(nmask, -nvalues > minval)\n",
    "                fnmask = tf.cast(nmask, dtype)\n",
    "\n",
    "                # Add cross-entropy loss.\n",
    "                with tf.name_scope('cross_entropy_pos'):\n",
    "                    loss = tf.nn.sparse_softmax_cross_entropy_with_logits(logits=logits[i],\n",
    "                                                                          labels=gclasses[i])\n",
    "                    loss = tf.losses.compute_weighted_loss(loss, fpmask)\n",
    "                    l_cross_pos.append(loss)\n",
    "\n",
    "                with tf.name_scope('cross_entropy_neg'):\n",
    "                    loss = tf.nn.sparse_softmax_cross_entropy_with_logits(logits=logits[i],\n",
    "                                                                          labels=no_classes)\n",
    "                    loss = tf.losses.compute_weighted_loss(loss, fnmask)\n",
    "                    l_cross_neg.append(loss)\n",
    "\n",
    "                # Add localization loss: smooth L1, L2, ...\n",
    "                with tf.name_scope('localization'):\n",
    "                    # Weights Tensor: positive mask + random negative.\n",
    "                    weights = tf.expand_dims(alpha * fpmask, axis=-1)\n",
    "                    loss = custom_layers.abs_smooth(localisations[i] - glocalisations[i])\n",
    "                    loss = tf.losses.compute_weighted_loss(loss, weights)\n",
    "                    l_loc.append(loss)\n",
    "\n",
    "        # Additional total losses...\n",
    "        with tf.name_scope('total'):\n",
    "            total_cross_pos = tf.add_n(l_cross_pos, 'cross_entropy_pos')\n",
    "            total_cross_neg = tf.add_n(l_cross_neg, 'cross_entropy_neg')\n",
    "            total_cross = tf.add(total_cross_pos, total_cross_neg, 'cross_entropy')\n",
    "            total_loc = tf.add_n(l_loc, 'localization')\n",
    "\n",
    "            # Add to EXTRA LOSSES TF.collection\n",
    "            tf.add_to_collection('EXTRA_LOSSES', total_cross_pos)\n",
    "            tf.add_to_collection('EXTRA_LOSSES', total_cross_neg)\n",
    "            tf.add_to_collection('EXTRA_LOSSES', total_cross)\n",
    "            tf.add_to_collection('EXTRA_LOSSES', total_loc)"
   ]
  },
  {
   "cell_type": "code",
   "execution_count": null,
   "metadata": {
    "collapsed": true
   },
   "outputs": [],
   "source": []
  },
  {
   "cell_type": "code",
   "execution_count": null,
   "metadata": {
    "collapsed": true
   },
   "outputs": [],
   "source": []
  }
 ],
 "metadata": {
  "kernelspec": {
   "display_name": "Python 2",
   "language": "python",
   "name": "python2"
  },
  "language_info": {
   "codemirror_mode": {
    "name": "ipython",
    "version": 2
   },
   "file_extension": ".py",
   "mimetype": "text/x-python",
   "name": "python",
   "nbconvert_exporter": "python",
   "pygments_lexer": "ipython2",
   "version": "2.7.12"
  }
 },
 "nbformat": 4,
 "nbformat_minor": 2
}
