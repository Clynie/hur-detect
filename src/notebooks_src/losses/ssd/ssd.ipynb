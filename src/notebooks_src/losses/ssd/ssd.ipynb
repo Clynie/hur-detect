{
 "cells": [
  {
   "cell_type": "code",
   "execution_count": 1,
   "metadata": {
    "collapsed": false
   },
   "outputs": [],
   "source": [
    "import sys\n",
    "from nbfinder import NotebookFinder\n",
    "sys.meta_path.append(NotebookFinder())\n",
    "import tensorflow as tf\n",
    "slim=tf.contrib.slim\n",
    "if __name__ == \"__main__\":\n",
    "    sys.path.append(\"../../../\")"
   ]
  },
  {
   "cell_type": "code",
   "execution_count": 2,
   "metadata": {
    "collapsed": false
   },
   "outputs": [
    {
     "name": "stdout",
     "output_type": "stream",
     "text": [
      "importing Jupyter notebook from ../../../notebooks_src/box_encode_decode/ssd/make_anchors_orig.ipynb\n",
      "box_encode_decode_configs\n",
      "importing Jupyter notebook from ../../../notebooks_src/configs/box_encode_decode_configs.ipynb\n",
      "callbacks_configs\n",
      "importing Jupyter notebook from ../../../notebooks_src/configs/callbacks_configs.ipynb\n",
      "fit_configs\n",
      "importing Jupyter notebook from ../../../notebooks_src/configs/fit_configs.ipynb\n",
      "labels_configs\n",
      "importing Jupyter notebook from ../../../notebooks_src/configs/labels_configs.ipynb\n",
      "load_data_configs\n",
      "importing Jupyter notebook from ../../../notebooks_src/configs/load_data_configs.ipynb\n",
      "losses_configs\n",
      "importing Jupyter notebook from ../../../notebooks_src/configs/losses_configs.ipynb\n",
      "metrics_configs\n",
      "importing Jupyter notebook from ../../../notebooks_src/configs/metrics_configs.ipynb\n",
      "models_configs\n",
      "importing Jupyter notebook from ../../../notebooks_src/configs/models_configs.ipynb\n",
      "optimizers_configs\n",
      "importing Jupyter notebook from ../../../notebooks_src/configs/optimizers_configs.ipynb\n",
      "importing Jupyter notebook from ../../../notebooks_src/box_encode_decode/ssd/encode.ipynb\n",
      "importing Jupyter notebook from ../../../notebooks_src/postprocessing/utils.ipynb\n",
      "importing Jupyter notebook from ../../../notebooks_src/load_data/get_generator.ipynb\n",
      "importing Jupyter notebook from ../../../notebooks_src/load_data/generator/generator.ipynb\n",
      "importing Jupyter notebook from ../../../notebooks_src/box_encode_decode/util.ipynb\n",
      "importing Jupyter notebook from ../../../notebooks_src/load_data/generator/batch_fetcher.ipynb\n",
      "importing Jupyter notebook from ../../../notebooks_src/box_encode_decode/ssd/utils.ipynb\n",
      "importing Jupyter notebook from ../../../notebooks_src/postprocessing/unpack.ipynb\n",
      "importing Jupyter notebook from utils.ipynb\n",
      "importing Jupyter notebook from ../../../notebooks_src/losses/utils.ipynb\n"
     ]
    }
   ],
   "source": [
    "from notebooks_src.box_encode_decode.ssd.make_anchors_orig import make_anchors_for_one_fmap\n",
    "from notebooks_src.box_encode_decode.ssd.encode import encode\n",
    "from notebooks_src.configs import configs\n",
    "from notebooks_src.postprocessing.utils import get_int_tensor_shape, sort_some_lists_of_tensors\n",
    "from notebooks_src.postprocessing.unpack import unpack_net_output\n",
    "from utils import ssd_losses"
   ]
  },
  {
   "cell_type": "code",
   "execution_count": 3,
   "metadata": {
    "collapsed": true
   },
   "outputs": [],
   "source": [
    "loss_weights = None"
   ]
  },
  {
   "cell_type": "code",
   "execution_count": 4,
   "metadata": {
    "collapsed": false
   },
   "outputs": [],
   "source": [
    "def compute_loss(y_true, y_preds):\n",
    "    '''y_true: the boxes Nx15x5 tensor\n",
    "       y_preds: a list of 7?  tensors of Nxfy x fx x k where k = 4*number of anchors + number_of_anchors*num_classes,\n",
    "       N is number of examples'''\n",
    "\n",
    "    gclasses, glocalizations, gscores = encode(y_true)\n",
    "    \n",
    "    localizations, logits, predictions = unpack_net_output(y_preds)\n",
    "    \n",
    "    #sort so in same order\n",
    "    logits, localizations, gclasses, glocalizations, gscores = sort_some_lists_of_tensors(logits,\n",
    "                                                                                           localizations, \n",
    "                                                                                           gclasses, \n",
    "                                                                                           glocalizations, \n",
    "                                                                                           gscores)\n",
    "\n",
    "    final_loss = ssd_losses(logits, localizations,\n",
    "                      gclasses, glocalizations, gscores,\n",
    "                      match_threshold=configs[\"matching_threshold\"],\n",
    "                      negative_ratio=configs[\"negative_ratio\"],\n",
    "                      alpha=configs[\"alpha\"],\n",
    "                      label_smoothing=configs[\"label_smoothing\"],\n",
    "                      scope=\"ssd_losses\")\n",
    "    return final_loss"
   ]
  },
  {
   "cell_type": "code",
   "execution_count": 8,
   "metadata": {
    "collapsed": false
   },
   "outputs": [],
   "source": [
    "if __name__ == \"__main__\":\n",
    "    with tf.Session() as sess:\n",
    "        from notebooks_src.load_data.get_generator import get_generator\n",
    "\n",
    "        gen=get_generator(\"tr\", batch_size=2)\n",
    "        bboxes = tf.placeholder(tf.float32,shape=(2,15,5),name=\"bboxes\")\n",
    "        shapes = [(2, 6, 9, 48),\n",
    "                 (2, 3, 5, 32),\n",
    "                 (2, 96, 144, 32),\n",
    "                 (2, 24, 36, 48),\n",
    "                 (2, 12, 18, 48),\n",
    "                 (2, 48, 72, 48),\n",
    "                 (2, 1, 1, 32)]\n",
    "\n",
    "        y_preds = [tf.ones((shape)) for shape in shapes]\n",
    "\n",
    "        final_loss = compute_loss(bboxes, y_preds)\n",
    "        for im, box in gen:\n",
    "            print sess.run(final_loss, feed_dict={bboxes:box})"
   ]
  },
  {
   "cell_type": "code",
   "execution_count": null,
   "metadata": {
    "collapsed": true
   },
   "outputs": [],
   "source": []
  }
 ],
 "metadata": {
  "kernelspec": {
   "display_name": "Python 2",
   "language": "python",
   "name": "python2"
  },
  "language_info": {
   "codemirror_mode": {
    "name": "ipython",
    "version": 2
   },
   "file_extension": ".py",
   "mimetype": "text/x-python",
   "name": "python",
   "nbconvert_exporter": "python",
   "pygments_lexer": "ipython2",
   "version": "2.7.12"
  }
 },
 "nbformat": 4,
 "nbformat_minor": 2
}
