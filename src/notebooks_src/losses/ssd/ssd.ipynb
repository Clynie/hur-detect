{
 "cells": [
  {
   "cell_type": "code",
   "execution_count": 1,
   "metadata": {
    "collapsed": false
   },
   "outputs": [],
   "source": [
    "import sys\n",
    "from nbfinder import NotebookFinder\n",
    "sys.meta_path.append(NotebookFinder())\n",
    "import tensorflow as tf\n",
    "slim=tf.contrib.slim\n",
    "if __name__ == \"__main__\":\n",
    "    sys.path.append(\"../../../\")"
   ]
  },
  {
   "cell_type": "code",
   "execution_count": 2,
   "metadata": {
    "collapsed": false
   },
   "outputs": [
    {
     "name": "stdout",
     "output_type": "stream",
     "text": [
      "importing Jupyter notebook from ../../../notebooks_src/box_encode_decode/ssd/make_anchors_orig.ipynb\n",
      "importing Jupyter notebook from ../../../notebooks_src/box_encode_decode/configs.ipynb\n",
      "importing Jupyter notebook from ../../../notebooks_src/box_encode_decode/ssd/encode.ipynb\n",
      "importing Jupyter notebook from ../../../notebooks_src/losses/util.ipynb\n",
      "importing Jupyter notebook from ../../../notebooks_src/models/configs.ipynb\n",
      "importing Jupyter notebook from ../../../notebooks_src/config_util.ipynb\n",
      "importing Jupyter notebook from ../../../notebooks_src/load_data/configs.ipynb\n",
      "importing Jupyter notebook from ../../../notebooks_src/load_data/get_generator.ipynb\n",
      "importing Jupyter notebook from ../../../notebooks_src/load_data/generator/generator.ipynb\n",
      "importing Jupyter notebook from ../../../notebooks_src/box_encode_decode/util.ipynb\n",
      "importing Jupyter notebook from ../../../notebooks_src/load_data/generator/batch_fetcher.ipynb\n"
     ]
    }
   ],
   "source": [
    "from notebooks_src.box_encode_decode.ssd.make_anchors_orig import make_anchors_for_one_fmap\n",
    "from notebooks_src.box_encode_decode.ssd.encode import encode\n",
    "from notebooks_src.models.configs import configs\n",
    "from notebooks_src.box_encode_decode.configs import configs as box_configs\n",
    "from notebooks_src.losses.util import unpack_net_output, get_int_tensor_shape, sort_some_lists_of_tensors\n",
    "from notebooks_src.losses.util import abs_smooth as smooth_L1\n",
    "configs.update(box_configs)"
   ]
  },
  {
   "cell_type": "code",
   "execution_count": 1,
   "metadata": {
    "collapsed": true
   },
   "outputs": [],
   "source": [
    "loss_weights = None"
   ]
  },
  {
   "cell_type": "code",
   "execution_count": 3,
   "metadata": {
    "collapsed": false
   },
   "outputs": [],
   "source": [
    "def compute_loss(y_true, y_preds):\n",
    "    '''y_true: the boxes Nx15x5 tensor\n",
    "       y_preds: a list of 7?  tensors of Nxfy x fx x k where k = 4*number of anchors + number_of_anchors*num_classes,\n",
    "       N is number of examples'''\n",
    "\n",
    "    gclasses, glocalizations, gscores = encode(y_true)\n",
    "    \n",
    "    localizations, logits, predictions = unpack_net_output(y_preds)\n",
    "    \n",
    "    #sort so in same order\n",
    "    logits, localizations, gclasses, glocalizations, gscores = sort_some_lists_of_tensors(logits,\n",
    "                                                                                           localizations, \n",
    "                                                                                           gclasses, \n",
    "                                                                                           glocalizations, \n",
    "                                                                                           gscores)\n",
    "\n",
    "    final_loss = losses(logits, localizations,\n",
    "           gclasses, glocalizations, gscores)\n",
    "    return final_loss"
   ]
  },
  {
   "cell_type": "code",
   "execution_count": 4,
   "metadata": {
    "collapsed": true
   },
   "outputs": [],
   "source": [
    "def losses(logits, localisations,\n",
    "           gclasses, glocalisations, gscores,\n",
    "           match_threshold=0.5,\n",
    "           negative_ratio=3.,\n",
    "           alpha=1.,\n",
    "           label_smoothing=0.,\n",
    "           scope='ssd_losses'):\n",
    "    \"\"\"Define the SSD network losses.\n",
    "    \"\"\"\n",
    "    \n",
    "\n",
    "    final_loss = ssd_losses(logits, localisations,\n",
    "                      gclasses, glocalisations, gscores,\n",
    "                      match_threshold=match_threshold,\n",
    "                      negative_ratio=negative_ratio,\n",
    "                      alpha=alpha,\n",
    "                      label_smoothing=label_smoothing,\n",
    "                      scope=scope)\n",
    "    return final_loss"
   ]
  },
  {
   "cell_type": "code",
   "execution_count": 5,
   "metadata": {
    "collapsed": true
   },
   "outputs": [],
   "source": [
    "def ssd_losses(logits, localisations,\n",
    "               gclasses, glocalisations, gscores,\n",
    "               match_threshold=0.5,\n",
    "               negative_ratio=3.,\n",
    "               alpha=1.,\n",
    "               label_smoothing=0.,\n",
    "               device='/cpu:0',\n",
    "               scope=None):\n",
    "    with tf.name_scope(scope, 'ssd_losses'):\n",
    "        lshape = get_int_tensor_shape(logits[0])\n",
    "        num_classes = lshape[-1]\n",
    "        batch_size = lshape[0]\n",
    "\n",
    "        # Flatten out all vectors!\n",
    "        flogits = []\n",
    "        fgclasses = []\n",
    "        fgscores = []\n",
    "        flocalisations = []\n",
    "        fglocalisations = []\n",
    "        for i in range(len(logits)):\n",
    "            flogits.append(tf.reshape(logits[i], [-1, num_classes]))\n",
    "            fgclasses.append(tf.reshape(gclasses[i], [-1]))\n",
    "            fgscores.append(tf.reshape(gscores[i], [-1]))\n",
    "            flocalisations.append(tf.reshape(localisations[i], [-1, 4]))\n",
    "            fglocalisations.append(tf.reshape(glocalisations[i], [-1, 4]))\n",
    "        # And concat the crap!\n",
    "        logits = tf.concat(flogits, axis=0)\n",
    "        gclasses = tf.concat(fgclasses, axis=0)\n",
    "        gscores = tf.concat(fgscores, axis=0)\n",
    "        localisations = tf.concat(flocalisations, axis=0)\n",
    "        glocalisations = tf.concat(fglocalisations, axis=0)\n",
    "        dtype = logits.dtype\n",
    "\n",
    "        # Compute positive matching mask...\n",
    "        pmask = gscores > match_threshold\n",
    "        fpmask = tf.cast(pmask, dtype)\n",
    "        n_positives = tf.reduce_sum(fpmask)\n",
    "\n",
    "        # Hard negative mining...\n",
    "        no_classes = tf.cast(pmask, tf.int32)\n",
    "        predictions = slim.softmax(logits)\n",
    "        nmask = tf.logical_and(tf.logical_not(pmask),\n",
    "                               gscores > -0.5)\n",
    "        fnmask = tf.cast(nmask, dtype)\n",
    "        nvalues = tf.where(nmask,\n",
    "                           predictions[:, 0],\n",
    "                           1. - fnmask)\n",
    "        nvalues_flat = tf.reshape(nvalues, [-1])\n",
    "        # Number of negative entries to select.\n",
    "        max_neg_entries = tf.cast(tf.reduce_sum(fnmask), tf.int32)\n",
    "        n_neg = tf.cast(negative_ratio * n_positives, tf.int32) + batch_size\n",
    "        n_neg = tf.minimum(n_neg, max_neg_entries)\n",
    "\n",
    "        val, idxes = tf.nn.top_k(-nvalues_flat, k=n_neg)\n",
    "        max_hard_pred = -val[-1]\n",
    "        # Final negative mask.\n",
    "        nmask = tf.logical_and(nmask, nvalues < max_hard_pred)\n",
    "        fnmask = tf.cast(nmask, dtype)\n",
    "\n",
    "        # Add cross-entropy loss.\n",
    "        with tf.name_scope('cross_entropy_pos'):\n",
    "            loss = tf.nn.sparse_softmax_cross_entropy_with_logits(logits=logits,\n",
    "                                                                  labels=gclasses)\n",
    "            loss = tf.div(tf.reduce_sum(loss * fpmask), batch_size, name='value')\n",
    "            tf.losses.add_loss(loss)\n",
    "            xent_pos = loss\n",
    "\n",
    "        with tf.name_scope('cross_entropy_neg'):\n",
    "            loss = tf.nn.sparse_softmax_cross_entropy_with_logits(logits=logits,\n",
    "                                                                  labels=no_classes)\n",
    "            loss = tf.div(tf.reduce_sum(loss * fnmask), batch_size, name='value')\n",
    "            tf.losses.add_loss(loss)\n",
    "            xent_neg = loss\n",
    "\n",
    "        # Add localization loss: smooth L1, L2, ...\n",
    "        with tf.name_scope('localization'):\n",
    "            # Weights Tensor: positive mask + random negative.\n",
    "            weights = tf.expand_dims(alpha * fpmask, axis=-1)\n",
    "            loss = smooth_L1(localisations - glocalisations)\n",
    "            loss = tf.div(tf.reduce_sum(loss * weights), batch_size, name='value')\n",
    "            tf.losses.add_loss(loss)\n",
    "            loc = loss\n",
    "        return loc + xent_pos + xent_neg"
   ]
  },
  {
   "cell_type": "code",
   "execution_count": 6,
   "metadata": {
    "collapsed": false
   },
   "outputs": [
    {
     "name": "stdout",
     "output_type": "stream",
     "text": [
      "importing Jupyter notebook from ../../../notebooks_src/load_data/datasets/climate/get_data.ipynb\n",
      "importing Jupyter notebook from ../../../notebooks_src/load_data/datasets/climate/util.ipynb\n"
     ]
    }
   ],
   "source": [
    "if __name__ == \"__main__\":\n",
    "    with tf.Session() as sess:\n",
    "        from notebooks_src.load_data.get_generator import get_generator\n",
    "\n",
    "        gen=get_generator(\"tr\", batch_size=2)\n",
    "        bboxes = tf.placeholder(tf.float32,shape=(2,15,5),name=\"bboxes\")\n",
    "        shapes = [(2, 6, 9, 48),\n",
    "                 (2, 3, 5, 32),\n",
    "                 (2, 96, 144, 32),\n",
    "                 (2, 24, 36, 48),\n",
    "                 (2, 12, 18, 48),\n",
    "                 (2, 48, 72, 48),\n",
    "                 (2, 1, 1, 32)]\n",
    "\n",
    "        y_preds = [tf.ones((shape)) for shape in shapes]\n",
    "        final_loss = compute_loss(y_true=bboxes,y_preds=y_preds)\n",
    "        #final_loss = compute_loss(y_true=bboxes,y_preds=y_preds)\n",
    "\n",
    "        \n",
    "        for im, box in gen:\n",
    "            print sess.run(final_loss, feed_dict={bboxes:box})"
   ]
  }
 ],
 "metadata": {
  "kernelspec": {
   "display_name": "Python 2",
   "language": "python",
   "name": "python2"
  },
  "language_info": {
   "codemirror_mode": {
    "name": "ipython",
    "version": 2
   },
   "file_extension": ".py",
   "mimetype": "text/x-python",
   "name": "python",
   "nbconvert_exporter": "python",
   "pygments_lexer": "ipython2",
   "version": "2.7.12"
  }
 },
 "nbformat": 4,
 "nbformat_minor": 2
}
