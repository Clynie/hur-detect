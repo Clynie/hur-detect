{
 "cells": [
  {
   "cell_type": "code",
   "execution_count": 1,
   "metadata": {
    "collapsed": false
   },
   "outputs": [],
   "source": [
    "import sys\n",
    "from nbfinder import NotebookFinder\n",
    "sys.meta_path.append(NotebookFinder())\n",
    "import tensorflow as tf\n",
    "slim=tf.contrib.slim\n",
    "if __name__ == \"__main__\":\n",
    "    sys.path.append(\"../../../\")"
   ]
  },
  {
   "cell_type": "code",
   "execution_count": 2,
   "metadata": {
    "collapsed": false
   },
   "outputs": [
    {
     "name": "stdout",
     "output_type": "stream",
     "text": [
      "importing Jupyter notebook from ../../../notebooks_src/box_encode_decode/ssd/make_anchors_orig.ipynb\n",
      "importing Jupyter notebook from ../../../notebooks_src/box_encode_decode/configs.ipynb\n",
      "importing Jupyter notebook from ../../../notebooks_src/box_encode_decode/ssd/encode.ipynb\n",
      "importing Jupyter notebook from ../../../notebooks_src/losses/util.ipynb\n",
      "importing Jupyter notebook from ../../../notebooks_src/models/configs.ipynb\n",
      "importing Jupyter notebook from ../../../notebooks_src/config_util.ipynb\n",
      "importing Jupyter notebook from ../../../notebooks_src/load_data/configs.ipynb\n",
      "importing Jupyter notebook from ../../../notebooks_src/load_data/get_generator.ipynb\n",
      "importing Jupyter notebook from ../../../notebooks_src/load_data/generator/generator.ipynb\n",
      "importing Jupyter notebook from ../../../notebooks_src/box_encode_decode/util.ipynb\n",
      "importing Jupyter notebook from ../../../notebooks_src/load_data/generator/batch_fetcher.ipynb\n"
     ]
    }
   ],
   "source": [
    "from notebooks_src.box_encode_decode.ssd.make_anchors_orig import make_anchors_for_one_fmap\n",
    "from notebooks_src.box_encode_decode.ssd.encode import encode, encode_one_fmap\n",
    "from notebooks_src.models.configs import configs\n",
    "from notebooks_src.box_encode_decode.configs import configs as box_configs\n",
    "from notebooks_src.losses.util import unpack_net_output\n",
    "from notebooks_src.losses.util import abs_smooth as smooth_L1\n",
    "configs.update(box_configs)"
   ]
  },
  {
   "cell_type": "code",
   "execution_count": null,
   "metadata": {
    "collapsed": true
   },
   "outputs": [],
   "source": [
    "def compute_loss(y_true, y_preds):\n",
    "    '''y_true: the boxes Nx15x5 tensor\n",
    "       y_preds: a list of 7?  tensors of Nxfy x fx x k where k = 4*number of anchors + number_of_anchors*num_classes'''\n",
    "\n",
    "    losses = [compute_loss_for_one_fmap(y_true, y_pred) for y_pred in y_preds]\n",
    "    final_loss = tf.add_n(losses)\n",
    "    return final_loss"
   ]
  },
  {
   "cell_type": "code",
   "execution_count": 3,
   "metadata": {
    "collapsed": false
   },
   "outputs": [],
   "source": [
    "def compute_loss_for_one_fmap(y_true, y_pred):\n",
    "    #TODO 2: make work for batch size greater than 1\n",
    "    '''y_true: the boxes Nx15x5 tensor\n",
    "       y_pred: a tensor of Nxfy x fx x k where k = 4*number of anchors + number_of_anchors*num_classes'''\n",
    "    \n",
    "    \n",
    "    feat_shape = tuple([d.value for d in list(y_pred.get_shape()[1:3])])\n",
    "\n",
    "    gclasses, glocalizations, gscores= encode_one_fmap(y_true, feat_shape=feat_shape)\n",
    "\n",
    "\n",
    "    localizations, logits = unpack_net_output(y_pred, feat_shape,single_example=False)\n",
    "\n",
    "        \n",
    "    final_loss = losses(logits, \n",
    "                  localizations,\n",
    "                  gclasses, \n",
    "                  glocalizations, \n",
    "                  gscores)\n",
    "    return final_loss\n",
    "    \n"
   ]
  },
  {
   "cell_type": "code",
   "execution_count": 4,
   "metadata": {
    "collapsed": true
   },
   "outputs": [],
   "source": [
    "loss_weights = None"
   ]
  },
  {
   "cell_type": "code",
   "execution_count": 5,
   "metadata": {
    "collapsed": false
   },
   "outputs": [],
   "source": [
    "def losses(logits, localisations,\n",
    "           gclasses, glocalisations, gscores,\n",
    "           match_threshold=0.5,\n",
    "           negative_ratio=3.,\n",
    "           alpha=1.,\n",
    "           label_smoothing=0.,\n",
    "           scope='ssd_losses'):\n",
    "    \"\"\"Define the SSD network losses.\n",
    "    \"\"\"\n",
    "    final_loss = ssd_single_loss(logits, localisations,\n",
    "                      gclasses, glocalisations, gscores,\n",
    "                      match_threshold=match_threshold,\n",
    "                      negative_ratio=negative_ratio,\n",
    "                      alpha=alpha,\n",
    "                      label_smoothing=label_smoothing,\n",
    "                      scope=scope)\n",
    "    return final_loss\n",
    "\n",
    "\n",
    "def ssd_single_loss(logits, localisations,\n",
    "           gclasses, glocalisations, gscores,\n",
    "           match_threshold=0.5,\n",
    "           negative_ratio=3.,\n",
    "           alpha=1.,\n",
    "           label_smoothing=0.,\n",
    "           scope=None):\n",
    "    \"\"\"Loss functions for training the SSD 300 VGG network.\n",
    "\n",
    "    This function defines the different loss components of the SSD, and\n",
    "    adds them to the TF loss collection.\n",
    "\n",
    "    Arguments:\n",
    "      logits: predictions logits Tensor;\n",
    "      localisations: localisations Tensor;\n",
    "      gclasses: groundtruth labels Tensor;\n",
    "      glocalisations: groundtruth localisation Tensor;\n",
    "      gscores: groundtruth score Tensor;\n",
    "    \"\"\"\n",
    "    dtype = logits.dtype\n",
    "    # Determine weights Tensor.\n",
    "    pmask = gscores > match_threshold\n",
    "    fpmask = tf.cast(pmask, dtype)\n",
    "    n_positives = tf.reduce_sum(fpmask)\n",
    "\n",
    "    # Select some random negative entries.\n",
    "    # n_entries = np.prod(gclasses[i].get_shape().as_list())\n",
    "    # r_positive = n_positives / n_entries\n",
    "    # r_negative = negative_ratio * n_positives / (n_entries - n_positives)\n",
    "\n",
    "    # Negative mask.\n",
    "    no_classes = tf.cast(pmask, tf.int32)\n",
    "    predictions = slim.softmax(logits)\n",
    "    nmask = tf.logical_and(tf.logical_not(pmask),\n",
    "                           gscores > -0.5)\n",
    "    fnmask = tf.cast(nmask, dtype)\n",
    "    nvalues = tf.where(nmask,\n",
    "                       predictions[:, :, :, :, 0],\n",
    "                       1. - fnmask)\n",
    "    nvalues_flat = tf.reshape(nvalues, [-1])\n",
    "    # Number of negative entries to select.\n",
    "    n_neg = tf.cast(negative_ratio * n_positives, tf.int32)\n",
    "    n_neg = tf.maximum(n_neg, tf.size(nvalues_flat) // 8)\n",
    "    n_neg = tf.maximum(n_neg, tf.shape(nvalues)[0] * 4)\n",
    "    max_neg_entries = 1 + tf.cast(tf.reduce_sum(fnmask), tf.int32)\n",
    "    n_neg = tf.minimum(n_neg, max_neg_entries)\n",
    "\n",
    "    val, idxes = tf.nn.top_k(-nvalues_flat, k=n_neg)\n",
    "    minval = val[-1]\n",
    "    # Final negative mask.\n",
    "    nmask = tf.logical_and(nmask, -nvalues > minval)\n",
    "    fnmask = tf.cast(nmask, dtype)\n",
    "\n",
    "    # Add cross-entropy loss.\n",
    "\n",
    "    #cross entropy for positives\n",
    "    loss = tf.nn.sparse_softmax_cross_entropy_with_logits(logits=logits,\n",
    "                                                          labels=gclasses)\n",
    "    loss = tf.losses.compute_weighted_loss(loss, fpmask)\n",
    "    l_cross_pos = loss\n",
    "\n",
    "    #cross entropy for negatives\n",
    "    loss = tf.nn.sparse_softmax_cross_entropy_with_logits(logits=logits,\n",
    "                                                          labels=no_classes)\n",
    "    loss = tf.losses.compute_weighted_loss(loss, fnmask)\n",
    "    l_cross_neg = loss\n",
    "\n",
    "    \n",
    "\n",
    "    # Weights Tensor: positive mask + random negative.\n",
    "    weights = tf.expand_dims(alpha * fpmask, axis=-1)\n",
    "    loss = smooth_L1(localisations - glocalisations)\n",
    "    loss = tf.losses.compute_weighted_loss(loss, weights)\n",
    "    l_loc = loss\n",
    "    \n",
    "    final_loss = l_cross_pos + l_cross_neg  + l_loc\n",
    "    return final_loss"
   ]
  },
  {
   "cell_type": "code",
   "execution_count": 6,
   "metadata": {
    "collapsed": false
   },
   "outputs": [
    {
     "name": "stdout",
     "output_type": "stream",
     "text": [
      "importing Jupyter notebook from ../../../notebooks_src/load_data/datasets/climate/get_data.ipynb\n",
      "importing Jupyter notebook from ../../../notebooks_src/load_data/datasets/climate/util.ipynb\n",
      "4.30098\n",
      "4.31557\n",
      "4.31635\n",
      "4.1436\n",
      "4.55223\n",
      "4.28627\n",
      "4.41897\n",
      "4.59901\n",
      "4.57666\n",
      "4.51639\n"
     ]
    },
    {
     "name": "stderr",
     "output_type": "stream",
     "text": [
      "ERROR:root:Internal Python error in the inspect module.\n",
      "Below is the traceback from this internal error.\n",
      "\n"
     ]
    },
    {
     "name": "stdout",
     "output_type": "stream",
     "text": [
      "Traceback (most recent call last):\n",
      "  File \"/usr/local/lib/python2.7/dist-packages/IPython/core/ultratb.py\", line 1132, in get_records\n",
      "    return _fixed_getinnerframes(etb, number_of_lines_of_context, tb_offset)\n",
      "  File \"/usr/local/lib/python2.7/dist-packages/IPython/core/ultratb.py\", line 313, in wrapped\n",
      "    return f(*args, **kwargs)\n",
      "  File \"/usr/local/lib/python2.7/dist-packages/IPython/core/ultratb.py\", line 358, in _fixed_getinnerframes\n",
      "    records = fix_frame_records_filenames(inspect.getinnerframes(etb, context))\n",
      "  File \"/usr/lib/python2.7/inspect.py\", line 1049, in getinnerframes\n",
      "    framelist.append((tb.tb_frame,) + getframeinfo(tb, context))\n",
      "  File \"/usr/lib/python2.7/inspect.py\", line 1009, in getframeinfo\n",
      "    filename = getsourcefile(frame) or getfile(frame)\n",
      "  File \"/usr/lib/python2.7/inspect.py\", line 454, in getsourcefile\n",
      "    if hasattr(getmodule(object, filename), '__loader__'):\n",
      "  File \"/usr/lib/python2.7/inspect.py\", line 500, in getmodule\n",
      "    os.path.realpath(f)] = module.__name__\n",
      "  File \"/usr/lib/python2.7/posixpath.py\", line 375, in realpath\n",
      "    path, ok = _joinrealpath('', filename, {})\n",
      "  File \"/usr/lib/python2.7/posixpath.py\", line 400, in _joinrealpath\n",
      "    if not islink(newpath):\n",
      "  File \"/usr/lib/python2.7/posixpath.py\", line 135, in islink\n",
      "    st = os.lstat(path)\n",
      "KeyboardInterrupt\n"
     ]
    },
    {
     "ename": "IndexError",
     "evalue": "string index out of range",
     "output_type": "error",
     "traceback": [
      "\u001b[0;31m---------------------------------------------------------------------------\u001b[0m",
      "\u001b[0;31mIndexError\u001b[0m                                Traceback (most recent call last)",
      "\u001b[0;32m/usr/local/lib/python2.7/dist-packages/IPython/core/interactiveshell.pyc\u001b[0m in \u001b[0;36mrun_code\u001b[0;34m(self, code_obj, result)\u001b[0m\n\u001b[1;32m   2896\u001b[0m             \u001b[0;32mif\u001b[0m \u001b[0mresult\u001b[0m \u001b[0;32mis\u001b[0m \u001b[0;32mnot\u001b[0m \u001b[0mNone\u001b[0m\u001b[0;34m:\u001b[0m\u001b[0;34m\u001b[0m\u001b[0m\n\u001b[1;32m   2897\u001b[0m                 \u001b[0mresult\u001b[0m\u001b[0;34m.\u001b[0m\u001b[0merror_in_exec\u001b[0m \u001b[0;34m=\u001b[0m \u001b[0msys\u001b[0m\u001b[0;34m.\u001b[0m\u001b[0mexc_info\u001b[0m\u001b[0;34m(\u001b[0m\u001b[0;34m)\u001b[0m\u001b[0;34m[\u001b[0m\u001b[0;36m1\u001b[0m\u001b[0;34m]\u001b[0m\u001b[0;34m\u001b[0m\u001b[0m\n\u001b[0;32m-> 2898\u001b[0;31m             \u001b[0mself\u001b[0m\u001b[0;34m.\u001b[0m\u001b[0mshowtraceback\u001b[0m\u001b[0;34m(\u001b[0m\u001b[0;34m)\u001b[0m\u001b[0;34m\u001b[0m\u001b[0m\n\u001b[0m\u001b[1;32m   2899\u001b[0m         \u001b[0;32melse\u001b[0m\u001b[0;34m:\u001b[0m\u001b[0;34m\u001b[0m\u001b[0m\n\u001b[1;32m   2900\u001b[0m             \u001b[0moutflag\u001b[0m \u001b[0;34m=\u001b[0m \u001b[0;36m0\u001b[0m\u001b[0;34m\u001b[0m\u001b[0m\n",
      "\u001b[0;32m/usr/local/lib/python2.7/dist-packages/IPython/core/interactiveshell.pyc\u001b[0m in \u001b[0;36mshowtraceback\u001b[0;34m(self, exc_tuple, filename, tb_offset, exception_only)\u001b[0m\n\u001b[1;32m   1822\u001b[0m                     \u001b[0;32mexcept\u001b[0m \u001b[0mException\u001b[0m\u001b[0;34m:\u001b[0m\u001b[0;34m\u001b[0m\u001b[0m\n\u001b[1;32m   1823\u001b[0m                         stb = self.InteractiveTB.structured_traceback(etype,\n\u001b[0;32m-> 1824\u001b[0;31m                                             value, tb, tb_offset=tb_offset)\n\u001b[0m\u001b[1;32m   1825\u001b[0m \u001b[0;34m\u001b[0m\u001b[0m\n\u001b[1;32m   1826\u001b[0m                     \u001b[0mself\u001b[0m\u001b[0;34m.\u001b[0m\u001b[0m_showtraceback\u001b[0m\u001b[0;34m(\u001b[0m\u001b[0metype\u001b[0m\u001b[0;34m,\u001b[0m \u001b[0mvalue\u001b[0m\u001b[0;34m,\u001b[0m \u001b[0mstb\u001b[0m\u001b[0;34m)\u001b[0m\u001b[0;34m\u001b[0m\u001b[0m\n",
      "\u001b[0;32m/usr/local/lib/python2.7/dist-packages/IPython/core/ultratb.pyc\u001b[0m in \u001b[0;36mstructured_traceback\u001b[0;34m(self, etype, value, tb, tb_offset, number_of_lines_of_context)\u001b[0m\n\u001b[1;32m   1404\u001b[0m         \u001b[0mself\u001b[0m\u001b[0;34m.\u001b[0m\u001b[0mtb\u001b[0m \u001b[0;34m=\u001b[0m \u001b[0mtb\u001b[0m\u001b[0;34m\u001b[0m\u001b[0m\n\u001b[1;32m   1405\u001b[0m         return FormattedTB.structured_traceback(\n\u001b[0;32m-> 1406\u001b[0;31m             self, etype, value, tb, tb_offset, number_of_lines_of_context)\n\u001b[0m\u001b[1;32m   1407\u001b[0m \u001b[0;34m\u001b[0m\u001b[0m\n\u001b[1;32m   1408\u001b[0m \u001b[0;34m\u001b[0m\u001b[0m\n",
      "\u001b[0;32m/usr/local/lib/python2.7/dist-packages/IPython/core/ultratb.pyc\u001b[0m in \u001b[0;36mstructured_traceback\u001b[0;34m(self, etype, value, tb, tb_offset, number_of_lines_of_context)\u001b[0m\n\u001b[1;32m   1312\u001b[0m             \u001b[0;31m# Verbose modes need a full traceback\u001b[0m\u001b[0;34m\u001b[0m\u001b[0;34m\u001b[0m\u001b[0m\n\u001b[1;32m   1313\u001b[0m             return VerboseTB.structured_traceback(\n\u001b[0;32m-> 1314\u001b[0;31m                 \u001b[0mself\u001b[0m\u001b[0;34m,\u001b[0m \u001b[0metype\u001b[0m\u001b[0;34m,\u001b[0m \u001b[0mvalue\u001b[0m\u001b[0;34m,\u001b[0m \u001b[0mtb\u001b[0m\u001b[0;34m,\u001b[0m \u001b[0mtb_offset\u001b[0m\u001b[0;34m,\u001b[0m \u001b[0mnumber_of_lines_of_context\u001b[0m\u001b[0;34m\u001b[0m\u001b[0m\n\u001b[0m\u001b[1;32m   1315\u001b[0m             )\n\u001b[1;32m   1316\u001b[0m         \u001b[0;32melse\u001b[0m\u001b[0;34m:\u001b[0m\u001b[0;34m\u001b[0m\u001b[0m\n",
      "\u001b[0;32m/usr/local/lib/python2.7/dist-packages/IPython/core/ultratb.pyc\u001b[0m in \u001b[0;36mstructured_traceback\u001b[0;34m(self, etype, evalue, etb, tb_offset, number_of_lines_of_context)\u001b[0m\n\u001b[1;32m   1196\u001b[0m                 \u001b[0mstructured_traceback_parts\u001b[0m \u001b[0;34m+=\u001b[0m \u001b[0mformatted_exception\u001b[0m\u001b[0;34m\u001b[0m\u001b[0m\n\u001b[1;32m   1197\u001b[0m         \u001b[0;32melse\u001b[0m\u001b[0;34m:\u001b[0m\u001b[0;34m\u001b[0m\u001b[0m\n\u001b[0;32m-> 1198\u001b[0;31m             \u001b[0mstructured_traceback_parts\u001b[0m \u001b[0;34m+=\u001b[0m \u001b[0mformatted_exception\u001b[0m\u001b[0;34m[\u001b[0m\u001b[0;36m0\u001b[0m\u001b[0;34m]\u001b[0m\u001b[0;34m\u001b[0m\u001b[0m\n\u001b[0m\u001b[1;32m   1199\u001b[0m \u001b[0;34m\u001b[0m\u001b[0m\n\u001b[1;32m   1200\u001b[0m         \u001b[0;32mreturn\u001b[0m \u001b[0mstructured_traceback_parts\u001b[0m\u001b[0;34m\u001b[0m\u001b[0m\n",
      "\u001b[0;31mIndexError\u001b[0m: string index out of range"
     ]
    }
   ],
   "source": [
    "if __name__ == \"__main__\":\n",
    "    with tf.Session() as sess:\n",
    "        from notebooks_src.load_data.get_generator import get_generator\n",
    "\n",
    "        gen=get_generator(\"tr\", batch_size=4)\n",
    "        bboxes = tf.placeholder(tf.float32,shape=(4,15,5),name=\"bboxes\")\n",
    "        shapes = [(4, 6, 9, 48),\n",
    "                 (4, 3, 5, 32),\n",
    "                 (4, 96, 144, 32),\n",
    "                 (4, 24, 36, 48),\n",
    "                 (4, 12, 18, 48),\n",
    "                 (4, 48, 72, 48),\n",
    "                 (4, 1, 1, 32)]\n",
    "\n",
    "        y_preds = [tf.ones((shape)) for shape in shapes]\n",
    "        losses = [compute_loss(bboxes,y_preds[i]) for i in range(len(y_preds))]\n",
    "        final_loss = tf.add_n(losses)\n",
    "        \n",
    "        for im, box in gen:\n",
    "            print sess.run(final_loss, feed_dict={bboxes:box})"
   ]
  },
  {
   "cell_type": "code",
   "execution_count": null,
   "metadata": {
    "collapsed": true
   },
   "outputs": [],
   "source": []
  },
  {
   "cell_type": "code",
   "execution_count": null,
   "metadata": {
    "collapsed": true
   },
   "outputs": [],
   "source": []
  },
  {
   "cell_type": "code",
   "execution_count": null,
   "metadata": {
    "collapsed": true
   },
   "outputs": [],
   "source": []
  },
  {
   "cell_type": "code",
   "execution_count": 12,
   "metadata": {
    "collapsed": true
   },
   "outputs": [],
   "source": [
    "# =========================================================================== #\n",
    "# SSD loss function.\n",
    "# =========================================================================== #\n",
    "def ssd_losses(logits, localisations,\n",
    "           gclasses, glocalisations, gscores,\n",
    "           match_threshold=0.5,\n",
    "           negative_ratio=3.,\n",
    "           alpha=1.,\n",
    "           label_smoothing=0.,\n",
    "           scope=None):\n",
    "    \"\"\"Loss functions for training the SSD 300 VGG network.\n",
    "\n",
    "    This function defines the different loss components of the SSD, and\n",
    "    adds them to the TF loss collection.\n",
    "\n",
    "    Arguments:\n",
    "      logits: (list of) predictions logits Tensors;\n",
    "      localisations: (list of) localisations Tensors;\n",
    "      gclasses: (list of) groundtruth labels Tensors;\n",
    "      glocalisations: (list of) groundtruth localisations Tensors;\n",
    "      gscores: (list of) groundtruth score Tensors;\n",
    "    \"\"\"\n",
    "    with tf.name_scope(scope, 'ssd_losses'):\n",
    "        l_cross_pos = []\n",
    "        l_cross_neg = []\n",
    "        l_loc = []\n",
    "        for i in range(len(logits)):\n",
    "            dtype = logits[i].dtype\n",
    "            with tf.name_scope('block_%i' % i):\n",
    "                # Determine weights Tensor.\n",
    "                pmask = gscores[i] > match_threshold\n",
    "                fpmask = tf.cast(pmask, dtype)\n",
    "                n_positives = tf.reduce_sum(fpmask)\n",
    "\n",
    "                # Select some random negative entries.\n",
    "                # n_entries = np.prod(gclasses[i].get_shape().as_list())\n",
    "                # r_positive = n_positives / n_entries\n",
    "                # r_negative = negative_ratio * n_positives / (n_entries - n_positives)\n",
    "\n",
    "                # Negative mask.\n",
    "                no_classes = tf.cast(pmask, tf.int32)\n",
    "                predictions = slim.softmax(logits[i])\n",
    "                nmask = tf.logical_and(tf.logical_not(pmask),\n",
    "                                       gscores[i] > -0.5)\n",
    "                fnmask = tf.cast(nmask, dtype)\n",
    "                nvalues = tf.where(nmask,\n",
    "                                   predictions[:, :, :, :, 0],\n",
    "                                   1. - fnmask)\n",
    "                nvalues_flat = tf.reshape(nvalues, [-1])\n",
    "                # Number of negative entries to select.\n",
    "                n_neg = tf.cast(negative_ratio * n_positives, tf.int32)\n",
    "                n_neg = tf.maximum(n_neg, tf.size(nvalues_flat) // 8)\n",
    "                n_neg = tf.maximum(n_neg, tf.shape(nvalues)[0] * 4)\n",
    "                max_neg_entries = 1 + tf.cast(tf.reduce_sum(fnmask), tf.int32)\n",
    "                n_neg = tf.minimum(n_neg, max_neg_entries)\n",
    "\n",
    "                val, idxes = tf.nn.top_k(-nvalues_flat, k=n_neg)\n",
    "                minval = val[-1]\n",
    "                # Final negative mask.\n",
    "                nmask = tf.logical_and(nmask, -nvalues > minval)\n",
    "                fnmask = tf.cast(nmask, dtype)\n",
    "\n",
    "                # Add cross-entropy loss.\n",
    "                with tf.name_scope('cross_entropy_pos'):\n",
    "                    loss = tf.nn.sparse_softmax_cross_entropy_with_logits(logits=logits[i],\n",
    "                                                                          labels=gclasses[i])\n",
    "                    loss = tf.losses.compute_weighted_loss(loss, fpmask)\n",
    "                    l_cross_pos.append(loss)\n",
    "\n",
    "                with tf.name_scope('cross_entropy_neg'):\n",
    "                    loss = tf.nn.sparse_softmax_cross_entropy_with_logits(logits=logits[i],\n",
    "                                                                          labels=no_classes)\n",
    "                    loss = tf.losses.compute_weighted_loss(loss, fnmask)\n",
    "                    l_cross_neg.append(loss)\n",
    "\n",
    "                # Add localization loss: smooth L1, L2, ...\n",
    "                with tf.name_scope('localization'):\n",
    "                    # Weights Tensor: positive mask + random negative.\n",
    "                    weights = tf.expand_dims(alpha * fpmask, axis=-1)\n",
    "                    loss = custom_layers.abs_smooth(localisations[i] - glocalisations[i])\n",
    "                    loss = tf.losses.compute_weighted_loss(loss, weights)\n",
    "                    l_loc.append(loss)\n",
    "\n",
    "        # Additional total losses...\n",
    "        with tf.name_scope('total'):\n",
    "            total_cross_pos = tf.add_n(l_cross_pos, 'cross_entropy_pos')\n",
    "            total_cross_neg = tf.add_n(l_cross_neg, 'cross_entropy_neg')\n",
    "            total_cross = tf.add(total_cross_pos, total_cross_neg, 'cross_entropy')\n",
    "            total_loc = tf.add_n(l_loc, 'localization')\n",
    "\n",
    "            # Add to EXTRA LOSSES TF.collection\n",
    "            tf.add_to_collection('EXTRA_LOSSES', total_cross_pos)\n",
    "            tf.add_to_collection('EXTRA_LOSSES', total_cross_neg)\n",
    "            tf.add_to_collection('EXTRA_LOSSES', total_cross)\n",
    "            tf.add_to_collection('EXTRA_LOSSES', total_loc)"
   ]
  },
  {
   "cell_type": "code",
   "execution_count": null,
   "metadata": {
    "collapsed": true
   },
   "outputs": [],
   "source": []
  },
  {
   "cell_type": "code",
   "execution_count": null,
   "metadata": {
    "collapsed": true
   },
   "outputs": [],
   "source": []
  }
 ],
 "metadata": {
  "kernelspec": {
   "display_name": "Python 2",
   "language": "python",
   "name": "python2"
  },
  "language_info": {
   "codemirror_mode": {
    "name": "ipython",
    "version": 2
   },
   "file_extension": ".py",
   "mimetype": "text/x-python",
   "name": "python",
   "nbconvert_exporter": "python",
   "pygments_lexer": "ipython2",
   "version": "2.7.12"
  }
 },
 "nbformat": 4,
 "nbformat_minor": 2
}
