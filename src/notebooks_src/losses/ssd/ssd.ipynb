{
 "cells": [
  {
   "cell_type": "code",
   "execution_count": 1,
   "metadata": {
    "collapsed": false
   },
   "outputs": [],
   "source": [
    "import sys\n",
    "from nbfinder import NotebookFinder\n",
    "sys.meta_path.append(NotebookFinder())\n",
    "import tensorflow as tf\n",
    "slim=tf.contrib.slim\n",
    "if __name__ == \"__main__\":\n",
    "    sys.path.append(\"../../../\")"
   ]
  },
  {
   "cell_type": "code",
   "execution_count": 2,
   "metadata": {
    "collapsed": false
   },
   "outputs": [
    {
     "name": "stdout",
     "output_type": "stream",
     "text": [
      "importing Jupyter notebook from ../../../notebooks_src/box_encode_decode/ssd/make_anchors_orig.ipynb\n",
      "importing Jupyter notebook from ../../../notebooks_src/box_encode_decode/configs.ipynb\n",
      "importing Jupyter notebook from ../../../notebooks_src/box_encode_decode/ssd/encode.ipynb\n",
      "importing Jupyter notebook from ../../../notebooks_src/losses/util.ipynb\n",
      "importing Jupyter notebook from ../../../notebooks_src/models/configs.ipynb\n",
      "importing Jupyter notebook from ../../../notebooks_src/config_util.ipynb\n",
      "importing Jupyter notebook from ../../../notebooks_src/load_data/configs.ipynb\n",
      "importing Jupyter notebook from ../../../notebooks_src/load_data/get_generator.ipynb\n",
      "importing Jupyter notebook from ../../../notebooks_src/load_data/generator/generator.ipynb\n",
      "importing Jupyter notebook from ../../../notebooks_src/box_encode_decode/util.ipynb\n",
      "importing Jupyter notebook from ../../../notebooks_src/load_data/generator/batch_fetcher.ipynb\n"
     ]
    }
   ],
   "source": [
    "from notebooks_src.box_encode_decode.ssd.make_anchors_orig import make_anchors_for_one_fmap\n",
    "from notebooks_src.box_encode_decode.ssd.encode import encode, encode_one_fmap\n",
    "from notebooks_src.models.configs import configs\n",
    "from notebooks_src.box_encode_decode.configs import configs as box_configs\n",
    "from notebooks_src.losses.util import unpack_net_output\n",
    "from notebooks_src.losses.util import abs_smooth as smooth_L1\n",
    "configs.update(box_configs)"
   ]
  },
  {
   "cell_type": "code",
   "execution_count": 15,
   "metadata": {
    "collapsed": false
   },
   "outputs": [],
   "source": [
    "def compute_loss(y_true, y_pred):\n",
    "    #TODO 2: make work for batch size greater than 1\n",
    "    '''y_true: the boxes\n",
    "       y_pred: a tensor of Nxfy x fx x k where k = 4*number of anchors + number_of_anchors*num_classes'''\n",
    "    \n",
    "    \n",
    "    feat_shape = tuple([d.value for d in list(y_pred.get_shape()[1:3])])\n",
    "\n",
    "    gclasses, glocalizations, gscores= encode_one_fmap(y_true, feat_shape=feat_shape)\n",
    "\n",
    "\n",
    "    localizations, logits = unpack_net_output(y_pred, feat_shape,single_example=False)\n",
    "\n",
    "        \n",
    "    final_loss = losses(logits, \n",
    "                  localizations,\n",
    "                  gclasses, \n",
    "                  glocalizations, \n",
    "                  gscores)\n",
    "    return final_loss\n",
    "    \n"
   ]
  },
  {
   "cell_type": "code",
   "execution_count": 16,
   "metadata": {
    "collapsed": true
   },
   "outputs": [],
   "source": [
    "loss_weights = None"
   ]
  },
  {
   "cell_type": "code",
   "execution_count": 17,
   "metadata": {
    "collapsed": false
   },
   "outputs": [],
   "source": [
    "def losses(logits, localisations,\n",
    "           gclasses, glocalisations, gscores,\n",
    "           match_threshold=0.5,\n",
    "           negative_ratio=3.,\n",
    "           alpha=1.,\n",
    "           label_smoothing=0.,\n",
    "           scope='ssd_losses'):\n",
    "    \"\"\"Define the SSD network losses.\n",
    "    \"\"\"\n",
    "    final_loss = ssd_single_loss(logits, localisations,\n",
    "                      gclasses, glocalisations, gscores,\n",
    "                      match_threshold=match_threshold,\n",
    "                      negative_ratio=negative_ratio,\n",
    "                      alpha=alpha,\n",
    "                      label_smoothing=label_smoothing,\n",
    "                      scope=scope)\n",
    "    return final_loss\n",
    "\n",
    "\n",
    "def ssd_single_loss(logits, localisations,\n",
    "           gclasses, glocalisations, gscores,\n",
    "           match_threshold=0.5,\n",
    "           negative_ratio=3.,\n",
    "           alpha=1.,\n",
    "           label_smoothing=0.,\n",
    "           scope=None):\n",
    "    \"\"\"Loss functions for training the SSD 300 VGG network.\n",
    "\n",
    "    This function defines the different loss components of the SSD, and\n",
    "    adds them to the TF loss collection.\n",
    "\n",
    "    Arguments:\n",
    "      logits: predictions logits Tensor;\n",
    "      localisations: localisations Tensor;\n",
    "      gclasses: groundtruth labels Tensor;\n",
    "      glocalisations: groundtruth localisation Tensor;\n",
    "      gscores: groundtruth score Tensor;\n",
    "    \"\"\"\n",
    "    dtype = logits.dtype\n",
    "    # Determine weights Tensor.\n",
    "    pmask = gscores > match_threshold\n",
    "    fpmask = tf.cast(pmask, dtype)\n",
    "    n_positives = tf.reduce_sum(fpmask)\n",
    "\n",
    "    # Select some random negative entries.\n",
    "    # n_entries = np.prod(gclasses[i].get_shape().as_list())\n",
    "    # r_positive = n_positives / n_entries\n",
    "    # r_negative = negative_ratio * n_positives / (n_entries - n_positives)\n",
    "\n",
    "    # Negative mask.\n",
    "    no_classes = tf.cast(pmask, tf.int32)\n",
    "    predictions = slim.softmax(logits)\n",
    "    nmask = tf.logical_and(tf.logical_not(pmask),\n",
    "                           gscores > -0.5)\n",
    "    fnmask = tf.cast(nmask, dtype)\n",
    "    nvalues = tf.where(nmask,\n",
    "                       predictions[:, :, :, :, 0],\n",
    "                       1. - fnmask)\n",
    "    nvalues_flat = tf.reshape(nvalues, [-1])\n",
    "    # Number of negative entries to select.\n",
    "    n_neg = tf.cast(negative_ratio * n_positives, tf.int32)\n",
    "    n_neg = tf.maximum(n_neg, tf.size(nvalues_flat) // 8)\n",
    "    n_neg = tf.maximum(n_neg, tf.shape(nvalues)[0] * 4)\n",
    "    max_neg_entries = 1 + tf.cast(tf.reduce_sum(fnmask), tf.int32)\n",
    "    n_neg = tf.minimum(n_neg, max_neg_entries)\n",
    "\n",
    "    val, idxes = tf.nn.top_k(-nvalues_flat, k=n_neg)\n",
    "    minval = val[-1]\n",
    "    # Final negative mask.\n",
    "    nmask = tf.logical_and(nmask, -nvalues > minval)\n",
    "    fnmask = tf.cast(nmask, dtype)\n",
    "\n",
    "    # Add cross-entropy loss.\n",
    "\n",
    "    #cross entropy for positives\n",
    "    loss = tf.nn.sparse_softmax_cross_entropy_with_logits(logits=logits,\n",
    "                                                          labels=gclasses)\n",
    "    loss = tf.losses.compute_weighted_loss(loss, fpmask)\n",
    "    l_cross_pos = loss\n",
    "\n",
    "    #cross entropy for negatives\n",
    "    loss = tf.nn.sparse_softmax_cross_entropy_with_logits(logits=logits,\n",
    "                                                          labels=no_classes)\n",
    "    loss = tf.losses.compute_weighted_loss(loss, fnmask)\n",
    "    l_cross_neg = loss\n",
    "\n",
    "    \n",
    "\n",
    "    # Weights Tensor: positive mask + random negative.\n",
    "    weights = tf.expand_dims(alpha * fpmask, axis=-1)\n",
    "    loss = smooth_L1(localisations - glocalisations)\n",
    "    loss = tf.losses.compute_weighted_loss(loss, weights)\n",
    "    l_loc = loss\n",
    "    \n",
    "    final_loss = l_cross_pos + l_cross_neg  + l_loc\n",
    "    return final_loss"
   ]
  },
  {
   "cell_type": "code",
   "execution_count": 23,
   "metadata": {
    "collapsed": false
   },
   "outputs": [
    {
     "name": "stdout",
     "output_type": "stream",
     "text": [
      "2.11312\n",
      "2.12018\n",
      "2.05424\n",
      "1.85762\n",
      "2.29781\n",
      "2.0458\n",
      "2.23137\n"
     ]
    },
    {
     "ename": "KeyboardInterrupt",
     "evalue": "",
     "output_type": "error",
     "traceback": [
      "\u001b[0;31m---------------------------------------------------------------------------\u001b[0m",
      "\u001b[0;31mKeyboardInterrupt\u001b[0m                         Traceback (most recent call last)",
      "\u001b[0;32m<ipython-input-23-08e2daea60b0>\u001b[0m in \u001b[0;36m<module>\u001b[0;34m()\u001b[0m\n\u001b[1;32m      8\u001b[0m         \u001b[0my_pred\u001b[0m \u001b[0;34m=\u001b[0m \u001b[0mtf\u001b[0m\u001b[0;34m.\u001b[0m\u001b[0mones\u001b[0m\u001b[0;34m(\u001b[0m\u001b[0;34m(\u001b[0m\u001b[0;36m4\u001b[0m\u001b[0;34m,\u001b[0m\u001b[0;36m96\u001b[0m\u001b[0;34m,\u001b[0m\u001b[0;36m144\u001b[0m\u001b[0;34m,\u001b[0m\u001b[0;36m32\u001b[0m\u001b[0;34m)\u001b[0m\u001b[0;34m)\u001b[0m\u001b[0;34m\u001b[0m\u001b[0m\n\u001b[1;32m      9\u001b[0m         \u001b[0mloss\u001b[0m \u001b[0;34m=\u001b[0m \u001b[0mcompute_loss\u001b[0m\u001b[0;34m(\u001b[0m\u001b[0mbboxes\u001b[0m\u001b[0;34m,\u001b[0m\u001b[0my_pred\u001b[0m\u001b[0;34m)\u001b[0m\u001b[0;34m\u001b[0m\u001b[0m\n\u001b[0;32m---> 10\u001b[0;31m         \u001b[0;32mfor\u001b[0m \u001b[0mim\u001b[0m\u001b[0;34m,\u001b[0m \u001b[0mbox\u001b[0m \u001b[0;32min\u001b[0m \u001b[0mgen\u001b[0m\u001b[0;34m:\u001b[0m\u001b[0;34m\u001b[0m\u001b[0m\n\u001b[0m\u001b[1;32m     11\u001b[0m             \u001b[0;32mprint\u001b[0m \u001b[0msess\u001b[0m\u001b[0;34m.\u001b[0m\u001b[0mrun\u001b[0m\u001b[0;34m(\u001b[0m\u001b[0mloss\u001b[0m\u001b[0;34m,\u001b[0m \u001b[0mfeed_dict\u001b[0m\u001b[0;34m=\u001b[0m\u001b[0;34m{\u001b[0m\u001b[0mbboxes\u001b[0m\u001b[0;34m:\u001b[0m\u001b[0mbox\u001b[0m\u001b[0;34m}\u001b[0m\u001b[0;34m)\u001b[0m\u001b[0;34m\u001b[0m\u001b[0m\n",
      "\u001b[0;32m/home/evan/hur-detect/src/notebooks_src/load_data/generator/generator.ipynb\u001b[0m in \u001b[0;36mnext\u001b[0;34m(self)\u001b[0m\n",
      "\u001b[0;32m/home/evan/hur-detect/src/notebooks_src/load_data/generator/batch_fetcher.ipynb\u001b[0m in \u001b[0;36mnext_batch\u001b[0;34m(self, batch_size, shuffle)\u001b[0m\n",
      "\u001b[0;32mh5py/_objects.pyx\u001b[0m in \u001b[0;36mh5py._objects.with_phil.wrapper (/build/h5py-nQFNYZ/h5py-2.6.0/h5py/_objects.c:2577)\u001b[0;34m()\u001b[0m\n",
      "\u001b[0;32mh5py/_objects.pyx\u001b[0m in \u001b[0;36mh5py._objects.with_phil.wrapper (/build/h5py-nQFNYZ/h5py-2.6.0/h5py/_objects.c:2536)\u001b[0;34m()\u001b[0m\n",
      "\u001b[0;32m/usr/lib/python2.7/dist-packages/h5py/_hl/dataset.pyc\u001b[0m in \u001b[0;36m__getitem__\u001b[0;34m(self, args)\u001b[0m\n\u001b[1;32m    480\u001b[0m         \u001b[0mmspace\u001b[0m \u001b[0;34m=\u001b[0m \u001b[0mh5s\u001b[0m\u001b[0;34m.\u001b[0m\u001b[0mcreate_simple\u001b[0m\u001b[0;34m(\u001b[0m\u001b[0mmshape\u001b[0m\u001b[0;34m)\u001b[0m\u001b[0;34m\u001b[0m\u001b[0m\n\u001b[1;32m    481\u001b[0m         \u001b[0mfspace\u001b[0m \u001b[0;34m=\u001b[0m \u001b[0mselection\u001b[0m\u001b[0;34m.\u001b[0m\u001b[0mid\u001b[0m\u001b[0;34m\u001b[0m\u001b[0m\n\u001b[0;32m--> 482\u001b[0;31m         \u001b[0mself\u001b[0m\u001b[0;34m.\u001b[0m\u001b[0mid\u001b[0m\u001b[0;34m.\u001b[0m\u001b[0mread\u001b[0m\u001b[0;34m(\u001b[0m\u001b[0mmspace\u001b[0m\u001b[0;34m,\u001b[0m \u001b[0mfspace\u001b[0m\u001b[0;34m,\u001b[0m \u001b[0marr\u001b[0m\u001b[0;34m,\u001b[0m \u001b[0mmtype\u001b[0m\u001b[0;34m,\u001b[0m \u001b[0mdxpl\u001b[0m\u001b[0;34m=\u001b[0m\u001b[0mself\u001b[0m\u001b[0;34m.\u001b[0m\u001b[0m_dxpl\u001b[0m\u001b[0;34m)\u001b[0m\u001b[0;34m\u001b[0m\u001b[0m\n\u001b[0m\u001b[1;32m    483\u001b[0m \u001b[0;34m\u001b[0m\u001b[0m\n\u001b[1;32m    484\u001b[0m         \u001b[0;31m# Patch up the output for NumPy\u001b[0m\u001b[0;34m\u001b[0m\u001b[0;34m\u001b[0m\u001b[0m\n",
      "\u001b[0;31mKeyboardInterrupt\u001b[0m: "
     ]
    }
   ],
   "source": [
    "if __name__ == \"__main__\":\n",
    "    with tf.Session() as sess:\n",
    "        from notebooks_src.load_data.get_generator import get_generator\n",
    "\n",
    "        gen=get_generator(\"tr\", batch_size=4)\n",
    "        bboxes = tf.placeholder(tf.float32,shape=(4,15,5),name=\"bboxes\")\n",
    "\n",
    "        y_pred = tf.ones((4,96,144,32))\n",
    "        loss = compute_loss(bboxes,y_pred)\n",
    "        for im, box in gen:\n",
    "            print sess.run(loss, feed_dict={bboxes:box})"
   ]
  },
  {
   "cell_type": "code",
   "execution_count": null,
   "metadata": {
    "collapsed": true
   },
   "outputs": [],
   "source": []
  },
  {
   "cell_type": "code",
   "execution_count": null,
   "metadata": {
    "collapsed": true
   },
   "outputs": [],
   "source": []
  },
  {
   "cell_type": "code",
   "execution_count": null,
   "metadata": {
    "collapsed": true
   },
   "outputs": [],
   "source": []
  },
  {
   "cell_type": "code",
   "execution_count": 12,
   "metadata": {
    "collapsed": true
   },
   "outputs": [],
   "source": [
    "# =========================================================================== #\n",
    "# SSD loss function.\n",
    "# =========================================================================== #\n",
    "def ssd_losses(logits, localisations,\n",
    "           gclasses, glocalisations, gscores,\n",
    "           match_threshold=0.5,\n",
    "           negative_ratio=3.,\n",
    "           alpha=1.,\n",
    "           label_smoothing=0.,\n",
    "           scope=None):\n",
    "    \"\"\"Loss functions for training the SSD 300 VGG network.\n",
    "\n",
    "    This function defines the different loss components of the SSD, and\n",
    "    adds them to the TF loss collection.\n",
    "\n",
    "    Arguments:\n",
    "      logits: (list of) predictions logits Tensors;\n",
    "      localisations: (list of) localisations Tensors;\n",
    "      gclasses: (list of) groundtruth labels Tensors;\n",
    "      glocalisations: (list of) groundtruth localisations Tensors;\n",
    "      gscores: (list of) groundtruth score Tensors;\n",
    "    \"\"\"\n",
    "    with tf.name_scope(scope, 'ssd_losses'):\n",
    "        l_cross_pos = []\n",
    "        l_cross_neg = []\n",
    "        l_loc = []\n",
    "        for i in range(len(logits)):\n",
    "            dtype = logits[i].dtype\n",
    "            with tf.name_scope('block_%i' % i):\n",
    "                # Determine weights Tensor.\n",
    "                pmask = gscores[i] > match_threshold\n",
    "                fpmask = tf.cast(pmask, dtype)\n",
    "                n_positives = tf.reduce_sum(fpmask)\n",
    "\n",
    "                # Select some random negative entries.\n",
    "                # n_entries = np.prod(gclasses[i].get_shape().as_list())\n",
    "                # r_positive = n_positives / n_entries\n",
    "                # r_negative = negative_ratio * n_positives / (n_entries - n_positives)\n",
    "\n",
    "                # Negative mask.\n",
    "                no_classes = tf.cast(pmask, tf.int32)\n",
    "                predictions = slim.softmax(logits[i])\n",
    "                nmask = tf.logical_and(tf.logical_not(pmask),\n",
    "                                       gscores[i] > -0.5)\n",
    "                fnmask = tf.cast(nmask, dtype)\n",
    "                nvalues = tf.where(nmask,\n",
    "                                   predictions[:, :, :, :, 0],\n",
    "                                   1. - fnmask)\n",
    "                nvalues_flat = tf.reshape(nvalues, [-1])\n",
    "                # Number of negative entries to select.\n",
    "                n_neg = tf.cast(negative_ratio * n_positives, tf.int32)\n",
    "                n_neg = tf.maximum(n_neg, tf.size(nvalues_flat) // 8)\n",
    "                n_neg = tf.maximum(n_neg, tf.shape(nvalues)[0] * 4)\n",
    "                max_neg_entries = 1 + tf.cast(tf.reduce_sum(fnmask), tf.int32)\n",
    "                n_neg = tf.minimum(n_neg, max_neg_entries)\n",
    "\n",
    "                val, idxes = tf.nn.top_k(-nvalues_flat, k=n_neg)\n",
    "                minval = val[-1]\n",
    "                # Final negative mask.\n",
    "                nmask = tf.logical_and(nmask, -nvalues > minval)\n",
    "                fnmask = tf.cast(nmask, dtype)\n",
    "\n",
    "                # Add cross-entropy loss.\n",
    "                with tf.name_scope('cross_entropy_pos'):\n",
    "                    loss = tf.nn.sparse_softmax_cross_entropy_with_logits(logits=logits[i],\n",
    "                                                                          labels=gclasses[i])\n",
    "                    loss = tf.losses.compute_weighted_loss(loss, fpmask)\n",
    "                    l_cross_pos.append(loss)\n",
    "\n",
    "                with tf.name_scope('cross_entropy_neg'):\n",
    "                    loss = tf.nn.sparse_softmax_cross_entropy_with_logits(logits=logits[i],\n",
    "                                                                          labels=no_classes)\n",
    "                    loss = tf.losses.compute_weighted_loss(loss, fnmask)\n",
    "                    l_cross_neg.append(loss)\n",
    "\n",
    "                # Add localization loss: smooth L1, L2, ...\n",
    "                with tf.name_scope('localization'):\n",
    "                    # Weights Tensor: positive mask + random negative.\n",
    "                    weights = tf.expand_dims(alpha * fpmask, axis=-1)\n",
    "                    loss = custom_layers.abs_smooth(localisations[i] - glocalisations[i])\n",
    "                    loss = tf.losses.compute_weighted_loss(loss, weights)\n",
    "                    l_loc.append(loss)\n",
    "\n",
    "        # Additional total losses...\n",
    "        with tf.name_scope('total'):\n",
    "            total_cross_pos = tf.add_n(l_cross_pos, 'cross_entropy_pos')\n",
    "            total_cross_neg = tf.add_n(l_cross_neg, 'cross_entropy_neg')\n",
    "            total_cross = tf.add(total_cross_pos, total_cross_neg, 'cross_entropy')\n",
    "            total_loc = tf.add_n(l_loc, 'localization')\n",
    "\n",
    "            # Add to EXTRA LOSSES TF.collection\n",
    "            tf.add_to_collection('EXTRA_LOSSES', total_cross_pos)\n",
    "            tf.add_to_collection('EXTRA_LOSSES', total_cross_neg)\n",
    "            tf.add_to_collection('EXTRA_LOSSES', total_cross)\n",
    "            tf.add_to_collection('EXTRA_LOSSES', total_loc)"
   ]
  },
  {
   "cell_type": "code",
   "execution_count": null,
   "metadata": {
    "collapsed": true
   },
   "outputs": [],
   "source": []
  },
  {
   "cell_type": "code",
   "execution_count": null,
   "metadata": {
    "collapsed": true
   },
   "outputs": [],
   "source": []
  }
 ],
 "metadata": {
  "kernelspec": {
   "display_name": "Python 2",
   "language": "python",
   "name": "python2"
  },
  "language_info": {
   "codemirror_mode": {
    "name": "ipython",
    "version": 2
   },
   "file_extension": ".py",
   "mimetype": "text/x-python",
   "name": "python",
   "nbconvert_exporter": "python",
   "pygments_lexer": "ipython2",
   "version": "2.7.12"
  }
 },
 "nbformat": 4,
 "nbformat_minor": 2
}
